{
 "cells": [
  {
   "cell_type": "markdown",
   "id": "4366a503",
   "metadata": {},
   "source": [
    "# Code Snippets \n",
    "\n",
    "This notebook contains all code snippets that appear in the forthcoming paper submission, available at [TODO].\n"
   ]
  },
  {
   "cell_type": "code",
   "execution_count": 1,
   "id": "11f9ac82",
   "metadata": {},
   "outputs": [],
   "source": [
    "from ananke import graphs, identification\n",
    "from ananke.models import binary_nested\n",
    "from ananke.estimation import CausalEffect\n",
    "from ananke.datasets import load_wisconsin_health_study, load_frontdoor_data"
   ]
  },
  {
   "cell_type": "markdown",
   "id": "32058fef",
   "metadata": {},
   "source": [
    "## Identification"
   ]
  },
  {
   "cell_type": "code",
   "execution_count": 2,
   "id": "62528453",
   "metadata": {},
   "outputs": [
    {
     "name": "stdout",
     "output_type": "stream",
     "text": [
      "{('Y',): ['M', 'A'], ('M',): ['Y', 'A']}\n",
      "Identifed = True ; Functional = ΣM ΦAY(p(V);G) ΦAM(p(V);G) \n"
     ]
    }
   ],
   "source": [
    "vertices = [\"A\", \"M\", \"Y\"]\n",
    "di_edges = [(\"A\", \"M\"), (\"M\", \"Y\")]\n",
    "bi_edges = [(\"A\", \"Y\")]\n",
    "front_door = graphs.ADMG(vertices, di_edges, bi_edges)\n",
    "treatments = [\"A\"]\n",
    "outcomes = [\"Y\"]\n",
    "id_front_door = identification.OneLineID(graph=front_door, treatments=treatments, outcomes=outcomes)\n",
    "print('Identifed =', id_front_door.id(), '; Functional =', id_front_door.functional())"
   ]
  },
  {
   "cell_type": "markdown",
   "id": "e7f01cef",
   "metadata": {},
   "source": [
    "## Estimation through Mobius Parameterization"
   ]
  },
  {
   "cell_type": "code",
   "execution_count": 3,
   "id": "28fb95f6",
   "metadata": {},
   "outputs": [
    {
     "name": "stderr",
     "output_type": "stream",
     "text": [
      "/Users/jaron/Projects/ananke/ananke/models/binary_nested.py:507: RuntimeWarning: invalid value encountered in log\n",
      "  logger.debug(np.log(A @ x - b))\n",
      "/Users/jaron/Projects/ananke/ananke/models/binary_nested.py:508: RuntimeWarning: invalid value encountered in log\n",
      "  lld = np.sum(counts * np.log(A @ x - b))\n"
     ]
    },
    {
     "name": "stdout",
     "output_type": "stream",
     "text": [
      "ACE:  0.004727830873286432\n"
     ]
    }
   ],
   "source": [
    "df = load_wisconsin_health_study().rename(columns={\"E\": \"A\"}).groupby([\"A\", \"M\", \"Y\"])[\"count\"].sum().reset_index()\n",
    "bnm = binary_nested.BinaryNestedModel(front_door)\n",
    "bnm = bnm.fit(X=df, tol=1e-12)\n",
    "theta_M0_A0 = bnm.fitted_params[(frozenset({'M'}), ('A',), (0,))]\n",
    "theta_M0_A1 = bnm.fitted_params[(frozenset({'M'}), ('A',), (1,))]\n",
    "theta_Y0_M0 = bnm.fitted_params[(frozenset({'Y'}), ('M',), (0,))]\n",
    "theta_Y0_M1 = bnm.fitted_params[(frozenset({'Y'}), ('M',), (1,))]\n",
    "pY1_A0 = bnm.estimate(treatment_dict={\"A\": 0}, outcome_dict={\"Y\": 1})\n",
    "pY1_A1 = bnm.estimate(treatment_dict={\"A\": 1}, outcome_dict={\"Y\": 1})\n",
    "print(\"ACE: \", pY1_A1 - pY1_A0)\n",
    "# ACE: 0.004"
   ]
  },
  {
   "cell_type": "markdown",
   "id": "80855d4c",
   "metadata": {},
   "source": [
    "## Estimation using Efficient Semiparametric Methods "
   ]
  },
  {
   "cell_type": "code",
   "execution_count": 4,
   "id": "6b583afd",
   "metadata": {},
   "outputs": [],
   "source": [
    "data = load_frontdoor_data().rename(columns={\"T\": \"A\", \"ViralLoad2\": \"M\", \"CD4\": \"Y\"})[[\"A\", \"M\", \"Y\"]]"
   ]
  },
  {
   "cell_type": "code",
   "execution_count": 5,
   "id": "a29ea83f",
   "metadata": {},
   "outputs": [
    {
     "name": "stdout",
     "output_type": "stream",
     "text": [
      "\n",
      " Treatment is p-fixable and graph is mb-shielded. \n",
      "\n",
      " Available estimators are:\n",
      "\n",
      "1. Primal IPW (p-ipw)\n",
      "2. Dual IPW (d-ipw)\n",
      "3. APIPW (apipw)\n",
      "4. Efficient APIPW (eff-apipw) \n",
      " \n",
      "Suggested estimator is Efficient APIPW \n",
      "\n",
      "ace =  -0.9020293902163798\n"
     ]
    }
   ],
   "source": [
    "ace_obj = CausalEffect(graph=front_door, treatment='A', outcome='Y')  # setting up the ACE object\n",
    "ace = ace_obj.compute_effect(data, \"eff-apipw\")\n",
    "print(\"ace = \", ace)"
   ]
  }
 ],
 "metadata": {
  "kernelspec": {
   "display_name": "env",
   "language": "python",
   "name": "env"
  },
  "language_info": {
   "codemirror_mode": {
    "name": "ipython",
    "version": 3
   },
   "file_extension": ".py",
   "mimetype": "text/x-python",
   "name": "python",
   "nbconvert_exporter": "python",
   "pygments_lexer": "ipython3",
   "version": "3.9.15"
  }
 },
 "nbformat": 4,
 "nbformat_minor": 5
}
