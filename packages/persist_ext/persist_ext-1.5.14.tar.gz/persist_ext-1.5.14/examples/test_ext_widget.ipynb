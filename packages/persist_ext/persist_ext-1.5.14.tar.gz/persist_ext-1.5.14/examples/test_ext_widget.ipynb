{
 "cells": [
  {
   "cell_type": "code",
   "execution_count": 1,
   "id": "9c930f8c-7612-4e28-bc80-439c3cfcd7b4",
   "metadata": {
    "editable": true,
    "slideshow": {
     "slide_type": ""
    },
    "tags": []
   },
   "outputs": [],
   "source": [
    "##### import pandas as pd\n",
    "import persist_ext as PR\n",
    "from persist_ext import plot\n",
    "import altair as alt\n",
    "from vega_datasets import data\n",
    "import pandas as pd\n",
    "\n",
    "PR.dev.DEV = True "
   ]
  },
  {
   "cell_type": "code",
   "execution_count": 2,
   "id": "865de998-8e43-4643-aa6a-93bc1289f30b",
   "metadata": {
    "editable": true,
    "slideshow": {
     "slide_type": ""
    },
    "tags": []
   },
   "outputs": [
    {
     "data": {
      "text/html": [
       "<div>\n",
       "<style scoped>\n",
       "    .dataframe tbody tr th:only-of-type {\n",
       "        vertical-align: middle;\n",
       "    }\n",
       "\n",
       "    .dataframe tbody tr th {\n",
       "        vertical-align: top;\n",
       "    }\n",
       "\n",
       "    .dataframe thead th {\n",
       "        text-align: right;\n",
       "    }\n",
       "</style>\n",
       "<table border=\"1\" class=\"dataframe\">\n",
       "  <thead>\n",
       "    <tr style=\"text-align: right;\">\n",
       "      <th></th>\n",
       "      <th>Name</th>\n",
       "      <th>Miles_per_Gallon</th>\n",
       "      <th>Cylinders</th>\n",
       "      <th>Displacement</th>\n",
       "      <th>Horsepower</th>\n",
       "      <th>Weight_in_lbs</th>\n",
       "      <th>Acceleration</th>\n",
       "      <th>Year</th>\n",
       "      <th>Origin</th>\n",
       "    </tr>\n",
       "  </thead>\n",
       "  <tbody>\n",
       "    <tr>\n",
       "      <th>0</th>\n",
       "      <td>chevrolet chevelle malibu</td>\n",
       "      <td>18.0</td>\n",
       "      <td>8</td>\n",
       "      <td>307.0</td>\n",
       "      <td>130.0</td>\n",
       "      <td>3504</td>\n",
       "      <td>12.0</td>\n",
       "      <td>1970-01-01</td>\n",
       "      <td>USA</td>\n",
       "    </tr>\n",
       "    <tr>\n",
       "      <th>1</th>\n",
       "      <td>buick skylark 320</td>\n",
       "      <td>15.0</td>\n",
       "      <td>8</td>\n",
       "      <td>350.0</td>\n",
       "      <td>165.0</td>\n",
       "      <td>3693</td>\n",
       "      <td>11.5</td>\n",
       "      <td>1970-01-01</td>\n",
       "      <td>USA</td>\n",
       "    </tr>\n",
       "    <tr>\n",
       "      <th>2</th>\n",
       "      <td>plymouth satellite</td>\n",
       "      <td>18.0</td>\n",
       "      <td>8</td>\n",
       "      <td>318.0</td>\n",
       "      <td>150.0</td>\n",
       "      <td>3436</td>\n",
       "      <td>11.0</td>\n",
       "      <td>1970-01-01</td>\n",
       "      <td>USA</td>\n",
       "    </tr>\n",
       "    <tr>\n",
       "      <th>3</th>\n",
       "      <td>amc rebel sst</td>\n",
       "      <td>16.0</td>\n",
       "      <td>8</td>\n",
       "      <td>304.0</td>\n",
       "      <td>150.0</td>\n",
       "      <td>3433</td>\n",
       "      <td>12.0</td>\n",
       "      <td>1970-01-01</td>\n",
       "      <td>USA</td>\n",
       "    </tr>\n",
       "    <tr>\n",
       "      <th>4</th>\n",
       "      <td>ford torino</td>\n",
       "      <td>17.0</td>\n",
       "      <td>8</td>\n",
       "      <td>302.0</td>\n",
       "      <td>140.0</td>\n",
       "      <td>3449</td>\n",
       "      <td>10.5</td>\n",
       "      <td>1970-01-01</td>\n",
       "      <td>USA</td>\n",
       "    </tr>\n",
       "  </tbody>\n",
       "</table>\n",
       "</div>"
      ],
      "text/plain": [
       "                        Name  Miles_per_Gallon  Cylinders  Displacement  \\\n",
       "0  chevrolet chevelle malibu              18.0          8         307.0   \n",
       "1          buick skylark 320              15.0          8         350.0   \n",
       "2         plymouth satellite              18.0          8         318.0   \n",
       "3              amc rebel sst              16.0          8         304.0   \n",
       "4                ford torino              17.0          8         302.0   \n",
       "\n",
       "   Horsepower  Weight_in_lbs  Acceleration       Year Origin  \n",
       "0       130.0           3504          12.0 1970-01-01    USA  \n",
       "1       165.0           3693          11.5 1970-01-01    USA  \n",
       "2       150.0           3436          11.0 1970-01-01    USA  \n",
       "3       150.0           3433          12.0 1970-01-01    USA  \n",
       "4       140.0           3449          10.5 1970-01-01    USA  "
      ]
     },
     "execution_count": 2,
     "metadata": {},
     "output_type": "execute_result"
    }
   ],
   "source": [
    "cars = data.cars()\n",
    "cars.head()"
   ]
  },
  {
   "cell_type": "code",
   "execution_count": 3,
   "id": "621bf69a-bb31-407f-ab20-e75792f3e61d",
   "metadata": {
    "__GENERATED_DATAFRAMES__": "ᯢ粠 ",
    "__has_persist_output": true,
    "trrack_graph": "ᯡ࠽䈌ʀ匦㢠⹰ৠܡⰠ〸挼倶䀻CᑤƄ唠晢ȸ畀ᧁ⠧ゑ䍪త憯抣ैkᑄᄉ夐ࢷዃ⽩嗛᜾㺣䍤ð䀡塕ᆨ㵀ॢȠநƸᢀ眰䅽忒Π˼リ$熒‣㐡㨦䍇ᦲଠ探ࢁ壡‡犀␠⌧ିᇦ䙆ዲ䮈ؠ嬸ඣ౤æҡ哻䑀妨䢣⥕䀺慰戩瞤∡㸦ƶ䬳ۡǵण䍔愊㘠传ϒ緯澣潸䎪川ฬ玄ࡄ婲䭢䕆撶䤩⑸柢║ᾣ䡢ᆣ∰慈㲪ԡ惐ٌǦ磶䷔䒱䁲斨撫ౠ⃕䜁䥐属ѣ၈㞪䣦ヸ乗௠ࢤᅗ䎠ż䄰䤎狩墥༼凰䔕ᒵ偳㨰҄  "
   },
   "outputs": [
    {
     "data": {
      "application/vnd.jupyter.widget-view+json": {
       "model_id": "015a8b480aa64a52b8cecae352b4e0b1",
       "version_major": 2,
       "version_minor": 0
      },
      "text/plain": [
       "PersistWidget(data_values=[{'__id_column': '1', 'Name': 'chevrolet chevelle malibu', 'Miles_per_Gallon': 18.0,…"
      ]
     },
     "execution_count": 3,
     "metadata": {},
     "output_type": "execute_result"
    }
   ],
   "source": [
    "c = alt.Chart(cars).mark_point().encode(\n",
    "    x=\"Miles_per_Gallon:Q\",\n",
    "    y=\"Cylinders:Q\",\n",
    "    tooltip=[\"year(Year):N\"]\n",
    ")\n",
    "\n",
    "PR.PersistChart(c)"
   ]
  },
  {
   "cell_type": "code",
   "execution_count": 4,
   "id": "14a004a6-8e88-4dcd-b06b-09f3d1907223",
   "metadata": {
    "__GENERATED_DATAFRAMES__": "ᯡࠫ䅬ആ၎⠢〹䂒ȸ஁㷭Ⱑ傠ዪBŜǹ㙀㇜〢㠪炠⿛† ",
    "__has_persist_output": true,
    "trrack_graph": "ᯡ࠽䈌ʀ匦㢠⹰૦䁸ঠ㍬׀ࢀᦨ䂬ϰۢ䂖Ģ㦑ጳ䶕棠⌠᱊砦ᤴ੪2攩кੌ㲥⑉⫰㚊滳䟟Ⴑဠ㑀䗘愾䠤傡%悄ؠᮬᢛ䑁圌Ḩ×੒䀡ᵼ䠠洠⻁䣹溄䓤ᨨ䊩㙐⠠㲸़䝩䏫即䡩㳸ቦ↠ᛦ஄⌱ı䅀㗖焨ᚂቐ淣〦塵ࢢ㸁ࢠ⿁䂅客ᗐₕ≠热ᡚ涠ᏠČ夓磢қ欰煗γ䢢沢Ҷ䣀愹梬⡬㨡ឪ๩❥㲳ࣀᩤ樲ҥɐ⑲䔥恘歭婤䣠⦅䒈䖬⁀䛮烨ᠼἬ↰ήঢ懑మ஧怩䉱ᅀ˙Ɂ㇣斳擸劯࿀ऺㅋ⍆瓂ࣨ  "
   },
   "outputs": [],
   "source": [
    "# PR.plot.barchart(cars, x=\"Origin:N\", y=\"count():Q\", df_name=\"test\")"
   ]
  },
  {
   "cell_type": "code",
   "execution_count": 5,
   "id": "3e1630c0-2ed8-4eb1-8045-c57d1fcdeb56",
   "metadata": {
    "__GENERATED_DATAFRAMES__": "ᯡࠣ䅬Ԁ朤壠ᜣ琢〹夢゠⹰〮⁁䁻қ䚾ኊ㇠നСࠩ瀮晼Ƭ穅5愠៤⠠ ",
    "__has_persist_output": true,
    "trrack_graph": "ᯡ࠽䈌ʀ匦㢠⹰۠ㆡైᖠ♊瀶䁇ᩤƆ暠٢㛥ↈ倬涠䍻墐೬⊶䥈kᑄᄈ夐ࢷዃ⽩䖻✾㺣䍤ð䀡宐ɑ䑝ဩ™+䐡䰠㜸ㄗࡣⷸ㤦䀢湈㊠Ś岰ú᤮ݗᮬ䚨℃為ै儈ቺᙁᚸ䆠愅挰㡭尢ะN䃰洎㉥倹兣峖ᡈ\\䰩֬␈㉰〥␢䪂Ơᛦ஍挱Α䅀㏖焨㞂ᱚ刢㇐͸⟙䇛࣪䁏䃰狓୥塀㛖烫ᡙ涠ᏠČ礗磡冗漰㢭我᳼ֹĢ⓲ᱠ㟢悤⼻ق劈থᙀ䳘µᄸ㢴⴦Őぐㄶけ庿㒹冢嫯⧾䡒㡑ᱼ䑫ዉ㩡ᙁ㋌⹿ᑋૅ㥮㊤㱬汾ᎇぉᩣᜇ㊜䅨光䨵൴柈㰠⫛攥勀!ഡȸwӬTĄP嘈ㄣむ严㘈۩!灔Ц涢ۖ烘ᗇ揋ľ㭼◐Ě㑙䆂㐢⃈⻔氬矁欇㢄䰮ྡྷሂ攽ࣦㅸ瘷ࢩ桤ὕῊ璚ᐿⱠతᜉ஥ᅆ槌愨Ⲷ囊抺沖࡞梖Ḏ珜氲巘ᮽ檹Ā䤬%୥㽻亅`✣ᓶΎ❩爋ⓜ὏䐮仹縰ⰱઠ႗婪௝䙸查㸙删Ả亘ೀ䳰帱婕䚦˧ᰯ䨐硏丗纷嗂績ᰒ䈠ⰵᨷ室ڈΠᒴႢ怬̥ⓥὐ惼䄰ࠬਢ䂜ᙕြᢡ°␤㻰䚨纨⠖᪆䋰渪㋾⁚⇺ݠ磠杹䘈⡝䕨㓫䝁佸⒁椠⍩奃掐แ⛸⑄Ξ䁕◁ᅑȦ厫ㄜ㾠ढ嬲惠બ⤆礿᥈咥⌶甬妈縨ⅶ䧶僘灣Rးჸ⳶⌆Ԡ寙⋭⊶䴢娙紷抺悹ᩥ梢⫒Ⓔ⢒㥧䤄㲩⨪啹䔠  "
   },
   "outputs": [],
   "source": [
    "# # a = PR.PersistChart(chart, data=source)\n",
    "# a = PR.PersistTable(data=cars)\n",
    "# a"
   ]
  },
  {
   "cell_type": "code",
   "execution_count": 6,
   "id": "9559abf7-c15b-40e2-a041-4707d144ba82",
   "metadata": {},
   "outputs": [
    {
     "ename": "NameError",
     "evalue": "name 'persist_df_1' is not defined",
     "output_type": "error",
     "traceback": [
      "\u001b[0;31m---------------------------------------------------------------------------\u001b[0m",
      "\u001b[0;31mNameError\u001b[0m                                 Traceback (most recent call last)",
      "Cell \u001b[0;32mIn[6], line 1\u001b[0m\n\u001b[0;32m----> 1\u001b[0m \u001b[43mpersist_df_1\u001b[49m\u001b[38;5;241m.\u001b[39mhead()\n",
      "\u001b[0;31mNameError\u001b[0m: name 'persist_df_1' is not defined"
     ]
    }
   ],
   "source": [
    "persist_df_1.head()"
   ]
  },
  {
   "cell_type": "code",
   "execution_count": null,
   "id": "d9b6de9c-2bad-4759-a547-9ddad3ba70d8",
   "metadata": {},
   "outputs": [],
   "source": [
    "persist_df_1[\"PR_Annotation\"].apply(lambda x: x == \"No Annotation\").all()"
   ]
  },
  {
   "cell_type": "code",
   "execution_count": null,
   "id": "4ed9dcb0-9956-43fc-a183-9842bae1d41e",
   "metadata": {},
   "outputs": [],
   "source": [
    "persist_df_1.sort_values(\"Miles_per_Gallon\", ascending=False)"
   ]
  },
  {
   "cell_type": "code",
   "execution_count": null,
   "id": "598f7529-bd58-4cf5-9cda-307fbb4752d3",
   "metadata": {
    "__GENERATED_DATAFRAMES__": "ᯡࠣ䅬Ԁ朤壠ᜣ琢〹夦゠⹰〮⁁䁻қ䚾ኊ㇠നСࠩ瀮晼Ƭ穅5愠៤⠠ ",
    "__has_persist_output": true,
    "trrack_graph": "ᯡ࠽䈌ʀ匦㢠⹰ಀ㌠晳㬤〶䀫.ੑె簤ᬂ圜ᠪ惭℠ᠧブ墠乮ⓀŌ傰䏂懦䁤䲥㕚٭ⷹ㬗爲&䈠۶䀱䘡撠┨ࠠ⺚₀ǘ憣屢֖绪+⢣⠠Ꭻ䤠ව׷根ᳬ䢼紴ろۦԠ޳ł烈Ȣ⩞×ၠӨ⟰˸悍㑂ၺᡄ᫆橁Ӭ⁧疭嘠殒浀㯌Ḱؗ気ᩑ㑈ᬤ㮄␮ӳ׉堢㰠໫睿పᯝㄪᖗ婚槭䡀煩✴挲㧥ڄ惑঑䖼粃ㅁിڦ䋁⃦ᔶ䀰惹ਾ捺㚲≦٫ᛣቔㄢ˶᮪ⓣ゘ᄴ䝂ࢴാ䒃ᢌܧ䐂Ӣɠ֢֔揖断䨄㱲䑭⥩ഥ᷆দ† "
   },
   "outputs": [],
   "source": [
    "# PR.plot.barchart(source, x=\"utcyear(Year):O\", y=\"count():Q\")"
   ]
  },
  {
   "cell_type": "code",
   "execution_count": null,
   "id": "b75ac547-9b19-43eb-a3c4-bfc1646ccc00",
   "metadata": {},
   "outputs": [],
   "source": [
    "A.head()"
   ]
  },
  {
   "cell_type": "code",
   "execution_count": null,
   "id": "173ed668-8a61-4990-97f1-f84640e5df50",
   "metadata": {},
   "outputs": [],
   "source": [
    "persist_df_1.sort_values(\"Miles_per_Gallon\", ascending=True)"
   ]
  },
  {
   "cell_type": "code",
   "execution_count": null,
   "id": "60436dd0-7b38-49bc-be7f-59e3d5d3f0e5",
   "metadata": {},
   "outputs": [],
   "source": []
  },
  {
   "cell_type": "code",
   "execution_count": null,
   "id": "2def3ac5-dd5a-4bdd-8003-9fe860ec7c4e",
   "metadata": {},
   "outputs": [],
   "source": [
    "params = getattr(chart, \"params\", [])\n",
    "pv = filter(lambda x: hasattr(x, \"views\"), params)\n",
    "view_names = map(lambda x: x.views, pv)\n",
    "v = sum(view_names, [])\n",
    "v"
   ]
  },
  {
   "cell_type": "code",
   "execution_count": null,
   "id": "a794d61b-e5cb-4a6a-b647-f96dc24e843a",
   "metadata": {},
   "outputs": [],
   "source": []
  }
 ],
 "metadata": {
  "__persist_keys_record": [
   "__GENERATED_DATAFRAMES__",
   "trrack_graph",
   "__persist_nb_uuid__"
  ],
  "__persist_nb_uuid__": "a9887c4c-7ebc-4792-bfd4-4e9b37363a74",
  "kernelspec": {
   "display_name": "Python 3 (ipykernel)",
   "language": "python",
   "name": "python3"
  },
  "language_info": {
   "codemirror_mode": {
    "name": "ipython",
    "version": 3
   },
   "file_extension": ".py",
   "mimetype": "text/x-python",
   "name": "python",
   "nbconvert_exporter": "python",
   "pygments_lexer": "ipython3",
   "version": "3.8.16"
  }
 },
 "nbformat": 4,
 "nbformat_minor": 5
}
