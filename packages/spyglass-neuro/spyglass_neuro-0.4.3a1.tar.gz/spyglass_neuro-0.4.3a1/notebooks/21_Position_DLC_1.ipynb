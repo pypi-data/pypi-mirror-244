{
 "cells": [
  {
   "cell_type": "markdown",
   "id": "a93a1550-8a67-4346-a4bf-e5a136f3d903",
   "metadata": {},
   "source": [
    "# Position - DeepLabCut from Scratch\n"
   ]
  },
  {
   "cell_type": "markdown",
   "id": "cbf56794",
   "metadata": {},
   "source": [
    "### Overview\n"
   ]
  },
  {
   "cell_type": "markdown",
   "id": "de29d04e",
   "metadata": {},
   "source": [
    "_Developer Note:_ if you may make a PR in the future, be sure to copy this\n",
    "notebook, and use the `gitignore` prefix `temp` to avoid future conflicts.\n",
    "\n",
    "This is one notebook in a multi-part series on Spyglass.\n",
    "\n",
    "- To set up your Spyglass environment and database, see\n",
    "  [the Setup notebook](./00_Setup.ipynb)\n",
    "- For additional info on DataJoint syntax, including table definitions and\n",
    "  inserts, see\n",
    "  [the Insert Data notebook](./01_Insert_Data.ipynb)\n",
    "\n",
    "This tutorial will extract position via DeepLabCut (DLC). It will walk through... \n",
    "- creating a DLC project\n",
    "- extracting and labeling frames\n",
    "- training your model\n",
    "\n",
    "If you have a pre-trained project, you can either skip to the \n",
    "[next tutorial](./22_Position_DLC_2.ipynb) to load it into the database, or skip\n",
    "to the [following tutorial](./23_Position_DLC_3.ipynb) to start pose estimation\n",
    "with a model that is already inserted."
   ]
  },
  {
   "attachments": {},
   "cell_type": "markdown",
   "id": "a8b531f7",
   "metadata": {},
   "source": [
    "Here is a schematic showing the tables used in this pipeline.\n",
    "\n",
    "![dlc_scratch.png|2000x900](./../notebook-images/dlc_scratch.png)"
   ]
  },
  {
   "cell_type": "markdown",
   "id": "0c67d88c-c90e-467b-ae2e-672c49a12f95",
   "metadata": {},
   "source": [
    "### Table of Contents<a id='TableOfContents'></a>\n"
   ]
  },
  {
   "cell_type": "markdown",
   "id": "3ece5c05",
   "metadata": {},
   "source": [
    "- [Imports](#imports)\n",
    "- [`DLCProject`](#DLCProject1)\n",
    "- [`DLCModelTraining`](#DLCModelTraining1)\n",
    "- [`DLCModel`](#DLCModel1)\n",
    "\n",
    "__You can click on any header to return to the Table of Contents__"
   ]
  },
  {
   "cell_type": "markdown",
   "id": "c52f2a05",
   "metadata": {},
   "source": [
    "### Imports\n"
   ]
  },
  {
   "cell_type": "code",
   "execution_count": null,
   "id": "5ddbc468",
   "metadata": {},
   "outputs": [
    {
     "name": "stderr",
     "output_type": "stream",
     "text": [
      "[2023-07-28 14:45:50,776][INFO]: Connecting root@localhost:3306\n",
      "[2023-07-28 14:45:50,804][INFO]: Connected root@localhost:3306\n"
     ]
    }
   ],
   "source": [
    "import os\n",
    "import datajoint as dj\n",
    "from pprint import pprint\n",
    "\n",
    "import spyglass.common as sgc\n",
    "import spyglass.position.v1 as sgp\n",
    "\n",
    "# change to the upper level folder to detect dj_local_conf.json\n",
    "if os.path.basename(os.getcwd()) == \"notebooks\":\n",
    "    os.chdir(\"..\")\n",
    "dj.config.load(\"dj_local_conf.json\")  # load config for database connection info\n",
    "\n",
    "# ignore datajoint+jupyter async warnings\n",
    "import warnings\n",
    "\n",
    "warnings.simplefilter(\"ignore\", category=DeprecationWarning)\n",
    "warnings.simplefilter(\"ignore\", category=ResourceWarning)"
   ]
  },
  {
   "cell_type": "markdown",
   "id": "5e6221a3-17e5-45c0-aa40-2fd664b02219",
   "metadata": {},
   "source": [
    "#### [DLCProject](#TableOfContents) <a id=\"DLCProject1\"></a>\n"
   ]
  },
  {
   "cell_type": "markdown",
   "id": "27aed0e1-3af7-4499-bae8-96a64e81041e",
   "metadata": {},
   "source": [
    "<div class=\"alert alert-block alert-info\">\n",
    "    <b>Notes:</b><ul>\n",
    "    <li>\n",
    "        The cells within this <code>DLCProject</code> step need to be performed \n",
    "        in a local Jupyter notebook to allow for use of the frame labeling GUI\n",
    "    </li>\n",
    "    <li>\n",
    "        Please do not add to the <code>BodyPart</code> table in the production \n",
    "        database unless necessary.\n",
    "    </li>\n",
    "    </ul>\n",
    "</div>"
   ]
  },
  {
   "cell_type": "markdown",
   "id": "96637cb9-519d-41e1-8bfd-69f68dc66b36",
   "metadata": {},
   "source": [
    "We'll begin by looking at the `BodyPart` table, which stores standard names of body parts used in DLC models throughout the lab with a concise description.\n"
   ]
  },
  {
   "cell_type": "code",
   "execution_count": 2,
   "id": "b69f829f-9877-48ae-89d1-f876af2b8835",
   "metadata": {},
   "outputs": [
    {
     "data": {
      "text/html": [
       "\n",
       "    \n",
       "    <style type=\"text/css\">\n",
       "        .Relation{\n",
       "            border-collapse:collapse;\n",
       "        }\n",
       "        .Relation th{\n",
       "            background: #A0A0A0; color: #ffffff; padding:4px; border:#f0e0e0 1px solid;\n",
       "            font-weight: normal; font-family: monospace; font-size: 100%;\n",
       "        }\n",
       "        .Relation td{\n",
       "            padding:4px; border:#f0e0e0 1px solid; font-size:100%;\n",
       "        }\n",
       "        .Relation tr:nth-child(odd){\n",
       "            background: #ffffff;\n",
       "        }\n",
       "        .Relation tr:nth-child(even){\n",
       "            background: #f3f1ff;\n",
       "        }\n",
       "        /* Tooltip container */\n",
       "        .djtooltip {\n",
       "        }\n",
       "        /* Tooltip text */\n",
       "        .djtooltip .djtooltiptext {\n",
       "            visibility: hidden;\n",
       "            width: 120px;\n",
       "            background-color: black;\n",
       "            color: #fff;\n",
       "            text-align: center;\n",
       "            padding: 5px 0;\n",
       "            border-radius: 6px;\n",
       "            /* Position the tooltip text - see examples below! */\n",
       "            position: absolute;\n",
       "            z-index: 1;\n",
       "        }\n",
       "        #primary {\n",
       "            font-weight: bold;\n",
       "            color: black;\n",
       "        }\n",
       "        #nonprimary {\n",
       "            font-weight: normal;\n",
       "            color: white;\n",
       "        }\n",
       "\n",
       "        /* Show the tooltip text when you mouse over the tooltip container */\n",
       "        .djtooltip:hover .djtooltiptext {\n",
       "            visibility: visible;\n",
       "        }\n",
       "    </style>\n",
       "    \n",
       "    <b></b>\n",
       "        <div style=\"max-height:1000px;max-width:1500px;overflow:auto;\">\n",
       "        <table border=\"1\" class=\"Relation\">\n",
       "            <thead> <tr style=\"text-align: right;\"> <th> <div class=\"djtooltip\">\n",
       "                            <p id=\"primary\">bodypart</p>\n",
       "                            <span class=\"djtooltiptext\"></span>\n",
       "                        </div></th><th><div class=\"djtooltip\">\n",
       "                            <p id=\"nonprimary\">bodypart_description</p>\n",
       "                            <span class=\"djtooltiptext\"></span>\n",
       "                        </div> </th> </tr> </thead>\n",
       "            <tbody> <tr> <td>greenLED</td>\n",
       "<td>green LED on implant LED ring</td></tr><tr><td>redLED</td>\n",
       "<td>redLED</td></tr><tr><td>redLED_C</td>\n",
       "<td>center red LED on implant LED ring</td></tr><tr><td>redLED_L</td>\n",
       "<td>left red LED on implant LED ring</td></tr><tr><td>redLED_R</td>\n",
       "<td>right red LED on implant LED ring</td></tr><tr><td>tailBase</td>\n",
       "<td>base of the tail on subject</td></tr><tr><td>whiteLED</td>\n",
       "<td>white LED on headstage</td> </tr> </tbody>\n",
       "        </table>\n",
       "        \n",
       "        <p>Total: 7</p></div>\n",
       "        "
      ],
      "text/plain": [
       "*bodypart    bodypart_descr\n",
       "+----------+ +------------+\n",
       "greenLED     green LED on i\n",
       "redLED       redLED        \n",
       "redLED_C     center red LED\n",
       "redLED_L     left red LED o\n",
       "redLED_R     right red LED \n",
       "tailBase     base of the ta\n",
       "whiteLED     white LED on h\n",
       " (Total: 7)"
      ]
     },
     "execution_count": 2,
     "metadata": {},
     "output_type": "execute_result"
    }
   ],
   "source": [
    "sgp.BodyPart()"
   ]
  },
  {
   "cell_type": "markdown",
   "id": "ca5a15e2-f087-4bd2-9d4a-ea2ac4becd80",
   "metadata": {},
   "source": [
    "If the bodyparts you plan to use in your model are not yet in the table, here is code to add bodyparts:\n",
    "\n",
    "```python\n",
    "sgp.BodyPart.insert(\n",
    "    [\n",
    "        {\"bodypart\": \"bp_1\", \"bodypart_description\": \"concise descrip\"},\n",
    "        {\"bodypart\": \"bp_2\", \"bodypart_description\": \"concise descrip\"},\n",
    "    ],\n",
    "    skip_duplicates=True,\n",
    ")\n",
    "```"
   ]
  },
  {
   "cell_type": "markdown",
   "id": "78fe7c06-30c9-43e1-9e9a-029a70b0d4dd",
   "metadata": {},
   "source": [
    "To train a model, we'll need to extract frames, which we can label as training data. We can construct a list of videos from which we'll extract frames.\n",
    "\n",
    "The list can either contain dictionaries identifying behavioral videos for NWB files that have already been added to Spyglass, or absolute file paths to the videos you want to use.\n",
    "\n",
    "For this tutorial, we'll use two videos for which we already have frames labeled."
   ]
  },
  {
   "cell_type": "code",
   "execution_count": 3,
   "id": "e3aa1c2f",
   "metadata": {},
   "outputs": [],
   "source": [
    "video_list = [\n",
    "    {\"nwb_file_name\": \"J1620210529_.nwb\", \"epoch\": 2},\n",
    "    {\"nwb_file_name\": \"peanut20201103_.nwb\", \"epoch\": 4},\n",
    "]"
   ]
  },
  {
   "cell_type": "markdown",
   "id": "32c023b0-d00d-40b0-9a37-d0d3e4a4ae2a",
   "metadata": {},
   "source": [
    "Before creating our project, we need to define a few variables.\n",
    "\n",
    "- A team name, as shown in `LabTeam` for setting permissions. Here, we'll\n",
    " use \"LorenLab\".\n",
    "- A `project_name`, as a unique identifier for this DLC project. Here, we'll use\n",
    " __\"tutorial_scratch_yourinitials\"__ \n",
    "- `bodyparts` is a list of body parts for which we want to extract position.\n",
    "  The pre-labeled frames we're using include the bodyparts listed below.\n",
    "- Number of frames to extract/label as `frames_per_video`. A true project might\n",
    "  use 200, but we'll use 100 for efficiency."
   ]
  },
  {
   "cell_type": "code",
   "execution_count": 4,
   "id": "347e98f1",
   "metadata": {},
   "outputs": [
    {
     "name": "stdout",
     "output_type": "stream",
     "text": [
      "project name: tutorial_scratch_DG is already in use.\n"
     ]
    }
   ],
   "source": [
    "team_name = \"LorenLab\"\n",
    "project_name = \"tutorial_scratch_DG\"\n",
    "frames_per_video = 100\n",
    "bodyparts = [\"redLED_C\", \"greenLED\", \"redLED_L\", \"redLED_R\", \"tailBase\"]\n",
    "project_key = sgp.DLCProject.insert_new_project(\n",
    "    project_name=project_name,\n",
    "    bodyparts=bodyparts,\n",
    "    lab_team=team_name,\n",
    "    frames_per_video=frames_per_video,\n",
    "    video_list=video_list,\n",
    "    skip_duplicates=True,\n",
    ")"
   ]
  },
  {
   "cell_type": "markdown",
   "id": "f5d83452-48eb-4669-89eb-a6beb1f2d051",
   "metadata": {},
   "source": [
    "After initializing our project, we would typically extract and label frames. This has already been done for this tutorial data, using the following commands to pull up the DLC GUI:\n",
    "\n",
    "```python\n",
    "sgp.DLCProject().run_extract_frames(project_key)\n",
    "sgp.DLCProject().run_label_frames(project_key)\n",
    "```"
   ]
  },
  {
   "cell_type": "markdown",
   "id": "df257015",
   "metadata": {},
   "source": [
    "In order to use pre-labeled frames, you'll need to change the values in the\n",
    "labeled-data files. You can do that using the `import_labeled_frames` method,\n",
    "which expects:\n",
    "\n",
    "- `project_key` from your new project.\n",
    "- The absolute path to the project directory from which we'll import labeled\n",
    "  frames.\n",
    "- The filenames, without extension, of the videos from which we want frames."
   ]
  },
  {
   "cell_type": "code",
   "execution_count": 5,
   "id": "520a9526-fcd1-417b-b368-00d17e0284e2",
   "metadata": {},
   "outputs": [
    {
     "name": "stderr",
     "output_type": "stream",
     "text": [
      "/home/dgramling/Src/spyglass/src/spyglass/position/v1/position_dlc_project.py:451: FutureWarning: inplace is deprecated and will be removed in a future version.\n",
      "  dlc_df.columns.set_levels([team_name], level=0, inplace=True)\n",
      "/home/dgramling/Src/spyglass/src/spyglass/position/v1/position_dlc_project.py:451: FutureWarning: inplace is deprecated and will be removed in a future version.\n",
      "  dlc_df.columns.set_levels([team_name], level=0, inplace=True)\n",
      "2023-04-20 14:51:08.706450: I tensorflow/core/platform/cpu_feature_guard.cc:193] This TensorFlow binary is optimized with oneAPI Deep Neural Network Library (oneDNN) to use the following CPU instructions in performance-critical operations:  SSE4.1 SSE4.2 AVX AVX2 AVX512F AVX512_VNNI FMA\n",
      "To enable them in other operations, rebuild TensorFlow with the appropriate compiler flags.\n",
      "2023-04-20 14:51:08.897194: I tensorflow/core/util/port.cc:104] oneDNN custom operations are on. You may see slightly different numerical results due to floating-point round-off errors from different computation orders. To turn them off, set the environment variable `TF_ENABLE_ONEDNN_OPTS=0`.\n"
     ]
    },
    {
     "name": "stdout",
     "output_type": "stream",
     "text": [
      "Loading DLC 2.2.3...\n",
      "OpenCV is built with OpenMP support. This usually results in poor performance. For details, see https://github.com/tensorpack/benchmarks/blob/master/ImageNet/benchmark-opencv-resize.py\n"
     ]
    }
   ],
   "source": [
    "sgp.DLCProject.import_labeled_frames(\n",
    "    project_key.copy(),\n",
    "    import_project_path=\"/nimbus/deeplabcut/projects/tutorial_model-LorenLab-2022-07-15/\",\n",
    "    video_filenames=[\"20201103_peanut_04_r2\", \"20210529_J16_02_r1\"],\n",
    "    skip_duplicates=True,\n",
    ")"
   ]
  },
  {
   "cell_type": "markdown",
   "id": "7e2e3eab-60c7-4a3c-bc8f-fd4e8dcf52a2",
   "metadata": {},
   "source": [
    "<div class=\"alert alert-block alert-warning\">\n",
    "    This step and beyond should be run on a GPU-enabled machine.\n",
    "</div>"
   ]
  },
  {
   "cell_type": "markdown",
   "id": "0e48ecf0",
   "metadata": {},
   "source": [
    "#### [DLCModelTraining](#ToC)<a id='DLCModelTraining1'></a> \n",
    "\n",
    "Please make sure you're running this notebook on a GPU-enabled machine.\n",
    "\n",
    "Now that we've imported existing frames, we can get ready to train our model.\n",
    "\n",
    "First, we'll need to define a set of parameters for `DLCModelTrainingParams`, which will get used by DeepLabCut during training. Let's start with `gputouse`,\n",
    "which determines which GPU core to use. \n",
    "\n",
    "The cell below determines which core has space and set the `gputouse` variable\n",
    "accordingly."
   ]
  },
  {
   "cell_type": "code",
   "execution_count": 7,
   "id": "a8fc5bb7",
   "metadata": {},
   "outputs": [
    {
     "data": {
      "text/plain": [
       "{0: 80383, 1: 35, 2: 35, 3: 35, 4: 35, 5: 35, 6: 35, 7: 35, 8: 35, 9: 35}"
      ]
     },
     "execution_count": 7,
     "metadata": {},
     "output_type": "execute_result"
    }
   ],
   "source": [
    "sgp.dlc_utils.get_gpu_memory()"
   ]
  },
  {
   "cell_type": "markdown",
   "id": "bca035a9",
   "metadata": {},
   "source": [
    "Set GPU core:"
   ]
  },
  {
   "cell_type": "code",
   "execution_count": 8,
   "id": "1ff0e393",
   "metadata": {},
   "outputs": [],
   "source": [
    "gputouse = 1  ## 1-9"
   ]
  },
  {
   "cell_type": "markdown",
   "id": "2b047686",
   "metadata": {},
   "source": [
    "Now we'll define the rest of our parameters and insert the entry.\n",
    "\n",
    "To see all possible parameters, try:\n",
    "\n",
    "```python\n",
    "sgp.DLCModelTrainingParams.get_accepted_params()\n",
    "```"
   ]
  },
  {
   "cell_type": "code",
   "execution_count": 9,
   "id": "399581ee",
   "metadata": {},
   "outputs": [
    {
     "name": "stdout",
     "output_type": "stream",
     "text": [
      "New param set not added\n",
      "A param set with name: tutorial already exists\n"
     ]
    }
   ],
   "source": [
    "training_params_name = \"tutorial\"\n",
    "sgp.DLCModelTrainingParams.insert_new_params(\n",
    "    paramset_name=training_params_name,\n",
    "    params={\n",
    "        \"trainingsetindex\": 0,\n",
    "        \"shuffle\": 1,\n",
    "        \"gputouse\": gputouse,\n",
    "        \"net_type\": \"resnet_50\",\n",
    "        \"augmenter_type\": \"imgaug\",\n",
    "    },\n",
    "    skip_duplicates=True,\n",
    ")"
   ]
  },
  {
   "cell_type": "markdown",
   "id": "6b6cc709",
   "metadata": {},
   "source": [
    "Next we'll modify the `project_key` to include the entries for\n",
    "`DLCModelTraining`"
   ]
  },
  {
   "cell_type": "code",
   "execution_count": 19,
   "id": "7acd150b",
   "metadata": {},
   "outputs": [],
   "source": [
    "# project_key['project_path'] = os.path.dirname(project_key['config_path'])\n",
    "if \"config_path\" in project_key:\n",
    "    del project_key[\"config_path\"]"
   ]
  },
  {
   "cell_type": "markdown",
   "id": "0bc7ddaa",
   "metadata": {},
   "source": [
    "We can insert an entry into `DLCModelTrainingSelection` and populate `DLCModelTraining`.\n",
    "\n",
    "_Note:_ You can stop training at any point using `I + I` or interrupt the Kernel"
   ]
  },
  {
   "cell_type": "code",
   "execution_count": 18,
   "id": "d56d3c39-7b85-4f6a-b9fb-816a1d1912da",
   "metadata": {
    "tags": []
   },
   "outputs": [
    {
     "data": {
      "text/plain": [
       "# Specification for a DLC model training instance\n",
       "project_name         : varchar(100)                 # name of DLC project\n",
       "dlc_training_params_name : varchar(50)                  # descriptive name of parameter set\n",
       "training_id          : int                          # unique integer,\n",
       "---\n",
       "model_prefix=\"\"      : varchar(32)                  # "
      ]
     },
     "execution_count": 18,
     "metadata": {},
     "output_type": "execute_result"
    }
   ],
   "source": [
    "sgp.DLCModelTrainingSelection.heading"
   ]
  },
  {
   "cell_type": "code",
   "execution_count": null,
   "id": "139d2f30",
   "metadata": {
    "collapsed": true,
    "jupyter": {
     "outputs_hidden": true
    },
    "tags": []
   },
   "outputs": [],
   "source": [
    "sgp.DLCModelTrainingSelection().insert1(\n",
    "    {\n",
    "        **project_key,\n",
    "        \"dlc_training_params_name\": training_params_name,\n",
    "        \"training_id\": 0,\n",
    "        \"model_prefix\": \"\",\n",
    "    }\n",
    ")\n",
    "model_training_key = (\n",
    "    sgp.DLCModelTrainingSelection\n",
    "    & {\n",
    "        **project_key,\n",
    "        \"dlc_training_params_name\": training_params_name,\n",
    "    }\n",
    ").fetch1(\"KEY\")\n",
    "sgp.DLCModelTraining.populate(model_training_key)"
   ]
  },
  {
   "cell_type": "markdown",
   "id": "da004b3e",
   "metadata": {},
   "source": [
    "Here we'll make sure that the entry made it into the table properly!"
   ]
  },
  {
   "cell_type": "code",
   "execution_count": null,
   "id": "e5306fd9",
   "metadata": {
    "scrolled": true
   },
   "outputs": [],
   "source": [
    "sgp.DLCModelTraining() & model_training_key"
   ]
  },
  {
   "cell_type": "markdown",
   "id": "ac5b7687",
   "metadata": {},
   "source": [
    "Populating `DLCModelTraining` automatically inserts the entry into\n",
    "`DLCModelSource`, which is used to select between models trained using Spyglass\n",
    "vs. other tools."
   ]
  },
  {
   "cell_type": "code",
   "execution_count": null,
   "id": "a349dc3d",
   "metadata": {},
   "outputs": [],
   "source": [
    "sgp.DLCModelSource() & model_training_key"
   ]
  },
  {
   "cell_type": "markdown",
   "id": "92cb8969",
   "metadata": {},
   "source": [
    "The `source` field will only accept _\"FromImport\"_ or _\"FromUpstream\"_ as entries. Let's checkout the `FromUpstream` part table attached to `DLCModelSource` below."
   ]
  },
  {
   "cell_type": "code",
   "execution_count": null,
   "id": "b0cc1afa",
   "metadata": {},
   "outputs": [],
   "source": [
    "sgp.DLCModelSource.FromUpstream() & model_training_key"
   ]
  },
  {
   "cell_type": "markdown",
   "id": "67a9b2c6",
   "metadata": {},
   "source": [
    "#### [DLCModel](#TableOfContents) <a id='DLCModel1'></a>\n",
    "\n",
    "Next we'll populate the `DLCModel` table, which holds all the relevant\n",
    "information for all trained models.\n",
    "\n",
    "First, we'll need to determine a set of parameters for our model to select the\n",
    "correct model file. Here is the default:"
   ]
  },
  {
   "cell_type": "code",
   "execution_count": null,
   "id": "bb663861",
   "metadata": {},
   "outputs": [],
   "source": [
    "pprint(sgp.DLCModelParams.get_default())"
   ]
  },
  {
   "cell_type": "markdown",
   "id": "8b45a6ed",
   "metadata": {},
   "source": [
    "Here is the syntax to add your own parameter set:\n",
    "\n",
    "```python\n",
    "dlc_model_params_name = \"make_this_yours\"\n",
    "params = {\n",
    "    \"params\": {},\n",
    "    \"shuffle\": 1,\n",
    "    \"trainingsetindex\": 0,\n",
    "    \"model_prefix\": \"\",\n",
    "}\n",
    "sgp.DLCModelParams.insert1(\n",
    "    {\"dlc_model_params_name\": dlc_model_params_name, \"params\": params},\n",
    "    skip_duplicates=True,\n",
    ")\n",
    "```"
   ]
  },
  {
   "cell_type": "markdown",
   "id": "7bce9696",
   "metadata": {},
   "source": [
    "We can insert sets of parameters into `DLCModelSelection` and populate\n",
    "`DLCModel`."
   ]
  },
  {
   "cell_type": "code",
   "execution_count": null,
   "id": "eaa23fab",
   "metadata": {},
   "outputs": [],
   "source": [
    "temp_model_key = (sgp.DLCModelSource & model_training_key).fetch1(\"KEY\")\n",
    "sgp.DLCModelSelection().insert1(\n",
    "    {**temp_model_key, \"dlc_model_params_name\": \"default\"}, skip_duplicates=True\n",
    ")\n",
    "model_key = (sgp.DLCModelSelection & temp_model_key).fetch1(\"KEY\")\n",
    "sgp.DLCModel.populate(model_key)"
   ]
  },
  {
   "cell_type": "markdown",
   "id": "f8f1b839",
   "metadata": {},
   "source": [
    "Again, let's make sure that everything looks correct in `DLCModel`."
   ]
  },
  {
   "cell_type": "code",
   "execution_count": null,
   "id": "c39f72ca",
   "metadata": {},
   "outputs": [],
   "source": [
    "sgp.DLCModel() & model_key"
   ]
  },
  {
   "cell_type": "markdown",
   "id": "be097052-3789-4d55-aca1-e44d426c39b4",
   "metadata": {},
   "source": [
    "### Next Steps\n",
    "\n",
    "With our trained model in place, we're ready to move on to pose estimation\n",
    "(notebook coming soon!).\n",
    "\n",
    "<!-- [pose estimation](./23_Position_DLC_3.ipynb). -->"
   ]
  },
  {
   "cell_type": "markdown",
   "id": "c71c90a2",
   "metadata": {},
   "source": [
    "### [Return To Table of Contents](#TableOfContents)<br>"
   ]
  }
 ],
 "metadata": {
  "kernelspec": {
   "display_name": "Python [conda env:spyglass-position] *",
   "language": "python",
   "name": "conda-env-spyglass-position-py"
  },
  "language_info": {
   "codemirror_mode": {
    "name": "ipython",
    "version": 3
   },
   "file_extension": ".py",
   "mimetype": "text/x-python",
   "name": "python",
   "nbconvert_exporter": "python",
   "pygments_lexer": "ipython3",
   "version": "3.9.16"
  }
 },
 "nbformat": 4,
 "nbformat_minor": 5
}
