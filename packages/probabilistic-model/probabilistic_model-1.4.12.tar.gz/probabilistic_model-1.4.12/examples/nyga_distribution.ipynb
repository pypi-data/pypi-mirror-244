{
 "cells": [
  {
   "cell_type": "markdown",
   "source": [
    "# Learning univariate, model-free and deterministic distributions\n",
    "\n",
    "In this tutorial we will go through the line of thinking, math and usage of learning univariate, model-free and deterministic distribution from data.\n",
    "\n",
    "In most machine learning scenarios the distribution of the data is unknown. Learning a distribution is than usually done by assuming a functional form and fitting the parameters of the function to the data.\n",
    " This is called parametric learning.\n",
    " \n",
    "In this tutorial we will learn a distribution without assuming a functional form. This is called non-parametric learning.\n",
    "\n",
    "Let $\\mathcal{D}$ be a dataset of $N$ samples $\\mathcal{D} = \\{d_1, d_2, \\dots, d_N\\}$, where $x_i \\in \\mathbb{R}$. "
   ],
   "metadata": {
    "collapsed": false
   },
   "id": "1a335e98c949caf3"
  },
  {
   "cell_type": "code",
   "execution_count": 3,
   "id": "initial_id",
   "metadata": {
    "collapsed": true,
    "ExecuteTime": {
     "end_time": "2023-12-02T08:24:57.580441241Z",
     "start_time": "2023-12-02T08:24:57.514281445Z"
    }
   },
   "outputs": [
    {
     "data": {
      "text/plain": "array([ 0.9155071 , -0.60354197,  1.16229517, ...,  4.99355308,\n        5.14493969,  5.50211339])"
     },
     "execution_count": 3,
     "metadata": {},
     "output_type": "execute_result"
    }
   ],
   "source": [
    "import numpy as np\n",
    "np.random.seed(69)\n",
    "dataset = np.concatenate((np.random.normal(0, 1, size=1000), np.random.normal(5, 0.5, size=1000)))\n",
    "dataset"
   ]
  },
  {
   "cell_type": "markdown",
   "source": [
    "The idea is to create as many components in a mixture of uniform distributions as is needed to achieve a good fit to the data. The fitness of the model is measured by the average likelihood of the data under the model.\n",
    "\n",
    "$$\n",
    "f_{average}(\\mathcal{D}| \\boldsymbol{\\Theta}) = \\frac{1}{N} \\sum_{i=1}^N p(d_i),\n",
    "$$\n",
    "where $\\boldsymbol{\\Theta}$ represents the parameters of the model.\n",
    "\n",
    "We will solve this problem using a recursive partitioning scheme. First off, we will sort the data, make it unique.\n",
    "Next, we iterate through every possible partitioning that can be made on the data, such that we get two datasets\n",
    "\n",
    "$$\n",
    "\\mathcal D_{left} = {d_1, d_2, \\dots, d_k} \\\\\n",
    "\\mathcal D_{right} = {d_{k+1}, d_{k+2}, \\dots, d_N}\n",
    "$$\n",
    "\n",
    "The split values are calculated by the distance maximizing value between $d_k$ and $d_{k+1}$.\n",
    "\n",
    "$$\n",
    "d_{split} = \\frac{d_k + d_{k+1}}{2}\n",
    "$$\n",
    "\n",
    "The likelihood of such a split is given by assuming a uniform distribution on the left and right side of the split. \n",
    "This constructs a deterministic mixture of uniform distributions where the weights are given by the relative number of samples on the left and right side of the split.\n",
    "Hence, the following function has to be evaluated\n",
    "\n",
    "$$\n",
    "f_{average}(\\mathcal{D} | \\boldsymbol{\\Theta}, d_{split}) = \\frac{1}{N} \\sum_{i=1}^N \\frac{k}{N} \\mathcal{U}(d_i, d_{split}) \\cdot k + \\frac{N-k}{N}\\mathcal{U}(d_{split}, d_N) \\cdot (N-k)\\\\\n",
    "= \\frac{1}{N^2} \\sum_{i=1}^N k^2 \\cdot \\mathcal{U}(d_i, d_{split}) + (N-k)^2 \\cdot \\mathcal{U}(d_{split}, d_N),\n",
    "$$\n",
    "where $\\mathcal{U(a, b)}$ is the probability density function of the uniform distribution over the interval $[a, b]$.\n",
    "\n",
    "The most likely split is selected and the process is repeated recursively on the left and right side of the split until the likelihood of the split is smaller than a given threshold.\n",
    "The value to compare against is given by the following equation\n",
    "\n",
    "$$\n",
    "f_{average}(\\mathcal{D} | \\boldsymbol{\\Theta}) = \\frac{1}{N} \\sum_{i=1}^N \\mathcal{U}(d_1, d_N) \\cdot N = \\mathcal{U}(d_1, d_N)\n",
    "$$\n",
    "\n",
    "The threshold is given by the following equation\n",
    "\n",
    "$$\n",
    " max_{d_{split}} P_{average}(\\mathcal{D} | \\boldsymbol{\\Theta}, d_{split}) > (1 + \\xi) \\cdot f_{average}(\\mathcal{D} | \\boldsymbol{\\Theta})\n",
    "$$\n",
    "\n",
    "In simpler terms, the induction is terminated as soon as the likelihood does not improve by more than $\\xi\\,\\%$ anymore if a split is made. This parameter is referenced to as `min_likelihood_improvement` in the code.\n",
    "\n",
    "This algorithm is implemented in the [NygaDistribution](https://probabilistic-model.readthedocs.io/en/latest/autoapi/probabilistic_model/learning/nyga_distribution/index.html#probabilistic_model.learning.nyga_distribution.NygaDistribution).\n",
    "\n",
    "Finally, if we apply the algorithm to the dataset we get the following result.\n",
    "We can see that it looks very similar to the gaussian mixture we sampled from."
   ],
   "metadata": {
    "collapsed": false
   },
   "id": "f4a7e2d0efcf9e14"
  },
  {
   "cell_type": "code",
   "execution_count": 4,
   "outputs": [
    {
     "data": {
      "application/vnd.plotly.v1+json": {
       "data": [
        {
         "mode": "lines",
         "name": "Probability Density Function",
         "x": [
          -3.322561546285403,
          -2.843889016191613,
          null,
          1.527832235130003,
          3.9854994040559015,
          null,
          3.9854994040559015,
          4.371130922137821,
          null,
          4.371130922137821,
          4.563071946540738,
          null,
          5.509832462056641,
          5.805656362940789,
          null,
          5.805656362940789,
          6.729561585684192,
          null,
          -2.843889016191613,
          -1.81528525896457,
          null,
          -1.81528525896457,
          -1.346691721007943,
          null,
          1.0375292458639978,
          1.527832235130003,
          null,
          5.267614717879812,
          5.38368221604075,
          null,
          5.38368221604075,
          5.509832462056641,
          null,
          -1.346691721007943,
          -0.9370198252806441,
          null,
          -0.9370198252806441,
          -0.7414096593922341,
          null,
          -0.7414096593922341,
          -0.5637320322516673,
          null,
          4.563071946540738,
          4.63924049340201,
          null,
          -0.5637320322516673,
          -0.361423134202401,
          null,
          4.63924049340201,
          4.733537071282648,
          null,
          4.733537071282648,
          4.818235992482501,
          null,
          4.818235992482501,
          4.884666148288612,
          null,
          5.053906611791501,
          5.131695117816164,
          null,
          4.884666148288612,
          4.976698989637467,
          null,
          4.976698989637467,
          5.053906611791501,
          null,
          5.131695117816164,
          5.1871567467589355,
          null,
          5.1871567467589355,
          5.267614717879812,
          null,
          -0.361423134202401,
          -0.17994200595314508,
          null,
          -0.17994200595314508,
          -0.09622309435423759,
          null,
          -0.09622309435423759,
          0.08768001764830505,
          null,
          0.08768001764830505,
          0.30029048489630666,
          null,
          0.30029048489630666,
          0.43533771128107523,
          null,
          0.43533771128107523,
          0.6264722609641228,
          null,
          0.6264722609641228,
          0.7928899903304566,
          null,
          0.7928899903304566,
          1.0375292458639978,
          null,
          6.729561585684192,
          7.208234115777983
         ],
         "y": [
          0,
          0,
          null,
          0.015054927073860268,
          0.015054927073860268,
          null,
          0.09076021631760135,
          0.09076021631760135,
          null,
          0.21100231243417572,
          0.21100231243417572,
          null,
          0.15549791569415738,
          0.15549791569415738,
          null,
          0.028141414681905123,
          0.028141414681905123,
          null,
          0.024304791640462373,
          0.024304791640462373,
          null,
          0.054418164004558456,
          0.054418164004558456,
          null,
          0.08362176225231249,
          0.08362176225231249,
          null,
          0.26708596714142685,
          0.26708596714142685,
          null,
          0.3091551640342198,
          0.3091551640342198,
          null,
          0.10374155621426974,
          0.10374155621426974,
          null,
          0.13547353165232484,
          0.13547353165232484,
          null,
          0.21387048336669276,
          0.21387048336669276,
          null,
          0.3807345839591588,
          0.3807345839591588,
          null,
          0.12604487615661003,
          0.12604487615661003,
          null,
          0.31814516151343625,
          0.31814516151343625,
          null,
          0.29516314547868727,
          0.29516314547868727,
          null,
          0.4139686211223728,
          0.4139686211223728,
          null,
          0.3406672959061347,
          0.3406672959061347,
          null,
          0.5106872645803051,
          0.5106872645803051,
          null,
          0.4468470733520395,
          0.4468470733520395,
          null,
          0.45076209401992684,
          0.45076209401992684,
          null,
          0.34800778108031305,
          0.34800778108031305,
          null,
          0.17357176640832994,
          0.17357176640832994,
          null,
          0.29861831123382954,
          0.29861831123382954,
          null,
          0.16312937651422257,
          0.16312937651422257,
          null,
          0.15286171194050419,
          0.15286171194050419,
          null,
          0.23695414453627883,
          0.23695414453627883,
          null,
          0.14387770314473447,
          0.14387770314473447,
          null,
          0.19529169231998156,
          0.19529169231998156,
          null,
          0.15533075391815054,
          0.15533075391815054,
          null,
          0,
          0
         ],
         "type": "scatter"
        },
        {
         "mode": "lines",
         "name": "Cumulative Distribution Function",
         "x": [
          -3.322561546285403,
          -2.843889016191613,
          null,
          1.527832235130003,
          3.9854994040559015,
          null,
          3.9854994040559015,
          4.371130922137821,
          null,
          4.371130922137821,
          4.563071946540738,
          null,
          5.509832462056641,
          5.805656362940789,
          null,
          5.805656362940789,
          6.729561585684192,
          null,
          -2.843889016191613,
          -1.81528525896457,
          null,
          -1.81528525896457,
          -1.346691721007943,
          null,
          1.0375292458639978,
          1.527832235130003,
          null,
          5.267614717879812,
          5.38368221604075,
          null,
          5.38368221604075,
          5.509832462056641,
          null,
          -1.346691721007943,
          -0.9370198252806441,
          null,
          -0.9370198252806441,
          -0.7414096593922341,
          null,
          -0.7414096593922341,
          -0.5637320322516673,
          null,
          4.563071946540738,
          4.63924049340201,
          null,
          -0.5637320322516673,
          -0.361423134202401,
          null,
          4.63924049340201,
          4.733537071282648,
          null,
          4.733537071282648,
          4.818235992482501,
          null,
          4.818235992482501,
          4.884666148288612,
          null,
          5.053906611791501,
          5.131695117816164,
          null,
          4.884666148288612,
          4.976698989637467,
          null,
          4.976698989637467,
          5.053906611791501,
          null,
          5.131695117816164,
          5.1871567467589355,
          null,
          5.1871567467589355,
          5.267614717879812,
          null,
          -0.361423134202401,
          -0.17994200595314508,
          null,
          -0.17994200595314508,
          -0.09622309435423759,
          null,
          -0.09622309435423759,
          0.08768001764830505,
          null,
          0.08768001764830505,
          0.30029048489630666,
          null,
          0.30029048489630666,
          0.43533771128107523,
          null,
          0.43533771128107523,
          0.6264722609641228,
          null,
          0.6264722609641228,
          0.7928899903304566,
          null,
          0.7928899903304566,
          1.0375292458639978,
          null,
          6.729561585684192,
          7.208234115777983
         ],
         "y": [
          0,
          0,
          null,
          0.47300000000000036,
          0.5100000000000003,
          null,
          0.5100000000000003,
          0.5450000000000004,
          null,
          0.5450000000000004,
          0.5855000000000004,
          null,
          0.9280000000000004,
          0.9740000000000004,
          null,
          0.9740000000000004,
          1.0000000000000004,
          null,
          0.0,
          0.02500000000000002,
          null,
          0.02500000000000002,
          0.05050000000000004,
          null,
          0.43200000000000033,
          0.47300000000000036,
          null,
          0.8580000000000004,
          0.8890000000000005,
          null,
          0.8890000000000005,
          0.9280000000000004,
          null,
          0.05050000000000004,
          0.09300000000000007,
          null,
          0.09300000000000007,
          0.11950000000000009,
          null,
          0.11950000000000009,
          0.1575000000000001,
          null,
          0.5855000000000004,
          0.6145000000000004,
          null,
          0.1575000000000001,
          0.18300000000000013,
          null,
          0.6145000000000004,
          0.6445000000000004,
          null,
          0.6445000000000004,
          0.6695000000000003,
          null,
          0.6695000000000003,
          0.6970000000000004,
          null,
          0.7785000000000004,
          0.8050000000000004,
          null,
          0.6970000000000004,
          0.7440000000000004,
          null,
          0.7440000000000004,
          0.7785000000000004,
          null,
          0.8050000000000004,
          0.8300000000000004,
          null,
          0.8300000000000004,
          0.8580000000000004,
          null,
          0.18300000000000013,
          0.21450000000000016,
          null,
          0.21450000000000016,
          0.23950000000000018,
          null,
          0.23950000000000018,
          0.2695000000000002,
          null,
          0.2695000000000002,
          0.3020000000000002,
          null,
          0.3020000000000002,
          0.33400000000000024,
          null,
          0.33400000000000024,
          0.36150000000000027,
          null,
          0.36150000000000027,
          0.3940000000000003,
          null,
          0.3940000000000003,
          0.43200000000000033,
          null,
          1,
          1
         ],
         "type": "scatter"
        },
        {
         "fill": "toself",
         "mode": "lines+markers",
         "name": "Mode",
         "x": [
          4.884666148288612,
          4.884666148288612,
          4.976698989637467,
          4.976698989637467
         ],
         "y": [
          0,
          0.5362216278093204,
          0.5362216278093204,
          0
         ],
         "type": "scatter"
        },
        {
         "mode": "lines+markers",
         "name": "Expectation",
         "x": [
          2.4968908438223716,
          2.4968908438223716
         ],
         "y": [
          0,
          0.5362216278093204
         ],
         "type": "scatter"
        }
       ],
       "layout": {
        "template": {
         "data": {
          "histogram2dcontour": [
           {
            "type": "histogram2dcontour",
            "colorbar": {
             "outlinewidth": 0,
             "ticks": ""
            },
            "colorscale": [
             [
              0.0,
              "#0d0887"
             ],
             [
              0.1111111111111111,
              "#46039f"
             ],
             [
              0.2222222222222222,
              "#7201a8"
             ],
             [
              0.3333333333333333,
              "#9c179e"
             ],
             [
              0.4444444444444444,
              "#bd3786"
             ],
             [
              0.5555555555555556,
              "#d8576b"
             ],
             [
              0.6666666666666666,
              "#ed7953"
             ],
             [
              0.7777777777777778,
              "#fb9f3a"
             ],
             [
              0.8888888888888888,
              "#fdca26"
             ],
             [
              1.0,
              "#f0f921"
             ]
            ]
           }
          ],
          "choropleth": [
           {
            "type": "choropleth",
            "colorbar": {
             "outlinewidth": 0,
             "ticks": ""
            }
           }
          ],
          "histogram2d": [
           {
            "type": "histogram2d",
            "colorbar": {
             "outlinewidth": 0,
             "ticks": ""
            },
            "colorscale": [
             [
              0.0,
              "#0d0887"
             ],
             [
              0.1111111111111111,
              "#46039f"
             ],
             [
              0.2222222222222222,
              "#7201a8"
             ],
             [
              0.3333333333333333,
              "#9c179e"
             ],
             [
              0.4444444444444444,
              "#bd3786"
             ],
             [
              0.5555555555555556,
              "#d8576b"
             ],
             [
              0.6666666666666666,
              "#ed7953"
             ],
             [
              0.7777777777777778,
              "#fb9f3a"
             ],
             [
              0.8888888888888888,
              "#fdca26"
             ],
             [
              1.0,
              "#f0f921"
             ]
            ]
           }
          ],
          "heatmap": [
           {
            "type": "heatmap",
            "colorbar": {
             "outlinewidth": 0,
             "ticks": ""
            },
            "colorscale": [
             [
              0.0,
              "#0d0887"
             ],
             [
              0.1111111111111111,
              "#46039f"
             ],
             [
              0.2222222222222222,
              "#7201a8"
             ],
             [
              0.3333333333333333,
              "#9c179e"
             ],
             [
              0.4444444444444444,
              "#bd3786"
             ],
             [
              0.5555555555555556,
              "#d8576b"
             ],
             [
              0.6666666666666666,
              "#ed7953"
             ],
             [
              0.7777777777777778,
              "#fb9f3a"
             ],
             [
              0.8888888888888888,
              "#fdca26"
             ],
             [
              1.0,
              "#f0f921"
             ]
            ]
           }
          ],
          "heatmapgl": [
           {
            "type": "heatmapgl",
            "colorbar": {
             "outlinewidth": 0,
             "ticks": ""
            },
            "colorscale": [
             [
              0.0,
              "#0d0887"
             ],
             [
              0.1111111111111111,
              "#46039f"
             ],
             [
              0.2222222222222222,
              "#7201a8"
             ],
             [
              0.3333333333333333,
              "#9c179e"
             ],
             [
              0.4444444444444444,
              "#bd3786"
             ],
             [
              0.5555555555555556,
              "#d8576b"
             ],
             [
              0.6666666666666666,
              "#ed7953"
             ],
             [
              0.7777777777777778,
              "#fb9f3a"
             ],
             [
              0.8888888888888888,
              "#fdca26"
             ],
             [
              1.0,
              "#f0f921"
             ]
            ]
           }
          ],
          "contourcarpet": [
           {
            "type": "contourcarpet",
            "colorbar": {
             "outlinewidth": 0,
             "ticks": ""
            }
           }
          ],
          "contour": [
           {
            "type": "contour",
            "colorbar": {
             "outlinewidth": 0,
             "ticks": ""
            },
            "colorscale": [
             [
              0.0,
              "#0d0887"
             ],
             [
              0.1111111111111111,
              "#46039f"
             ],
             [
              0.2222222222222222,
              "#7201a8"
             ],
             [
              0.3333333333333333,
              "#9c179e"
             ],
             [
              0.4444444444444444,
              "#bd3786"
             ],
             [
              0.5555555555555556,
              "#d8576b"
             ],
             [
              0.6666666666666666,
              "#ed7953"
             ],
             [
              0.7777777777777778,
              "#fb9f3a"
             ],
             [
              0.8888888888888888,
              "#fdca26"
             ],
             [
              1.0,
              "#f0f921"
             ]
            ]
           }
          ],
          "surface": [
           {
            "type": "surface",
            "colorbar": {
             "outlinewidth": 0,
             "ticks": ""
            },
            "colorscale": [
             [
              0.0,
              "#0d0887"
             ],
             [
              0.1111111111111111,
              "#46039f"
             ],
             [
              0.2222222222222222,
              "#7201a8"
             ],
             [
              0.3333333333333333,
              "#9c179e"
             ],
             [
              0.4444444444444444,
              "#bd3786"
             ],
             [
              0.5555555555555556,
              "#d8576b"
             ],
             [
              0.6666666666666666,
              "#ed7953"
             ],
             [
              0.7777777777777778,
              "#fb9f3a"
             ],
             [
              0.8888888888888888,
              "#fdca26"
             ],
             [
              1.0,
              "#f0f921"
             ]
            ]
           }
          ],
          "mesh3d": [
           {
            "type": "mesh3d",
            "colorbar": {
             "outlinewidth": 0,
             "ticks": ""
            }
           }
          ],
          "scatter": [
           {
            "marker": {
             "line": {
              "color": "#283442"
             }
            },
            "type": "scatter"
           }
          ],
          "parcoords": [
           {
            "type": "parcoords",
            "line": {
             "colorbar": {
              "outlinewidth": 0,
              "ticks": ""
             }
            }
           }
          ],
          "scatterpolargl": [
           {
            "type": "scatterpolargl",
            "marker": {
             "colorbar": {
              "outlinewidth": 0,
              "ticks": ""
             }
            }
           }
          ],
          "bar": [
           {
            "error_x": {
             "color": "#f2f5fa"
            },
            "error_y": {
             "color": "#f2f5fa"
            },
            "marker": {
             "line": {
              "color": "rgb(17,17,17)",
              "width": 0.5
             },
             "pattern": {
              "fillmode": "overlay",
              "size": 10,
              "solidity": 0.2
             }
            },
            "type": "bar"
           }
          ],
          "scattergeo": [
           {
            "type": "scattergeo",
            "marker": {
             "colorbar": {
              "outlinewidth": 0,
              "ticks": ""
             }
            }
           }
          ],
          "scatterpolar": [
           {
            "type": "scatterpolar",
            "marker": {
             "colorbar": {
              "outlinewidth": 0,
              "ticks": ""
             }
            }
           }
          ],
          "histogram": [
           {
            "marker": {
             "pattern": {
              "fillmode": "overlay",
              "size": 10,
              "solidity": 0.2
             }
            },
            "type": "histogram"
           }
          ],
          "scattergl": [
           {
            "marker": {
             "line": {
              "color": "#283442"
             }
            },
            "type": "scattergl"
           }
          ],
          "scatter3d": [
           {
            "type": "scatter3d",
            "line": {
             "colorbar": {
              "outlinewidth": 0,
              "ticks": ""
             }
            },
            "marker": {
             "colorbar": {
              "outlinewidth": 0,
              "ticks": ""
             }
            }
           }
          ],
          "scattermapbox": [
           {
            "type": "scattermapbox",
            "marker": {
             "colorbar": {
              "outlinewidth": 0,
              "ticks": ""
             }
            }
           }
          ],
          "scatterternary": [
           {
            "type": "scatterternary",
            "marker": {
             "colorbar": {
              "outlinewidth": 0,
              "ticks": ""
             }
            }
           }
          ],
          "scattercarpet": [
           {
            "type": "scattercarpet",
            "marker": {
             "colorbar": {
              "outlinewidth": 0,
              "ticks": ""
             }
            }
           }
          ],
          "carpet": [
           {
            "aaxis": {
             "endlinecolor": "#A2B1C6",
             "gridcolor": "#506784",
             "linecolor": "#506784",
             "minorgridcolor": "#506784",
             "startlinecolor": "#A2B1C6"
            },
            "baxis": {
             "endlinecolor": "#A2B1C6",
             "gridcolor": "#506784",
             "linecolor": "#506784",
             "minorgridcolor": "#506784",
             "startlinecolor": "#A2B1C6"
            },
            "type": "carpet"
           }
          ],
          "table": [
           {
            "cells": {
             "fill": {
              "color": "#506784"
             },
             "line": {
              "color": "rgb(17,17,17)"
             }
            },
            "header": {
             "fill": {
              "color": "#2a3f5f"
             },
             "line": {
              "color": "rgb(17,17,17)"
             }
            },
            "type": "table"
           }
          ],
          "barpolar": [
           {
            "marker": {
             "line": {
              "color": "rgb(17,17,17)",
              "width": 0.5
             },
             "pattern": {
              "fillmode": "overlay",
              "size": 10,
              "solidity": 0.2
             }
            },
            "type": "barpolar"
           }
          ],
          "pie": [
           {
            "automargin": true,
            "type": "pie"
           }
          ]
         },
         "layout": {
          "autotypenumbers": "strict",
          "colorway": [
           "#636efa",
           "#EF553B",
           "#00cc96",
           "#ab63fa",
           "#FFA15A",
           "#19d3f3",
           "#FF6692",
           "#B6E880",
           "#FF97FF",
           "#FECB52"
          ],
          "font": {
           "color": "#f2f5fa"
          },
          "hovermode": "closest",
          "hoverlabel": {
           "align": "left"
          },
          "paper_bgcolor": "rgb(17,17,17)",
          "plot_bgcolor": "rgb(17,17,17)",
          "polar": {
           "bgcolor": "rgb(17,17,17)",
           "angularaxis": {
            "gridcolor": "#506784",
            "linecolor": "#506784",
            "ticks": ""
           },
           "radialaxis": {
            "gridcolor": "#506784",
            "linecolor": "#506784",
            "ticks": ""
           }
          },
          "ternary": {
           "bgcolor": "rgb(17,17,17)",
           "aaxis": {
            "gridcolor": "#506784",
            "linecolor": "#506784",
            "ticks": ""
           },
           "baxis": {
            "gridcolor": "#506784",
            "linecolor": "#506784",
            "ticks": ""
           },
           "caxis": {
            "gridcolor": "#506784",
            "linecolor": "#506784",
            "ticks": ""
           }
          },
          "coloraxis": {
           "colorbar": {
            "outlinewidth": 0,
            "ticks": ""
           }
          },
          "colorscale": {
           "sequential": [
            [
             0.0,
             "#0d0887"
            ],
            [
             0.1111111111111111,
             "#46039f"
            ],
            [
             0.2222222222222222,
             "#7201a8"
            ],
            [
             0.3333333333333333,
             "#9c179e"
            ],
            [
             0.4444444444444444,
             "#bd3786"
            ],
            [
             0.5555555555555556,
             "#d8576b"
            ],
            [
             0.6666666666666666,
             "#ed7953"
            ],
            [
             0.7777777777777778,
             "#fb9f3a"
            ],
            [
             0.8888888888888888,
             "#fdca26"
            ],
            [
             1.0,
             "#f0f921"
            ]
           ],
           "sequentialminus": [
            [
             0.0,
             "#0d0887"
            ],
            [
             0.1111111111111111,
             "#46039f"
            ],
            [
             0.2222222222222222,
             "#7201a8"
            ],
            [
             0.3333333333333333,
             "#9c179e"
            ],
            [
             0.4444444444444444,
             "#bd3786"
            ],
            [
             0.5555555555555556,
             "#d8576b"
            ],
            [
             0.6666666666666666,
             "#ed7953"
            ],
            [
             0.7777777777777778,
             "#fb9f3a"
            ],
            [
             0.8888888888888888,
             "#fdca26"
            ],
            [
             1.0,
             "#f0f921"
            ]
           ],
           "diverging": [
            [
             0,
             "#8e0152"
            ],
            [
             0.1,
             "#c51b7d"
            ],
            [
             0.2,
             "#de77ae"
            ],
            [
             0.3,
             "#f1b6da"
            ],
            [
             0.4,
             "#fde0ef"
            ],
            [
             0.5,
             "#f7f7f7"
            ],
            [
             0.6,
             "#e6f5d0"
            ],
            [
             0.7,
             "#b8e186"
            ],
            [
             0.8,
             "#7fbc41"
            ],
            [
             0.9,
             "#4d9221"
            ],
            [
             1,
             "#276419"
            ]
           ]
          },
          "xaxis": {
           "gridcolor": "#283442",
           "linecolor": "#506784",
           "ticks": "",
           "title": {
            "standoff": 15
           },
           "zerolinecolor": "#283442",
           "automargin": true,
           "zerolinewidth": 2
          },
          "yaxis": {
           "gridcolor": "#283442",
           "linecolor": "#506784",
           "ticks": "",
           "title": {
            "standoff": 15
           },
           "zerolinecolor": "#283442",
           "automargin": true,
           "zerolinewidth": 2
          },
          "scene": {
           "xaxis": {
            "backgroundcolor": "rgb(17,17,17)",
            "gridcolor": "#506784",
            "linecolor": "#506784",
            "showbackground": true,
            "ticks": "",
            "zerolinecolor": "#C8D4E3",
            "gridwidth": 2
           },
           "yaxis": {
            "backgroundcolor": "rgb(17,17,17)",
            "gridcolor": "#506784",
            "linecolor": "#506784",
            "showbackground": true,
            "ticks": "",
            "zerolinecolor": "#C8D4E3",
            "gridwidth": 2
           },
           "zaxis": {
            "backgroundcolor": "rgb(17,17,17)",
            "gridcolor": "#506784",
            "linecolor": "#506784",
            "showbackground": true,
            "ticks": "",
            "zerolinecolor": "#C8D4E3",
            "gridwidth": 2
           }
          },
          "shapedefaults": {
           "line": {
            "color": "#f2f5fa"
           }
          },
          "annotationdefaults": {
           "arrowcolor": "#f2f5fa",
           "arrowhead": 0,
           "arrowwidth": 1
          },
          "geo": {
           "bgcolor": "rgb(17,17,17)",
           "landcolor": "rgb(17,17,17)",
           "subunitcolor": "#506784",
           "showland": true,
           "showlakes": true,
           "lakecolor": "rgb(17,17,17)"
          },
          "title": {
           "x": 0.05
          },
          "updatemenudefaults": {
           "bgcolor": "#506784",
           "borderwidth": 0
          },
          "sliderdefaults": {
           "bgcolor": "#C8D4E3",
           "borderwidth": 1,
           "bordercolor": "rgb(17,17,17)",
           "tickwidth": 0
          },
          "mapbox": {
           "style": "dark"
          }
         }
        },
        "title": {
         "text": "Nyga distribution"
        },
        "xaxis": {
         "title": {
          "text": "x"
         }
        }
       },
       "config": {
        "plotlyServerURL": "https://plot.ly"
       }
      },
      "text/html": "<div>                            <div id=\"a6ae999b-29ff-49ce-a968-34ea86665634\" class=\"plotly-graph-div\" style=\"height:525px; width:100%;\"></div>            <script type=\"text/javascript\">                require([\"plotly\"], function(Plotly) {                    window.PLOTLYENV=window.PLOTLYENV || {};                                    if (document.getElementById(\"a6ae999b-29ff-49ce-a968-34ea86665634\")) {                    Plotly.newPlot(                        \"a6ae999b-29ff-49ce-a968-34ea86665634\",                        [{\"mode\":\"lines\",\"name\":\"Probability Density Function\",\"x\":[-3.322561546285403,-2.843889016191613,null,1.527832235130003,3.9854994040559015,null,3.9854994040559015,4.371130922137821,null,4.371130922137821,4.563071946540738,null,5.509832462056641,5.805656362940789,null,5.805656362940789,6.729561585684192,null,-2.843889016191613,-1.81528525896457,null,-1.81528525896457,-1.346691721007943,null,1.0375292458639978,1.527832235130003,null,5.267614717879812,5.38368221604075,null,5.38368221604075,5.509832462056641,null,-1.346691721007943,-0.9370198252806441,null,-0.9370198252806441,-0.7414096593922341,null,-0.7414096593922341,-0.5637320322516673,null,4.563071946540738,4.63924049340201,null,-0.5637320322516673,-0.361423134202401,null,4.63924049340201,4.733537071282648,null,4.733537071282648,4.818235992482501,null,4.818235992482501,4.884666148288612,null,5.053906611791501,5.131695117816164,null,4.884666148288612,4.976698989637467,null,4.976698989637467,5.053906611791501,null,5.131695117816164,5.1871567467589355,null,5.1871567467589355,5.267614717879812,null,-0.361423134202401,-0.17994200595314508,null,-0.17994200595314508,-0.09622309435423759,null,-0.09622309435423759,0.08768001764830505,null,0.08768001764830505,0.30029048489630666,null,0.30029048489630666,0.43533771128107523,null,0.43533771128107523,0.6264722609641228,null,0.6264722609641228,0.7928899903304566,null,0.7928899903304566,1.0375292458639978,null,6.729561585684192,7.208234115777983],\"y\":[0,0,null,0.015054927073860268,0.015054927073860268,null,0.09076021631760135,0.09076021631760135,null,0.21100231243417572,0.21100231243417572,null,0.15549791569415738,0.15549791569415738,null,0.028141414681905123,0.028141414681905123,null,0.024304791640462373,0.024304791640462373,null,0.054418164004558456,0.054418164004558456,null,0.08362176225231249,0.08362176225231249,null,0.26708596714142685,0.26708596714142685,null,0.3091551640342198,0.3091551640342198,null,0.10374155621426974,0.10374155621426974,null,0.13547353165232484,0.13547353165232484,null,0.21387048336669276,0.21387048336669276,null,0.3807345839591588,0.3807345839591588,null,0.12604487615661003,0.12604487615661003,null,0.31814516151343625,0.31814516151343625,null,0.29516314547868727,0.29516314547868727,null,0.4139686211223728,0.4139686211223728,null,0.3406672959061347,0.3406672959061347,null,0.5106872645803051,0.5106872645803051,null,0.4468470733520395,0.4468470733520395,null,0.45076209401992684,0.45076209401992684,null,0.34800778108031305,0.34800778108031305,null,0.17357176640832994,0.17357176640832994,null,0.29861831123382954,0.29861831123382954,null,0.16312937651422257,0.16312937651422257,null,0.15286171194050419,0.15286171194050419,null,0.23695414453627883,0.23695414453627883,null,0.14387770314473447,0.14387770314473447,null,0.19529169231998156,0.19529169231998156,null,0.15533075391815054,0.15533075391815054,null,0,0],\"type\":\"scatter\"},{\"mode\":\"lines\",\"name\":\"Cumulative Distribution Function\",\"x\":[-3.322561546285403,-2.843889016191613,null,1.527832235130003,3.9854994040559015,null,3.9854994040559015,4.371130922137821,null,4.371130922137821,4.563071946540738,null,5.509832462056641,5.805656362940789,null,5.805656362940789,6.729561585684192,null,-2.843889016191613,-1.81528525896457,null,-1.81528525896457,-1.346691721007943,null,1.0375292458639978,1.527832235130003,null,5.267614717879812,5.38368221604075,null,5.38368221604075,5.509832462056641,null,-1.346691721007943,-0.9370198252806441,null,-0.9370198252806441,-0.7414096593922341,null,-0.7414096593922341,-0.5637320322516673,null,4.563071946540738,4.63924049340201,null,-0.5637320322516673,-0.361423134202401,null,4.63924049340201,4.733537071282648,null,4.733537071282648,4.818235992482501,null,4.818235992482501,4.884666148288612,null,5.053906611791501,5.131695117816164,null,4.884666148288612,4.976698989637467,null,4.976698989637467,5.053906611791501,null,5.131695117816164,5.1871567467589355,null,5.1871567467589355,5.267614717879812,null,-0.361423134202401,-0.17994200595314508,null,-0.17994200595314508,-0.09622309435423759,null,-0.09622309435423759,0.08768001764830505,null,0.08768001764830505,0.30029048489630666,null,0.30029048489630666,0.43533771128107523,null,0.43533771128107523,0.6264722609641228,null,0.6264722609641228,0.7928899903304566,null,0.7928899903304566,1.0375292458639978,null,6.729561585684192,7.208234115777983],\"y\":[0,0,null,0.47300000000000036,0.5100000000000003,null,0.5100000000000003,0.5450000000000004,null,0.5450000000000004,0.5855000000000004,null,0.9280000000000004,0.9740000000000004,null,0.9740000000000004,1.0000000000000004,null,0.0,0.02500000000000002,null,0.02500000000000002,0.05050000000000004,null,0.43200000000000033,0.47300000000000036,null,0.8580000000000004,0.8890000000000005,null,0.8890000000000005,0.9280000000000004,null,0.05050000000000004,0.09300000000000007,null,0.09300000000000007,0.11950000000000009,null,0.11950000000000009,0.1575000000000001,null,0.5855000000000004,0.6145000000000004,null,0.1575000000000001,0.18300000000000013,null,0.6145000000000004,0.6445000000000004,null,0.6445000000000004,0.6695000000000003,null,0.6695000000000003,0.6970000000000004,null,0.7785000000000004,0.8050000000000004,null,0.6970000000000004,0.7440000000000004,null,0.7440000000000004,0.7785000000000004,null,0.8050000000000004,0.8300000000000004,null,0.8300000000000004,0.8580000000000004,null,0.18300000000000013,0.21450000000000016,null,0.21450000000000016,0.23950000000000018,null,0.23950000000000018,0.2695000000000002,null,0.2695000000000002,0.3020000000000002,null,0.3020000000000002,0.33400000000000024,null,0.33400000000000024,0.36150000000000027,null,0.36150000000000027,0.3940000000000003,null,0.3940000000000003,0.43200000000000033,null,1,1],\"type\":\"scatter\"},{\"fill\":\"toself\",\"mode\":\"lines+markers\",\"name\":\"Mode\",\"x\":[4.884666148288612,4.884666148288612,4.976698989637467,4.976698989637467],\"y\":[0,0.5362216278093204,0.5362216278093204,0],\"type\":\"scatter\"},{\"mode\":\"lines+markers\",\"name\":\"Expectation\",\"x\":[2.4968908438223716,2.4968908438223716],\"y\":[0,0.5362216278093204],\"type\":\"scatter\"}],                        {\"template\":{\"data\":{\"histogram2dcontour\":[{\"type\":\"histogram2dcontour\",\"colorbar\":{\"outlinewidth\":0,\"ticks\":\"\"},\"colorscale\":[[0.0,\"#0d0887\"],[0.1111111111111111,\"#46039f\"],[0.2222222222222222,\"#7201a8\"],[0.3333333333333333,\"#9c179e\"],[0.4444444444444444,\"#bd3786\"],[0.5555555555555556,\"#d8576b\"],[0.6666666666666666,\"#ed7953\"],[0.7777777777777778,\"#fb9f3a\"],[0.8888888888888888,\"#fdca26\"],[1.0,\"#f0f921\"]]}],\"choropleth\":[{\"type\":\"choropleth\",\"colorbar\":{\"outlinewidth\":0,\"ticks\":\"\"}}],\"histogram2d\":[{\"type\":\"histogram2d\",\"colorbar\":{\"outlinewidth\":0,\"ticks\":\"\"},\"colorscale\":[[0.0,\"#0d0887\"],[0.1111111111111111,\"#46039f\"],[0.2222222222222222,\"#7201a8\"],[0.3333333333333333,\"#9c179e\"],[0.4444444444444444,\"#bd3786\"],[0.5555555555555556,\"#d8576b\"],[0.6666666666666666,\"#ed7953\"],[0.7777777777777778,\"#fb9f3a\"],[0.8888888888888888,\"#fdca26\"],[1.0,\"#f0f921\"]]}],\"heatmap\":[{\"type\":\"heatmap\",\"colorbar\":{\"outlinewidth\":0,\"ticks\":\"\"},\"colorscale\":[[0.0,\"#0d0887\"],[0.1111111111111111,\"#46039f\"],[0.2222222222222222,\"#7201a8\"],[0.3333333333333333,\"#9c179e\"],[0.4444444444444444,\"#bd3786\"],[0.5555555555555556,\"#d8576b\"],[0.6666666666666666,\"#ed7953\"],[0.7777777777777778,\"#fb9f3a\"],[0.8888888888888888,\"#fdca26\"],[1.0,\"#f0f921\"]]}],\"heatmapgl\":[{\"type\":\"heatmapgl\",\"colorbar\":{\"outlinewidth\":0,\"ticks\":\"\"},\"colorscale\":[[0.0,\"#0d0887\"],[0.1111111111111111,\"#46039f\"],[0.2222222222222222,\"#7201a8\"],[0.3333333333333333,\"#9c179e\"],[0.4444444444444444,\"#bd3786\"],[0.5555555555555556,\"#d8576b\"],[0.6666666666666666,\"#ed7953\"],[0.7777777777777778,\"#fb9f3a\"],[0.8888888888888888,\"#fdca26\"],[1.0,\"#f0f921\"]]}],\"contourcarpet\":[{\"type\":\"contourcarpet\",\"colorbar\":{\"outlinewidth\":0,\"ticks\":\"\"}}],\"contour\":[{\"type\":\"contour\",\"colorbar\":{\"outlinewidth\":0,\"ticks\":\"\"},\"colorscale\":[[0.0,\"#0d0887\"],[0.1111111111111111,\"#46039f\"],[0.2222222222222222,\"#7201a8\"],[0.3333333333333333,\"#9c179e\"],[0.4444444444444444,\"#bd3786\"],[0.5555555555555556,\"#d8576b\"],[0.6666666666666666,\"#ed7953\"],[0.7777777777777778,\"#fb9f3a\"],[0.8888888888888888,\"#fdca26\"],[1.0,\"#f0f921\"]]}],\"surface\":[{\"type\":\"surface\",\"colorbar\":{\"outlinewidth\":0,\"ticks\":\"\"},\"colorscale\":[[0.0,\"#0d0887\"],[0.1111111111111111,\"#46039f\"],[0.2222222222222222,\"#7201a8\"],[0.3333333333333333,\"#9c179e\"],[0.4444444444444444,\"#bd3786\"],[0.5555555555555556,\"#d8576b\"],[0.6666666666666666,\"#ed7953\"],[0.7777777777777778,\"#fb9f3a\"],[0.8888888888888888,\"#fdca26\"],[1.0,\"#f0f921\"]]}],\"mesh3d\":[{\"type\":\"mesh3d\",\"colorbar\":{\"outlinewidth\":0,\"ticks\":\"\"}}],\"scatter\":[{\"marker\":{\"line\":{\"color\":\"#283442\"}},\"type\":\"scatter\"}],\"parcoords\":[{\"type\":\"parcoords\",\"line\":{\"colorbar\":{\"outlinewidth\":0,\"ticks\":\"\"}}}],\"scatterpolargl\":[{\"type\":\"scatterpolargl\",\"marker\":{\"colorbar\":{\"outlinewidth\":0,\"ticks\":\"\"}}}],\"bar\":[{\"error_x\":{\"color\":\"#f2f5fa\"},\"error_y\":{\"color\":\"#f2f5fa\"},\"marker\":{\"line\":{\"color\":\"rgb(17,17,17)\",\"width\":0.5},\"pattern\":{\"fillmode\":\"overlay\",\"size\":10,\"solidity\":0.2}},\"type\":\"bar\"}],\"scattergeo\":[{\"type\":\"scattergeo\",\"marker\":{\"colorbar\":{\"outlinewidth\":0,\"ticks\":\"\"}}}],\"scatterpolar\":[{\"type\":\"scatterpolar\",\"marker\":{\"colorbar\":{\"outlinewidth\":0,\"ticks\":\"\"}}}],\"histogram\":[{\"marker\":{\"pattern\":{\"fillmode\":\"overlay\",\"size\":10,\"solidity\":0.2}},\"type\":\"histogram\"}],\"scattergl\":[{\"marker\":{\"line\":{\"color\":\"#283442\"}},\"type\":\"scattergl\"}],\"scatter3d\":[{\"type\":\"scatter3d\",\"line\":{\"colorbar\":{\"outlinewidth\":0,\"ticks\":\"\"}},\"marker\":{\"colorbar\":{\"outlinewidth\":0,\"ticks\":\"\"}}}],\"scattermapbox\":[{\"type\":\"scattermapbox\",\"marker\":{\"colorbar\":{\"outlinewidth\":0,\"ticks\":\"\"}}}],\"scatterternary\":[{\"type\":\"scatterternary\",\"marker\":{\"colorbar\":{\"outlinewidth\":0,\"ticks\":\"\"}}}],\"scattercarpet\":[{\"type\":\"scattercarpet\",\"marker\":{\"colorbar\":{\"outlinewidth\":0,\"ticks\":\"\"}}}],\"carpet\":[{\"aaxis\":{\"endlinecolor\":\"#A2B1C6\",\"gridcolor\":\"#506784\",\"linecolor\":\"#506784\",\"minorgridcolor\":\"#506784\",\"startlinecolor\":\"#A2B1C6\"},\"baxis\":{\"endlinecolor\":\"#A2B1C6\",\"gridcolor\":\"#506784\",\"linecolor\":\"#506784\",\"minorgridcolor\":\"#506784\",\"startlinecolor\":\"#A2B1C6\"},\"type\":\"carpet\"}],\"table\":[{\"cells\":{\"fill\":{\"color\":\"#506784\"},\"line\":{\"color\":\"rgb(17,17,17)\"}},\"header\":{\"fill\":{\"color\":\"#2a3f5f\"},\"line\":{\"color\":\"rgb(17,17,17)\"}},\"type\":\"table\"}],\"barpolar\":[{\"marker\":{\"line\":{\"color\":\"rgb(17,17,17)\",\"width\":0.5},\"pattern\":{\"fillmode\":\"overlay\",\"size\":10,\"solidity\":0.2}},\"type\":\"barpolar\"}],\"pie\":[{\"automargin\":true,\"type\":\"pie\"}]},\"layout\":{\"autotypenumbers\":\"strict\",\"colorway\":[\"#636efa\",\"#EF553B\",\"#00cc96\",\"#ab63fa\",\"#FFA15A\",\"#19d3f3\",\"#FF6692\",\"#B6E880\",\"#FF97FF\",\"#FECB52\"],\"font\":{\"color\":\"#f2f5fa\"},\"hovermode\":\"closest\",\"hoverlabel\":{\"align\":\"left\"},\"paper_bgcolor\":\"rgb(17,17,17)\",\"plot_bgcolor\":\"rgb(17,17,17)\",\"polar\":{\"bgcolor\":\"rgb(17,17,17)\",\"angularaxis\":{\"gridcolor\":\"#506784\",\"linecolor\":\"#506784\",\"ticks\":\"\"},\"radialaxis\":{\"gridcolor\":\"#506784\",\"linecolor\":\"#506784\",\"ticks\":\"\"}},\"ternary\":{\"bgcolor\":\"rgb(17,17,17)\",\"aaxis\":{\"gridcolor\":\"#506784\",\"linecolor\":\"#506784\",\"ticks\":\"\"},\"baxis\":{\"gridcolor\":\"#506784\",\"linecolor\":\"#506784\",\"ticks\":\"\"},\"caxis\":{\"gridcolor\":\"#506784\",\"linecolor\":\"#506784\",\"ticks\":\"\"}},\"coloraxis\":{\"colorbar\":{\"outlinewidth\":0,\"ticks\":\"\"}},\"colorscale\":{\"sequential\":[[0.0,\"#0d0887\"],[0.1111111111111111,\"#46039f\"],[0.2222222222222222,\"#7201a8\"],[0.3333333333333333,\"#9c179e\"],[0.4444444444444444,\"#bd3786\"],[0.5555555555555556,\"#d8576b\"],[0.6666666666666666,\"#ed7953\"],[0.7777777777777778,\"#fb9f3a\"],[0.8888888888888888,\"#fdca26\"],[1.0,\"#f0f921\"]],\"sequentialminus\":[[0.0,\"#0d0887\"],[0.1111111111111111,\"#46039f\"],[0.2222222222222222,\"#7201a8\"],[0.3333333333333333,\"#9c179e\"],[0.4444444444444444,\"#bd3786\"],[0.5555555555555556,\"#d8576b\"],[0.6666666666666666,\"#ed7953\"],[0.7777777777777778,\"#fb9f3a\"],[0.8888888888888888,\"#fdca26\"],[1.0,\"#f0f921\"]],\"diverging\":[[0,\"#8e0152\"],[0.1,\"#c51b7d\"],[0.2,\"#de77ae\"],[0.3,\"#f1b6da\"],[0.4,\"#fde0ef\"],[0.5,\"#f7f7f7\"],[0.6,\"#e6f5d0\"],[0.7,\"#b8e186\"],[0.8,\"#7fbc41\"],[0.9,\"#4d9221\"],[1,\"#276419\"]]},\"xaxis\":{\"gridcolor\":\"#283442\",\"linecolor\":\"#506784\",\"ticks\":\"\",\"title\":{\"standoff\":15},\"zerolinecolor\":\"#283442\",\"automargin\":true,\"zerolinewidth\":2},\"yaxis\":{\"gridcolor\":\"#283442\",\"linecolor\":\"#506784\",\"ticks\":\"\",\"title\":{\"standoff\":15},\"zerolinecolor\":\"#283442\",\"automargin\":true,\"zerolinewidth\":2},\"scene\":{\"xaxis\":{\"backgroundcolor\":\"rgb(17,17,17)\",\"gridcolor\":\"#506784\",\"linecolor\":\"#506784\",\"showbackground\":true,\"ticks\":\"\",\"zerolinecolor\":\"#C8D4E3\",\"gridwidth\":2},\"yaxis\":{\"backgroundcolor\":\"rgb(17,17,17)\",\"gridcolor\":\"#506784\",\"linecolor\":\"#506784\",\"showbackground\":true,\"ticks\":\"\",\"zerolinecolor\":\"#C8D4E3\",\"gridwidth\":2},\"zaxis\":{\"backgroundcolor\":\"rgb(17,17,17)\",\"gridcolor\":\"#506784\",\"linecolor\":\"#506784\",\"showbackground\":true,\"ticks\":\"\",\"zerolinecolor\":\"#C8D4E3\",\"gridwidth\":2}},\"shapedefaults\":{\"line\":{\"color\":\"#f2f5fa\"}},\"annotationdefaults\":{\"arrowcolor\":\"#f2f5fa\",\"arrowhead\":0,\"arrowwidth\":1},\"geo\":{\"bgcolor\":\"rgb(17,17,17)\",\"landcolor\":\"rgb(17,17,17)\",\"subunitcolor\":\"#506784\",\"showland\":true,\"showlakes\":true,\"lakecolor\":\"rgb(17,17,17)\"},\"title\":{\"x\":0.05},\"updatemenudefaults\":{\"bgcolor\":\"#506784\",\"borderwidth\":0},\"sliderdefaults\":{\"bgcolor\":\"#C8D4E3\",\"borderwidth\":1,\"bordercolor\":\"rgb(17,17,17)\",\"tickwidth\":0},\"mapbox\":{\"style\":\"dark\"}}},\"title\":{\"text\":\"Nyga distribution\"},\"xaxis\":{\"title\":{\"text\":\"x\"}}},                        {\"responsive\": true}                    ).then(function(){\n                            \nvar gd = document.getElementById('a6ae999b-29ff-49ce-a968-34ea86665634');\nvar x = new MutationObserver(function (mutations, observer) {{\n        var display = window.getComputedStyle(gd).display;\n        if (!display || display === 'none') {{\n            console.log([gd, 'removed!']);\n            Plotly.purge(gd);\n            observer.disconnect();\n        }}\n}});\n\n// Listen for the removal of the full notebook cells\nvar notebookContainer = gd.closest('#notebook-container');\nif (notebookContainer) {{\n    x.observe(notebookContainer, {childList: true});\n}}\n\n// Listen for the clearing of the current output cell\nvar outputEl = gd.closest('.output');\nif (outputEl) {{\n    x.observe(outputEl, {childList: true});\n}}\n\n                        })                };                });            </script>        </div>"
     },
     "metadata": {},
     "output_type": "display_data"
    }
   ],
   "source": [
    "from probabilistic_model.learning.nyga_distribution import NygaDistribution\n",
    "from random_events.variables import Continuous\n",
    "import plotly.graph_objects as go\n",
    "\n",
    "distribution = NygaDistribution(Continuous(\"x\"), min_samples_per_quantile=50, min_likelihood_improvement=0.001)\n",
    "distribution.fit(dataset.tolist())\n",
    "fig = go.Figure(distribution.plot())\n",
    "fig.update_layout(\n",
    "    title=\"Nyga distribution\",\n",
    "    xaxis_title=distribution.variable.name)\n",
    "fig.show()"
   ],
   "metadata": {
    "collapsed": false,
    "ExecuteTime": {
     "end_time": "2023-12-02T08:24:57.642939449Z",
     "start_time": "2023-12-02T08:24:57.600836485Z"
    }
   },
   "id": "e9c1c87e183ef820"
  }
 ],
 "metadata": {
  "kernelspec": {
   "display_name": "Python 3",
   "language": "python",
   "name": "python3"
  },
  "language_info": {
   "codemirror_mode": {
    "name": "ipython",
    "version": 2
   },
   "file_extension": ".py",
   "mimetype": "text/x-python",
   "name": "python",
   "nbconvert_exporter": "python",
   "pygments_lexer": "ipython2",
   "version": "2.7.6"
  }
 },
 "nbformat": 4,
 "nbformat_minor": 5
}
