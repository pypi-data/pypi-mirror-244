{
 "cells": [
  {
   "cell_type": "code",
   "execution_count": 2,
   "metadata": {
    "hide_input": false,
    "slideshow": {
     "slide_type": "slide"
    },
    "pycharm": {
     "name": "#%%\n"
    }
   },
   "outputs": [],
   "source": [
    "%matplotlib widget\n",
    "from bmcs_shell.api import WBTessellation4P, WBShellAnalysis, MATS2DElastic\n",
    "import numpy as np"
   ]
  },
  {
   "cell_type": "code",
   "execution_count": 2,
   "metadata": {
    "hide_input": false,
    "slideshow": {
     "slide_type": "slide"
    },
    "pycharm": {
     "name": "#%%\n"
    }
   },
   "outputs": [],
   "source": [
    "tmodel = MATS2DElastic(E=28000, nu=0.2)\n",
    "n_phi_plus=1\n",
    "n_x_plus=1\n",
    "wbm = WBShellAnalysis(h=10, tmodel=tmodel)"
   ]
  },
  {
   "cell_type": "code",
   "execution_count": 3,
   "metadata": {
    "pycharm": {
     "name": "#%%\n"
    },
    "scrolled": true
   },
   "outputs": [
    {
     "data": {
      "text/plain": [
       "<bmcs_shell.folding.geometry.wb_shell_geometry.WBShellGeometry4P at 0x208a1866ef0>"
      ]
     },
     "execution_count": 3,
     "metadata": {},
     "output_type": "execute_result"
    }
   ],
   "source": [
    "data = dict(gamma=0.33, a=500, a_high=3000, b=900, b_high=3000, c=400, c_high=2000,\n",
    "            n_phi_plus=n_phi_plus, n_x_plus=n_x_plus, show_nodes=False)\n",
    "wbm.geo.trait_set(**data)"
   ]
  },
  {
   "cell_type": "code",
   "execution_count": null,
   "metadata": {
    "pycharm": {
     "name": "#%%\n"
    }
   },
   "outputs": [],
   "source": [
    "wbm.xdomain.mesh.direct_mesh = False\n",
    "wbm.xdomain.mesh.subdivision = 2"
   ]
  },
  {
   "cell_type": "code",
   "execution_count": 17,
   "metadata": {
    "pycharm": {
     "name": "#%%\n"
    }
   },
   "outputs": [
    {
     "data": {
      "text/plain": [
       "<meshio mesh object>\n",
       "  Number of points: 21\n",
       "  Number of cells:\n",
       "    line: 32\n",
       "    triangle: 20\n",
       "    vertex: 7"
      ]
     },
     "execution_count": 17,
     "metadata": {},
     "output_type": "execute_result"
    }
   ],
   "source": [
    "mesh = wbm.xdomain.mesh.mesh\n",
    "mesh"
   ]
  },
  {
   "cell_type": "code",
   "execution_count": 4,
   "metadata": {
    "scrolled": false,
    "pycharm": {
     "name": "#%%\n"
    }
   },
   "outputs": [
    {
     "name": "stdout",
     "output_type": "stream",
     "text": [
      "Warning: Update progress bar from model - not implemented yet\n",
      "analysis: setup_plot\n",
      "analysis: U_I\n",
      "analysis: update_plot\n",
      "analysis: U_I\n"
     ]
    },
    {
     "name": "stderr",
     "output_type": "stream",
     "text": [
      "C:\\Users\\hspartali\\Anaconda3\\envs\\bmcs_env\\lib\\site-packages\\traittypes\\traittypes.py:97: UserWarning: Given trait value dtype \"float64\" does not match required type \"float32\". A coerced copy has been created.\n",
      "  warnings.warn(\n"
     ]
    },
    {
     "data": {
      "application/vnd.jupyter.widget-view+json": {
       "model_id": "8b2a3361b965484b9222f61b2bd81bec",
       "version_major": 2,
       "version_minor": 0
      },
      "text/plain": [
       "VBox(children=(HBox(children=(VBox(children=(Tree(layout=Layout(align_items='stretch', border='solid 1px black…"
      ]
     },
     "metadata": {},
     "output_type": "display_data"
    }
   ],
   "source": [
    "wbm.interact()"
   ]
  },
  {
   "cell_type": "markdown",
   "metadata": {
    "pycharm": {
     "name": "#%% md\n"
    }
   },
   "source": [
    "Point, facets\n",
    "You need the average of facets normal for each point"
   ]
  },
  {
   "cell_type": "code",
   "execution_count": 52,
   "metadata": {
    "pycharm": {
     "name": "#%%\n"
    }
   },
   "outputs": [
    {
     "data": {
      "text/plain": [
       "array([[   0.        ,    0.        ,    0.        ],\n",
       "       [ 500.        ,  826.05615234,  357.25585938],\n",
       "       [-500.        ,  826.05615234,  357.25585938],\n",
       "       [ 500.        , -826.05615234,  357.25585938],\n",
       "       [-500.        , -826.05615234,  357.25585938],\n",
       "       [ 129.61721802,    0.        ,  378.41699219],\n",
       "       [-129.61721802,    0.        ,  378.41699219]])"
      ]
     },
     "execution_count": 52,
     "metadata": {},
     "output_type": "execute_result"
    }
   ],
   "source": [
    "X_Id = wbm.xdomain.mesh.X_Id\n",
    "X_Id"
   ]
  },
  {
   "cell_type": "code",
   "execution_count": 30,
   "metadata": {
    "pycharm": {
     "name": "#%%\n"
    }
   },
   "outputs": [
    {
     "data": {
      "text/plain": [
       "array([[0, 1, 2],\n",
       "       [0, 3, 4],\n",
       "       [0, 1, 5],\n",
       "       [0, 5, 3],\n",
       "       [0, 2, 6],\n",
       "       [0, 6, 4]])"
      ]
     },
     "execution_count": 30,
     "metadata": {},
     "output_type": "execute_result"
    }
   ],
   "source": [
    "wbm.xdomain.mesh.I_Fi"
   ]
  },
  {
   "cell_type": "code",
   "execution_count": 40,
   "metadata": {
    "pycharm": {
     "name": "#%%\n"
    }
   },
   "outputs": [
    {
     "data": {
      "text/plain": [
       "(6, 1)"
      ]
     },
     "execution_count": 40,
     "metadata": {},
     "output_type": "execute_result"
    }
   ],
   "source": [
    "np.arange(I_Fi.shape[0])[:, np.newaxis].shape"
   ]
  },
  {
   "cell_type": "code",
   "execution_count": 42,
   "metadata": {
    "pycharm": {
     "name": "#%%\n"
    }
   },
   "outputs": [
    {
     "data": {
      "text/plain": [
       "array([[0, 1, 0],\n",
       "       [0, 3, 1],\n",
       "       [0, 1, 2],\n",
       "       [0, 5, 3],\n",
       "       [0, 2, 4],\n",
       "       [0, 6, 5]])"
      ]
     },
     "execution_count": 42,
     "metadata": {},
     "output_type": "execute_result"
    }
   ],
   "source": [
    "F_indices = np.arange(I_Fi.shape[0])[:, np.newaxis]\n",
    "np.hstack((I_Fi[:, :2], F_indices))"
   ]
  },
  {
   "cell_type": "code",
   "execution_count": 49,
   "metadata": {
    "pycharm": {
     "name": "#%%\n"
    }
   },
   "outputs": [
    {
     "data": {
      "text/plain": [
       "array([[0, 1],\n",
       "       [0, 3],\n",
       "       [0, 1],\n",
       "       [0, 5],\n",
       "       [0, 2],\n",
       "       [0, 6],\n",
       "       [1, 2],\n",
       "       [3, 4],\n",
       "       [1, 5],\n",
       "       [5, 3],\n",
       "       [2, 6],\n",
       "       [6, 4]])"
      ]
     },
     "execution_count": 49,
     "metadata": {},
     "output_type": "execute_result"
    }
   ],
   "source": [
    "I_Li[:, :2]"
   ]
  },
  {
   "cell_type": "code",
   "execution_count": 50,
   "metadata": {
    "pycharm": {
     "name": "#%%\n"
    }
   },
   "outputs": [
    {
     "data": {
      "text/plain": [
       "array([[0, 1, 0],\n",
       "       [0, 3, 1],\n",
       "       [0, 1, 2],\n",
       "       [0, 5, 3],\n",
       "       [0, 2, 4],\n",
       "       [0, 6, 5],\n",
       "       [1, 2, 0],\n",
       "       [3, 4, 1],\n",
       "       [1, 5, 2],\n",
       "       [5, 3, 3],\n",
       "       [2, 6, 4],\n",
       "       [6, 4, 5]])"
      ]
     },
     "execution_count": 50,
     "metadata": {},
     "output_type": "execute_result"
    }
   ],
   "source": [
    "I_Li"
   ]
  },
  {
   "cell_type": "code",
   "execution_count": 53,
   "metadata": {
    "pycharm": {
     "name": "#%%\n"
    }
   },
   "outputs": [
    {
     "data": {
      "text/plain": [
       "array([[[   0.        ,    0.        ,    0.        ],\n",
       "        [ 500.        ,  826.05615234,  357.25585938],\n",
       "        [   0.        ,    0.        ,    0.        ]],\n",
       "\n",
       "       [[   0.        ,    0.        ,    0.        ],\n",
       "        [ 500.        , -826.05615234,  357.25585938],\n",
       "        [ 500.        ,  826.05615234,  357.25585938]],\n",
       "\n",
       "       [[   0.        ,    0.        ,    0.        ],\n",
       "        [ 500.        ,  826.05615234,  357.25585938],\n",
       "        [-500.        ,  826.05615234,  357.25585938]],\n",
       "\n",
       "       [[   0.        ,    0.        ,    0.        ],\n",
       "        [ 129.61721802,    0.        ,  378.41699219],\n",
       "        [ 500.        , -826.05615234,  357.25585938]],\n",
       "\n",
       "       [[   0.        ,    0.        ,    0.        ],\n",
       "        [-500.        ,  826.05615234,  357.25585938],\n",
       "        [-500.        , -826.05615234,  357.25585938]],\n",
       "\n",
       "       [[   0.        ,    0.        ,    0.        ],\n",
       "        [-129.61721802,    0.        ,  378.41699219],\n",
       "        [ 129.61721802,    0.        ,  378.41699219]],\n",
       "\n",
       "       [[ 500.        ,  826.05615234,  357.25585938],\n",
       "        [-500.        ,  826.05615234,  357.25585938],\n",
       "        [   0.        ,    0.        ,    0.        ]],\n",
       "\n",
       "       [[ 500.        , -826.05615234,  357.25585938],\n",
       "        [-500.        , -826.05615234,  357.25585938],\n",
       "        [ 500.        ,  826.05615234,  357.25585938]],\n",
       "\n",
       "       [[ 500.        ,  826.05615234,  357.25585938],\n",
       "        [ 129.61721802,    0.        ,  378.41699219],\n",
       "        [-500.        ,  826.05615234,  357.25585938]],\n",
       "\n",
       "       [[ 500.        , -826.05615234,  357.25585938],\n",
       "        [ 129.61721802,    0.        ,  378.41699219],\n",
       "        [ 500.        , -826.05615234,  357.25585938]],\n",
       "\n",
       "       [[-500.        ,  826.05615234,  357.25585938],\n",
       "        [-129.61721802,    0.        ,  378.41699219],\n",
       "        [-500.        , -826.05615234,  357.25585938]],\n",
       "\n",
       "       [[-500.        , -826.05615234,  357.25585938],\n",
       "        [-129.61721802,    0.        ,  378.41699219],\n",
       "        [ 129.61721802,    0.        ,  378.41699219]]])"
      ]
     },
     "execution_count": 53,
     "metadata": {},
     "output_type": "execute_result"
    }
   ],
   "source": [
    "X_Id[I_Li]"
   ]
  },
  {
   "cell_type": "code",
   "execution_count": 79,
   "metadata": {
    "pycharm": {
     "name": "#%%\n"
    }
   },
   "outputs": [
    {
     "data": {
      "text/plain": [
       "array([[0, 1],\n",
       "       [0, 2],\n",
       "       [0, 3],\n",
       "       [0, 5],\n",
       "       [0, 6],\n",
       "       [1, 2],\n",
       "       [1, 5],\n",
       "       [2, 6],\n",
       "       [3, 4],\n",
       "       [3, 5],\n",
       "       [4, 6]])"
      ]
     },
     "execution_count": 79,
     "metadata": {},
     "output_type": "execute_result"
    }
   ],
   "source": [
    "# Unique lines\n",
    "I_Li = np.vstack(((I_Fi[:, (0, 1)]), (I_Fi[:, (0, 2)]), (I_Fi[:, (1, 2)])))\n",
    "I_Li = np.sort(I_Li, axis=1)\n",
    "I_Li = np.unique(I_Li, axis=0)\n",
    "I_Li"
   ]
  },
  {
   "cell_type": "code",
   "execution_count": 120,
   "metadata": {
    "pycharm": {
     "name": "#%%\n"
    }
   },
   "outputs": [
    {
     "name": "stderr",
     "output_type": "stream",
     "text": [
      "C:\\Users\\spart\\AppData\\Local\\Temp\\ipykernel_3084\\1041612765.py:1: DeprecationWarning: elementwise comparison failed; this will raise an error in the future.\n",
      "  I_Fi_sorted[:, :2] == I_Li\n"
     ]
    },
    {
     "data": {
      "text/plain": [
       "False"
      ]
     },
     "execution_count": 120,
     "metadata": {},
     "output_type": "execute_result"
    }
   ],
   "source": [
    "I_Fi_sorted[:, :2] == I_Li"
   ]
  },
  {
   "cell_type": "code",
   "execution_count": 135,
   "metadata": {
    "pycharm": {
     "name": "#%%\n"
    }
   },
   "outputs": [
    {
     "data": {
      "text/plain": [
       "array([], dtype=int64)"
      ]
     },
     "execution_count": 135,
     "metadata": {},
     "output_type": "execute_result"
    }
   ],
   "source": [
    "a = np.where(np.sum((I_Fi_sorted[:, 1:] == I_Li[0])*1, axis=1) == 2)[0]\n",
    "a"
   ]
  },
  {
   "cell_type": "code",
   "execution_count": 170,
   "metadata": {
    "pycharm": {
     "name": "#%%\n"
    }
   },
   "outputs": [
    {
     "data": {
      "text/plain": [
       "array([[0, 0, 0, 0, 0, 0],\n",
       "       [1, 0, 0, 0, 0, 0],\n",
       "       [0, 0, 0, 0, 0, 0],\n",
       "       [0, 0, 1, 1, 0, 0],\n",
       "       [0, 0, 0, 0, 1, 1],\n",
       "       [2, 0, 1, 0, 0, 0],\n",
       "       [1, 0, 2, 1, 0, 0],\n",
       "       [0, 0, 0, 0, 2, 1],\n",
       "       [0, 2, 0, 1, 0, 0],\n",
       "       [0, 1, 1, 2, 0, 0],\n",
       "       [0, 0, 0, 0, 1, 2]])"
      ]
     },
     "execution_count": 170,
     "metadata": {},
     "output_type": "execute_result"
    }
   ],
   "source": [
    "np.sum((I_Fi_sorted[:, 1:] == I_Li[:, np.newaxis])*1, axis=2)"
   ]
  },
  {
   "cell_type": "code",
   "execution_count": 204,
   "metadata": {
    "pycharm": {
     "name": "#%%\n"
    }
   },
   "outputs": [
    {
     "data": {
      "text/plain": [
       "array([[ 5,  0],\n",
       "       [ 6,  2],\n",
       "       [ 7,  4],\n",
       "       [ 8,  1],\n",
       "       [ 9,  3],\n",
       "       [10,  5]], dtype=int64)"
      ]
     },
     "execution_count": 204,
     "metadata": {},
     "output_type": "execute_result"
    }
   ],
   "source": [
    "arr = np.sum((I_Fi_sorted[:, 1:] == I_Li[:, np.newaxis])*1, axis=2)\n",
    "arr = np.where(arr == 2)\n",
    "np.vstack((arr[0], arr[1])).T"
   ]
  },
  {
   "cell_type": "code",
   "execution_count": 205,
   "metadata": {
    "pycharm": {
     "name": "#%%\n"
    }
   },
   "outputs": [
    {
     "data": {
      "text/plain": [
       "array([[0, 1],\n",
       "       [0, 3],\n",
       "       [0, 1],\n",
       "       [0, 3],\n",
       "       [0, 2],\n",
       "       [0, 4]])"
      ]
     },
     "execution_count": 205,
     "metadata": {},
     "output_type": "execute_result"
    }
   ],
   "source": [
    "I_Fi_sorted[:, :2]"
   ]
  },
  {
   "cell_type": "code",
   "execution_count": 198,
   "metadata": {
    "pycharm": {
     "name": "#%%\n"
    }
   },
   "outputs": [
    {
     "data": {
      "text/plain": [
       "array([[0, 0],\n",
       "       [0, 2],\n",
       "       [1, 4],\n",
       "       [2, 1],\n",
       "       [2, 3]], dtype=int64)"
      ]
     },
     "execution_count": 198,
     "metadata": {},
     "output_type": "execute_result"
    }
   ],
   "source": [
    "arr = np.sum((I_Fi_sorted[:, :2] == I_Li[:, np.newaxis])*1, axis=2)\n",
    "arr = np.where(arr == 2)\n",
    "np.vstack((arr[0], arr[1])).T"
   ]
  },
  {
   "cell_type": "code",
   "execution_count": 169,
   "metadata": {
    "scrolled": true,
    "pycharm": {
     "name": "#%%\n"
    }
   },
   "outputs": [
    {
     "data": {
      "text/plain": [
       "array([[2, 1, 2, 1, 1, 1],\n",
       "       [1, 1, 1, 1, 2, 1],\n",
       "       [1, 2, 1, 2, 1, 1],\n",
       "       [1, 1, 1, 1, 1, 1],\n",
       "       [1, 1, 1, 1, 1, 1],\n",
       "       [0, 0, 0, 0, 1, 0],\n",
       "       [0, 0, 0, 0, 0, 0],\n",
       "       [0, 0, 0, 0, 0, 0],\n",
       "       [0, 0, 0, 0, 0, 1],\n",
       "       [0, 0, 0, 0, 0, 0],\n",
       "       [0, 0, 0, 0, 0, 0]])"
      ]
     },
     "execution_count": 169,
     "metadata": {},
     "output_type": "execute_result"
    }
   ],
   "source": [
    "np.sum((I_Fi_sorted[:, :2] == I_Li[:, np.newaxis])*1, axis=2)"
   ]
  },
  {
   "cell_type": "code",
   "execution_count": 165,
   "metadata": {
    "pycharm": {
     "name": "#%%\n"
    }
   },
   "outputs": [
    {
     "data": {
      "text/plain": [
       "(array([0, 0, 1, 2, 2], dtype=int64), array([0, 2, 4, 1, 3], dtype=int64))"
      ]
     },
     "execution_count": 165,
     "metadata": {},
     "output_type": "execute_result"
    }
   ],
   "source": [
    "b = np.where(np.sum((I_Fi_sorted[:, :2] == I_Li[:, np.newaxis])*1, axis=2) == 2)\n",
    "b"
   ]
  },
  {
   "cell_type": "code",
   "execution_count": 78,
   "metadata": {
    "pycharm": {
     "name": "#%%\n"
    }
   },
   "outputs": [
    {
     "data": {
      "text/plain": [
       "array([[0, 1, 2],\n",
       "       [0, 3, 4],\n",
       "       [0, 1, 5],\n",
       "       [0, 3, 5],\n",
       "       [0, 2, 6],\n",
       "       [0, 4, 6]])"
      ]
     },
     "execution_count": 78,
     "metadata": {},
     "output_type": "execute_result"
    }
   ],
   "source": [
    "I_Fi_sorted = np.sort(I_Fi, axis=1)\n",
    "I_Fi_sorted"
   ]
  },
  {
   "cell_type": "code",
   "execution_count": 70,
   "metadata": {
    "pycharm": {
     "name": "#%%\n"
    }
   },
   "outputs": [
    {
     "data": {
      "text/plain": [
       "array([[0, 1, 2],\n",
       "       [0, 3, 4],\n",
       "       [0, 1, 5],\n",
       "       [0, 5, 3],\n",
       "       [0, 2, 6],\n",
       "       [0, 6, 4]])"
      ]
     },
     "execution_count": 70,
     "metadata": {},
     "output_type": "execute_result"
    }
   ],
   "source": [
    "I_Fi"
   ]
  },
  {
   "cell_type": "code",
   "execution_count": 51,
   "metadata": {
    "pycharm": {
     "name": "#%%\n"
    }
   },
   "outputs": [
    {
     "data": {
      "text/plain": [
       "array([[0, 1, 0],\n",
       "       [0, 3, 1],\n",
       "       [0, 1, 2],\n",
       "       [0, 5, 3],\n",
       "       [0, 2, 4],\n",
       "       [0, 6, 5],\n",
       "       [1, 2, 0],\n",
       "       [3, 4, 1],\n",
       "       [1, 5, 2],\n",
       "       [3, 5, 3],\n",
       "       [2, 6, 4],\n",
       "       [4, 6, 5]])"
      ]
     },
     "execution_count": 51,
     "metadata": {},
     "output_type": "execute_result"
    }
   ],
   "source": [
    "I_Fi = wbm.xdomain.mesh.I_Fi\n",
    "F_indices = np.arange(I_Fi.shape[0])[:, np.newaxis]\n",
    "I_Li = np.vstack((np.hstack((np.sort(I_Fi[:, :2]), F_indices)), np.hstack((np.sort(I_Fi[:, 1:]), F_indices))))\n",
    "# I_Li = np.vstack((np.hstack((I_Fi[:, :2], F_indices)), np.hstack((I_Fi[:, 1:], F_indices))))\n",
    "I_Li"
   ]
  },
  {
   "cell_type": "code",
   "execution_count": 48,
   "metadata": {
    "pycharm": {
     "name": "#%%\n"
    }
   },
   "outputs": [
    {
     "data": {
      "text/plain": [
       "array([[0, 1, 0],\n",
       "       [0, 1, 0],\n",
       "       [0, 2, 1],\n",
       "       [0, 2, 1],\n",
       "       [0, 3, 2],\n",
       "       [0, 3, 2],\n",
       "       [1, 4, 3],\n",
       "       [1, 4, 3],\n",
       "       [2, 5, 4],\n",
       "       [3, 5, 4],\n",
       "       [5, 6, 5],\n",
       "       [6, 6, 5]])"
      ]
     },
     "execution_count": 48,
     "metadata": {},
     "output_type": "execute_result"
    }
   ],
   "source": [
    "np.sort(I_Li, axis=0)"
   ]
  },
  {
   "cell_type": "code",
   "execution_count": 22,
   "metadata": {
    "pycharm": {
     "name": "#%%\n"
    }
   },
   "outputs": [
    {
     "data": {
      "text/plain": [
       "array([[ 0.        , -0.39695083,  0.91783988],\n",
       "       [ 0.        ,  0.39695083,  0.91783988],\n",
       "       [-0.86831576,  0.39694994,  0.29741971],\n",
       "       [-0.86831576, -0.39694994,  0.29741971],\n",
       "       [ 0.86831576,  0.39694994,  0.29741971],\n",
       "       [ 0.86831576, -0.39694994,  0.29741971]])"
      ]
     },
     "execution_count": 22,
     "metadata": {},
     "output_type": "execute_result"
    }
   ],
   "source": [
    "wbm.xdomain.norm_F_normals"
   ]
  },
  {
   "cell_type": "code",
   "execution_count": null,
   "metadata": {
    "pycharm": {
     "name": "#%%\n"
    }
   },
   "outputs": [],
   "source": [
    "xmodel = wbm.fe_domain[0].xmodel\n",
    "xmodel.mesh.I_CDij"
   ]
  },
  {
   "cell_type": "code",
   "execution_count": null,
   "metadata": {
    "pycharm": {
     "name": "#%%\n"
    }
   },
   "outputs": [],
   "source": [
    "_, idx_remap = xmodel.mesh.unique_node_map"
   ]
  },
  {
   "cell_type": "code",
   "execution_count": null,
   "metadata": {
    "pycharm": {
     "name": "#%%\n"
    }
   },
   "outputs": [],
   "source": [
    "idx_remap[xmodel.mesh.I_CDij]"
   ]
  },
  {
   "cell_type": "code",
   "execution_count": null,
   "metadata": {
    "pycharm": {
     "name": "#%%\n"
    }
   },
   "outputs": [],
   "source": [
    "idx_remap[xmodel.mesh.I_CDij[(0, -1),:,(0, -1),:].flatten()]"
   ]
  },
  {
   "cell_type": "code",
   "execution_count": null,
   "metadata": {
    "pycharm": {
     "name": "#%%\n"
    }
   },
   "outputs": [],
   "source": [
    "xmodel"
   ]
  },
  {
   "cell_type": "code",
   "execution_count": null,
   "metadata": {
    "pycharm": {
     "name": "#%%\n"
    }
   },
   "outputs": [],
   "source": [
    "wbm.interact()"
   ]
  },
  {
   "cell_type": "code",
   "execution_count": null,
   "metadata": {
    "pycharm": {
     "name": "#%%\n"
    }
   },
   "outputs": [],
   "source": [
    "import numpy as np\n",
    "alpha_range = np.linspace(0.5, 1.3, 10)\n",
    "a_range = np.linspace(300,500,10)"
   ]
  },
  {
   "cell_type": "code",
   "execution_count": null,
   "metadata": {
    "pycharm": {
     "name": "#%%\n"
    }
   },
   "outputs": [],
   "source": [
    "tmodel = MATS2DElastic(E=28000, nu=0.2)\n",
    "import numpy as np\n",
    "U_grid = []\n",
    "sig_grid = []\n",
    "for alpha in alpha_range:\n",
    "    U_list = []\n",
    "    sig_list = []\n",
    "    for a in a_range:\n",
    "        wbm = WBShellAnalysis(F=-20000, h=10, tmodel=tmodel)\n",
    "        data = dict(alpha=alpha, a=a, a_high=2000, b=1250, b_high=2000, c=400, c_high=2000,\n",
    "                    n_phi_plus=n_phi_plus, n_x_plus=n_x_plus)\n",
    "        wbm.wb_mesh.trait_set(**data)\n",
    "        max_U = wbm.get_max_vals()\n",
    "        \n",
    "        U1 = wbm.hist.U_t[-1]\n",
    "        eps1 = wbm.fe_domain[0].xmodel.map_U_to_field(U1)\n",
    "        sig1, _ = wbm.fe_domain[0].tmodel.get_corr_pred(eps1,1)\n",
    "        sig_x, sig_y, tau = sig1.T\n",
    "        sig_ab = np.einsum('ab...->...ab', np.array([[sig_x, tau], [tau, sig_y]], dtype=np.float_))\n",
    "        sig_val, sig_dir = np.linalg.eig(sig_ab)\n",
    "        sig_list.append([np.min(sig_val), np.max(sig_val)])\n",
    "\n",
    "        print(alpha, a, max_U)\n",
    "        U_list.append(max_U)\n",
    "    U_grid.append(U_list)\n",
    "    sig_grid.append(sig_list)"
   ]
  },
  {
   "cell_type": "code",
   "execution_count": null,
   "metadata": {
    "pycharm": {
     "name": "#%%\n"
    },
    "slideshow": {
     "slide_type": "slide"
    }
   },
   "outputs": [],
   "source": [
    "from mpl_toolkits.mplot3d import Axes3D\n",
    "import matplotlib.pyplot as plt\n",
    "from matplotlib import cm\n",
    "from matplotlib.ticker import LinearLocator, FormatStrFormatter\n",
    "fig = plt.figure()\n",
    "ax = fig.gca(projection='3d')\n",
    "X, Y = np.meshgrid(alpha_range, a_range)\n",
    "Z = np.array(U_grid)\n",
    "surf = ax.plot_surface(X, Y, Z, \n",
    "                       color='green',\n",
    "                       #linewidth=0, antialiased=False)\n",
    "                    alpha=.0, linewidth=5,\n",
    "                       #cmap=cm.gist_earth,antialiased=False, \n",
    "                shade=False,rstride=1, cstride=1)\n",
    "Z = np.array(sig_grid)[:,:,1]\n",
    "surf = ax.plot_surface(X, Y, Z,color='red', \n",
    "                       #cmap=cm.copper,\n",
    "                    alpha=.3, linewidth=3,\n",
    "                       #cmap=cm.gist_earth,antialiased=False, \n",
    "                shade=False,rstride=1, cstride=1)\n",
    "Z = -np.array(sig_grid)[:,:,0]\n",
    "surf = ax.plot_surface(X, Y, Z,color='blue', \n",
    "                       #cmap=cm.copper,\n",
    "                    alpha=.6, linewidth=3,\n",
    "                       #cmap=cm.gist_earth,antialiased=False, \n",
    "                shade=False,rstride=1, cstride=1)\n",
    "ax.set_xlabel(r'$\\alpha~[\\mathrm{rad}]$')\n",
    "ax.set_ylabel(r'$a~[\\mathrm{mm}]$')\n",
    "ax.set_zlabel(r'max compression [MPa]')\n"
   ]
  },
  {
   "cell_type": "code",
   "execution_count": null,
   "metadata": {
    "pycharm": {
     "name": "#%%\n"
    }
   },
   "outputs": [],
   "source": [
    "i_alpha, i_a = 0, -1\n",
    "wbm = WBShellAnalysis(F=-1000, tmodel=tmodel)\n",
    "print('alpha', alpha_range[i_alpha],'a', a_range[i_a] )\n",
    "data = dict(alpha=alpha_range[i_alpha], \n",
    "            a=a_range[i_a], a_high=2000, b=1250, b_high=2000, c=400, c_high=2000,\n",
    "            n_phi_plus=n_phi_plus, n_x_plus=n_x_plus)\n",
    "wbm.wb_mesh.trait_set(**data)\n",
    "wbm.wb_mesh.interact()"
   ]
  },
  {
   "cell_type": "code",
   "execution_count": null,
   "metadata": {
    "pycharm": {
     "name": "#%%\n"
    }
   },
   "outputs": [],
   "source": [
    "15000 / 39000 "
   ]
  },
  {
   "cell_type": "code",
   "execution_count": null,
   "metadata": {
    "pycharm": {
     "name": "#%%\n"
    }
   },
   "outputs": [],
   "source": []
  }
 ],
 "metadata": {
  "kernelspec": {
   "display_name": "Python 3 (ipykernel)",
   "language": "python",
   "name": "python3"
  },
  "language_info": {
   "codemirror_mode": {
    "name": "ipython",
    "version": 3
   },
   "file_extension": ".py",
   "mimetype": "text/x-python",
   "name": "python",
   "nbconvert_exporter": "python",
   "pygments_lexer": "ipython3",
   "version": "3.9.12"
  },
  "toc": {
   "base_numbering": 1,
   "nav_menu": {},
   "number_sections": true,
   "sideBar": true,
   "skip_h1_title": true,
   "title_cell": "Table of Contents",
   "title_sidebar": "Contents",
   "toc_cell": false,
   "toc_position": {},
   "toc_section_display": true,
   "toc_window_display": false
  }
 },
 "nbformat": 4,
 "nbformat_minor": 4
}