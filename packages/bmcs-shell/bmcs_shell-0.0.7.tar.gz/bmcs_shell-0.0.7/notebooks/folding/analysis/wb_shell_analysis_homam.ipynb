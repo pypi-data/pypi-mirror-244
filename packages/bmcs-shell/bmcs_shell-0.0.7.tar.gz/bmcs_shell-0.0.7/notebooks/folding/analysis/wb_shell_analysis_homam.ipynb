{
 "cells": [
  {
   "cell_type": "code",
   "execution_count": 1,
   "metadata": {
    "hide_input": false,
    "slideshow": {
     "slide_type": "slide"
    },
    "pycharm": {
     "name": "#%%\n"
    }
   },
   "outputs": [],
   "source": [
    "%matplotlib widget\n",
    "from bmcs_shell.api import WBTessellation4P, WBShellAnalysis, MATS2DElastic, FETriangularMesh, FETS2DMITC, MATSShellElastic, AbaqusLink \n",
    "import numpy as np"
   ]
  },
  {
   "cell_type": "code",
   "execution_count": 2,
   "metadata": {
    "scrolled": true,
    "pycharm": {
     "name": "#%%\n"
    }
   },
   "outputs": [
    {
     "name": "stdout",
     "output_type": "stream",
     "text": [
      "BCs were loaded from files: C:\\Users\\spart\\bmcs_cache\\bcs\\2_cells_wb_...\n"
     ]
    }
   ],
   "source": [
    "tmodel = MATS2DElastic(E=28000, nu=0.2)\n",
    "# tmodel = MATSShellElastic(E=28000, nu=0.2)\n",
    "n_phi_plus=2\n",
    "n_x_plus=1\n",
    "wbm = WBShellAnalysis(h=10, tmodel=tmodel, id='2_cells_wb')"
   ]
  },
  {
   "cell_type": "code",
   "execution_count": 3,
   "metadata": {
    "pycharm": {
     "name": "#%%\n"
    }
   },
   "outputs": [
    {
     "data": {
      "text/plain": [
       "<bmcs_shell.folding.geometry.wb_shell_geometry.WBShellGeometry4P at 0x2894cb5ce50>"
      ]
     },
     "execution_count": 3,
     "metadata": {},
     "output_type": "execute_result"
    }
   ],
   "source": [
    "data = dict(gamma=np.pi/2-1.24, a=500, a_high=3000, b=900, b_high=3000, c=400, c_high=2000,\n",
    "            n_phi_plus=n_phi_plus, n_x_plus=n_x_plus, show_nodes=False)\n",
    "wbm.geo.trait_set(**data)"
   ]
  },
  {
   "cell_type": "code",
   "execution_count": 4,
   "metadata": {
    "scrolled": false,
    "pycharm": {
     "name": "#%%\n"
    }
   },
   "outputs": [
    {
     "name": "stdout",
     "output_type": "stream",
     "text": [
      "analysis: setup_plot\n",
      "analysis: U_I\n",
      "analysis: update_plot\n",
      "analysis: U_I\n"
     ]
    },
    {
     "name": "stderr",
     "output_type": "stream",
     "text": [
      "C:\\Users\\spart\\miniconda3\\envs\\bmcs_env\\lib\\site-packages\\traittypes\\traittypes.py:97: UserWarning: Given trait value dtype \"float64\" does not match required type \"float32\". A coerced copy has been created.\n",
      "  warnings.warn(\n"
     ]
    },
    {
     "data": {
      "application/vnd.jupyter.widget-view+json": {
       "model_id": "b88207d40a2b422b8dedbfbac6e48ee2",
       "version_major": 2,
       "version_minor": 0
      },
      "text/plain": [
       "VBox(children=(HBox(children=(VBox(children=(Tree(layout=Layout(align_items='stretch', border='solid 1px black…"
      ]
     },
     "metadata": {},
     "output_type": "display_data"
    },
    {
     "name": "stdout",
     "output_type": "stream",
     "text": [
      "start thread\n",
      "\n",
      "U_o, [0. 0. 0. 0. 0. 0. 0. 0. 0. 0. 0. 0. 0. 0. 0. 0. 0. 0. 0. 0. 0. 0. 0. 0.\n",
      " 0. 0. 0. 0. 0. 0. 0. 0. 0. 0. 0. 0.]\n",
      "eps_Eso, [[0. 0. 0.]\n",
      " [0. 0. 0.]\n",
      " [0. 0. 0.]\n",
      " [0. 0. 0.]\n",
      " [0. 0. 0.]\n",
      " [0. 0. 0.]\n",
      " [0. 0. 0.]\n",
      " [0. 0. 0.]\n",
      " [0. 0. 0.]\n",
      " [0. 0. 0.]\n",
      " [0. 0. 0.]\n",
      " [0. 0. 0.]]\n",
      "o_Ei: [[ 0  1  2  3  4  5  6  7  8]\n",
      " [12 13 14  9 10 11  0  1  2]\n",
      " [15 16 17  3  4  5  0  1  2]\n",
      " [ 9 10 11 15 16 17  0  1  2]\n",
      " [ 0  1  2  6  7  8 18 19 20]\n",
      " [ 0  1  2 18 19 20 12 13 14]\n",
      " [21 22 23  9 10 11 12 13 14]\n",
      " [27 28 29 24 25 26 21 22 23]\n",
      " [30 31 32  9 10 11 21 22 23]\n",
      " [24 25 26 30 31 32 21 22 23]\n",
      " [21 22 23 12 13 14 33 34 35]\n",
      " [21 22 23 33 34 35 27 28 29]]\n",
      "\n",
      "U_o, [0. 0. 0. 0. 0. 0. 0. 0. 0. 0. 0. 0. 0. 0. 0. 0. 0. 0. 0. 0. 0. 0. 0. 0.\n",
      " 0. 0. 0. 0. 0. 0. 0. 0. 0. 0. 0. 0.]\n",
      "eps_Eso, [[0. 0. 0.]\n",
      " [0. 0. 0.]\n",
      " [0. 0. 0.]\n",
      " [0. 0. 0.]\n",
      " [0. 0. 0.]\n",
      " [0. 0. 0.]\n",
      " [0. 0. 0.]\n",
      " [0. 0. 0.]\n",
      " [0. 0. 0.]\n",
      " [0. 0. 0.]\n",
      " [0. 0. 0.]\n",
      " [0. 0. 0.]]\n",
      "o_Ei: [[ 0  1  2  3  4  5  6  7  8]\n",
      " [12 13 14  9 10 11  0  1  2]\n",
      " [15 16 17  3  4  5  0  1  2]\n",
      " [ 9 10 11 15 16 17  0  1  2]\n",
      " [ 0  1  2  6  7  8 18 19 20]\n",
      " [ 0  1  2 18 19 20 12 13 14]\n",
      " [21 22 23  9 10 11 12 13 14]\n",
      " [27 28 29 24 25 26 21 22 23]\n",
      " [30 31 32  9 10 11 21 22 23]\n",
      " [24 25 26 30 31 32 21 22 23]\n",
      " [21 22 23 12 13 14 33 34 35]\n",
      " [21 22 23 33 34 35 27 28 29]]\n",
      "\n",
      "U_o, [-2.93284251e-01  8.29339935e+00 -2.06066445e+01  0.00000000e+00\n",
      "  0.00000000e+00  0.00000000e+00  0.00000000e+00  0.00000000e+00\n",
      "  0.00000000e+00  8.95847475e-01 -2.22044605e-15 -4.01676181e+01\n",
      "  6.20064324e-01 -4.44089210e-15 -3.74793759e+01  0.00000000e+00\n",
      " -7.75808383e-01 -2.00851564e+01  0.00000000e+00 -3.33752957e-01\n",
      " -1.98443407e+01 -2.93284251e-01 -8.29339935e+00 -2.06066445e+01\n",
      "  0.00000000e+00  0.00000000e+00  0.00000000e+00  0.00000000e+00\n",
      "  0.00000000e+00  0.00000000e+00  0.00000000e+00  7.75808383e-01\n",
      " -2.00851564e+01  0.00000000e+00  3.33752957e-01 -1.98443407e+01]\n",
      "eps_Eso, [[-3.61265450e-04 -2.92541280e-04 -7.27277372e-04]\n",
      " [ 2.75783168e-04 -7.18284113e-04  2.42445352e-05]\n",
      " [-7.88551503e-04  2.92717709e-04 -7.46977218e-04]\n",
      " [-9.00456615e-04  3.06481241e-04  6.35537291e-04]\n",
      " [-6.37948668e-04 -1.50286086e-04  1.82125826e-03]\n",
      " [ 5.07874825e-04 -1.17466636e-03  7.16790824e-04]\n",
      " [-4.94126888e-04  5.16259425e-05 -8.31210806e-04]\n",
      " [ 0.00000000e+00 -6.53806729e-04 -3.25871368e-04]\n",
      " [-9.00456615e-04  3.06481241e-04 -6.35537291e-04]\n",
      " [-7.88551503e-04  2.92717709e-04  7.46977218e-04]\n",
      " [-4.73541909e-04 -1.93249625e-04  1.80725487e-03]\n",
      " [ 5.07874825e-04 -1.29610958e-03  5.48121086e-04]]\n",
      "o_Ei: [[ 0  1  2  3  4  5  6  7  8]\n",
      " [12 13 14  9 10 11  0  1  2]\n",
      " [15 16 17  3  4  5  0  1  2]\n",
      " [ 9 10 11 15 16 17  0  1  2]\n",
      " [ 0  1  2  6  7  8 18 19 20]\n",
      " [ 0  1  2 18 19 20 12 13 14]\n",
      " [21 22 23  9 10 11 12 13 14]\n",
      " [27 28 29 24 25 26 21 22 23]\n",
      " [30 31 32  9 10 11 21 22 23]\n",
      " [24 25 26 30 31 32 21 22 23]\n",
      " [21 22 23 12 13 14 33 34 35]\n",
      " [21 22 23 33 34 35 27 28 29]]\n"
     ]
    },
    {
     "name": "stderr",
     "output_type": "stream",
     "text": [
      "C:\\Users\\spart\\miniconda3\\envs\\bmcs_env\\lib\\site-packages\\traittypes\\traittypes.py:97: UserWarning: Given trait value dtype \"float64\" does not match required type \"float32\". A coerced copy has been created.\n",
      "  warnings.warn(\n"
     ]
    }
   ],
   "source": [
    "wbm.interact()"
   ]
  },
  {
   "cell_type": "code",
   "execution_count": 4,
   "metadata": {
    "pycharm": {
     "name": "#%%\n"
    }
   },
   "outputs": [],
   "source": [
    "# wbm.bcs.bc_loaded_array = []"
   ]
  },
  {
   "cell_type": "code",
   "execution_count": 5,
   "metadata": {
    "pycharm": {
     "name": "#%%\n"
    }
   },
   "outputs": [
    {
     "name": "stdout",
     "output_type": "stream",
     "text": [
      "inp file test_name.inp written\n"
     ]
    }
   ],
   "source": [
    "wbm.export_abaqus()"
   ]
  },
  {
   "cell_type": "code",
   "execution_count": 5,
   "metadata": {
    "pycharm": {
     "name": "#%%\n"
    }
   },
   "outputs": [],
   "source": [
    "wbm.run()"
   ]
  },
  {
   "cell_type": "code",
   "execution_count": 6,
   "metadata": {
    "scrolled": true,
    "pycharm": {
     "name": "#%%\n"
    }
   },
   "outputs": [
    {
     "ename": "AttributeError",
     "evalue": "'TriXDomainMITC' object has no attribute 'Eia'",
     "output_type": "error",
     "traceback": [
      "\u001B[1;31m---------------------------------------------------------------------------\u001B[0m",
      "\u001B[1;31mAttributeError\u001B[0m                            Traceback (most recent call last)",
      "\u001B[1;32m<ipython-input-6-249b50851ac6>\u001B[0m in \u001B[0;36m<module>\u001B[1;34m\u001B[0m\n\u001B[1;32m----> 1\u001B[1;33m \u001B[0mwbm\u001B[0m\u001B[1;33m.\u001B[0m\u001B[0mxdomain\u001B[0m\u001B[1;33m.\u001B[0m\u001B[0mEia\u001B[0m\u001B[1;33m\u001B[0m\u001B[1;33m\u001B[0m\u001B[0m\n\u001B[0m",
      "\u001B[1;31mAttributeError\u001B[0m: 'TriXDomainMITC' object has no attribute 'Eia'"
     ]
    }
   ],
   "source": [
    "wbm.xdomain.Eia"
   ]
  },
  {
   "cell_type": "code",
   "execution_count": 5,
   "metadata": {
    "pycharm": {
     "name": "#%%\n"
    }
   },
   "outputs": [
    {
     "name": "stdout",
     "output_type": "stream",
     "text": [
      "w_m called!!\n"
     ]
    },
    {
     "data": {
      "text/plain": [
       "array([[ 0,  1,  2],\n",
       "       [ 4,  3,  0],\n",
       "       [ 5,  1,  0],\n",
       "       [ 0,  2,  6],\n",
       "       [ 0,  3,  5],\n",
       "       [ 6,  4,  0],\n",
       "       [ 7,  3,  4],\n",
       "       [ 9,  8,  7],\n",
       "       [10,  3,  7],\n",
       "       [ 7,  4, 11],\n",
       "       [ 7,  8, 10],\n",
       "       [11,  9,  7]])"
      ]
     },
     "execution_count": 5,
     "metadata": {},
     "output_type": "execute_result"
    }
   ],
   "source": [
    "wbm.xdomain.F_N"
   ]
  },
  {
   "cell_type": "code",
   "execution_count": 6,
   "metadata": {
    "pycharm": {
     "name": "#%%\n"
    }
   },
   "outputs": [
    {
     "data": {
      "text/plain": [
       "array([[    0.        ,   806.63830566,   -20.85449219],\n",
       "       [  499.99996948,  1650.16491699,   292.93359375],\n",
       "       [ -499.99996948,  1650.16491699,   292.93359375],\n",
       "       [  499.99996948,     0.        ,   378.31347656],\n",
       "       [ -499.99996948,     0.        ,   378.31347656],\n",
       "       [  129.91851807,   826.18609619,   356.95410156],\n",
       "       [ -129.91851807,   826.18609619,   356.95410156],\n",
       "       [    0.        ,  -806.63830566,   -20.85449219],\n",
       "       [  499.99996948, -1650.16491699,   292.93359375],\n",
       "       [ -499.99996948, -1650.16491699,   292.93359375],\n",
       "       [  129.91851807,  -826.18609619,   356.95410156],\n",
       "       [ -129.91851807,  -826.18609619,   356.95410156]])"
      ]
     },
     "execution_count": 6,
     "metadata": {},
     "output_type": "execute_result"
    }
   ],
   "source": [
    "wbm.xdomain.mesh.X_Id"
   ]
  },
  {
   "cell_type": "code",
   "execution_count": 8,
   "metadata": {
    "pycharm": {
     "name": "#%%\n"
    }
   },
   "outputs": [
    {
     "data": {
      "text/plain": [
       "-77.64699405928364"
      ]
     },
     "execution_count": 8,
     "metadata": {},
     "output_type": "execute_result"
    }
   ],
   "source": [
    "min(wbm.hist.U_t[-1])"
   ]
  },
  {
   "cell_type": "code",
   "execution_count": 6,
   "metadata": {
    "pycharm": {
     "name": "#%%\n"
    }
   },
   "outputs": [
    {
     "data": {
      "text/plain": [
       "array([[ 0,  1,  2,  3,  4],\n",
       "       [ 5,  6,  7,  8,  9],\n",
       "       [10, 11, 12, 13, 14],\n",
       "       [15, 16, 17, 18, 19],\n",
       "       [20, 21, 22, 23, 24],\n",
       "       [25, 26, 27, 28, 29],\n",
       "       [30, 31, 32, 33, 34],\n",
       "       [35, 36, 37, 38, 39],\n",
       "       [40, 41, 42, 43, 44],\n",
       "       [45, 46, 47, 48, 49],\n",
       "       [50, 51, 52, 53, 54],\n",
       "       [55, 56, 57, 58, 59]])"
      ]
     },
     "execution_count": 6,
     "metadata": {},
     "output_type": "execute_result"
    }
   ],
   "source": [
    "np.arange(60).reshape(-1, 5)"
   ]
  },
  {
   "cell_type": "code",
   "execution_count": 5,
   "metadata": {
    "scrolled": true,
    "pycharm": {
     "name": "#%%\n"
    }
   },
   "outputs": [
    {
     "name": "stdout",
     "output_type": "stream",
     "text": [
      "dof: 10, value: 0.0\n",
      "dof: 11, value: 0.0\n",
      "dof: 12, value: 0.0\n",
      "dof: 5, value: 0.0\n",
      "dof: 6, value: 0.0\n",
      "dof: 7, value: 0.0\n",
      "dof: 45, value: 0.0\n",
      "dof: 46, value: 0.0\n",
      "dof: 47, value: 0.0\n",
      "dof: 40, value: 0.0\n",
      "dof: 41, value: 0.0\n",
      "dof: 42, value: 0.0\n",
      "dof: 55, value: 0.0\n",
      "dof: 56, value: 0.0\n",
      "dof: 57, value: 0.0\n",
      "dof: 50, value: 0.0\n",
      "dof: 51, value: 0.0\n",
      "dof: 52, value: 0.0\n",
      "dof: 30, value: 0.0\n",
      "dof: 31, value: 0.0\n",
      "dof: 32, value: 0.0\n",
      "dof: 25, value: 0.0\n",
      "dof: 26, value: 0.0\n",
      "dof: 27, value: 0.0\n",
      "dof: 22, value: -20000.0\n",
      "dof: 17, value: -20000.0\n"
     ]
    },
    {
     "data": {
      "text/plain": [
       "[None,\n",
       " None,\n",
       " None,\n",
       " None,\n",
       " None,\n",
       " None,\n",
       " None,\n",
       " None,\n",
       " None,\n",
       " None,\n",
       " None,\n",
       " None,\n",
       " None,\n",
       " None,\n",
       " None,\n",
       " None,\n",
       " None,\n",
       " None,\n",
       " None,\n",
       " None,\n",
       " None,\n",
       " None,\n",
       " None,\n",
       " None,\n",
       " None,\n",
       " None]"
      ]
     },
     "execution_count": 5,
     "metadata": {},
     "output_type": "execute_result"
    }
   ],
   "source": [
    "[print('dof: ' + str(b.dof) + ', value: ' + str(b.value)) for b in wbm.bc]"
   ]
  },
  {
   "cell_type": "code",
   "execution_count": 6,
   "metadata": {
    "pycharm": {
     "name": "#%%\n"
    }
   },
   "outputs": [
    {
     "data": {
      "text/plain": [
       "array([-874.15724895, -900.00023524, -397.5538468 , -349.66320896,\n",
       "       -349.66313046, -397.55382519, -874.15728924, -900.00005939,\n",
       "       -397.55382519, -349.66313046, -349.66320896, -397.5538468 ])"
      ]
     },
     "execution_count": 6,
     "metadata": {},
     "output_type": "execute_result"
    }
   ],
   "source": [
    "xx_Ei, yy_Ei = np.einsum('...a->a...', wbm.xdomain.x_Eia)\n",
    "yy_Ei[:, 1] - yy_Ei[:, 2]"
   ]
  },
  {
   "cell_type": "code",
   "execution_count": 12,
   "metadata": {
    "pycharm": {
     "name": "#%%\n"
    }
   },
   "outputs": [
    {
     "data": {
      "text/plain": [
       "array([[ 0,  1,  2],\n",
       "       [ 0,  3,  4],\n",
       "       [ 0,  1,  5],\n",
       "       [ 0,  2,  6],\n",
       "       [ 0,  3,  5],\n",
       "       [ 0,  4,  6],\n",
       "       [ 7,  3,  4],\n",
       "       [ 7,  8,  9],\n",
       "       [ 7,  3, 10],\n",
       "       [ 7,  4, 11],\n",
       "       [ 7,  8, 10],\n",
       "       [ 7,  9, 11]])"
      ]
     },
     "execution_count": 12,
     "metadata": {},
     "output_type": "execute_result"
    }
   ],
   "source": [
    "wbm.xdomain.mesh.I_Fi"
   ]
  },
  {
   "cell_type": "code",
   "execution_count": null,
   "metadata": {
    "pycharm": {
     "name": "#%%\n"
    }
   },
   "outputs": [],
   "source": [
    "bc_fixed = [BCDof(var= 'u', dof=dof, value=0) for dof in fixed_dofs]\n",
    "bc_loaded = [BCDof(var= 'f', dof=dof, value=u_cntl) for dof in loaded_dofs]\n",
    "ts = TStepBC(\n",
    "    domains=[(xdomain, tmodel)],\n",
    "    bc=bc_fixed + bc_loaded,\n",
    ")"
   ]
  },
  {
   "cell_type": "code",
   "execution_count": 15,
   "metadata": {
    "pycharm": {
     "name": "#%%\n"
    }
   },
   "outputs": [
    {
     "data": {
      "text/plain": [
       "array([], dtype=float64)"
      ]
     },
     "execution_count": 15,
     "metadata": {},
     "output_type": "execute_result"
    }
   ],
   "source": [
    "wbm.bc"
   ]
  },
  {
   "cell_type": "code",
   "execution_count": 13,
   "metadata": {
    "pycharm": {
     "name": "#%%\n"
    }
   },
   "outputs": [
    {
     "data": {
      "text/plain": [
       "array([[    0.        ,   806.63830566,   -20.85449219],\n",
       "       [  499.99996948,  1650.16491699,   292.93359375],\n",
       "       [ -499.99996948,  1650.16491699,   292.93359375],\n",
       "       [  499.99996948,     0.        ,   378.31347656],\n",
       "       [ -499.99996948,     0.        ,   378.31347656],\n",
       "       [  129.91851807,   826.18609619,   356.95410156],\n",
       "       [ -129.91851807,   826.18609619,   356.95410156],\n",
       "       [    0.        ,  -806.63830566,   -20.85449219],\n",
       "       [  499.99996948, -1650.16491699,   292.93359375],\n",
       "       [ -499.99996948, -1650.16491699,   292.93359375],\n",
       "       [  129.91851807,  -826.18609619,   356.95410156],\n",
       "       [ -129.91851807,  -826.18609619,   356.95410156]])"
      ]
     },
     "execution_count": 13,
     "metadata": {},
     "output_type": "execute_result"
    }
   ],
   "source": [
    "wbm.xdomain.mesh.X_Id"
   ]
  },
  {
   "cell_type": "code",
   "execution_count": 18,
   "metadata": {
    "pycharm": {
     "name": "#%%\n"
    }
   },
   "outputs": [
    {
     "data": {
      "text/plain": [
       "array([[[    0.        ,   806.63830566,   -20.85449219],\n",
       "        [  499.99996948,  1650.16491699,   292.93359375],\n",
       "        [ -499.99996948,  1650.16491699,   292.93359375]],\n",
       "\n",
       "       [[    0.        ,   806.63830566,   -20.85449219],\n",
       "        [  499.99996948,     0.        ,   378.31347656],\n",
       "        [ -499.99996948,     0.        ,   378.31347656]],\n",
       "\n",
       "       [[    0.        ,   806.63830566,   -20.85449219],\n",
       "        [  499.99996948,  1650.16491699,   292.93359375],\n",
       "        [  129.91851807,   826.18609619,   356.95410156]],\n",
       "\n",
       "       [[    0.        ,   806.63830566,   -20.85449219],\n",
       "        [ -499.99996948,  1650.16491699,   292.93359375],\n",
       "        [ -129.91851807,   826.18609619,   356.95410156]],\n",
       "\n",
       "       [[    0.        ,   806.63830566,   -20.85449219],\n",
       "        [  499.99996948,     0.        ,   378.31347656],\n",
       "        [  129.91851807,   826.18609619,   356.95410156]],\n",
       "\n",
       "       [[    0.        ,   806.63830566,   -20.85449219],\n",
       "        [ -499.99996948,     0.        ,   378.31347656],\n",
       "        [ -129.91851807,   826.18609619,   356.95410156]],\n",
       "\n",
       "       [[    0.        ,  -806.63830566,   -20.85449219],\n",
       "        [  499.99996948,     0.        ,   378.31347656],\n",
       "        [ -499.99996948,     0.        ,   378.31347656]],\n",
       "\n",
       "       [[    0.        ,  -806.63830566,   -20.85449219],\n",
       "        [  499.99996948, -1650.16491699,   292.93359375],\n",
       "        [ -499.99996948, -1650.16491699,   292.93359375]],\n",
       "\n",
       "       [[    0.        ,  -806.63830566,   -20.85449219],\n",
       "        [  499.99996948,     0.        ,   378.31347656],\n",
       "        [  129.91851807,  -826.18609619,   356.95410156]],\n",
       "\n",
       "       [[    0.        ,  -806.63830566,   -20.85449219],\n",
       "        [ -499.99996948,     0.        ,   378.31347656],\n",
       "        [ -129.91851807,  -826.18609619,   356.95410156]],\n",
       "\n",
       "       [[    0.        ,  -806.63830566,   -20.85449219],\n",
       "        [  499.99996948, -1650.16491699,   292.93359375],\n",
       "        [  129.91851807,  -826.18609619,   356.95410156]],\n",
       "\n",
       "       [[    0.        ,  -806.63830566,   -20.85449219],\n",
       "        [ -499.99996948, -1650.16491699,   292.93359375],\n",
       "        [ -129.91851807,  -826.18609619,   356.95410156]]])"
      ]
     },
     "execution_count": 18,
     "metadata": {},
     "output_type": "execute_result"
    }
   ],
   "source": [
    "X_Fid = wbm.xdomain.mesh.X_Id[wbm.xdomain.mesh.I_Fi]\n",
    "X_Fid"
   ]
  },
  {
   "cell_type": "code",
   "execution_count": 26,
   "metadata": {
    "pycharm": {
     "name": "#%%\n"
    }
   },
   "outputs": [
    {
     "data": {
      "text/plain": [
       "array([[      0.        , -313788.0667854 ,  843526.55984335]])"
      ]
     },
     "execution_count": 26,
     "metadata": {},
     "output_type": "execute_result"
    }
   ],
   "source": [
    "wbm.xdomain.Fa_normals[0]"
   ]
  },
  {
   "cell_type": "code",
   "execution_count": 21,
   "metadata": {
    "pycharm": {
     "name": "#%%\n"
    }
   },
   "outputs": [
    {
     "data": {
      "text/plain": [
       "array([  0.        , 806.63830566, -20.85449219])"
      ]
     },
     "execution_count": 21,
     "metadata": {},
     "output_type": "execute_result"
    }
   ],
   "source": [
    "wbm.xdomain.mesh.X_Id[wbm.xdomain.mesh.I_Fi][0][0]"
   ]
  },
  {
   "cell_type": "markdown",
   "metadata": {
    "pycharm": {
     "name": "#%% md\n"
    }
   },
   "source": [
    "## Understanding bc"
   ]
  },
  {
   "cell_type": "code",
   "execution_count": 8,
   "metadata": {
    "pycharm": {
     "name": "#%%\n"
    }
   },
   "outputs": [],
   "source": [
    "xdomain = wbm.xdomain"
   ]
  },
  {
   "cell_type": "code",
   "execution_count": 9,
   "metadata": {
    "pycharm": {
     "name": "#%%\n"
    }
   },
   "outputs": [
    {
     "data": {
      "text/plain": [
       "array([2, 1, 9, 8])"
      ]
     },
     "execution_count": 9,
     "metadata": {},
     "output_type": "execute_result"
    }
   ],
   "source": [
    "fixed_xyz_nodes = xdomain.bc_J_xyz\n",
    "fixed_xyz_nodes"
   ]
  },
  {
   "cell_type": "code",
   "execution_count": 10,
   "metadata": {
    "pycharm": {
     "name": "#%%\n"
    }
   },
   "outputs": [
    {
     "data": {
      "text/plain": [
       "array([[[[ 2,  1],\n",
       "         [ 6,  5],\n",
       "         [ 4,  3]]],\n",
       "\n",
       "\n",
       "       [[[ 9,  8],\n",
       "         [13, 12],\n",
       "         [11, 10]]]])"
      ]
     },
     "execution_count": 10,
     "metadata": {},
     "output_type": "execute_result"
    }
   ],
   "source": [
    "xdomain.I_CDij"
   ]
  },
  {
   "cell_type": "code",
   "execution_count": 11,
   "metadata": {
    "pycharm": {
     "name": "#%%\n"
    }
   },
   "outputs": [
    {
     "data": {
      "text/plain": [
       "array([ 2,  6,  4,  4, 11,  9,  1,  5,  3,  3, 10,  8])"
      ]
     },
     "execution_count": 11,
     "metadata": {},
     "output_type": "execute_result"
    }
   ],
   "source": [
    "fixed_x_nodes = xdomain.bc_J_x\n",
    "fixed_x_nodes"
   ]
  },
  {
   "cell_type": "code",
   "execution_count": 12,
   "metadata": {
    "pycharm": {
     "name": "#%%\n"
    }
   },
   "outputs": [
    {
     "data": {
      "text/plain": [
       "array([ 2,  1,  9,  8,  2,  6,  4,  4, 11,  9,  1,  5,  3,  3, 10,  8])"
      ]
     },
     "execution_count": 12,
     "metadata": {},
     "output_type": "execute_result"
    }
   ],
   "source": [
    "np.hstack([fixed_xyz_nodes, fixed_x_nodes])"
   ]
  },
  {
   "cell_type": "code",
   "execution_count": 13,
   "metadata": {
    "pycharm": {
     "name": "#%%\n"
    }
   },
   "outputs": [
    {
     "data": {
      "text/plain": [
       "array([ 1,  2,  3,  4,  5,  6,  8,  9, 10, 11])"
      ]
     },
     "execution_count": 13,
     "metadata": {},
     "output_type": "execute_result"
    }
   ],
   "source": [
    "fixed_nodes = np.unique(np.hstack([fixed_xyz_nodes, fixed_x_nodes]))\n",
    "fixed_nodes"
   ]
  },
  {
   "cell_type": "code",
   "execution_count": 15,
   "metadata": {
    "pycharm": {
     "name": "#%%\n"
    }
   },
   "outputs": [],
   "source": [
    "fixed_xyz_nodes = xdomain.bc_J_xyz\n",
    "fixed_x_nodes = xdomain.bc_J_x\n",
    "fixed_nodes = np.unique(np.hstack([fixed_xyz_nodes, fixed_x_nodes]))\n",
    "fixed_xyz_dofs = (fixed_xyz_nodes[:, np.newaxis] * 3 + np.arange(3)[np.newaxis, :]).flatten()\n",
    "fixed_x_dofs = (fixed_x_nodes[:, np.newaxis] * 3).flatten()\n",
    "fixed_dofs = np.unique(np.hstack([fixed_xyz_dofs, fixed_x_dofs]))\n",
    "\n"
   ]
  },
  {
   "cell_type": "code",
   "execution_count": 6,
   "metadata": {
    "pycharm": {
     "name": "#%%\n"
    }
   },
   "outputs": [
    {
     "data": {
      "text/plain": [
       "array([[[[23, 22],\n",
       "         [27, 26],\n",
       "         [25, 24]],\n",
       "\n",
       "        [[51, 50],\n",
       "         [55, 54],\n",
       "         [53, 52]]],\n",
       "\n",
       "\n",
       "       [[[30, 29],\n",
       "         [34, 33],\n",
       "         [32, 31]],\n",
       "\n",
       "        [[58, 57],\n",
       "         [62, 61],\n",
       "         [60, 59]]],\n",
       "\n",
       "\n",
       "       [[[37, 36],\n",
       "         [41, 40],\n",
       "         [39, 38]],\n",
       "\n",
       "        [[65, 64],\n",
       "         [69, 68],\n",
       "         [67, 66]]],\n",
       "\n",
       "\n",
       "       [[[44, 43],\n",
       "         [48, 47],\n",
       "         [46, 45]],\n",
       "\n",
       "        [[72, 71],\n",
       "         [76, 75],\n",
       "         [74, 73]]]])"
      ]
     },
     "execution_count": 6,
     "metadata": {},
     "output_type": "execute_result"
    }
   ],
   "source": [
    "xmodel = wbm.fe_domain[0].xmodel\n",
    "xmodel.mesh.I_CDij"
   ]
  },
  {
   "cell_type": "code",
   "execution_count": 7,
   "metadata": {
    "pycharm": {
     "name": "#%%\n"
    }
   },
   "outputs": [],
   "source": [
    "_, idx_remap = xmodel.mesh.unique_node_map"
   ]
  },
  {
   "cell_type": "code",
   "execution_count": 8,
   "metadata": {
    "pycharm": {
     "name": "#%%\n"
    }
   },
   "outputs": [
    {
     "data": {
      "text/plain": [
       "array([[[[19, 18],\n",
       "         [21,  2],\n",
       "         [20,  6]],\n",
       "\n",
       "        [[34, 33],\n",
       "         [ 1, 36],\n",
       "         [ 5, 35]]],\n",
       "\n",
       "\n",
       "       [[[20,  6],\n",
       "         [24,  4],\n",
       "         [23, 11]],\n",
       "\n",
       "        [[ 5, 35],\n",
       "         [ 3, 39],\n",
       "         [10, 38]]],\n",
       "\n",
       "\n",
       "       [[[23, 11],\n",
       "         [27,  9],\n",
       "         [26, 16]],\n",
       "\n",
       "        [[10, 38],\n",
       "         [ 8, 42],\n",
       "         [15, 41]]],\n",
       "\n",
       "\n",
       "       [[[26, 16],\n",
       "         [31, 14],\n",
       "         [30, 29]],\n",
       "\n",
       "        [[15, 41],\n",
       "         [13, 46],\n",
       "         [45, 44]]]])"
      ]
     },
     "execution_count": 8,
     "metadata": {},
     "output_type": "execute_result"
    }
   ],
   "source": [
    "idx_remap[xmodel.mesh.I_CDij]"
   ]
  },
  {
   "cell_type": "code",
   "execution_count": 9,
   "metadata": {
    "pycharm": {
     "name": "#%%\n"
    }
   },
   "outputs": [
    {
     "data": {
      "text/plain": [
       "array([19, 18, 34, 33, 30, 29, 45, 44])"
      ]
     },
     "execution_count": 9,
     "metadata": {},
     "output_type": "execute_result"
    }
   ],
   "source": [
    "idx_remap[xmodel.mesh.I_CDij[(0, -1),:,(0, -1),:].flatten()]"
   ]
  },
  {
   "cell_type": "code",
   "execution_count": 10,
   "metadata": {
    "pycharm": {
     "name": "#%%\n"
    }
   },
   "outputs": [
    {
     "data": {
      "text/latex": [
       "\n",
       "        \\begin{array}{lrrl}\\hline\n",
       "        \\textrm{change} & \\textrm{<missing>} & & \\textrm{None}  \\\\\n",
       "                \\textrm{coord_min} & \\textrm{[0.0 0.0 0.0]} & & \\textrm{None}  \\\\\n",
       "                \\textrm{coord_max} & \\textrm{[1.0 1.0 1.0]} & & \\textrm{None}  \\\\\n",
       "                \\textrm{shape} & \\textrm{[1 1 1]} & & \\textrm{None}  \\\\\n",
       "                \\textrm{integ_factor} & \\textrm{10.0} & & \\textrm{None}  \\\\\n",
       "                \\hline\n",
       "        \\hline\n",
       "        \\end{array}\n",
       "        "
      ],
      "text/plain": [
       "<bmcs_shell.folding.tri_xdomain_fe.TriXDomainFE at 0x182fc6e3ae0>"
      ]
     },
     "execution_count": 10,
     "metadata": {},
     "output_type": "execute_result"
    }
   ],
   "source": [
    "xmodel"
   ]
  },
  {
   "cell_type": "code",
   "execution_count": 12,
   "metadata": {
    "pycharm": {
     "name": "#%%\n"
    }
   },
   "outputs": [],
   "source": [
    "import numpy as np\n",
    "alpha_range = np.linspace(0.5, 1.3, 10)\n",
    "a_range = np.linspace(300,500,10)"
   ]
  },
  {
   "cell_type": "code",
   "execution_count": 15,
   "metadata": {
    "pycharm": {
     "name": "#%%\n"
    }
   },
   "outputs": [
    {
     "ename": "RuntimeError",
     "evalue": "Factor is exactly singular",
     "output_type": "error",
     "traceback": [
      "\u001B[1;31m---------------------------------------------------------------------------\u001B[0m",
      "\u001B[1;31mRuntimeError\u001B[0m                              Traceback (most recent call last)",
      "\u001B[1;32m<ipython-input-15-1f30c91f7c83>\u001B[0m in \u001B[0;36m<module>\u001B[1;34m\u001B[0m\n\u001B[0;32m     11\u001B[0m                     n_phi_plus=n_phi_plus, n_x_plus=n_x_plus)\n\u001B[0;32m     12\u001B[0m         \u001B[0mwbm\u001B[0m\u001B[1;33m.\u001B[0m\u001B[0mxdomain\u001B[0m\u001B[1;33m.\u001B[0m\u001B[0mmesh\u001B[0m\u001B[1;33m.\u001B[0m\u001B[0mtrait_set\u001B[0m\u001B[1;33m(\u001B[0m\u001B[1;33m**\u001B[0m\u001B[0mdata\u001B[0m\u001B[1;33m)\u001B[0m\u001B[1;33m\u001B[0m\u001B[1;33m\u001B[0m\u001B[0m\n\u001B[1;32m---> 13\u001B[1;33m         \u001B[0mmax_U\u001B[0m \u001B[1;33m=\u001B[0m \u001B[0mwbm\u001B[0m\u001B[1;33m.\u001B[0m\u001B[0mget_max_vals\u001B[0m\u001B[1;33m(\u001B[0m\u001B[1;33m)\u001B[0m\u001B[1;33m\u001B[0m\u001B[1;33m\u001B[0m\u001B[0m\n\u001B[0m\u001B[0;32m     14\u001B[0m \u001B[1;33m\u001B[0m\u001B[0m\n\u001B[0;32m     15\u001B[0m         \u001B[0mU1\u001B[0m \u001B[1;33m=\u001B[0m \u001B[0mwbm\u001B[0m\u001B[1;33m.\u001B[0m\u001B[0mhist\u001B[0m\u001B[1;33m.\u001B[0m\u001B[0mU_t\u001B[0m\u001B[1;33m[\u001B[0m\u001B[1;33m-\u001B[0m\u001B[1;36m1\u001B[0m\u001B[1;33m]\u001B[0m\u001B[1;33m\u001B[0m\u001B[1;33m\u001B[0m\u001B[0m\n",
      "\u001B[1;32md:\\homam\\synced\\programming\\python\\bmcs_shell\\bmcs_shell\\folding\\wb_shell_analysis.py\u001B[0m in \u001B[0;36mget_max_vals\u001B[1;34m(self)\u001B[0m\n\u001B[0;32m    144\u001B[0m \u001B[1;33m\u001B[0m\u001B[0m\n\u001B[0;32m    145\u001B[0m     \u001B[1;32mdef\u001B[0m \u001B[0mget_max_vals\u001B[0m\u001B[1;33m(\u001B[0m\u001B[0mself\u001B[0m\u001B[1;33m)\u001B[0m\u001B[1;33m:\u001B[0m\u001B[1;33m\u001B[0m\u001B[1;33m\u001B[0m\u001B[0m\n\u001B[1;32m--> 146\u001B[1;33m         \u001B[0mself\u001B[0m\u001B[1;33m.\u001B[0m\u001B[0mrun\u001B[0m\u001B[1;33m(\u001B[0m\u001B[1;33m)\u001B[0m\u001B[1;33m\u001B[0m\u001B[1;33m\u001B[0m\u001B[0m\n\u001B[0m\u001B[0;32m    147\u001B[0m         \u001B[0mU_1\u001B[0m \u001B[1;33m=\u001B[0m \u001B[0mself\u001B[0m\u001B[1;33m.\u001B[0m\u001B[0mhist\u001B[0m\u001B[1;33m.\u001B[0m\u001B[0mU_t\u001B[0m\u001B[1;33m[\u001B[0m\u001B[1;33m-\u001B[0m\u001B[1;36m1\u001B[0m\u001B[1;33m]\u001B[0m\u001B[1;33m\u001B[0m\u001B[1;33m\u001B[0m\u001B[0m\n\u001B[0;32m    148\u001B[0m         \u001B[0mU_max\u001B[0m \u001B[1;33m=\u001B[0m \u001B[0mnp\u001B[0m\u001B[1;33m.\u001B[0m\u001B[0mmax\u001B[0m\u001B[1;33m(\u001B[0m\u001B[0mnp\u001B[0m\u001B[1;33m.\u001B[0m\u001B[0mfabs\u001B[0m\u001B[1;33m(\u001B[0m\u001B[0mU_1\u001B[0m\u001B[1;33m)\u001B[0m\u001B[1;33m)\u001B[0m\u001B[1;33m\u001B[0m\u001B[1;33m\u001B[0m\u001B[0m\n",
      "\u001B[1;32md:\\homam\\synced\\programming\\python\\bmcs_shell\\bmcs_shell\\folding\\wb_shell_analysis.py\u001B[0m in \u001B[0;36mrun\u001B[1;34m(self)\u001B[0m\n\u001B[0;32m    141\u001B[0m         \u001B[0ms\u001B[0m\u001B[1;33m.\u001B[0m\u001B[0mtline\u001B[0m\u001B[1;33m.\u001B[0m\u001B[0mstep\u001B[0m \u001B[1;33m=\u001B[0m \u001B[1;36m1\u001B[0m\u001B[1;33m\u001B[0m\u001B[1;33m\u001B[0m\u001B[0m\n\u001B[0;32m    142\u001B[0m         \u001B[0ms\u001B[0m\u001B[1;33m.\u001B[0m\u001B[0mtloop\u001B[0m\u001B[1;33m.\u001B[0m\u001B[0mverbose\u001B[0m \u001B[1;33m=\u001B[0m \u001B[1;32mFalse\u001B[0m\u001B[1;33m\u001B[0m\u001B[1;33m\u001B[0m\u001B[0m\n\u001B[1;32m--> 143\u001B[1;33m         \u001B[0ms\u001B[0m\u001B[1;33m.\u001B[0m\u001B[0mrun\u001B[0m\u001B[1;33m(\u001B[0m\u001B[1;33m)\u001B[0m\u001B[1;33m\u001B[0m\u001B[1;33m\u001B[0m\u001B[0m\n\u001B[0m\u001B[0;32m    144\u001B[0m \u001B[1;33m\u001B[0m\u001B[0m\n\u001B[0;32m    145\u001B[0m     \u001B[1;32mdef\u001B[0m \u001B[0mget_max_vals\u001B[0m\u001B[1;33m(\u001B[0m\u001B[0mself\u001B[0m\u001B[1;33m)\u001B[0m\u001B[1;33m:\u001B[0m\u001B[1;33m\u001B[0m\u001B[1;33m\u001B[0m\u001B[0m\n",
      "\u001B[1;32md:\\homam\\synced\\programming\\python\\bmcs_ibvpy\\ibvpy\\sim\\sim_base.py\u001B[0m in \u001B[0;36mrun\u001B[1;34m(self)\u001B[0m\n\u001B[0;32m     57\u001B[0m         r'''Run a thread if it does not exist - do nothing otherwise\n\u001B[0;32m     58\u001B[0m         '''\n\u001B[1;32m---> 59\u001B[1;33m         \u001B[0mself\u001B[0m\u001B[1;33m.\u001B[0m\u001B[0mtloop\u001B[0m\u001B[1;33m(\u001B[0m\u001B[1;33m)\u001B[0m\u001B[1;33m\u001B[0m\u001B[1;33m\u001B[0m\u001B[0m\n\u001B[0m\u001B[0;32m     60\u001B[0m         \u001B[1;32mreturn\u001B[0m\u001B[1;33m\u001B[0m\u001B[1;33m\u001B[0m\u001B[0m\n\u001B[0;32m     61\u001B[0m \u001B[1;33m\u001B[0m\u001B[0m\n",
      "\u001B[1;32md:\\homam\\synced\\programming\\python\\bmcs_ibvpy\\ibvpy\\sim\\tloop.py\u001B[0m in \u001B[0;36m__call__\u001B[1;34m(self)\u001B[0m\n\u001B[0;32m     63\u001B[0m     \u001B[1;32mdef\u001B[0m \u001B[0m__call__\u001B[0m\u001B[1;33m(\u001B[0m\u001B[0mself\u001B[0m\u001B[1;33m)\u001B[0m\u001B[1;33m:\u001B[0m\u001B[1;33m\u001B[0m\u001B[1;33m\u001B[0m\u001B[0m\n\u001B[0;32m     64\u001B[0m         \u001B[0mself\u001B[0m\u001B[1;33m.\u001B[0m\u001B[0minit\u001B[0m\u001B[1;33m(\u001B[0m\u001B[1;33m)\u001B[0m\u001B[1;33m\u001B[0m\u001B[1;33m\u001B[0m\u001B[0m\n\u001B[1;32m---> 65\u001B[1;33m         \u001B[1;32mreturn\u001B[0m \u001B[0mself\u001B[0m\u001B[1;33m.\u001B[0m\u001B[0meval\u001B[0m\u001B[1;33m(\u001B[0m\u001B[1;33m)\u001B[0m\u001B[1;33m\u001B[0m\u001B[1;33m\u001B[0m\u001B[0m\n\u001B[0m",
      "\u001B[1;32md:\\homam\\synced\\programming\\python\\bmcs_ibvpy\\ibvpy\\sim\\tloop_implicit.py\u001B[0m in \u001B[0;36meval\u001B[1;34m(self)\u001B[0m\n\u001B[0;32m     43\u001B[0m                     \u001B[0mself\u001B[0m\u001B[1;33m.\u001B[0m\u001B[0mtstep\u001B[0m\u001B[1;33m.\u001B[0m\u001B[0mmake_iter\u001B[0m\u001B[1;33m(\u001B[0m\u001B[1;33m)\u001B[0m\u001B[1;33m\u001B[0m\u001B[1;33m\u001B[0m\u001B[0m\n\u001B[0;32m     44\u001B[0m                 \u001B[1;32mexcept\u001B[0m \u001B[0mRuntimeError\u001B[0m \u001B[1;32mas\u001B[0m \u001B[0me\u001B[0m\u001B[1;33m:\u001B[0m\u001B[1;33m\u001B[0m\u001B[1;33m\u001B[0m\u001B[0m\n\u001B[1;32m---> 45\u001B[1;33m                     \u001B[1;32mraise\u001B[0m\u001B[1;33m(\u001B[0m\u001B[0me\u001B[0m\u001B[1;33m)\u001B[0m\u001B[1;33m\u001B[0m\u001B[1;33m\u001B[0m\u001B[0m\n\u001B[0m\u001B[0;32m     46\u001B[0m                 \u001B[0mk\u001B[0m \u001B[1;33m+=\u001B[0m \u001B[1;36m1\u001B[0m\u001B[1;33m\u001B[0m\u001B[1;33m\u001B[0m\u001B[0m\n\u001B[0;32m     47\u001B[0m             \u001B[1;32melse\u001B[0m\u001B[1;33m:\u001B[0m  \u001B[1;31m# handle unfinished iteration loop\u001B[0m\u001B[1;33m\u001B[0m\u001B[1;33m\u001B[0m\u001B[0m\n",
      "\u001B[1;32md:\\homam\\synced\\programming\\python\\bmcs_ibvpy\\ibvpy\\sim\\tloop_implicit.py\u001B[0m in \u001B[0;36meval\u001B[1;34m(self)\u001B[0m\n\u001B[0;32m     41\u001B[0m                     \u001B[1;32mbreak\u001B[0m\u001B[1;33m\u001B[0m\u001B[1;33m\u001B[0m\u001B[0m\n\u001B[0;32m     42\u001B[0m                 \u001B[1;32mtry\u001B[0m\u001B[1;33m:\u001B[0m\u001B[1;33m\u001B[0m\u001B[1;33m\u001B[0m\u001B[0m\n\u001B[1;32m---> 43\u001B[1;33m                     \u001B[0mself\u001B[0m\u001B[1;33m.\u001B[0m\u001B[0mtstep\u001B[0m\u001B[1;33m.\u001B[0m\u001B[0mmake_iter\u001B[0m\u001B[1;33m(\u001B[0m\u001B[1;33m)\u001B[0m\u001B[1;33m\u001B[0m\u001B[1;33m\u001B[0m\u001B[0m\n\u001B[0m\u001B[0;32m     44\u001B[0m                 \u001B[1;32mexcept\u001B[0m \u001B[0mRuntimeError\u001B[0m \u001B[1;32mas\u001B[0m \u001B[0me\u001B[0m\u001B[1;33m:\u001B[0m\u001B[1;33m\u001B[0m\u001B[1;33m\u001B[0m\u001B[0m\n\u001B[0;32m     45\u001B[0m                     \u001B[1;32mraise\u001B[0m\u001B[1;33m(\u001B[0m\u001B[0me\u001B[0m\u001B[1;33m)\u001B[0m\u001B[1;33m\u001B[0m\u001B[1;33m\u001B[0m\u001B[0m\n",
      "\u001B[1;32md:\\homam\\synced\\programming\\python\\bmcs_ibvpy\\ibvpy\\sim\\tstep_bc.py\u001B[0m in \u001B[0;36mmake_iter\u001B[1;34m(self)\u001B[0m\n\u001B[0;32m    147\u001B[0m         '''Perform a single iteration\n\u001B[0;32m    148\u001B[0m         '''\n\u001B[1;32m--> 149\u001B[1;33m         \u001B[0md_U_k\u001B[0m\u001B[1;33m,\u001B[0m \u001B[0mpos_def\u001B[0m \u001B[1;33m=\u001B[0m \u001B[0mself\u001B[0m\u001B[1;33m.\u001B[0m\u001B[0mK\u001B[0m\u001B[1;33m.\u001B[0m\u001B[0msolve\u001B[0m\u001B[1;33m(\u001B[0m\u001B[0mcheck_pos_def\u001B[0m\u001B[1;33m=\u001B[0m\u001B[1;32mTrue\u001B[0m\u001B[1;33m)\u001B[0m\u001B[1;33m\u001B[0m\u001B[1;33m\u001B[0m\u001B[0m\n\u001B[0m\u001B[0;32m    150\u001B[0m         \u001B[1;32mif\u001B[0m \u001B[0mself\u001B[0m\u001B[1;33m.\u001B[0m\u001B[0mdebug\u001B[0m\u001B[1;33m:\u001B[0m\u001B[1;33m\u001B[0m\u001B[1;33m\u001B[0m\u001B[0m\n\u001B[0;32m    151\u001B[0m             \u001B[0mprint\u001B[0m\u001B[1;33m(\u001B[0m\u001B[1;34m'positive definite'\u001B[0m\u001B[1;33m,\u001B[0m \u001B[0mpos_def\u001B[0m\u001B[1;33m)\u001B[0m\u001B[1;33m\u001B[0m\u001B[1;33m\u001B[0m\u001B[0m\n",
      "\u001B[1;32md:\\homam\\synced\\programming\\python\\bmcs_ibvpy\\ibvpy\\mathkit\\linalg\\sys_mtx_assembly.py\u001B[0m in \u001B[0;36msolve\u001B[1;34m(self, rhs, matrix_type, check_pos_def)\u001B[0m\n\u001B[0;32m    267\u001B[0m \u001B[1;33m\u001B[0m\u001B[0m\n\u001B[0;32m    268\u001B[0m         \u001B[0mmtx\u001B[0m \u001B[1;33m=\u001B[0m \u001B[0mself\u001B[0m\u001B[1;33m.\u001B[0m\u001B[0mmatrix_type_\u001B[0m\u001B[1;33m(\u001B[0m\u001B[0massemb\u001B[0m\u001B[1;33m=\u001B[0m\u001B[0mself\u001B[0m\u001B[1;33m)\u001B[0m\u001B[1;33m\u001B[0m\u001B[1;33m\u001B[0m\u001B[0m\n\u001B[1;32m--> 269\u001B[1;33m         \u001B[1;32mreturn\u001B[0m \u001B[0mmtx\u001B[0m\u001B[1;33m.\u001B[0m\u001B[0msolve\u001B[0m\u001B[1;33m(\u001B[0m\u001B[0mself\u001B[0m\u001B[1;33m.\u001B[0m\u001B[0m_rhs\u001B[0m\u001B[1;33m,\u001B[0m \u001B[0mcheck_pos_def\u001B[0m\u001B[1;33m)\u001B[0m\u001B[1;33m\u001B[0m\u001B[1;33m\u001B[0m\u001B[0m\n\u001B[0m\u001B[0;32m    270\u001B[0m \u001B[1;33m\u001B[0m\u001B[0m\n\u001B[0;32m    271\u001B[0m     \u001B[1;32mdef\u001B[0m \u001B[0mreset\u001B[0m\u001B[1;33m(\u001B[0m\u001B[0mself\u001B[0m\u001B[1;33m)\u001B[0m\u001B[1;33m:\u001B[0m\u001B[1;33m\u001B[0m\u001B[1;33m\u001B[0m\u001B[0m\n",
      "\u001B[1;32md:\\homam\\synced\\programming\\python\\bmcs_ibvpy\\ibvpy\\mathkit\\linalg\\coo_mtx.py\u001B[0m in \u001B[0;36msolve\u001B[1;34m(self, rhs, check_pos_dev)\u001B[0m\n\u001B[0;32m     77\u001B[0m         \u001B[0mpos_def\u001B[0m \u001B[1;33m=\u001B[0m \u001B[1;32mTrue\u001B[0m\u001B[1;33m\u001B[0m\u001B[1;33m\u001B[0m\u001B[0m\n\u001B[0;32m     78\u001B[0m         \u001B[1;32mif\u001B[0m \u001B[0mcheck_pos_dev\u001B[0m\u001B[1;33m:\u001B[0m\u001B[1;33m\u001B[0m\u001B[1;33m\u001B[0m\u001B[0m\n\u001B[1;32m---> 79\u001B[1;33m             \u001B[0mevals_small\u001B[0m\u001B[1;33m,\u001B[0m \u001B[0mevecs_small\u001B[0m \u001B[1;33m=\u001B[0m \u001B[0meigsh\u001B[0m\u001B[1;33m(\u001B[0m\u001B[0mmtx_csr\u001B[0m\u001B[1;33m,\u001B[0m \u001B[1;36m3\u001B[0m\u001B[1;33m,\u001B[0m \u001B[0msigma\u001B[0m\u001B[1;33m=\u001B[0m\u001B[1;36m0\u001B[0m\u001B[1;33m,\u001B[0m \u001B[0mwhich\u001B[0m\u001B[1;33m=\u001B[0m\u001B[1;34m'LM'\u001B[0m\u001B[1;33m)\u001B[0m\u001B[1;33m\u001B[0m\u001B[1;33m\u001B[0m\u001B[0m\n\u001B[0m\u001B[0;32m     80\u001B[0m             \u001B[0mmin_eval\u001B[0m \u001B[1;33m=\u001B[0m \u001B[0mnp\u001B[0m\u001B[1;33m.\u001B[0m\u001B[0mmin\u001B[0m\u001B[1;33m(\u001B[0m\u001B[0mevals_small\u001B[0m\u001B[1;33m)\u001B[0m\u001B[1;33m\u001B[0m\u001B[1;33m\u001B[0m\u001B[0m\n\u001B[0;32m     81\u001B[0m             \u001B[0mpos_def\u001B[0m \u001B[1;33m=\u001B[0m \u001B[0mmin_eval\u001B[0m \u001B[1;33m>\u001B[0m \u001B[1;36m1e-10\u001B[0m\u001B[1;33m\u001B[0m\u001B[1;33m\u001B[0m\u001B[0m\n",
      "\u001B[1;32m~\\miniconda3\\envs\\bmcs_env\\lib\\site-packages\\scipy\\sparse\\linalg\\eigen\\arpack\\arpack.py\u001B[0m in \u001B[0;36meigsh\u001B[1;34m(A, k, M, sigma, which, v0, ncv, maxiter, tol, return_eigenvectors, Minv, OPinv, mode)\u001B[0m\n\u001B[0;32m   1642\u001B[0m             \u001B[0mmatvec\u001B[0m \u001B[1;33m=\u001B[0m \u001B[1;32mNone\u001B[0m\u001B[1;33m\u001B[0m\u001B[1;33m\u001B[0m\u001B[0m\n\u001B[0;32m   1643\u001B[0m             \u001B[1;32mif\u001B[0m \u001B[0mOPinv\u001B[0m \u001B[1;32mis\u001B[0m \u001B[1;32mNone\u001B[0m\u001B[1;33m:\u001B[0m\u001B[1;33m\u001B[0m\u001B[1;33m\u001B[0m\u001B[0m\n\u001B[1;32m-> 1644\u001B[1;33m                 Minv_matvec = get_OPinv_matvec(A, M, sigma,\n\u001B[0m\u001B[0;32m   1645\u001B[0m                                                hermitian=True, tol=tol)\n\u001B[0;32m   1646\u001B[0m             \u001B[1;32melse\u001B[0m\u001B[1;33m:\u001B[0m\u001B[1;33m\u001B[0m\u001B[1;33m\u001B[0m\u001B[0m\n",
      "\u001B[1;32m~\\miniconda3\\envs\\bmcs_env\\lib\\site-packages\\scipy\\sparse\\linalg\\eigen\\arpack\\arpack.py\u001B[0m in \u001B[0;36mget_OPinv_matvec\u001B[1;34m(A, M, sigma, hermitian, tol)\u001B[0m\n\u001B[0;32m   1056\u001B[0m \u001B[1;32mdef\u001B[0m \u001B[0mget_OPinv_matvec\u001B[0m\u001B[1;33m(\u001B[0m\u001B[0mA\u001B[0m\u001B[1;33m,\u001B[0m \u001B[0mM\u001B[0m\u001B[1;33m,\u001B[0m \u001B[0msigma\u001B[0m\u001B[1;33m,\u001B[0m \u001B[0mhermitian\u001B[0m\u001B[1;33m=\u001B[0m\u001B[1;32mFalse\u001B[0m\u001B[1;33m,\u001B[0m \u001B[0mtol\u001B[0m\u001B[1;33m=\u001B[0m\u001B[1;36m0\u001B[0m\u001B[1;33m)\u001B[0m\u001B[1;33m:\u001B[0m\u001B[1;33m\u001B[0m\u001B[1;33m\u001B[0m\u001B[0m\n\u001B[0;32m   1057\u001B[0m     \u001B[1;32mif\u001B[0m \u001B[0msigma\u001B[0m \u001B[1;33m==\u001B[0m \u001B[1;36m0\u001B[0m\u001B[1;33m:\u001B[0m\u001B[1;33m\u001B[0m\u001B[1;33m\u001B[0m\u001B[0m\n\u001B[1;32m-> 1058\u001B[1;33m         \u001B[1;32mreturn\u001B[0m \u001B[0mget_inv_matvec\u001B[0m\u001B[1;33m(\u001B[0m\u001B[0mA\u001B[0m\u001B[1;33m,\u001B[0m \u001B[0mhermitian\u001B[0m\u001B[1;33m=\u001B[0m\u001B[0mhermitian\u001B[0m\u001B[1;33m,\u001B[0m \u001B[0mtol\u001B[0m\u001B[1;33m=\u001B[0m\u001B[0mtol\u001B[0m\u001B[1;33m)\u001B[0m\u001B[1;33m\u001B[0m\u001B[1;33m\u001B[0m\u001B[0m\n\u001B[0m\u001B[0;32m   1059\u001B[0m \u001B[1;33m\u001B[0m\u001B[0m\n\u001B[0;32m   1060\u001B[0m     \u001B[1;32mif\u001B[0m \u001B[0mM\u001B[0m \u001B[1;32mis\u001B[0m \u001B[1;32mNone\u001B[0m\u001B[1;33m:\u001B[0m\u001B[1;33m\u001B[0m\u001B[1;33m\u001B[0m\u001B[0m\n",
      "\u001B[1;32m~\\miniconda3\\envs\\bmcs_env\\lib\\site-packages\\scipy\\sparse\\linalg\\eigen\\arpack\\arpack.py\u001B[0m in \u001B[0;36mget_inv_matvec\u001B[1;34m(M, hermitian, tol)\u001B[0m\n\u001B[0;32m   1049\u001B[0m     \u001B[1;32melif\u001B[0m \u001B[0misspmatrix\u001B[0m\u001B[1;33m(\u001B[0m\u001B[0mM\u001B[0m\u001B[1;33m)\u001B[0m \u001B[1;32mor\u001B[0m \u001B[0mis_pydata_spmatrix\u001B[0m\u001B[1;33m(\u001B[0m\u001B[0mM\u001B[0m\u001B[1;33m)\u001B[0m\u001B[1;33m:\u001B[0m\u001B[1;33m\u001B[0m\u001B[1;33m\u001B[0m\u001B[0m\n\u001B[0;32m   1050\u001B[0m         \u001B[0mM\u001B[0m \u001B[1;33m=\u001B[0m \u001B[0m_fast_spmatrix_to_csc\u001B[0m\u001B[1;33m(\u001B[0m\u001B[0mM\u001B[0m\u001B[1;33m,\u001B[0m \u001B[0mhermitian\u001B[0m\u001B[1;33m=\u001B[0m\u001B[0mhermitian\u001B[0m\u001B[1;33m)\u001B[0m\u001B[1;33m\u001B[0m\u001B[1;33m\u001B[0m\u001B[0m\n\u001B[1;32m-> 1051\u001B[1;33m         \u001B[1;32mreturn\u001B[0m \u001B[0mSpLuInv\u001B[0m\u001B[1;33m(\u001B[0m\u001B[0mM\u001B[0m\u001B[1;33m)\u001B[0m\u001B[1;33m.\u001B[0m\u001B[0mmatvec\u001B[0m\u001B[1;33m\u001B[0m\u001B[1;33m\u001B[0m\u001B[0m\n\u001B[0m\u001B[0;32m   1052\u001B[0m     \u001B[1;32melse\u001B[0m\u001B[1;33m:\u001B[0m\u001B[1;33m\u001B[0m\u001B[1;33m\u001B[0m\u001B[0m\n\u001B[0;32m   1053\u001B[0m         \u001B[1;32mreturn\u001B[0m \u001B[0mIterInv\u001B[0m\u001B[1;33m(\u001B[0m\u001B[0mM\u001B[0m\u001B[1;33m,\u001B[0m \u001B[0mtol\u001B[0m\u001B[1;33m=\u001B[0m\u001B[0mtol\u001B[0m\u001B[1;33m)\u001B[0m\u001B[1;33m.\u001B[0m\u001B[0mmatvec\u001B[0m\u001B[1;33m\u001B[0m\u001B[1;33m\u001B[0m\u001B[0m\n",
      "\u001B[1;32m~\\miniconda3\\envs\\bmcs_env\\lib\\site-packages\\scipy\\sparse\\linalg\\eigen\\arpack\\arpack.py\u001B[0m in \u001B[0;36m__init__\u001B[1;34m(self, M)\u001B[0m\n\u001B[0;32m    911\u001B[0m     \"\"\"\n\u001B[0;32m    912\u001B[0m     \u001B[1;32mdef\u001B[0m \u001B[0m__init__\u001B[0m\u001B[1;33m(\u001B[0m\u001B[0mself\u001B[0m\u001B[1;33m,\u001B[0m \u001B[0mM\u001B[0m\u001B[1;33m)\u001B[0m\u001B[1;33m:\u001B[0m\u001B[1;33m\u001B[0m\u001B[1;33m\u001B[0m\u001B[0m\n\u001B[1;32m--> 913\u001B[1;33m         \u001B[0mself\u001B[0m\u001B[1;33m.\u001B[0m\u001B[0mM_lu\u001B[0m \u001B[1;33m=\u001B[0m \u001B[0msplu\u001B[0m\u001B[1;33m(\u001B[0m\u001B[0mM\u001B[0m\u001B[1;33m)\u001B[0m\u001B[1;33m\u001B[0m\u001B[1;33m\u001B[0m\u001B[0m\n\u001B[0m\u001B[0;32m    914\u001B[0m         \u001B[0mself\u001B[0m\u001B[1;33m.\u001B[0m\u001B[0mshape\u001B[0m \u001B[1;33m=\u001B[0m \u001B[0mM\u001B[0m\u001B[1;33m.\u001B[0m\u001B[0mshape\u001B[0m\u001B[1;33m\u001B[0m\u001B[1;33m\u001B[0m\u001B[0m\n\u001B[0;32m    915\u001B[0m         \u001B[0mself\u001B[0m\u001B[1;33m.\u001B[0m\u001B[0mdtype\u001B[0m \u001B[1;33m=\u001B[0m \u001B[0mM\u001B[0m\u001B[1;33m.\u001B[0m\u001B[0mdtype\u001B[0m\u001B[1;33m\u001B[0m\u001B[1;33m\u001B[0m\u001B[0m\n",
      "\u001B[1;32m~\\miniconda3\\envs\\bmcs_env\\lib\\site-packages\\scipy\\sparse\\linalg\\dsolve\\linsolve.py\u001B[0m in \u001B[0;36msplu\u001B[1;34m(A, permc_spec, diag_pivot_thresh, relax, panel_size, options)\u001B[0m\n\u001B[0;32m    335\u001B[0m         \u001B[0m_options\u001B[0m\u001B[1;33m[\u001B[0m\u001B[1;34m\"SymmetricMode\"\u001B[0m\u001B[1;33m]\u001B[0m \u001B[1;33m=\u001B[0m \u001B[1;32mTrue\u001B[0m\u001B[1;33m\u001B[0m\u001B[1;33m\u001B[0m\u001B[0m\n\u001B[0;32m    336\u001B[0m \u001B[1;33m\u001B[0m\u001B[0m\n\u001B[1;32m--> 337\u001B[1;33m     return _superlu.gstrf(N, A.nnz, A.data, A.indices, A.indptr,\n\u001B[0m\u001B[0;32m    338\u001B[0m                           \u001B[0mcsc_construct_func\u001B[0m\u001B[1;33m=\u001B[0m\u001B[0mcsc_construct_func\u001B[0m\u001B[1;33m,\u001B[0m\u001B[1;33m\u001B[0m\u001B[1;33m\u001B[0m\u001B[0m\n\u001B[0;32m    339\u001B[0m                           ilu=False, options=_options)\n",
      "\u001B[1;31mRuntimeError\u001B[0m: Factor is exactly singular"
     ]
    }
   ],
   "source": [
    "tmodel = MATS2DElastic(E=28000, nu=0.2)\n",
    "import numpy as np\n",
    "U_grid = []\n",
    "sig_grid = []\n",
    "for alpha in alpha_range:\n",
    "    U_list = []\n",
    "    sig_list = []\n",
    "    for a in a_range:\n",
    "        wbm = WBShellAnalysis(F=-20000, h=10, tmodel=tmodel)\n",
    "        data = dict(alpha=alpha, a=a, a_high=2000, b=1250, b_high=2000, c=400, c_high=2000,\n",
    "                    n_phi_plus=n_phi_plus, n_x_plus=n_x_plus)\n",
    "        wbm.wb_mesh.trait_set(**data)\n",
    "        max_U = wbm.get_max_vals()\n",
    "        \n",
    "        U1 = wbm.hist.U_t[-1]\n",
    "        eps1 = wbm.fe_domain[0].xmodel.map_U_to_field(U1)\n",
    "        sig1, _ = wbm.fe_domain[0].tmodel.get_corr_pred(eps1,1)\n",
    "        sig_x, sig_y, tau = sig1.T\n",
    "        sig_ab = np.einsum('ab...->...ab', np.array([[sig_x, tau], [tau, sig_y]], dtype=np.float_))\n",
    "        sig_val, sig_dir = np.linalg.eig(sig_ab)\n",
    "        sig_list.append([np.min(sig_val), np.max(sig_val)])\n",
    "\n",
    "        print(alpha, a, max_U)\n",
    "        U_list.append(max_U)\n",
    "    U_grid.append(U_list)\n",
    "    sig_grid.append(sig_list)"
   ]
  },
  {
   "cell_type": "code",
   "execution_count": null,
   "metadata": {
    "pycharm": {
     "name": "#%%\n"
    },
    "slideshow": {
     "slide_type": "slide"
    }
   },
   "outputs": [],
   "source": [
    "from mpl_toolkits.mplot3d import Axes3D\n",
    "import matplotlib.pyplot as plt\n",
    "from matplotlib import cm\n",
    "from matplotlib.ticker import LinearLocator, FormatStrFormatter\n",
    "fig = plt.figure()\n",
    "ax = fig.gca(projection='3d')\n",
    "X, Y = np.meshgrid(alpha_range, a_range)\n",
    "Z = np.array(U_grid)\n",
    "surf = ax.plot_surface(X, Y, Z, \n",
    "                       color='green',\n",
    "                       #linewidth=0, antialiased=False)\n",
    "                    alpha=.0, linewidth=5,\n",
    "                       #cmap=cm.gist_earth,antialiased=False, \n",
    "                shade=False,rstride=1, cstride=1)\n",
    "Z = np.array(sig_grid)[:,:,1]\n",
    "surf = ax.plot_surface(X, Y, Z,color='red', \n",
    "                       #cmap=cm.copper,\n",
    "                    alpha=.3, linewidth=3,\n",
    "                       #cmap=cm.gist_earth,antialiased=False, \n",
    "                shade=False,rstride=1, cstride=1)\n",
    "Z = -np.array(sig_grid)[:,:,0]\n",
    "surf = ax.plot_surface(X, Y, Z,color='blue', \n",
    "                       #cmap=cm.copper,\n",
    "                    alpha=.6, linewidth=3,\n",
    "                       #cmap=cm.gist_earth,antialiased=False, \n",
    "                shade=False,rstride=1, cstride=1)\n",
    "ax.set_xlabel(r'$\\alpha~[\\mathrm{rad}]$')\n",
    "ax.set_ylabel(r'$a~[\\mathrm{mm}]$')\n",
    "ax.set_zlabel(r'max compression [MPa]')\n"
   ]
  },
  {
   "cell_type": "code",
   "execution_count": null,
   "metadata": {
    "pycharm": {
     "name": "#%%\n"
    }
   },
   "outputs": [],
   "source": [
    "i_alpha, i_a = 0, -1\n",
    "wbm = WBShellAnalysis(F=-1000, tmodel=tmodel)\n",
    "print('alpha', alpha_range[i_alpha],'a', a_range[i_a] )\n",
    "data = dict(alpha=alpha_range[i_alpha], \n",
    "            a=a_range[i_a], a_high=2000, b=1250, b_high=2000, c=400, c_high=2000,\n",
    "            n_phi_plus=n_phi_plus, n_x_plus=n_x_plus)\n",
    "wbm.wb_mesh.trait_set(**data)\n",
    "wbm.wb_mesh.interact()"
   ]
  },
  {
   "cell_type": "code",
   "execution_count": null,
   "metadata": {
    "pycharm": {
     "name": "#%%\n"
    }
   },
   "outputs": [],
   "source": []
  }
 ],
 "metadata": {
  "kernelspec": {
   "display_name": "Python 3 (ipykernel)",
   "language": "python",
   "name": "python3"
  },
  "language_info": {
   "codemirror_mode": {
    "name": "ipython",
    "version": 3
   },
   "file_extension": ".py",
   "mimetype": "text/x-python",
   "name": "python",
   "nbconvert_exporter": "python",
   "pygments_lexer": "ipython3",
   "version": "3.9.7"
  },
  "toc": {
   "base_numbering": 1,
   "nav_menu": {},
   "number_sections": true,
   "sideBar": true,
   "skip_h1_title": true,
   "title_cell": "Table of Contents",
   "title_sidebar": "Contents",
   "toc_cell": false,
   "toc_position": {},
   "toc_section_display": true,
   "toc_window_display": false
  }
 },
 "nbformat": 4,
 "nbformat_minor": 4
}