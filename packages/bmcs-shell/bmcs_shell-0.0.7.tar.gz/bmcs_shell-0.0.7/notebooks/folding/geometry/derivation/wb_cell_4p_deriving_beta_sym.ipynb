{
 "cells": [
  {
   "cell_type": "code",
   "execution_count": 2,
   "metadata": {},
   "outputs": [],
   "source": [
    "%matplotlib widget\n",
    "from bmcs_shell.api import *\n",
    "import numpy as np\n",
    "import sympy as sp"
   ]
  },
  {
   "cell_type": "code",
   "execution_count": 3,
   "metadata": {},
   "outputs": [
    {
     "name": "stderr",
     "output_type": "stream",
     "text": [
      "C:\\Users\\hspartali\\Anaconda3\\envs\\bmcs_env\\lib\\site-packages\\traittypes\\traittypes.py:97: UserWarning: Given trait value dtype \"uint32\" does not match required type \"float32\". A coerced copy has been created.\n",
      "  warnings.warn(\n"
     ]
    },
    {
     "data": {
      "application/vnd.jupyter.widget-view+json": {
       "model_id": "03523268dc0d443a99cd3460db52c531",
       "version_major": 2,
       "version_minor": 0
      },
      "text/plain": [
       "VBox(children=(HBox(children=(VBox(children=(Tree(layout=Layout(align_items='stretch', border='solid 1px black…"
      ]
     },
     "metadata": {},
     "output_type": "display_data"
    }
   ],
   "source": [
    "wb_cell = WBCell4Param(a = 500, b = 1000, c = 500, gamma = 1.0, show_node_labels=False)\n",
    "wb_cell.interact()"
   ]
  },
  {
   "cell_type": "markdown",
   "metadata": {},
   "source": [
    "**$\\beta$ is the angle between vector connecting 0 and 5 and vector connecting 0 and 2**\n",
    "\n",
    "That means.."
   ]
  },
  {
   "cell_type": "code",
   "execution_count": 4,
   "metadata": {},
   "outputs": [
    {
     "data": {
      "text/plain": [
       "1.8811767810856865"
      ]
     },
     "execution_count": 4,
     "metadata": {},
     "output_type": "execute_result"
    }
   ],
   "source": [
    "X_Ia = wb_cell.X_Ia\n",
    "v05 = X_Ia[5] - X_Ia[0]\n",
    "v02 = X_Ia[2] - X_Ia[0]\n",
    "cos_beta = (v05 @ v02) / (np.sqrt(v05 @ v05) * np.sqrt(v02 @ v02)) # @ is dot product in numpy\n",
    "beta = np.arccos(cos_beta)\n",
    "beta"
   ]
  },
  {
   "cell_type": "markdown",
   "metadata": {},
   "source": [
    "**To derive it analytically..**\n",
    "\n",
    "We notice that we can use `X_Ia[5]` instead of `(X_Ia[5] - X_Ia[0])` and `X_Ia[2]` instead of `(X_Ia[2] - X_Ia[0])` as `X_Ia[0]` is zeros!"
   ]
  },
  {
   "cell_type": "code",
   "execution_count": 5,
   "metadata": {},
   "outputs": [],
   "source": [
    "a, b, c, gamma = sp.symbols('a, b, c, gamma', positive=True)"
   ]
  },
  {
   "cell_type": "code",
   "execution_count": 6,
   "metadata": {},
   "outputs": [],
   "source": [
    "wb_4p = WBCell4Param()"
   ]
  },
  {
   "cell_type": "code",
   "execution_count": 7,
   "metadata": {},
   "outputs": [
    {
     "data": {
      "text/latex": [
       "$\\displaystyle \\sqrt{- a^{2} \\left(- \\tan{\\left(\\gamma \\right)} + \\frac{1}{\\cos{\\left(\\gamma \\right)}}\\right)^{2} + b^{2}}$"
      ],
      "text/plain": [
       "sqrt(-a**2*(-tan(gamma) + 1/cos(gamma))**2 + b**2)"
      ]
     },
     "execution_count": 7,
     "metadata": {},
     "output_type": "execute_result"
    }
   ],
   "source": [
    "u_2_ = wb_4p.symb.u_2_\n",
    "u_2_"
   ]
  },
  {
   "cell_type": "code",
   "execution_count": 8,
   "metadata": {},
   "outputs": [
    {
     "data": {
      "text/latex": [
       "$\\displaystyle a \\left(- \\tan{\\left(\\gamma \\right)} + \\frac{1}{\\cos{\\left(\\gamma \\right)}}\\right)$"
      ],
      "text/plain": [
       "a*(-tan(gamma) + 1/cos(gamma))"
      ]
     },
     "execution_count": 8,
     "metadata": {},
     "output_type": "execute_result"
    }
   ],
   "source": [
    "u_3_ = wb_4p.symb.u_3_\n",
    "u_3_"
   ]
  },
  {
   "cell_type": "code",
   "execution_count": 9,
   "metadata": {
    "scrolled": true
   },
   "outputs": [
    {
     "data": {
      "text/latex": [
       "$\\displaystyle \\left[\\begin{matrix}- a\\\\\\sqrt{- a^{2} \\left(- \\tan{\\left(\\gamma \\right)} + \\frac{1}{\\cos{\\left(\\gamma \\right)}}\\right)^{2} + b^{2}}\\\\a \\left(- \\tan{\\left(\\gamma \\right)} + \\frac{1}{\\cos{\\left(\\gamma \\right)}}\\right)\\end{matrix}\\right]$"
      ],
      "text/plain": [
       "Matrix([\n",
       "[                                                -a],\n",
       "[sqrt(-a**2*(-tan(gamma) + 1/cos(gamma))**2 + b**2)],\n",
       "[                    a*(-tan(gamma) + 1/cos(gamma))]])"
      ]
     },
     "execution_count": 9,
     "metadata": {},
     "output_type": "execute_result"
    }
   ],
   "source": [
    "U_ul = sp.Matrix([-a, u_2_, u_3_])\n",
    "U_ul"
   ]
  },
  {
   "cell_type": "code",
   "execution_count": 10,
   "metadata": {},
   "outputs": [
    {
     "data": {
      "text/latex": [
       "$\\displaystyle \\left[\\begin{matrix}c \\sin{\\left(\\gamma \\right)}\\\\0\\\\c \\cos{\\left(\\gamma \\right)}\\end{matrix}\\right]$"
      ],
      "text/plain": [
       "Matrix([\n",
       "[c*sin(gamma)],\n",
       "[           0],\n",
       "[c*cos(gamma)]])"
      ]
     },
     "execution_count": 10,
     "metadata": {},
     "output_type": "execute_result"
    }
   ],
   "source": [
    "V_r = sp.Matrix([c * sp.sin(gamma), 0, c * sp.cos(gamma)])\n",
    "V_r"
   ]
  },
  {
   "cell_type": "code",
   "execution_count": 11,
   "metadata": {
    "scrolled": true
   },
   "outputs": [
    {
     "data": {
      "text/latex": [
       "$\\displaystyle \\frac{a \\left(1 - 2 \\sin{\\left(\\gamma \\right)}\\right)}{\\sqrt{a^{2} + b^{2}}}$"
      ],
      "text/plain": [
       "a*(1 - 2*sin(gamma))/sqrt(a**2 + b**2)"
      ]
     },
     "execution_count": 11,
     "metadata": {},
     "output_type": "execute_result"
    }
   ],
   "source": [
    "cos_beta = (sp.Transpose(U_ul)*V_r)[0] / (sp.sqrt(sp.Transpose(U_ul)*U_ul) * sp.sqrt(sp.Transpose(V_r)*V_r))[0]\n",
    "sp.simplify(cos_beta)"
   ]
  },
  {
   "cell_type": "code",
   "execution_count": 13,
   "metadata": {},
   "outputs": [
    {
     "data": {
      "text/latex": [
       "$\\displaystyle - \\frac{a}{\\sqrt{a^{2} + b^{2}}}$"
      ],
      "text/plain": [
       "-a/sqrt(a**2 + b**2)"
      ]
     },
     "execution_count": 13,
     "metadata": {},
     "output_type": "execute_result"
    }
   ],
   "source": [
    "sp.simplify(cos_beta).subs({gamma:sp.pi/2})"
   ]
  },
  {
   "cell_type": "markdown",
   "metadata": {},
   "source": [
    "### Or in one cell.."
   ]
  },
  {
   "cell_type": "code",
   "execution_count": 11,
   "metadata": {},
   "outputs": [
    {
     "data": {
      "text/latex": [
       "$\\displaystyle \\frac{a \\left(1 - 2 \\sin{\\left(\\gamma \\right)}\\right)}{\\sqrt{a^{2} + b^{2}}}$"
      ],
      "text/plain": [
       "a*(1 - 2*sin(gamma))/sqrt(a**2 + b**2)"
      ]
     },
     "execution_count": 11,
     "metadata": {},
     "output_type": "execute_result"
    }
   ],
   "source": [
    "a, b, c, gamma = sp.symbols('a, b, c, gamma', positive=True)\n",
    "wb_4p = WBCell4Param()\n",
    "u_2_ = wb_4p.symb.u_2_\n",
    "u_3_ = wb_4p.symb.u_3_\n",
    "U_ul = sp.Matrix([-a, u_2_, u_3_])\n",
    "V_r = sp.Matrix([c * sp.sin(gamma), 0, c * sp.cos(gamma)])\n",
    "cos_beta = (sp.Transpose(U_ul)*V_r)[0] / (sp.sqrt(sp.Transpose(U_ul)*U_ul) * sp.sqrt(sp.Transpose(V_r)*V_r))[0]\n",
    "cos_beta = sp.simplify(cos_beta)\n",
    "cos_beta\n",
    "# str(cos_beta)"
   ]
  }
 ],
 "metadata": {
  "kernelspec": {
   "display_name": "Python 3 (ipykernel)",
   "language": "python",
   "name": "python3"
  },
  "language_info": {
   "codemirror_mode": {
    "name": "ipython",
    "version": 3
   },
   "file_extension": ".py",
   "mimetype": "text/x-python",
   "name": "python",
   "nbconvert_exporter": "python",
   "pygments_lexer": "ipython3",
   "version": "3.9.12"
  },
  "toc": {
   "base_numbering": 1,
   "nav_menu": {},
   "number_sections": true,
   "sideBar": true,
   "skip_h1_title": false,
   "title_cell": "Table of Contents",
   "title_sidebar": "Contents",
   "toc_cell": false,
   "toc_position": {},
   "toc_section_display": true,
   "toc_window_display": false
  }
 },
 "nbformat": 4,
 "nbformat_minor": 1
}
