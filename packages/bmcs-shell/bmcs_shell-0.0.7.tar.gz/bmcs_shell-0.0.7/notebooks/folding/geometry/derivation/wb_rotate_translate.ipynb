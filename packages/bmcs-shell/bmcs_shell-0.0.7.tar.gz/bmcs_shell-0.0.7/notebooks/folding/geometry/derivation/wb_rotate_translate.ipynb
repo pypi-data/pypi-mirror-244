{
 "cells": [
  {
   "cell_type": "markdown",
   "id": "adjacent-parish",
   "metadata": {},
   "source": [
    "# Waterbomb cell translation and rotation"
   ]
  },
  {
   "cell_type": "code",
   "execution_count": 2,
   "id": "atomic-input",
   "metadata": {},
   "outputs": [],
   "source": [
    "import sympy as sp"
   ]
  },
  {
   "cell_type": "code",
   "execution_count": 3,
   "id": "sophisticated-enzyme",
   "metadata": {},
   "outputs": [],
   "source": [
    "x_ll, y_ll, z_ll = sp.symbols(r'x^{\\llcorner}, y^{\\llcorner}, z^{\\llcorner}')"
   ]
  },
  {
   "cell_type": "code",
   "execution_count": 4,
   "id": "reasonable-firmware",
   "metadata": {},
   "outputs": [],
   "source": [
    "phi, v_x, v_y, v_z = sp.symbols(r'\\varphi, v_x, v_y, v_z' )"
   ]
  },
  {
   "cell_type": "code",
   "execution_count": 5,
   "id": "roman-magnitude",
   "metadata": {},
   "outputs": [],
   "source": [
    "from sympy.algebras.quaternion import Quaternion "
   ]
  },
  {
   "cell_type": "code",
   "execution_count": 6,
   "id": "coupled-banking",
   "metadata": {},
   "outputs": [],
   "source": [
    "subs_unit = {sp.sqrt(v_x**2+v_y**2+v_z**2):1}"
   ]
  },
  {
   "cell_type": "code",
   "execution_count": 7,
   "id": "radical-fancy",
   "metadata": {},
   "outputs": [],
   "source": [
    "q_rot = Quaternion.from_axis_angle((v_x,v_y,v_z), phi)"
   ]
  },
  {
   "cell_type": "code",
   "execution_count": 8,
   "id": "foreign-refrigerator",
   "metadata": {},
   "outputs": [
    {
     "data": {
      "text/latex": [
       "$\\displaystyle \\cos{\\left(\\frac{\\varphi}{2} \\right)} + v_{x} \\sin{\\left(\\frac{\\varphi}{2} \\right)} i + v_{y} \\sin{\\left(\\frac{\\varphi}{2} \\right)} j + v_{z} \\sin{\\left(\\frac{\\varphi}{2} \\right)} k$"
      ],
      "text/plain": [
       "cos(\\varphi/2) + v_x*sin(\\varphi/2)*i + v_y*sin(\\varphi/2)*j + v_z*sin(\\varphi/2)*k"
      ]
     },
     "execution_count": 8,
     "metadata": {},
     "output_type": "execute_result"
    }
   ],
   "source": [
    "q_rot_normalized = q_rot.subs(subs_unit)\n",
    "q_rot_normalized"
   ]
  },
  {
   "cell_type": "code",
   "execution_count": null,
   "id": "prostate-convert",
   "metadata": {},
   "outputs": [],
   "source": []
  },
  {
   "cell_type": "markdown",
   "id": "modular-danish",
   "metadata": {},
   "source": [
    "Find the orientation of a vector $\\boldsymbol{v} = v_a$ and a rotation angle $\\varphi$"
   ]
  },
  {
   "cell_type": "markdown",
   "id": "hollywood-gateway",
   "metadata": {},
   "source": [
    "The rotation of a vector $U^{\\llcorner}$ around a unit vector $v_a$ by an angle $\\varphi$ is expressed as"
   ]
  },
  {
   "cell_type": "code",
   "execution_count": 9,
   "id": "interpreted-catch",
   "metadata": {},
   "outputs": [
    {
     "data": {
      "text/latex": [
       "$\\displaystyle \\left( \\frac{v_{x} \\left(v_{x} x^{\\llcorner} + v_{y} y^{\\llcorner} + v_{z} z^{\\llcorner}\\right) \\sin^{2}{\\left(\\frac{\\varphi}{2} \\right)}}{v_{x}^{2} \\sin^{2}{\\left(\\frac{\\varphi}{2} \\right)} + v_{y}^{2} \\sin^{2}{\\left(\\frac{\\varphi}{2} \\right)} + v_{z}^{2} \\sin^{2}{\\left(\\frac{\\varphi}{2} \\right)} - \\sin^{2}{\\left(\\frac{\\varphi}{2} \\right)} + 1} + \\frac{v_{y} \\left(- v_{x} y^{\\llcorner} \\cos{\\left(\\varphi \\right)} + v_{x} y^{\\llcorner} + v_{y} x^{\\llcorner} \\cos{\\left(\\varphi \\right)} - v_{y} x^{\\llcorner} + z^{\\llcorner} \\sin{\\left(\\varphi \\right)}\\right)}{- v_{x}^{2} \\cos{\\left(\\varphi \\right)} + v_{x}^{2} - v_{y}^{2} \\cos{\\left(\\varphi \\right)} + v_{y}^{2} - v_{z}^{2} \\cos{\\left(\\varphi \\right)} + v_{z}^{2} + \\cos{\\left(\\varphi \\right)} + 1} - \\frac{v_{z} \\left(v_{x} z^{\\llcorner} \\cos{\\left(\\varphi \\right)} - v_{x} z^{\\llcorner} - v_{z} x^{\\llcorner} \\cos{\\left(\\varphi \\right)} + v_{z} x^{\\llcorner} + y^{\\llcorner} \\sin{\\left(\\varphi \\right)}\\right)}{- v_{x}^{2} \\cos{\\left(\\varphi \\right)} + v_{x}^{2} - v_{y}^{2} \\cos{\\left(\\varphi \\right)} + v_{y}^{2} - v_{z}^{2} \\cos{\\left(\\varphi \\right)} + v_{z}^{2} + \\cos{\\left(\\varphi \\right)} + 1} + \\frac{v_{y} z^{\\llcorner} \\sin{\\left(\\varphi \\right)} - v_{z} y^{\\llcorner} \\sin{\\left(\\varphi \\right)} + x^{\\llcorner} \\cos{\\left(\\varphi \\right)} + x^{\\llcorner}}{- v_{x}^{2} \\cos{\\left(\\varphi \\right)} + v_{x}^{2} - v_{y}^{2} \\cos{\\left(\\varphi \\right)} + v_{y}^{2} - v_{z}^{2} \\cos{\\left(\\varphi \\right)} + v_{z}^{2} + \\cos{\\left(\\varphi \\right)} + 1}, \\  - \\frac{v_{x} \\left(- v_{x} y^{\\llcorner} \\cos{\\left(\\varphi \\right)} + v_{x} y^{\\llcorner} + v_{y} x^{\\llcorner} \\cos{\\left(\\varphi \\right)} - v_{y} x^{\\llcorner} + z^{\\llcorner} \\sin{\\left(\\varphi \\right)}\\right)}{- v_{x}^{2} \\cos{\\left(\\varphi \\right)} + v_{x}^{2} - v_{y}^{2} \\cos{\\left(\\varphi \\right)} + v_{y}^{2} - v_{z}^{2} \\cos{\\left(\\varphi \\right)} + v_{z}^{2} + \\cos{\\left(\\varphi \\right)} + 1} + \\frac{v_{y} \\left(v_{x} x^{\\llcorner} + v_{y} y^{\\llcorner} + v_{z} z^{\\llcorner}\\right) \\sin^{2}{\\left(\\frac{\\varphi}{2} \\right)}}{v_{x}^{2} \\sin^{2}{\\left(\\frac{\\varphi}{2} \\right)} + v_{y}^{2} \\sin^{2}{\\left(\\frac{\\varphi}{2} \\right)} + v_{z}^{2} \\sin^{2}{\\left(\\frac{\\varphi}{2} \\right)} - \\sin^{2}{\\left(\\frac{\\varphi}{2} \\right)} + 1} - \\frac{v_{z} \\left(v_{y} z^{\\llcorner} \\cos{\\left(\\varphi \\right)} - v_{y} z^{\\llcorner} - v_{z} y^{\\llcorner} \\cos{\\left(\\varphi \\right)} + v_{z} y^{\\llcorner} - x^{\\llcorner} \\sin{\\left(\\varphi \\right)}\\right)}{- v_{x}^{2} \\cos{\\left(\\varphi \\right)} + v_{x}^{2} - v_{y}^{2} \\cos{\\left(\\varphi \\right)} + v_{y}^{2} - v_{z}^{2} \\cos{\\left(\\varphi \\right)} + v_{z}^{2} + \\cos{\\left(\\varphi \\right)} + 1} + \\frac{- v_{x} z^{\\llcorner} \\sin{\\left(\\varphi \\right)} + v_{z} x^{\\llcorner} \\sin{\\left(\\varphi \\right)} + y^{\\llcorner} \\cos{\\left(\\varphi \\right)} + y^{\\llcorner}}{- v_{x}^{2} \\cos{\\left(\\varphi \\right)} + v_{x}^{2} - v_{y}^{2} \\cos{\\left(\\varphi \\right)} + v_{y}^{2} - v_{z}^{2} \\cos{\\left(\\varphi \\right)} + v_{z}^{2} + \\cos{\\left(\\varphi \\right)} + 1}, \\  \\frac{v_{x} \\left(v_{x} z^{\\llcorner} \\cos{\\left(\\varphi \\right)} - v_{x} z^{\\llcorner} - v_{z} x^{\\llcorner} \\cos{\\left(\\varphi \\right)} + v_{z} x^{\\llcorner} + y^{\\llcorner} \\sin{\\left(\\varphi \\right)}\\right)}{- v_{x}^{2} \\cos{\\left(\\varphi \\right)} + v_{x}^{2} - v_{y}^{2} \\cos{\\left(\\varphi \\right)} + v_{y}^{2} - v_{z}^{2} \\cos{\\left(\\varphi \\right)} + v_{z}^{2} + \\cos{\\left(\\varphi \\right)} + 1} - \\frac{v_{y} \\left(- v_{y} z^{\\llcorner} \\cos{\\left(\\varphi \\right)} + v_{y} z^{\\llcorner} + v_{z} y^{\\llcorner} \\cos{\\left(\\varphi \\right)} - v_{z} y^{\\llcorner} + x^{\\llcorner} \\sin{\\left(\\varphi \\right)}\\right)}{- v_{x}^{2} \\cos{\\left(\\varphi \\right)} + v_{x}^{2} - v_{y}^{2} \\cos{\\left(\\varphi \\right)} + v_{y}^{2} - v_{z}^{2} \\cos{\\left(\\varphi \\right)} + v_{z}^{2} + \\cos{\\left(\\varphi \\right)} + 1} + \\frac{v_{z} \\left(v_{x} x^{\\llcorner} + v_{y} y^{\\llcorner} + v_{z} z^{\\llcorner}\\right) \\sin^{2}{\\left(\\frac{\\varphi}{2} \\right)}}{v_{x}^{2} \\sin^{2}{\\left(\\frac{\\varphi}{2} \\right)} + v_{y}^{2} \\sin^{2}{\\left(\\frac{\\varphi}{2} \\right)} + v_{z}^{2} \\sin^{2}{\\left(\\frac{\\varphi}{2} \\right)} - \\sin^{2}{\\left(\\frac{\\varphi}{2} \\right)} + 1} + \\frac{v_{x} y^{\\llcorner} \\sin{\\left(\\varphi \\right)} - v_{y} x^{\\llcorner} \\sin{\\left(\\varphi \\right)} + z^{\\llcorner} \\cos{\\left(\\varphi \\right)} + z^{\\llcorner}}{- v_{x}^{2} \\cos{\\left(\\varphi \\right)} + v_{x}^{2} - v_{y}^{2} \\cos{\\left(\\varphi \\right)} + v_{y}^{2} - v_{z}^{2} \\cos{\\left(\\varphi \\right)} + v_{z}^{2} + \\cos{\\left(\\varphi \\right)} + 1}\\right)$"
      ],
      "text/plain": [
       "(v_x*(v_x*x^{\\llcorner} + v_y*y^{\\llcorner} + v_z*z^{\\llcorner})*sin(\\varphi/2)**2/(v_x**2*sin(\\varphi/2)**2 + v_y**2*sin(\\varphi/2)**2 + v_z**2*sin(\\varphi/2)**2 - sin(\\varphi/2)**2 + 1) + v_y*(-v_x*y^{\\llcorner}*cos(\\varphi) + v_x*y^{\\llcorner} + v_y*x^{\\llcorner}*cos(\\varphi) - v_y*x^{\\llcorner} + z^{\\llcorner}*sin(\\varphi))/(-v_x**2*cos(\\varphi) + v_x**2 - v_y**2*cos(\\varphi) + v_y**2 - v_z**2*cos(\\varphi) + v_z**2 + cos(\\varphi) + 1) - v_z*(v_x*z^{\\llcorner}*cos(\\varphi) - v_x*z^{\\llcorner} - v_z*x^{\\llcorner}*cos(\\varphi) + v_z*x^{\\llcorner} + y^{\\llcorner}*sin(\\varphi))/(-v_x**2*cos(\\varphi) + v_x**2 - v_y**2*cos(\\varphi) + v_y**2 - v_z**2*cos(\\varphi) + v_z**2 + cos(\\varphi) + 1) + (v_y*z^{\\llcorner}*sin(\\varphi) - v_z*y^{\\llcorner}*sin(\\varphi) + x^{\\llcorner}*cos(\\varphi) + x^{\\llcorner})/(-v_x**2*cos(\\varphi) + v_x**2 - v_y**2*cos(\\varphi) + v_y**2 - v_z**2*cos(\\varphi) + v_z**2 + cos(\\varphi) + 1), -v_x*(-v_x*y^{\\llcorner}*cos(\\varphi) + v_x*y^{\\llcorner} + v_y*x^{\\llcorner}*cos(\\varphi) - v_y*x^{\\llcorner} + z^{\\llcorner}*sin(\\varphi))/(-v_x**2*cos(\\varphi) + v_x**2 - v_y**2*cos(\\varphi) + v_y**2 - v_z**2*cos(\\varphi) + v_z**2 + cos(\\varphi) + 1) + v_y*(v_x*x^{\\llcorner} + v_y*y^{\\llcorner} + v_z*z^{\\llcorner})*sin(\\varphi/2)**2/(v_x**2*sin(\\varphi/2)**2 + v_y**2*sin(\\varphi/2)**2 + v_z**2*sin(\\varphi/2)**2 - sin(\\varphi/2)**2 + 1) - v_z*(v_y*z^{\\llcorner}*cos(\\varphi) - v_y*z^{\\llcorner} - v_z*y^{\\llcorner}*cos(\\varphi) + v_z*y^{\\llcorner} - x^{\\llcorner}*sin(\\varphi))/(-v_x**2*cos(\\varphi) + v_x**2 - v_y**2*cos(\\varphi) + v_y**2 - v_z**2*cos(\\varphi) + v_z**2 + cos(\\varphi) + 1) + (-v_x*z^{\\llcorner}*sin(\\varphi) + v_z*x^{\\llcorner}*sin(\\varphi) + y^{\\llcorner}*cos(\\varphi) + y^{\\llcorner})/(-v_x**2*cos(\\varphi) + v_x**2 - v_y**2*cos(\\varphi) + v_y**2 - v_z**2*cos(\\varphi) + v_z**2 + cos(\\varphi) + 1), v_x*(v_x*z^{\\llcorner}*cos(\\varphi) - v_x*z^{\\llcorner} - v_z*x^{\\llcorner}*cos(\\varphi) + v_z*x^{\\llcorner} + y^{\\llcorner}*sin(\\varphi))/(-v_x**2*cos(\\varphi) + v_x**2 - v_y**2*cos(\\varphi) + v_y**2 - v_z**2*cos(\\varphi) + v_z**2 + cos(\\varphi) + 1) - v_y*(-v_y*z^{\\llcorner}*cos(\\varphi) + v_y*z^{\\llcorner} + v_z*y^{\\llcorner}*cos(\\varphi) - v_z*y^{\\llcorner} + x^{\\llcorner}*sin(\\varphi))/(-v_x**2*cos(\\varphi) + v_x**2 - v_y**2*cos(\\varphi) + v_y**2 - v_z**2*cos(\\varphi) + v_z**2 + cos(\\varphi) + 1) + v_z*(v_x*x^{\\llcorner} + v_y*y^{\\llcorner} + v_z*z^{\\llcorner})*sin(\\varphi/2)**2/(v_x**2*sin(\\varphi/2)**2 + v_y**2*sin(\\varphi/2)**2 + v_z**2*sin(\\varphi/2)**2 - sin(\\varphi/2)**2 + 1) + (v_x*y^{\\llcorner}*sin(\\varphi) - v_y*x^{\\llcorner}*sin(\\varphi) + z^{\\llcorner}*cos(\\varphi) + z^{\\llcorner})/(-v_x**2*cos(\\varphi) + v_x**2 - v_y**2*cos(\\varphi) + v_y**2 - v_z**2*cos(\\varphi) + v_z**2 + cos(\\varphi) + 1))"
      ]
     },
     "execution_count": 9,
     "metadata": {},
     "output_type": "execute_result"
    }
   ],
   "source": [
    "q_U=Quaternion.rotate_point((x_ll, y_ll, z_ll), q_rot_normalized)\n",
    "sp.trigsimp(q_U)"
   ]
  },
  {
   "cell_type": "markdown",
   "id": "expected-paintball",
   "metadata": {},
   "source": [
    "The vector $V^\\dashv U^\\urcorner$ defines the rotation axis.  "
   ]
  },
  {
   "cell_type": "code",
   "execution_count": null,
   "id": "qualified-design",
   "metadata": {},
   "outputs": [],
   "source": []
  }
 ],
 "metadata": {
  "kernelspec": {
   "display_name": "bmcs_env",
   "language": "python",
   "name": "bmcs_env"
  },
  "language_info": {
   "codemirror_mode": {
    "name": "ipython",
    "version": 3
   },
   "file_extension": ".py",
   "mimetype": "text/x-python",
   "name": "python",
   "nbconvert_exporter": "python",
   "pygments_lexer": "ipython3",
   "version": "3.9.2"
  },
  "toc": {
   "base_numbering": 1,
   "nav_menu": {},
   "number_sections": true,
   "sideBar": true,
   "skip_h1_title": false,
   "title_cell": "Table of Contents",
   "title_sidebar": "Contents",
   "toc_cell": false,
   "toc_position": {},
   "toc_section_display": true,
   "toc_window_display": false
  }
 },
 "nbformat": 4,
 "nbformat_minor": 5
}
