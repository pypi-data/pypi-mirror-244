{
 "cells": [
  {
   "cell_type": "code",
   "execution_count": 1,
   "metadata": {},
   "outputs": [],
   "source": [
    "%matplotlib widget\n",
    "from bmcs_shell.api import WBGeoUtils, WBTessellation4P\n",
    "import numpy as np\n",
    "import matplotlib.pyplot as plt\n",
    "import sympy as sp"
   ]
  },
  {
   "cell_type": "code",
   "execution_count": 2,
   "metadata": {
    "scrolled": false
   },
   "outputs": [
    {
     "name": "stderr",
     "output_type": "stream",
     "text": [
      "C:\\Users\\hspartali\\Anaconda3\\envs\\bmcs_env\\lib\\site-packages\\traittypes\\traittypes.py:97: UserWarning: Given trait value dtype \"uint32\" does not match required type \"float32\". A coerced copy has been created.\n",
      "  warnings.warn(\n"
     ]
    },
    {
     "data": {
      "application/vnd.jupyter.widget-view+json": {
       "model_id": "f222e115f502430586ec7092d97dd5eb",
       "version_major": 2,
       "version_minor": 0
      },
      "text/plain": [
       "VBox(children=(HBox(children=(VBox(children=(Tree(layout=Layout(align_items='stretch', border='solid 1px black…"
      ]
     },
     "metadata": {},
     "output_type": "display_data"
    }
   ],
   "source": [
    "a = 100\n",
    "wbt4p = WBTessellation4P(\n",
    "                         a=a,\n",
    "                         b = 5.492 * a, \n",
    "                         c = 1.8466 * a, \n",
    "                         gamma=np.deg2rad(54.53), \n",
    "                         n_phi_plus=3, \n",
    "                         n_x_plus=2, \n",
    "                         wireframe_width=5, trim_ext_facets=False,\n",
    "                                 trim_half_cells_along_y=True,\n",
    "                                 trim_half_cells_along_x=True,\n",
    "                                 align_outer_nodes_along_x=True)\n",
    "wbt4p.interact()"
   ]
  },
  {
   "cell_type": "code",
   "execution_count": 6,
   "metadata": {},
   "outputs": [
    {
     "data": {
      "text/latex": [
       "$\\displaystyle c \\sin{\\left(\\gamma \\right)}$"
      ],
      "text/plain": [
       "c*sin(gamma)"
      ]
     },
     "execution_count": 6,
     "metadata": {},
     "output_type": "execute_result"
    }
   ],
   "source": [
    "x_of_side_vertices"
   ]
  },
  {
   "cell_type": "code",
   "execution_count": 5,
   "metadata": {},
   "outputs": [
    {
     "data": {
      "text/latex": [
       "$\\displaystyle a$"
      ],
      "text/plain": [
       "a"
      ]
     },
     "execution_count": 5,
     "metadata": {},
     "output_type": "execute_result"
    }
   ],
   "source": [
    "x_of_corner_vertices"
   ]
  },
  {
   "cell_type": "code",
   "execution_count": 3,
   "metadata": {},
   "outputs": [
    {
     "data": {
      "text/latex": [
       "$\\displaystyle \\frac{a}{\\sin{\\left(\\gamma \\right)}}$"
      ],
      "text/plain": [
       "a/sin(gamma)"
      ]
     },
     "execution_count": 3,
     "metadata": {},
     "output_type": "execute_result"
    }
   ],
   "source": [
    "c = wbt4p.wb_cell.symb.c\n",
    "gamma = wbt4p.wb_cell.symb.gamma\n",
    "a = wbt4p.wb_cell.symb.a\n",
    "\n",
    "x_of_corner_vertices = a\n",
    "x_of_side_vertices = c * sp.sin(gamma)\n",
    "c_straight_edges_wb_shell = sp.solve(x_of_corner_vertices - x_of_side_vertices, c)\n",
    "c_straight_edges_wb_shell[0]\n",
    "# str(c_flat_wb_shell[0])"
   ]
  },
  {
   "cell_type": "code",
   "execution_count": 11,
   "metadata": {},
   "outputs": [
    {
     "data": {
      "text/plain": [
       "122.93839914681004"
      ]
     },
     "execution_count": 11,
     "metadata": {},
     "output_type": "execute_result"
    }
   ],
   "source": [
    "def get_c_straight_edges(gamma, a):\n",
    "    return a/np.sin(gamma)\n",
    "get_c_straight_edges(0.95, 100)"
   ]
  }
 ],
 "metadata": {
  "kernelspec": {
   "display_name": "Python 3 (ipykernel)",
   "language": "python",
   "name": "python3"
  },
  "language_info": {
   "codemirror_mode": {
    "name": "ipython",
    "version": 3
   },
   "file_extension": ".py",
   "mimetype": "text/x-python",
   "name": "python",
   "nbconvert_exporter": "python",
   "pygments_lexer": "ipython3",
   "version": "3.9.12"
  },
  "toc": {
   "base_numbering": 1,
   "nav_menu": {},
   "number_sections": true,
   "sideBar": true,
   "skip_h1_title": true,
   "title_cell": "Table of Contents",
   "title_sidebar": "Contents",
   "toc_cell": false,
   "toc_position": {},
   "toc_section_display": true,
   "toc_window_display": false
  }
 },
 "nbformat": 4,
 "nbformat_minor": 4
}
