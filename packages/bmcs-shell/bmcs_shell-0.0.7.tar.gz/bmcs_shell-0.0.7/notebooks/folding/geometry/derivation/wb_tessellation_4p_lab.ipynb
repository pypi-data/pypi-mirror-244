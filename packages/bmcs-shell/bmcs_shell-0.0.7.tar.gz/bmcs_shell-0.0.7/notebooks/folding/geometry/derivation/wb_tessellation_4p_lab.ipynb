{
 "cells": [
  {
   "cell_type": "markdown",
   "metadata": {},
   "source": [
    "# Waterbomb shell folder and designer"
   ]
  },
  {
   "cell_type": "code",
   "execution_count": 1,
   "metadata": {
    "pycharm": {
     "name": "#%%\n"
    }
   },
   "outputs": [],
   "source": [
    "%matplotlib widget"
   ]
  },
  {
   "cell_type": "code",
   "execution_count": 5,
   "metadata": {},
   "outputs": [],
   "source": [
    "import sympy as sp\n",
    "sp.init_printing()\n",
    "import numpy as np\n",
    "import matplotlib.pylab as plt\n",
    "import bmcs_utils.api as bu"
   ]
  },
  {
   "cell_type": "code",
   "execution_count": 7,
   "metadata": {},
   "outputs": [],
   "source": [
    "from bmcs_shell.api import WBCell4Param as WBCell\n",
    "from bmcs_shell.api import WBTessellation4P"
   ]
  },
  {
   "cell_type": "code",
   "execution_count": 8,
   "metadata": {},
   "outputs": [],
   "source": [
    "gamma_ = 0.2\n",
    "eta = 0.5\n",
    "zeta = 0.90\n",
    "b = 1200\n",
    "a = b * eta\n",
    "c = a * zeta\n",
    "data = dict(alpha=np.pi/2 -gamma_, a=a, b=b, c=c, n_phi_plus=10, n_x_plus=10)\n",
    "#data = dict(alpha=np.pi/2 - gamma_, a=500, b=1200, c=550, n_phi_plus=2, n_x_plus=2)"
   ]
  },
  {
   "cell_type": "code",
   "execution_count": 9,
   "metadata": {},
   "outputs": [
    {
     "data": {
      "image/png": "[encoded data removed]",
      "text/latex": [
       "$\\displaystyle \\left( 0.9, \\  0.5\\right)$"
      ],
      "text/plain": [
       "(0.9, 0.5)"
      ]
     },
     "execution_count": 9,
     "metadata": {},
     "output_type": "execute_result"
    }
   ],
   "source": [
    "zeta, eta,"
   ]
  },
  {
   "cell_type": "code",
   "execution_count": 10,
   "metadata": {},
   "outputs": [],
   "source": [
    "wb = WBCell(**data)\n",
    "ws = WBTessellation4P(wb_cell=wb, show_wireframe=True, **data)"
   ]
  },
  {
   "cell_type": "code",
   "execution_count": 11,
   "metadata": {},
   "outputs": [
    {
     "data": {
      "application/vnd.jupyter.widget-view+json": {
       "model_id": "070db1d0955c4017ad2ff78a3aa55fa3",
       "version_major": 2,
       "version_minor": 0
      },
      "text/plain": [
       "VBox(children=(HBox(children=(VBox(children=(Tree(layout=Layout(align_items='stretch', border='solid 1px black…"
      ]
     },
     "metadata": {},
     "output_type": "display_data"
    }
   ],
   "source": [
    "app = bu.AppWindow(ws)\n",
    "app.interact()"
   ]
  },
  {
   "cell_type": "code",
   "execution_count": 12,
   "metadata": {},
   "outputs": [
    {
     "data": {
      "text/plain": [
       "array([[ 634,  633],\n",
       "       [ 704,  703],\n",
       "       [ 774,  773],\n",
       "       [ 844,  843],\n",
       "       [ 914,  913],\n",
       "       [ 984,  983],\n",
       "       [1054, 1053],\n",
       "       [1124, 1123],\n",
       "       [1194, 1193],\n",
       "       [1264, 1263]])"
      ]
     },
     "execution_count": 12,
     "metadata": {},
     "output_type": "execute_result"
    }
   ],
   "source": [
    "I_m = ws.I_CDij[-1,:,-1,:]\n",
    "I_m"
   ]
  },
  {
   "cell_type": "code",
   "execution_count": 13,
   "metadata": {},
   "outputs": [],
   "source": [
    "_, idx_remap = ws.unique_node_map\n",
    "J_m = idx_remap[I_m]"
   ]
  },
  {
   "cell_type": "code",
   "execution_count": 14,
   "metadata": {},
   "outputs": [
    {
     "data": {
      "text/plain": [
       "array([[-10810.53226929,  -9610.53226929,  -8541.52509834,\n",
       "         -7341.52509834,  -6272.51792738,  -5072.51792738,\n",
       "         -4003.51075643,  -2803.51075643,  -1734.50358548,\n",
       "          -534.50358548,    534.50358548,   1734.50358548,\n",
       "          2803.51075643,   4003.51075643,   5072.51792738,\n",
       "          6272.51792738,   7341.52509834,   8541.52509834,\n",
       "          9610.53226929,  10810.53226929],\n",
       "       [-11368.63867188, -11368.63867188, -11368.63867188,\n",
       "        -11368.63867188, -11368.63867188, -11368.63867188,\n",
       "        -11368.63867188, -11368.63867188, -11368.63867188,\n",
       "        -11368.63867188, -11368.63867188, -11368.63867188,\n",
       "        -11368.63867188, -11368.63867188, -11368.63867188,\n",
       "        -11368.63867188, -11368.63867188, -11368.63867188,\n",
       "        -11368.63867188, -11368.63867188],\n",
       "       [ -3228.16210938,  -3228.16210938,  -3228.16210938,\n",
       "         -3228.16210938,  -3228.16210938,  -3228.16210938,\n",
       "         -3228.16210938,  -3228.16210938,  -3228.16210938,\n",
       "         -3228.16210938,  -3228.16210938,  -3228.16210938,\n",
       "         -3228.16210938,  -3228.16210938,  -3228.16210938,\n",
       "         -3228.16210938,  -3228.16210938,  -3228.16210938,\n",
       "         -3228.16210938,  -3228.16210938]])"
      ]
     },
     "execution_count": 14,
     "metadata": {},
     "output_type": "execute_result"
    }
   ],
   "source": [
    "ws.X_Ia[J_m.flatten()].T"
   ]
  },
  {
   "cell_type": "markdown",
   "metadata": {},
   "source": [
    "# Node map to allow for hierarchical sliding"
   ]
  },
  {
   "cell_type": "code",
   "execution_count": 15,
   "metadata": {
    "scrolled": true
   },
   "outputs": [
    {
     "data": {
      "text/plain": [
       "(array([ 0,  2,  4,  6,  8, 10, 12, 14, 16, 18]),\n",
       " array([ 0,  2,  4,  6,  8, 10, 12, 14, 16, 18]))"
      ]
     },
     "execution_count": 15,
     "metadata": {},
     "output_type": "execute_result"
    }
   ],
   "source": [
    "n_cells, n_ic, n_id, _, x_cell_idx, _, y_cell_idx = ws.cell_map\n",
    "x_cell_idx, y_cell_idx"
   ]
  },
  {
   "cell_type": "code",
   "execution_count": 16,
   "metadata": {},
   "outputs": [
    {
     "data": {
      "text/plain": [
       "(array([0., 1., 2., 3., 4., 5., 6., 7., 8., 9.]),\n",
       " array([0., 1., 2., 3., 4., 5., 6., 7., 8., 9.]))"
      ]
     },
     "execution_count": 16,
     "metadata": {},
     "output_type": "execute_result"
    }
   ],
   "source": [
    "x_idx, y_idx = x_cell_idx / 2, y_cell_idx / 2\n",
    "x_idx, y_idx"
   ]
  },
  {
   "cell_type": "code",
   "execution_count": 17,
   "metadata": {},
   "outputs": [],
   "source": [
    "n_x_, n_y_ = len(x_idx), len(y_idx) "
   ]
  },
  {
   "cell_type": "code",
   "execution_count": 18,
   "metadata": {},
   "outputs": [
    {
     "data": {
      "text/plain": [
       "array([[ 567,  574,  581,  588,  595,  602,  609,  616,  623,  630],\n",
       "       [ 637,  644,  651,  658,  665,  672,  679,  686,  693,  700],\n",
       "       [ 707,  714,  721,  728,  735,  742,  749,  756,  763,  770],\n",
       "       [ 777,  784,  791,  798,  805,  812,  819,  826,  833,  840],\n",
       "       [ 847,  854,  861,  868,  875,  882,  889,  896,  903,  910],\n",
       "       [ 917,  924,  931,  938,  945,  952,  959,  966,  973,  980],\n",
       "       [ 987,  994, 1001, 1008, 1015, 1022, 1029, 1036, 1043, 1050],\n",
       "       [1057, 1064, 1071, 1078, 1085, 1092, 1099, 1106, 1113, 1120],\n",
       "       [1127, 1134, 1141, 1148, 1155, 1162, 1169, 1176, 1183, 1190],\n",
       "       [1197, 1204, 1211, 1218, 1225, 1232, 1239, 1246, 1253, 1260]])"
      ]
     },
     "execution_count": 18,
     "metadata": {},
     "output_type": "execute_result"
    }
   ],
   "source": [
    "I_cell_offset = (n_ic + np.arange(n_x_*n_y_).reshape(n_x_, n_y_)) * ws.wb_cell.n_I\n",
    "I_cell_offset"
   ]
  },
  {
   "cell_type": "code",
   "execution_count": 19,
   "metadata": {},
   "outputs": [
    {
     "data": {
      "text/plain": [
       "array([[[[2, 1],\n",
       "         [6, 5],\n",
       "         [4, 3]]]])"
      ]
     },
     "execution_count": 19,
     "metadata": {},
     "output_type": "execute_result"
    }
   ],
   "source": [
    "ws.wb_cell.I_boundary[np.newaxis,np.newaxis,:,:]"
   ]
  },
  {
   "cell_type": "code",
   "execution_count": 20,
   "metadata": {},
   "outputs": [],
   "source": [
    "I_CDij_map = I_cell_offset.T[:,:,np.newaxis, np.newaxis] + ws.wb_cell.I_boundary[np.newaxis,np.newaxis,:,:]"
   ]
  },
  {
   "cell_type": "code",
   "execution_count": 21,
   "metadata": {},
   "outputs": [
    {
     "data": {
      "text/plain": [
       "array([[ 634,  633],\n",
       "       [ 704,  703],\n",
       "       [ 774,  773],\n",
       "       [ 844,  843],\n",
       "       [ 914,  913],\n",
       "       [ 984,  983],\n",
       "       [1054, 1053],\n",
       "       [1124, 1123],\n",
       "       [1194, 1193],\n",
       "       [1264, 1263]])"
      ]
     },
     "execution_count": 21,
     "metadata": {},
     "output_type": "execute_result"
    }
   ],
   "source": [
    "I_CDij_map[-1,:,-1,:]"
   ]
  },
  {
   "cell_type": "markdown",
   "metadata": {},
   "source": [
    "# Find duplicate nodes and merge them to a single one"
   ]
  },
  {
   "cell_type": "code",
   "execution_count": 22,
   "metadata": {},
   "outputs": [],
   "source": [
    "X_Ia = np.array([[2,1,0],\n",
    "                 [3,8,9],\n",
    "                 [0,0,0],\n",
    "                 [5,3,9],\n",
    "                 [1,0,1],\n",
    "                 [0,0,0],\n",
    "                 [1,0,1],\n",
    "                 [0,0,0]],dtype=np.float_)"
   ]
  },
  {
   "cell_type": "code",
   "execution_count": 32,
   "metadata": {},
   "outputs": [
    {
     "data": {
      "text/plain": [
       "array([[[2., 1., 0.],\n",
       "        [3., 8., 9.],\n",
       "        [0., 0., 0.],\n",
       "        [5., 3., 9.],\n",
       "        [1., 0., 1.],\n",
       "        [0., 0., 0.],\n",
       "        [1., 0., 1.],\n",
       "        [0., 0., 0.]]])"
      ]
     },
     "execution_count": 32,
     "metadata": {},
     "output_type": "execute_result"
    }
   ],
   "source": [
    "x_0[np.newaxis, :, :]"
   ]
  },
  {
   "cell_type": "code",
   "execution_count": 30,
   "metadata": {},
   "outputs": [
    {
     "data": {
      "text/plain": [
       "array([[2., 1., 0.],\n",
       "       [3., 8., 9.],\n",
       "       [0., 0., 0.],\n",
       "       [5., 3., 9.],\n",
       "       [1., 0., 1.],\n",
       "       [0., 0., 0.],\n",
       "       [1., 0., 1.],\n",
       "       [0., 0., 0.]])"
      ]
     },
     "execution_count": 30,
     "metadata": {},
     "output_type": "execute_result"
    }
   ],
   "source": [
    "# reshape the coordinates in array of segments to the shape (n_N, n_D\n",
    "x_0 = X_Ia"
   ]
  },
  {
   "cell_type": "code",
   "execution_count": 29,
   "metadata": {
    "scrolled": true
   },
   "outputs": [
    {
     "data": {
      "text/plain": [
       "array([[[ 0.,  0.,  0.],\n",
       "        [-1., -7., -9.],\n",
       "        [ 2.,  1.,  0.],\n",
       "        [-3., -2., -9.],\n",
       "        [ 1.,  1., -1.],\n",
       "        [ 2.,  1.,  0.],\n",
       "        [ 1.,  1., -1.],\n",
       "        [ 2.,  1.,  0.]],\n",
       "\n",
       "       [[ 1.,  7.,  9.],\n",
       "        [ 0.,  0.,  0.],\n",
       "        [ 3.,  8.,  9.],\n",
       "        [-2.,  5.,  0.],\n",
       "        [ 2.,  8.,  8.],\n",
       "        [ 3.,  8.,  9.],\n",
       "        [ 2.,  8.,  8.],\n",
       "        [ 3.,  8.,  9.]],\n",
       "\n",
       "       [[-2., -1.,  0.],\n",
       "        [-3., -8., -9.],\n",
       "        [ 0.,  0.,  0.],\n",
       "        [-5., -3., -9.],\n",
       "        [-1.,  0., -1.],\n",
       "        [ 0.,  0.,  0.],\n",
       "        [-1.,  0., -1.],\n",
       "        [ 0.,  0.,  0.]],\n",
       "\n",
       "       [[ 3.,  2.,  9.],\n",
       "        [ 2., -5.,  0.],\n",
       "        [ 5.,  3.,  9.],\n",
       "        [ 0.,  0.,  0.],\n",
       "        [ 4.,  3.,  8.],\n",
       "        [ 5.,  3.,  9.],\n",
       "        [ 4.,  3.,  8.],\n",
       "        [ 5.,  3.,  9.]],\n",
       "\n",
       "       [[-1., -1.,  1.],\n",
       "        [-2., -8., -8.],\n",
       "        [ 1.,  0.,  1.],\n",
       "        [-4., -3., -8.],\n",
       "        [ 0.,  0.,  0.],\n",
       "        [ 1.,  0.,  1.],\n",
       "        [ 0.,  0.,  0.],\n",
       "        [ 1.,  0.,  1.]],\n",
       "\n",
       "       [[-2., -1.,  0.],\n",
       "        [-3., -8., -9.],\n",
       "        [ 0.,  0.,  0.],\n",
       "        [-5., -3., -9.],\n",
       "        [-1.,  0., -1.],\n",
       "        [ 0.,  0.,  0.],\n",
       "        [-1.,  0., -1.],\n",
       "        [ 0.,  0.,  0.]],\n",
       "\n",
       "       [[-1., -1.,  1.],\n",
       "        [-2., -8., -8.],\n",
       "        [ 1.,  0.,  1.],\n",
       "        [-4., -3., -8.],\n",
       "        [ 0.,  0.,  0.],\n",
       "        [ 1.,  0.,  1.],\n",
       "        [ 0.,  0.,  0.],\n",
       "        [ 1.,  0.,  1.]],\n",
       "\n",
       "       [[-2., -1.,  0.],\n",
       "        [-3., -8., -9.],\n",
       "        [ 0.,  0.,  0.],\n",
       "        [-5., -3., -9.],\n",
       "        [-1.,  0., -1.],\n",
       "        [ 0.,  0.,  0.],\n",
       "        [-1.,  0., -1.],\n",
       "        [ 0.,  0.,  0.]]])"
      ]
     },
     "execution_count": 29,
     "metadata": {},
     "output_type": "execute_result"
    }
   ],
   "source": [
    "# construct distance vectors between every pair of nodes\n",
    "x_x_0 = x_0[:, np.newaxis, :] - x_0[np.newaxis, :, :]\n",
    "x_x_0"
   ]
  },
  {
   "cell_type": "code",
   "execution_count": 28,
   "metadata": {},
   "outputs": [
    {
     "data": {
      "text/plain": [
       "array([[ 0.        , 11.44552314,  2.23606798,  9.69535971,  1.73205081,\n",
       "         2.23606798,  1.73205081,  2.23606798],\n",
       "       [11.44552314,  0.        , 12.40967365,  5.38516481, 11.48912529,\n",
       "        12.40967365, 11.48912529, 12.40967365],\n",
       "       [ 2.23606798, 12.40967365,  0.        , 10.72380529,  1.41421356,\n",
       "         0.        ,  1.41421356,  0.        ],\n",
       "       [ 9.69535971,  5.38516481, 10.72380529,  0.        ,  9.43398113,\n",
       "        10.72380529,  9.43398113, 10.72380529],\n",
       "       [ 1.73205081, 11.48912529,  1.41421356,  9.43398113,  0.        ,\n",
       "         1.41421356,  0.        ,  1.41421356],\n",
       "       [ 2.23606798, 12.40967365,  0.        , 10.72380529,  1.41421356,\n",
       "         0.        ,  1.41421356,  0.        ],\n",
       "       [ 1.73205081, 11.48912529,  1.41421356,  9.43398113,  0.        ,\n",
       "         1.41421356,  0.        ,  1.41421356],\n",
       "       [ 2.23606798, 12.40967365,  0.        , 10.72380529,  1.41421356,\n",
       "         0.        ,  1.41421356,  0.        ]])"
      ]
     },
     "execution_count": 28,
     "metadata": {},
     "output_type": "execute_result"
    }
   ],
   "source": [
    "# calculate the distance between every pair of nodes\n",
    "dist_0 = np.sqrt(np.einsum('...i,...i', x_x_0, x_x_0))\n",
    "dist_0"
   ]
  },
  {
   "cell_type": "code",
   "execution_count": 24,
   "metadata": {},
   "outputs": [
    {
     "data": {
      "text/plain": [
       "array([[ True, False, False, False, False, False, False, False],\n",
       "       [False,  True, False, False, False, False, False, False],\n",
       "       [False, False,  True, False, False,  True, False,  True],\n",
       "       [False, False, False,  True, False, False, False, False],\n",
       "       [False, False, False, False,  True, False,  True, False],\n",
       "       [False, False,  True, False, False,  True, False,  True],\n",
       "       [False, False, False, False,  True, False,  True, False],\n",
       "       [False, False,  True, False, False,  True, False,  True]])"
      ]
     },
     "execution_count": 24,
     "metadata": {},
     "output_type": "execute_result"
    }
   ],
   "source": [
    "# identify those at the same location\n",
    "zero_dist = dist_0 < ws.node_match_threshold\n",
    "zero_dist"
   ]
  },
  {
   "cell_type": "code",
   "execution_count": 25,
   "metadata": {},
   "outputs": [],
   "source": [
    "# get their indices\n",
    "i_idx, j_idx = np.where(zero_dist)"
   ]
  },
  {
   "cell_type": "code",
   "execution_count": 26,
   "metadata": {},
   "outputs": [],
   "source": [
    "# take only the upper triangle indices\n",
    "upper_triangle = i_idx < j_idx"
   ]
  },
  {
   "cell_type": "code",
   "execution_count": 27,
   "metadata": {},
   "outputs": [],
   "source": [
    "idx_multi, idx_delete = i_idx[upper_triangle], j_idx[upper_triangle]"
   ]
  },
  {
   "cell_type": "code",
   "execution_count": 28,
   "metadata": {},
   "outputs": [],
   "source": [
    "# construct a boolean array with True at valid and False at deleted\n",
    "# indices\n",
    "idx_unique = np.ones((len(x_0),), dtype='bool')\n",
    "idx_unique[idx_delete] = False"
   ]
  },
  {
   "cell_type": "code",
   "execution_count": 29,
   "metadata": {},
   "outputs": [
    {
     "data": {
      "text/plain": [
       "(array([2, 2, 4, 5]), array([5, 7, 6, 7]))"
      ]
     },
     "execution_count": 29,
     "metadata": {},
     "output_type": "execute_result"
    }
   ],
   "source": [
    "idx_multi, idx_delete"
   ]
  },
  {
   "cell_type": "code",
   "execution_count": 30,
   "metadata": {},
   "outputs": [],
   "source": [
    "idx_keep = np.ones((len(x_0),), dtype=np.bool_)\n",
    "idx_keep[idx_delete] = False"
   ]
  },
  {
   "cell_type": "code",
   "execution_count": 31,
   "metadata": {},
   "outputs": [
    {
     "data": {
      "text/plain": [
       "(array([5, 7, 6, 7]), array([2, 2, 4, 5]))"
      ]
     },
     "execution_count": 31,
     "metadata": {},
     "output_type": "execute_result"
    }
   ],
   "source": [
    "idx_delete, idx_multi"
   ]
  },
  {
   "cell_type": "code",
   "execution_count": 32,
   "metadata": {},
   "outputs": [
    {
     "data": {
      "text/plain": [
       "array([[9, 9, 9, 9, 9, 9, 9, 9],\n",
       "       [9, 9, 9, 9, 9, 9, 9, 9],\n",
       "       [9, 9, 9, 9, 9, 9, 9, 9],\n",
       "       [9, 9, 9, 9, 9, 9, 9, 9],\n",
       "       [9, 9, 9, 9, 9, 9, 9, 9],\n",
       "       [9, 9, 9, 9, 9, 9, 9, 9],\n",
       "       [9, 9, 9, 9, 9, 9, 9, 9],\n",
       "       [9, 9, 9, 9, 9, 9, 9, 9]])"
      ]
     },
     "execution_count": 32,
     "metadata": {},
     "output_type": "execute_result"
    }
   ],
   "source": [
    "ij_map = np.ones_like(dist_0, dtype=np.int_) + len(x_0)\n",
    "ij_map"
   ]
  },
  {
   "cell_type": "code",
   "execution_count": 33,
   "metadata": {},
   "outputs": [],
   "source": [
    "i_ = np.arange(len(x_0))\n",
    "idx_row = i_[idx_keep]"
   ]
  },
  {
   "cell_type": "code",
   "execution_count": 34,
   "metadata": {},
   "outputs": [
    {
     "data": {
      "text/plain": [
       "array([[0, 9, 9, 9, 9, 9, 9, 9],\n",
       "       [9, 1, 9, 9, 9, 9, 9, 9],\n",
       "       [9, 9, 2, 9, 9, 9, 9, 9],\n",
       "       [9, 9, 9, 3, 9, 9, 9, 9],\n",
       "       [9, 9, 9, 9, 4, 9, 9, 9],\n",
       "       [9, 9, 9, 9, 9, 9, 9, 9],\n",
       "       [9, 9, 9, 9, 9, 9, 9, 9],\n",
       "       [9, 9, 9, 9, 9, 9, 9, 9]])"
      ]
     },
     "execution_count": 34,
     "metadata": {},
     "output_type": "execute_result"
    }
   ],
   "source": [
    "ij_map[idx_keep,idx_keep] = np.arange(len(idx_row))\n",
    "ij_map"
   ]
  },
  {
   "cell_type": "code",
   "execution_count": 35,
   "metadata": {},
   "outputs": [
    {
     "data": {
      "text/plain": [
       "array([[0, 9, 9, 9, 9, 9, 9, 9],\n",
       "       [9, 1, 9, 9, 9, 9, 9, 9],\n",
       "       [9, 9, 2, 9, 9, 2, 9, 2],\n",
       "       [9, 9, 9, 3, 9, 9, 9, 9],\n",
       "       [9, 9, 9, 9, 4, 9, 4, 9],\n",
       "       [9, 9, 9, 9, 9, 9, 9, 9],\n",
       "       [9, 9, 9, 9, 9, 9, 9, 9],\n",
       "       [9, 9, 9, 9, 9, 9, 9, 9]])"
      ]
     },
     "execution_count": 35,
     "metadata": {},
     "output_type": "execute_result"
    }
   ],
   "source": [
    "ij_map[i_idx, j_idx] = ij_map[i_idx, i_idx]\n",
    "ij_map"
   ]
  },
  {
   "cell_type": "code",
   "execution_count": 36,
   "metadata": {},
   "outputs": [
    {
     "data": {
      "text/plain": [
       "array([0, 1, 2, 3, 4, 2, 4, 2])"
      ]
     },
     "execution_count": 36,
     "metadata": {},
     "output_type": "execute_result"
    }
   ],
   "source": [
    "idx_remap = np.min(ij_map,axis=0)\n",
    "idx_remap"
   ]
  },
  {
   "cell_type": "markdown",
   "metadata": {},
   "source": [
    "## Sketch of the applied generation method / concept\n",
    "\n",
    "Sketch the discretization into the cells the cell midpoints \n",
    "cover a cylindric surface as a structured grid. \n",
    "\n",
    "Midpoints are arranged at the surface of the derived cylinder\n",
    "parameters which depend on the folding angle $\\alpha$ and $a, b, c$\n",
    "parameters of the waterbomd cell. Then, a reference cell \n",
    "in an intermediate state of folding is broadcasted \n",
    "to the prepared grid of midpoints on the cylinders. "
   ]
  },
  {
   "cell_type": "code",
   "execution_count": 39,
   "metadata": {},
   "outputs": [],
   "source": [
    "n_phi_plus = 2\n",
    "delta_phi = 0.3\n",
    "phi_range = np.arange(-(n_phi_plus-1), n_phi_plus) * delta_phi\n",
    "r_0 = -10"
   ]
  },
  {
   "cell_type": "code",
   "execution_count": 40,
   "metadata": {},
   "outputs": [
    {
     "data": {
      "text/plain": [
       "array([-0.3,  0. ,  0.3])"
      ]
     },
     "execution_count": 40,
     "metadata": {},
     "output_type": "execute_result"
    }
   ],
   "source": [
    "phi_range"
   ]
  },
  {
   "cell_type": "code",
   "execution_count": 41,
   "metadata": {},
   "outputs": [],
   "source": [
    "X_phi_range = np.array([np.fabs(r_0) * np.sin(phi_range),\n",
    "                 np.fabs(r_0) * np.cos(phi_range) + r_0]).T"
   ]
  },
  {
   "cell_type": "code",
   "execution_count": 42,
   "metadata": {},
   "outputs": [
    {
     "data": {
      "application/vnd.jupyter.widget-view+json": {
       "model_id": "e0e812efbb534fd790114ea41801258d",
       "version_major": 2,
       "version_minor": 0
      },
      "text/plain": [
       "Canvas(toolbar=Toolbar(toolitems=[('Home', 'Reset original view', 'home', 'home'), ('Back', 'Back to previous …"
      ]
     },
     "metadata": {},
     "output_type": "display_data"
    }
   ],
   "source": [
    "fix, ax = plt.subplots(1,1)\n",
    "ax.plot(*X_phi_range.T);"
   ]
  },
  {
   "cell_type": "code",
   "execution_count": 44,
   "metadata": {},
   "outputs": [
    {
     "data": {
      "text/plain": [
       "array([-0.5,  0. ,  0.5])"
      ]
     },
     "execution_count": 44,
     "metadata": {},
     "output_type": "execute_result"
    }
   ],
   "source": [
    "n_x_plus = 2\n",
    "delta_x = 0.5\n",
    "X_x_range = np.arange(-(n_x_plus-1), n_x_plus) * delta_x\n",
    "X_x_range"
   ]
  },
  {
   "cell_type": "code",
   "execution_count": 45,
   "metadata": {},
   "outputs": [
    {
     "data": {
      "text/plain": [
       "array([[[-0.5]],\n",
       "\n",
       "       [[ 0. ]],\n",
       "\n",
       "       [[ 0.5]]])"
      ]
     },
     "execution_count": 45,
     "metadata": {},
     "output_type": "execute_result"
    }
   ],
   "source": [
    "X_x_range[:, np.newaxis, np.newaxis]"
   ]
  },
  {
   "cell_type": "code",
   "execution_count": 46,
   "metadata": {},
   "outputs": [
    {
     "data": {
      "text/plain": [
       "array([[[-2.95520207, -0.44663511],\n",
       "        [ 0.        ,  0.        ],\n",
       "        [ 2.95520207, -0.44663511]]])"
      ]
     },
     "execution_count": 46,
     "metadata": {},
     "output_type": "execute_result"
    }
   ],
   "source": [
    "X_phi_range[np.newaxis,:,:]"
   ]
  },
  {
   "cell_type": "code",
   "execution_count": 47,
   "metadata": {},
   "outputs": [
    {
     "data": {
      "text/plain": [
       "array([0, 1, 2])"
      ]
     },
     "execution_count": 47,
     "metadata": {},
     "output_type": "execute_result"
    }
   ],
   "source": [
    "n_idx_x = len(X_x_range)\n",
    "n_idx_phi = len(X_phi_range)\n",
    "idx_x = np.arange(n_idx_x)\n",
    "idx_phi = np.arange(n_idx_phi)\n",
    "idx_phi"
   ]
  },
  {
   "cell_type": "code",
   "execution_count": 48,
   "metadata": {},
   "outputs": [
    {
     "data": {
      "image/png": "[encoded data removed]",
      "text/latex": [
       "$\\displaystyle 2$"
      ],
      "text/plain": [
       "2"
      ]
     },
     "execution_count": 48,
     "metadata": {},
     "output_type": "execute_result"
    }
   ],
   "source": [
    "1+1 % 2"
   ]
  },
  {
   "cell_type": "code",
   "execution_count": 50,
   "metadata": {},
   "outputs": [
    {
     "data": {
      "text/plain": [
       "(array([1]), array([1]), array([0, 2]), array([0, 2]))"
      ]
     },
     "execution_count": 50,
     "metadata": {},
     "output_type": "execute_result"
    }
   ],
   "source": [
    "idx_x_ic = idx_x[(n_idx_x)%2::2]\n",
    "idx_x_id = idx_x[(n_idx_x+1)%2::2]\n",
    "idx_phi_ic = idx_phi[(n_idx_phi)%2::2]\n",
    "idx_phi_id = idx_phi[(n_idx_phi+1)%2::2]\n",
    "\n",
    "idx_x_ic, idx_phi_ic, idx_x_id, idx_phi_id"
   ]
  },
  {
   "cell_type": "code",
   "execution_count": 51,
   "metadata": {},
   "outputs": [],
   "source": [
    "idx_map_ic = np.meshgrid(idx_x_ic, idx_phi_ic)\n",
    "idx_map_id = np.meshgrid(idx_x_id, idx_phi_id)"
   ]
  },
  {
   "cell_type": "code",
   "execution_count": 104,
   "metadata": {},
   "outputs": [
    {
     "data": {
      "text/plain": [
       "[array([[1]]), array([[1]])]"
      ]
     },
     "execution_count": 104,
     "metadata": {},
     "output_type": "execute_result"
    }
   ],
   "source": [
    "idx_map_ic"
   ]
  },
  {
   "cell_type": "code",
   "execution_count": 55,
   "metadata": {},
   "outputs": [],
   "source": [
    "X_C_a = np.c_[ X_x_range[idx_map_ic[0]].reshape(-1,1), X_phi_range[idx_map_ic[1]].reshape(-1,2) ]\n",
    "X_D_a = np.c_[ X_x_range[idx_map_id[0]].reshape(-1,1), X_phi_range[idx_map_id[1]].reshape(-1,2) ]"
   ]
  },
  {
   "cell_type": "code",
   "execution_count": 56,
   "metadata": {},
   "outputs": [
    {
     "data": {
      "text/plain": [
       "array([[0., 0., 0.]])"
      ]
     },
     "execution_count": 56,
     "metadata": {},
     "output_type": "execute_result"
    }
   ],
   "source": [
    "X_C_a"
   ]
  },
  {
   "cell_type": "code",
   "execution_count": 57,
   "metadata": {
    "scrolled": true
   },
   "outputs": [
    {
     "data": {
      "text/plain": [
       "array([[-0.5       , -2.95520207, -0.44663511],\n",
       "       [ 0.5       , -2.95520207, -0.44663511],\n",
       "       [-0.5       ,  2.95520207, -0.44663511],\n",
       "       [ 0.5       ,  2.95520207, -0.44663511]])"
      ]
     },
     "execution_count": 57,
     "metadata": {},
     "output_type": "execute_result"
    }
   ],
   "source": [
    "X_D_a"
   ]
  },
  {
   "cell_type": "code",
   "execution_count": null,
   "metadata": {},
   "outputs": [],
   "source": []
  }
 ],
 "metadata": {
  "kernelspec": {
   "display_name": "Python 3 (ipykernel)",
   "language": "python",
   "name": "python3"
  },
  "language_info": {
   "codemirror_mode": {
    "name": "ipython",
    "version": 3
   },
   "file_extension": ".py",
   "mimetype": "text/x-python",
   "name": "python",
   "nbconvert_exporter": "python",
   "pygments_lexer": "ipython3",
   "version": "3.9.12"
  },
  "toc": {
   "base_numbering": 1,
   "nav_menu": {},
   "number_sections": true,
   "sideBar": true,
   "skip_h1_title": true,
   "title_cell": "Table of Contents",
   "title_sidebar": "Contents",
   "toc_cell": false,
   "toc_position": {
    "height": "calc(100% - 180px)",
    "left": "10px",
    "top": "150px",
    "width": "165px"
   },
   "toc_section_display": true,
   "toc_window_display": false
  }
 },
 "nbformat": 4,
 "nbformat_minor": 4
}
