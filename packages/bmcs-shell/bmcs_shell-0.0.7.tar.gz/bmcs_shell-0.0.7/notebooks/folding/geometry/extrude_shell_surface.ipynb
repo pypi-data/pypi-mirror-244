{
 "cells": [
  {
   "cell_type": "code",
   "execution_count": 1,
   "id": "20a1086b",
   "metadata": {
    "pycharm": {
     "name": "#%%\n"
    }
   },
   "outputs": [],
   "source": [
    "%matplotlib widget\n",
    "from bmcs_shell.api import WBNumTessellation, WBNumTessellationInvest, WBTessellationBase, WBNumTessellationBase, WBTessellation4P, WBCell4Param\n",
    "import numpy as np\n",
    "import matplotlib.pyplot as plt\n",
    "import gmsh\n",
    "import pygmsh\n",
    "import k3d"
   ]
  },
  {
   "cell_type": "code",
   "execution_count": 2,
   "id": "aa9fa2ed",
   "metadata": {
    "scrolled": true,
    "pycharm": {
     "name": "#%%\n"
    }
   },
   "outputs": [
    {
     "name": "stderr",
     "output_type": "stream",
     "text": [
      "C:\\Users\\hspartali\\Anaconda3\\envs\\bmcs_env\\lib\\site-packages\\traittypes\\traittypes.py:97: UserWarning: Given trait value dtype \"uint32\" does not match required type \"float32\". A coerced copy has been created.\n",
      "  warnings.warn(\n"
     ]
    },
    {
     "data": {
      "application/vnd.jupyter.widget-view+json": {
       "model_id": "16ad667a78414649983817bd50283c72",
       "version_major": 2,
       "version_minor": 0
      },
      "text/plain": [
       "VBox(children=(HBox(children=(VBox(children=(Tree(layout=Layout(align_items='stretch', border='solid 1px black…"
      ]
     },
     "metadata": {},
     "output_type": "display_data"
    }
   ],
   "source": [
    "params = valid_params_2_cells_span_1800_height_300_width_500= {'a': 100.0, 'b': 493.47789764898204, 'c': 188.08268555670807, 'gamma': 0.9231728219305352, 'n_phi_plus': 3}\n",
    "\n",
    "wbt4p = WBTessellation4P(\n",
    "                        **params,\n",
    "                         n_x_plus=2,\n",
    "                         wireframe_width=5,\n",
    "                         trim_half_cells_along_y=True,\n",
    "                         trim_half_cells_along_x=True,\n",
    "                         align_outer_nodes_along_x=True,\n",
    ")\n",
    "wbt4p.interact()"
   ]
  },
  {
   "cell_type": "code",
   "execution_count": null,
   "id": "26f25d59",
   "metadata": {
    "pycharm": {
     "name": "#%%\n"
    }
   },
   "outputs": [],
   "source": [
    "\n",
    "tmodel = MATS2DElastic(E=28000, nu=0.2)\n",
    "n_phi_plus=1\n",
    "n_x_plus=1\n",
    "wbm = WBShellAnalysis(h=10, tmodel=tmodel)\n",
    "data = dict(gamma=0.33, a=500, a_high=3000, b=900, b_high=3000, c=400, c_high=2000,\n",
    "            n_phi_plus=n_phi_plus, n_x_plus=n_x_plus, show_nodes=False)\n",
    "wbm.geo.trait_set(**data)"
   ]
  },
  {
   "cell_type": "code",
   "execution_count": null,
   "id": "7f210814",
   "metadata": {
    "pycharm": {
     "name": "#%%\n"
    }
   },
   "outputs": [],
   "source": [
    "wbm.xdomain.mesh.direct_mesh = False\n",
    "wbm.xdomain.mesh.subdivision = 2"
   ]
  },
  {
   "cell_type": "code",
   "execution_count": null,
   "id": "1614bcee",
   "metadata": {
    "pycharm": {
     "name": "#%%\n"
    }
   },
   "outputs": [],
   "source": [
    "mesh = wbm.xdomain.mesh.mesh\n",
    "mesh"
   ]
  },
  {
   "cell_type": "code",
   "execution_count": 18,
   "id": "a0cadb27",
   "metadata": {
    "scrolled": true,
    "pycharm": {
     "name": "#%%\n"
    }
   },
   "outputs": [
    {
     "data": {
      "text/plain": [
       "array([[ 0.00000000e+00,  4.56448364e+02, -7.40820312e+01],\n",
       "       [ 1.00000000e+02,  9.34126404e+02, -1.97953247e+02],\n",
       "       [-1.00000000e+02,  9.34126404e+02, -1.97953247e+02],\n",
       "       [ 1.00000000e+02,  1.52587891e-05,  1.13469116e+02],\n",
       "       [-1.00000000e+02,  1.52587891e-05,  1.13469116e+02],\n",
       "       [ 1.49999649e+02,  4.92335266e+02,  3.35626221e+01],\n",
       "       [-1.49999649e+02,  4.92335266e+02,  3.35626221e+01],\n",
       "       [ 0.00000000e+00, -4.56448364e+02, -7.40820312e+01],\n",
       "       [ 1.00000000e+02, -9.34126404e+02, -1.97953247e+02],\n",
       "       [-1.00000000e+02, -9.34126404e+02, -1.97953247e+02],\n",
       "       [ 1.49999649e+02, -4.92335266e+02,  3.35626221e+01],\n",
       "       [-1.49999649e+02, -4.92335266e+02,  3.35626221e+01],\n",
       "       [-2.49999660e+02,  8.66036804e+02, -2.88722412e+02],\n",
       "       [-2.49999655e+02,  4.92335251e+02,  3.35626221e+01],\n",
       "       [-2.49999660e+02,  0.00000000e+00,  0.00000000e+00],\n",
       "       [-2.49999655e+02, -4.92335251e+02,  3.35625610e+01],\n",
       "       [-2.49999660e+02, -8.66036804e+02, -2.88722412e+02],\n",
       "       [ 2.49999660e+02,  8.66036804e+02, -2.88722412e+02],\n",
       "       [ 2.49999655e+02,  4.92335251e+02,  3.35626221e+01],\n",
       "       [ 2.49999660e+02,  0.00000000e+00,  0.00000000e+00],\n",
       "       [ 2.49999655e+02, -4.92335251e+02,  3.35625610e+01],\n",
       "       [ 2.49999660e+02, -8.66036804e+02, -2.88722412e+02]])"
      ]
     },
     "execution_count": 18,
     "metadata": {},
     "output_type": "execute_result"
    }
   ],
   "source": [
    "X_Ia = wbt4p.X_Ia_trimmed\n",
    "X_Ia"
   ]
  },
  {
   "cell_type": "code",
   "execution_count": 19,
   "id": "30c89df5",
   "metadata": {
    "scrolled": true,
    "pycharm": {
     "name": "#%%\n"
    }
   },
   "outputs": [
    {
     "data": {
      "text/plain": [
       "array([[ 0,  1,  2],\n",
       "       [ 4,  3,  0],\n",
       "       [ 5,  1,  0],\n",
       "       [ 3,  5,  0],\n",
       "       [ 0,  2,  6],\n",
       "       [ 0,  6,  4],\n",
       "       [ 7,  3,  4],\n",
       "       [ 9,  8,  7],\n",
       "       [10,  3,  7],\n",
       "       [ 8, 10,  7],\n",
       "       [ 7,  4, 11],\n",
       "       [ 7, 11,  9],\n",
       "       [13,  6, 12],\n",
       "       [ 6,  2, 12],\n",
       "       [14,  6, 13],\n",
       "       [15, 11, 14],\n",
       "       [ 4,  6, 14],\n",
       "       [11,  4, 14],\n",
       "       [16, 11, 15],\n",
       "       [ 9, 11, 16],\n",
       "       [ 5, 18, 17],\n",
       "       [17,  1,  5],\n",
       "       [19, 18,  5],\n",
       "       [10, 20, 19],\n",
       "       [19,  5,  3],\n",
       "       [19,  3, 10],\n",
       "       [21, 20, 10],\n",
       "       [21, 10,  8]])"
      ]
     },
     "execution_count": 19,
     "metadata": {},
     "output_type": "execute_result"
    }
   ],
   "source": [
    "I_Fi = wbt4p.I_Fi_trimmed\n",
    "I_Fi"
   ]
  },
  {
   "cell_type": "code",
   "execution_count": 2,
   "id": "1c41e436",
   "metadata": {
    "pycharm": {
     "name": "#%%\n"
    }
   },
   "outputs": [
    {
     "name": "stderr",
     "output_type": "stream",
     "text": [
      "C:\\Users\\hspartali\\Anaconda3\\envs\\bmcs_env\\lib\\site-packages\\traittypes\\traittypes.py:97: UserWarning: Given trait value dtype \"uint32\" does not match required type \"float32\". A coerced copy has been created.\n",
      "  warnings.warn(\n"
     ]
    },
    {
     "data": {
      "application/vnd.jupyter.widget-view+json": {
       "model_id": "3dac0bda60bd4b8aa38c2e55fe7ee1c1",
       "version_major": 2,
       "version_minor": 0
      },
      "text/plain": [
       "VBox(children=(HBox(children=(VBox(children=(Tree(layout=Layout(align_items='stretch', border='solid 1px black…"
      ]
     },
     "metadata": {},
     "output_type": "display_data"
    }
   ],
   "source": [
    "wb = WBCell4Param(gamma = 1)\n",
    "wb.interact()"
   ]
  },
  {
   "cell_type": "code",
   "execution_count": 16,
   "id": "afe6af4b",
   "metadata": {
    "pycharm": {
     "name": "#%%\n"
    }
   },
   "outputs": [
    {
     "data": {
      "text/plain": [
       "array([[ 0.        ,  0.        ,  0.        ],\n",
       "       [ 0.5       ,  0.47799366,  0.146704  ],\n",
       "       [-0.5       ,  0.47799366,  0.146704  ],\n",
       "       [ 0.5       , -0.47799366,  0.146704  ],\n",
       "       [-0.5       , -0.47799366,  0.146704  ],\n",
       "       [ 0.42073549,  0.        ,  0.27015115],\n",
       "       [-0.42073549,  0.        ,  0.27015115]])"
      ]
     },
     "execution_count": 16,
     "metadata": {},
     "output_type": "execute_result"
    }
   ],
   "source": [
    "X_Ia = wb.X_Ia / 2000\n",
    "I_Fi = wb.I_Fi\n",
    "X_Ia"
   ]
  },
  {
   "cell_type": "markdown",
   "id": "d2d91077",
   "metadata": {
    "pycharm": {
     "name": "#%% md\n"
    }
   },
   "source": [
    "### Flipping negative normals to unite all normals point (upwards)"
   ]
  },
  {
   "cell_type": "code",
   "execution_count": 20,
   "id": "e3885e9b",
   "metadata": {
    "scrolled": true,
    "pycharm": {
     "name": "#%%\n"
    }
   },
   "outputs": [
    {
     "data": {
      "text/plain": [
       "array([[ 0,  1,  2],\n",
       "       [ 4,  3,  0],\n",
       "       [ 5,  1,  0],\n",
       "       [ 3,  5,  0],\n",
       "       [ 0,  2,  6],\n",
       "       [ 0,  6,  4],\n",
       "       [ 7,  3,  4],\n",
       "       [ 9,  8,  7],\n",
       "       [10,  3,  7],\n",
       "       [ 8, 10,  7],\n",
       "       [ 7,  4, 11],\n",
       "       [ 7, 11,  9],\n",
       "       [13,  6, 12],\n",
       "       [ 6,  2, 12],\n",
       "       [14,  6, 13],\n",
       "       [15, 11, 14],\n",
       "       [ 4,  6, 14],\n",
       "       [11,  4, 14],\n",
       "       [16, 11, 15],\n",
       "       [ 9, 11, 16],\n",
       "       [ 5, 18, 17],\n",
       "       [17,  1,  5],\n",
       "       [19, 18,  5],\n",
       "       [10, 20, 19],\n",
       "       [19,  5,  3],\n",
       "       [19,  3, 10],\n",
       "       [21, 20, 10],\n",
       "       [21, 10,  8]])"
      ]
     },
     "execution_count": 20,
     "metadata": {},
     "output_type": "execute_result"
    }
   ],
   "source": [
    "X_Fia = X_Ia[I_Fi]\n",
    "To_flip_F = np.cross(X_Fia[:, 1, :] - X_Fia[:, 0, :], X_Fia[:, 2, :] - X_Fia[:, 0, :])[:, 2] < 0 # all items where z of normal is negative\n",
    "I_Fi[To_flip_F] = np.flip(I_Fi[To_flip_F], axis=1)\n",
    "I_Fi"
   ]
  },
  {
   "cell_type": "code",
   "execution_count": 36,
   "id": "ae2881fe",
   "metadata": {
    "pycharm": {
     "name": "#%%\n"
    }
   },
   "outputs": [
    {
     "data": {
      "text/plain": [
       "0.7071067811865476"
      ]
     },
     "execution_count": 36,
     "metadata": {},
     "output_type": "execute_result"
    }
   ],
   "source": [
    "np.sin(np.pi/4)"
   ]
  },
  {
   "cell_type": "code",
   "execution_count": 34,
   "id": "5459d71d",
   "metadata": {
    "pycharm": {
     "name": "#%%\n"
    }
   },
   "outputs": [
    {
     "data": {
      "text/plain": [
       "0.7071067811865476"
      ]
     },
     "execution_count": 34,
     "metadata": {},
     "output_type": "execute_result"
    }
   ],
   "source": [
    "np.sqrt(2)/2"
   ]
  },
  {
   "cell_type": "code",
   "execution_count": 42,
   "id": "d1be038f",
   "metadata": {
    "pycharm": {
     "name": "#%%\n"
    }
   },
   "outputs": [
    {
     "data": {
      "text/plain": [
       "array([[ 0.00000000e+00,  2.51016770e-01,  9.67982738e-01],\n",
       "       [-0.00000000e+00,  3.80059801e-01,  9.24961917e-01],\n",
       "       [-6.01896536e-01,  3.16168743e-01,  7.33319771e-01],\n",
       "       [-6.01896566e-01,  1.87127034e-01,  7.76340130e-01],\n",
       "       [ 6.01896536e-01,  3.16168743e-01,  7.33319771e-01],\n",
       "       [ 6.01896566e-01,  1.87127034e-01,  7.76340130e-01],\n",
       "       [ 0.00000000e+00, -3.80059780e-01,  9.24961926e-01],\n",
       "       [ 0.00000000e+00, -2.51016770e-01,  9.67982738e-01],\n",
       "       [-6.01896565e-01, -1.87127023e-01,  7.76340133e-01],\n",
       "       [-6.01896536e-01, -3.16168743e-01,  7.33319771e-01],\n",
       "       [ 6.01896565e-01, -1.87127023e-01,  7.76340133e-01],\n",
       "       [ 6.01896536e-01, -3.16168743e-01,  7.33319771e-01],\n",
       "       [-9.96534699e-08,  6.53089017e-01,  7.57281147e-01],\n",
       "       [-6.01896442e-01,  4.23055073e-01,  6.77307226e-01],\n",
       "       [ 1.03778696e-08, -6.80124101e-02,  9.97684475e-01],\n",
       "       [-5.98560398e-07,  6.80122870e-02,  9.97684484e-01],\n",
       "       [-6.01896506e-01,  6.80121857e-02,  7.95672633e-01],\n",
       "       [-6.01896497e-01, -6.80121835e-02,  7.95672640e-01],\n",
       "       [-5.61861201e-07, -6.53088946e-01,  7.57281208e-01],\n",
       "       [-6.01896442e-01, -4.23055073e-01,  6.77307226e-01],\n",
       "       [ 9.96534699e-08,  6.53089017e-01,  7.57281147e-01],\n",
       "       [ 6.01896442e-01,  4.23055073e-01,  6.77307226e-01],\n",
       "       [-1.03778696e-08, -6.80124101e-02,  9.97684475e-01],\n",
       "       [ 5.98560398e-07,  6.80122870e-02,  9.97684484e-01],\n",
       "       [ 6.01896506e-01,  6.80121857e-02,  7.95672633e-01],\n",
       "       [ 6.01896497e-01, -6.80121835e-02,  7.95672640e-01],\n",
       "       [ 5.61861201e-07, -6.53088946e-01,  7.57281208e-01],\n",
       "       [ 6.01896442e-01, -4.23055073e-01,  6.77307226e-01]])"
      ]
     },
     "execution_count": 42,
     "metadata": {},
     "output_type": "execute_result"
    }
   ],
   "source": [
    "X_Ia = np.copy(X_Ia)\n",
    "I_Fi = np.copy(I_Fi)\n",
    "\n",
    "# Flip normals to have same direction\n",
    "X_Fia = X_Ia[I_Fi]\n",
    "normals_Fi = np.cross(X_Fia[:, 1, :] - X_Fia[:, 0, :], X_Fia[:, 2, :] - X_Fia[:, 0, :])\n",
    "To_flip_F = normals_Fi[:, 2] < 0  # all items where z of normal is negative\n",
    "I_Fi[To_flip_F] = np.flip(I_Fi[To_flip_F], axis=1)\n",
    "# Update X_Fia\n",
    "X_Fia = X_Ia[I_Fi]\n",
    "normals_Fi = np.cross(X_Fia[:, 1, :] - X_Fia[:, 0, :], X_Fia[:, 2, :] - X_Fia[:, 0, :])\n",
    "normals_Fi_norm = normals_Fi / np.sqrt(np.sum(normals_Fi*normals_Fi, axis=1))[:, np.newaxis]\n",
    "normals_Fi_norm"
   ]
  },
  {
   "cell_type": "code",
   "execution_count": 43,
   "id": "35c763b7",
   "metadata": {
    "pycharm": {
     "name": "#%%\n"
    }
   },
   "outputs": [
    {
     "name": "stdout",
     "output_type": "stream",
     "text": [
      "vols= [(3, 1), (3, 2), (3, 3), (3, 4), (3, 5), (3, 6), (3, 7), (3, 8)]\n",
      "vols.size= 8\n",
      "before generate\n",
      "mesh generated\n",
      "mesh recombine\n"
     ]
    }
   ],
   "source": [
    "# See https://gitlab.onelab.info/gmsh/gmsh/-/blob/master/tutorials/python/t11.py\n",
    "# dimTag means tuple of (dimention, tag). Where tag is like an ID\n",
    "\n",
    "import gmsh\n",
    "import sys\n",
    "import numpy as np\n",
    "import bmcs_utils.api as bu\n",
    "from scipy.spatial.transform import Rotation\n",
    "\n",
    "thickness = 10\n",
    "# thickness = 10 * normals_Fi_norm\n",
    "\n",
    "# Each dimension Dim has Tags refering to objects starting from 1, \n",
    "#  (a point is dim=1, a line, surface or more is dim=2 and a volume is dim=3)\n",
    "\n",
    "gmsh.initialize()\n",
    "gmsh.model.add(\"wb_extrude\")\n",
    "mesh_size = 0.1\n",
    "\n",
    "# Adding outer area of the pattern with extrusion: ------------------------------------------------\n",
    "\n",
    "xpoints = np.array([gmsh.model.occ.addPoint(*X_a, mesh_size) for X_a in X_Ia])\n",
    "\n",
    "wb_facets = []\n",
    "\n",
    "for I_i in I_Fi:\n",
    "    xpoints1 = xpoints[I_i]\n",
    "    curves = [gmsh.model.occ.addLine(xpoints1[k], xpoints1[k + 1]) for k in range(len(xpoints1) - 1)] + [gmsh.model.occ.addLine(xpoints1[-1], xpoints1[0])]\n",
    "\n",
    "    cl = gmsh.model.occ.addCurveLoop(curves)\n",
    "    pl = gmsh.model.occ.addPlaneSurface([cl])\n",
    "    wb_facets.append(pl)\n",
    "    \n",
    "# #     To generate quadrangles instead of triangles, we can simply add\n",
    "#     gmsh.model.mesh.setRecombine(1, pl)\n",
    "\n",
    "# pg = gmsh.model.addPhysicalGroup(dim = 3, tags=wb_facets, name='pg')\n",
    "# print(pg)\n",
    "\n",
    "# Extrude (extrude is already a volume or CAD object)\n",
    "for i, wb_facet in enumerate(wb_facets):\n",
    "#     ext = gmsh.model.occ.extrude(dimTags=[(2, wb_facet)], dx=thickness[i, 0], dy=thickness[i, 1], \n",
    "#                                  dz=thickness[i, 2], numElements=[], heights=[], recombine=True)\n",
    "    ext = gmsh.model.occ.extrude(dimTags=[(2, wb_facet)], dx=0, dy=0, \n",
    "                             dz=1, numElements=[], heights=[], recombine=True)\n",
    "\n",
    "vols = gmsh.model.occ.getEntities(dim=3)\n",
    "# tess_block = gmsh.model.occ.fuse(vols[len(creases):], vols[len(creases):])\n",
    "tess_block = gmsh.model.occ.fuse(vols, vols)\n",
    "\n",
    "print('vols=', gmsh.model.occ.getEntities(dim=3))\n",
    "print('vols.size=', len(gmsh.model.occ.getEntities(dim=3)))\n",
    "\n",
    "vols = gmsh.model.occ.getEntities(dim=3)\n",
    "\n",
    "# gmsh.model.occ.cut([vols[1]], [vols[0]])\n",
    "\n",
    "# gmsh.model.occ.remove(dimTags=gmsh.model.occ.getEntities(dim=2), recursive=True)\n",
    "\n",
    "# max3DTag = gmsh.model.occ.getMaxTag(3)\n",
    "\n",
    "# Meshing ---------------------------------------------------- ------------------------------------------------\n",
    "\n",
    "gmsh.model.occ.synchronize()\n",
    "\n",
    "# field = gmsh.model.mesh.field\n",
    "# field.add(\"MathEval\", 1)\n",
    "# field.setString(1, \"F\", \"1\")\n",
    "# field.setAsBackgroundMesh(1)\n",
    "\n",
    "# # To generate quadrangles instead of triangles, we can simply add\n",
    "# gmsh.model.mesh.setRecombine(2, pl)\n",
    "\n",
    "# If we'd had several surfaces, we could have used the global option\n",
    "# \"Mesh.RecombineAll\":\n",
    "#\n",
    "# gmsh.option.setNumber(\"Mesh.RecombineAll\", 1)\n",
    "\n",
    "# You can also set the subdivision step alone, with\n",
    "#\n",
    "# gmsh.option.setNumber(\"Mesh.SubdivisionAlgorithm\", 1)\n",
    "\n",
    "# gmsh.model.mesh.generate(2)\n",
    "\n",
    "# Note that you could also apply the recombination algorithm and/or the\n",
    "# subdivision step explicitly after meshing, as follows:\n",
    "#\n",
    "print('before generate')\n",
    "# gmsh.model.mesh.generate(2)\n",
    "print('mesh generated')\n",
    "# gmsh.model.mesh.recombine()\n",
    "print('mesh recombine')\n",
    "# gmsh.option.setNumber(\"Mesh.SubdivisionAlgorithm\", 1)\n",
    "# gmsh.model.mesh.refine()\n",
    "\n",
    "# Launch the GUI to see the results:\n",
    "if '-nopopup' not in sys.argv:\n",
    "    gmsh.fltk.run()\n",
    "\n",
    "gmsh.finalize()"
   ]
  },
  {
   "cell_type": "code",
   "execution_count": 14,
   "id": "2d1523a8",
   "metadata": {
    "pycharm": {
     "name": "#%%\n"
    }
   },
   "outputs": [
    {
     "name": "stdout",
     "output_type": "stream",
     "text": [
      "[1 2 3 4]\n",
      "pl= 1\n"
     ]
    }
   ],
   "source": [
    "import gmsh\n",
    "import sys\n",
    "import numpy as np\n",
    "\n",
    "gmsh.initialize()\n",
    "\n",
    "gmsh.model.add(\"t11\")\n",
    "\n",
    "# We have seen in tutorials `t3.py' and `t6.py' that extruded and transfinite\n",
    "# meshes can be \"recombined\" into quads, prisms or hexahedra. Unstructured\n",
    "# meshes can be recombined in the same way. Let's define a simple geometry with\n",
    "# an analytical mesh size field:\n",
    "\n",
    "X_Id = np.array([[0, 0, 0], \n",
    "                [1, 0, 0], \n",
    "                [1, 1, 0],\n",
    "                 [1, 1, 1]])\n",
    "# I_Fi = np.array([[0, 1, 2], [0, 1, 3]])\n",
    "I_Fi = np.array([[0, 1, 2]])\n",
    "mesh_size = 0.5\n",
    "\n",
    "\n",
    "# geom.extrude()\n",
    "xpoints = np.array([gmsh.model.geo.addPoint(*X_d) for X_d in X_Id])\n",
    "print(xpoints)\n",
    "\n",
    "for I_i in I_Fi:\n",
    "    xpoints1 = xpoints[I_i]\n",
    "    curves = [gmsh.model.geo.addLine(xpoints1[k], xpoints1[k + 1]) for k in range(len(xpoints1) - 1)] + [gmsh.model.geo.addLine(xpoints1[-1], xpoints1[0])]\n",
    "\n",
    "    cl = gmsh.model.geo.addCurveLoop(curves)\n",
    "    pl = gmsh.model.geo.addPlaneSurface([cl])\n",
    "    \n",
    "    print('pl=', pl)\n",
    "    \n",
    "    # To generate quadrangles instead of triangles, we can simply add\n",
    "#     gmsh.model.mesh.setRecombine(1, pl)\n",
    "pg = gmsh.model.addPhysicalGroup(3, tags=[1, 2])\n",
    "gmsh.model.geo.extrude(dimTags=[(2, pg)], dx=0, dy=0, dz=0.1, numElements=[1], heights=[], recombine=False)\n",
    "# gmsh.model.geo.extrude(dimTags=[(2, 1)], dx=0, dy=0, dz=0.1, numElements=[1], heights=[], recombine=True)\n",
    "# gmsh.model.geo.extrude(dimTags=[(2, 2)], dx=0, dy=0.1, dz=-0.1, numElements=[3], heights=[], recombine=True)\n",
    "\n",
    "gmsh.model.geo.synchronize()\n",
    "\n",
    "# field = gmsh.model.mesh.field\n",
    "# field.add(\"MathEval\", 1)\n",
    "# field.setString(1, \"F\", \"1\")\n",
    "# field.setAsBackgroundMesh(1)\n",
    "\n",
    "# # To generate quadrangles instead of triangles, we can simply add\n",
    "# gmsh.model.mesh.setRecombine(2, pl)\n",
    "\n",
    "# If we'd had several surfaces, we could have used the global option\n",
    "# \"Mesh.RecombineAll\":\n",
    "#\n",
    "# gmsh.option.setNumber(\"Mesh.RecombineAll\", 1)\n",
    "\n",
    "# The default recombination algorithm is called \"Blossom\": it uses a minimum\n",
    "# cost perfect matching algorithm to generate fully quadrilateral meshes from\n",
    "# triangulations. More details about the algorithm can be found in the\n",
    "# following paper: J.-F. Remacle, J. Lambrechts, B. Seny, E. Marchandise,\n",
    "# A. Johnen and C. Geuzaine, \"Blossom-Quad: a non-uniform quadrilateral mesh\n",
    "# generator using a minimum cost perfect matching algorithm\", International\n",
    "# Journal for Numerical Methods in Engineering 89, pp. 1102-1119, 2012.\n",
    "\n",
    "# For even better 2D (planar) quadrilateral meshes, you can try the\n",
    "# experimental \"Frontal-Delaunay for quads\" meshing algorithm, which is a\n",
    "# triangulation algorithm that enables to create right triangles almost\n",
    "# everywhere: J.-F. Remacle, F. Henrotte, T. Carrier-Baudouin, E. Bechet,\n",
    "# E. Marchandise, C. Geuzaine and T. Mouton. A frontal Delaunay quad mesh\n",
    "# generator using the L^inf norm. International Journal for Numerical Methods\n",
    "# in Engineering, 94, pp. 494-512, 2013. Uncomment the following line to try\n",
    "# the Frontal-Delaunay algorithms for quads:\n",
    "#\n",
    "# gmsh.option.setNumber(\"Mesh.Algorithm\", 8)\n",
    "\n",
    "# The default recombination algorithm might leave some triangles in the mesh, if\n",
    "# recombining all the triangles leads to badly shaped quads. In such cases, to\n",
    "# generate full-quad meshes, you can either subdivide the resulting hybrid mesh\n",
    "# (with `Mesh.SubdivisionAlgorithm' set to 1), or use the full-quad\n",
    "# recombination algorithm, which will automatically perform a coarser mesh\n",
    "# followed by recombination, smoothing and subdivision. Uncomment the following\n",
    "# line to try the full-quad algorithm:\n",
    "#\n",
    "# gmsh.option.setNumber(\"Mesh.RecombinationAlgorithm\", 2) # or 3\n",
    "\n",
    "# You can also set the subdivision step alone, with\n",
    "#\n",
    "# gmsh.option.setNumber(\"Mesh.SubdivisionAlgorithm\", 1)\n",
    "\n",
    "gmsh.model.mesh.generate(2)\n",
    "\n",
    "# Note that you could also apply the recombination algorithm and/or the\n",
    "# subdivision step explicitly after meshing, as follows:\n",
    "#\n",
    "# gmsh.model.mesh.generate(2)\n",
    "gmsh.model.mesh.recombine()\n",
    "gmsh.option.setNumber(\"Mesh.SubdivisionAlgorithm\", 1)\n",
    "gmsh.model.mesh.refine()\n",
    "\n",
    "# Launch the GUI to see the results:\n",
    "if '-nopopup' not in sys.argv:\n",
    "    gmsh.fltk.run()\n",
    "\n",
    "gmsh.finalize()\n"
   ]
  },
  {
   "cell_type": "code",
   "execution_count": 3,
   "id": "55c80591",
   "metadata": {
    "pycharm": {
     "name": "#%%\n"
    }
   },
   "outputs": [
    {
     "name": "stdout",
     "output_type": "stream",
     "text": [
      "[<pygmsh Point object, ID 1, x = [0, 0, 0]>\n",
      " <pygmsh Point object, ID 2, x = [1, 0, 0]>\n",
      " <pygmsh Point object, ID 3, x = [1, 1, 0]>\n",
      " <pygmsh Point object, ID 4, x = [1, 0, 1]>]\n"
     ]
    },
    {
     "ename": "NameError",
     "evalue": "name 'ext' is not defined",
     "output_type": "error",
     "traceback": [
      "\u001B[1;31m---------------------------------------------------------------------------\u001B[0m",
      "\u001B[1;31mNameError\u001B[0m                                 Traceback (most recent call last)",
      "Input \u001B[1;32mIn [3]\u001B[0m, in \u001B[0;36m<cell line: 42>\u001B[1;34m()\u001B[0m\n\u001B[0;32m     39\u001B[0m     geom\u001B[38;5;241m.\u001B[39mset_recombined_surfaces(surfaces)\n\u001B[0;32m     41\u001B[0m     mesh1 \u001B[38;5;241m=\u001B[39m geom\u001B[38;5;241m.\u001B[39mgenerate_mesh()\n\u001B[1;32m---> 42\u001B[0m \u001B[43mext\u001B[49m\n",
      "\u001B[1;31mNameError\u001B[0m: name 'ext' is not defined"
     ]
    }
   ],
   "source": [
    "X_Id = np.array([[0, 0, 0], \n",
    "                [1, 0, 0], \n",
    "                [1, 1, 0],\n",
    "                 [1, 0, 1]])\n",
    "I_Fi = np.array([[0, 1, 2], [0, 1, 3]])\n",
    "mesh_size = 0.5\n",
    "\n",
    "with pygmsh.geo.Geometry() as geom:\n",
    "    # geom.extrude()\n",
    "    xpoints = np.array([\n",
    "        geom.add_point(X_d, mesh_size=mesh_size) for X_d in X_Id\n",
    "    ])\n",
    "    print(xpoints)\n",
    "    surfaces = []\n",
    "    for I_i in I_Fi:\n",
    "        xpoints1 = xpoints[I_i]\n",
    "        curves = [\n",
    "                          geom.add_line(xpoints1[k], xpoints1[k + 1])\n",
    "                          for k in range(len(xpoints1) - 1)\n",
    "                      ] + [geom.add_line(xpoints1[-1], xpoints1[0])]\n",
    "\n",
    "        curve_loop = geom.add_curve_loop(curves)\n",
    "        # self.surface = geom.add_plane_surface(ll, holes) if make_surface else None\n",
    "        surfaces.append(geom.add_plane_surface(curve_loop))\n",
    "        \n",
    "#         self.dim_tag = self.surface.dim_tag\n",
    "#         self.dim_tags = self.surface.dim_tags\n",
    "#         self._id = self.surface._id\n",
    "\n",
    "    sl1 = geom.add_surface_loop(surfaces)\n",
    "#     v1 = geom.add_volume([sl1])\n",
    "#     ext = geom.extrude(sl1, (0, 0.1, 0.1))\n",
    "#     ext = geom.extrude(surface, (0, 0, 0.1))\n",
    "\n",
    "    #                geom.add_polygon(X_id, mesh_size=mesh_size)\n",
    "    # gmsh.model.geo.remove_all_duplicates()\n",
    "    \n",
    "    # To create quads + tri instead of tri\n",
    "    geom.set_recombined_surfaces(surfaces)\n",
    "    \n",
    "    mesh1 = geom.generate_mesh()\n",
    "ext"
   ]
  },
  {
   "cell_type": "code",
   "execution_count": 66,
   "id": "53989946",
   "metadata": {
    "pycharm": {
     "name": "#%%\n"
    }
   },
   "outputs": [
    {
     "data": {
      "text/plain": [
       "array([[0.        , 0.        , 0.        ],\n",
       "       [1.        , 0.        , 0.        ],\n",
       "       [1.        , 1.        , 0.        ],\n",
       "       [1.        , 0.        , 1.        ],\n",
       "       [0.5       , 0.        , 0.        ],\n",
       "       [1.        , 0.5       , 0.        ],\n",
       "       [0.75      , 0.75      , 0.        ],\n",
       "       [0.5       , 0.5       , 0.        ],\n",
       "       [0.25      , 0.25      , 0.        ],\n",
       "       [0.5       , 0.        , 0.        ],\n",
       "       [1.        , 0.        , 0.5       ],\n",
       "       [0.75      , 0.        , 0.75      ],\n",
       "       [0.5       , 0.        , 0.5       ],\n",
       "       [0.25      , 0.        , 0.25      ],\n",
       "       [0.69388889, 0.31444445, 0.        ],\n",
       "       [0.8198206 , 0.51394676, 0.        ],\n",
       "       [0.69388889, 0.        , 0.31444445],\n",
       "       [0.8198206 , 0.        , 0.51394676]])"
      ]
     },
     "execution_count": 66,
     "metadata": {},
     "output_type": "execute_result"
    }
   ],
   "source": [
    "mesh1.points"
   ]
  },
  {
   "cell_type": "code",
   "execution_count": 45,
   "id": "a18cde45",
   "metadata": {
    "pycharm": {
     "name": "#%%\n"
    }
   },
   "outputs": [
    {
     "data": {
      "text/plain": [
       "array([[ 7,  8,  4, 14],\n",
       "       [ 1,  5, 15, 14],\n",
       "       [14, 15,  6,  7],\n",
       "       [15,  5,  2,  6],\n",
       "       [12, 13,  9, 16],\n",
       "       [ 1, 10, 17, 16],\n",
       "       [16, 17, 11, 12],\n",
       "       [17, 10,  3, 11]], dtype=uint64)"
      ]
     },
     "execution_count": 45,
     "metadata": {},
     "output_type": "execute_result"
    }
   ],
   "source": [
    "mesh1.cells[2][1]"
   ]
  },
  {
   "cell_type": "code",
   "execution_count": 71,
   "id": "9439b45c",
   "metadata": {
    "pycharm": {
     "name": "#%%\n"
    }
   },
   "outputs": [
    {
     "data": {
      "text/plain": [
       "array([[0.        , 0.        , 0.        ],\n",
       "       [1.        , 0.        , 0.        ],\n",
       "       [1.        , 1.        , 0.        ],\n",
       "       [1.        , 0.        , 1.        ],\n",
       "       [0.5       , 0.        , 0.        ],\n",
       "       [1.        , 0.5       , 0.        ],\n",
       "       [0.75      , 0.75      , 0.        ],\n",
       "       [0.5       , 0.5       , 0.        ],\n",
       "       [0.25      , 0.25      , 0.        ],\n",
       "       [0.5       , 0.        , 0.        ],\n",
       "       [1.        , 0.        , 0.5       ],\n",
       "       [0.75      , 0.        , 0.75      ],\n",
       "       [0.5       , 0.        , 0.5       ],\n",
       "       [0.25      , 0.        , 0.25      ],\n",
       "       [0.69388889, 0.31444445, 0.        ],\n",
       "       [0.8198206 , 0.51394676, 0.        ],\n",
       "       [0.69388889, 0.        , 0.31444445],\n",
       "       [0.8198206 , 0.        , 0.51394676]])"
      ]
     },
     "execution_count": 71,
     "metadata": {},
     "output_type": "execute_result"
    }
   ],
   "source": [
    "mesh1.points"
   ]
  },
  {
   "cell_type": "code",
   "execution_count": 62,
   "id": "8707c081",
   "metadata": {
    "pycharm": {
     "name": "#%%\n"
    }
   },
   "outputs": [
    {
     "data": {
      "text/plain": [
       "array([[ 7, 14],\n",
       "       [ 1, 14],\n",
       "       [14,  7],\n",
       "       [15,  6],\n",
       "       [12, 16],\n",
       "       [ 1, 16],\n",
       "       [16, 12],\n",
       "       [17, 11]], dtype=uint64)"
      ]
     },
     "execution_count": 62,
     "metadata": {},
     "output_type": "execute_result"
    }
   ],
   "source": [
    "mesh1.cells[2][1][:, [0, 3]]"
   ]
  },
  {
   "cell_type": "code",
   "execution_count": 82,
   "id": "46a99e79",
   "metadata": {
    "pycharm": {
     "name": "#%%\n"
    }
   },
   "outputs": [
    {
     "data": {
      "application/vnd.jupyter.widget-view+json": {
       "model_id": "93a67b140b484b1e8a2c61736824abaf",
       "version_major": 2,
       "version_minor": 0
      },
      "text/plain": [
       "Plot(antialias=3, axes=['x', 'y', 'z'], axes_helper=1.0, background_color=16777215, camera=[2, -3, 0.2, 0.0, 0…"
      ]
     },
     "metadata": {},
     "output_type": "display_data"
    }
   ],
   "source": [
    "plot = k3d.plot()\n",
    "\n",
    "for l in mesh1.cells[2][1][:, [0, 1]]:\n",
    "    mesh = k3d.line(mesh1.points[l], dtype=np.float_)\n",
    "    plot += mesh\n",
    "for l in mesh1.cells[2][1][:, [1, 2]]:\n",
    "    mesh = k3d.line(mesh1.points[l], dtype=np.float_)\n",
    "    plot += mesh\n",
    "for l in mesh1.cells[2][1][:, [2, 3]]:\n",
    "    mesh = k3d.line(mesh1.points[l], dtype=np.float_)\n",
    "    plot += mesh\n",
    "mesh = k3d.mesh(mesh1.points, mesh1.cells[1][1], wireframe=True)\n",
    "plot += mesh\n",
    "plot"
   ]
  },
  {
   "cell_type": "code",
   "execution_count": 38,
   "id": "a68e763a",
   "metadata": {
    "pycharm": {
     "name": "#%%\n"
    }
   },
   "outputs": [
    {
     "data": {
      "application/vnd.jupyter.widget-view+json": {
       "model_id": "c69da9faffef4da992b7cd731d38f10d",
       "version_major": 2,
       "version_minor": 0
      },
      "text/plain": [
       "Plot(antialias=3, axes=['x', 'y', 'z'], axes_helper=1.0, background_color=16777215, camera=[2, -3, 0.2, 0.0, 0…"
      ]
     },
     "metadata": {},
     "output_type": "display_data"
    }
   ],
   "source": [
    "plot = k3d.plot()\n",
    "mesh = k3d.mesh(mesh1.points, mesh1.cells[1][1], wireframe=True)\n",
    "plot += mesh\n",
    "plot"
   ]
  }
 ],
 "metadata": {
  "kernelspec": {
   "display_name": "Python 3 (ipykernel)",
   "language": "python",
   "name": "python3"
  },
  "language_info": {
   "codemirror_mode": {
    "name": "ipython",
    "version": 3
   },
   "file_extension": ".py",
   "mimetype": "text/x-python",
   "name": "python",
   "nbconvert_exporter": "python",
   "pygments_lexer": "ipython3",
   "version": "3.9.12"
  }
 },
 "nbformat": 4,
 "nbformat_minor": 5
}