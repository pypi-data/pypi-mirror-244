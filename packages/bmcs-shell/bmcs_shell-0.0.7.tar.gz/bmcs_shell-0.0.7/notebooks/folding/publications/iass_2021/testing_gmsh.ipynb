{
 "cells": [
  {
   "cell_type": "markdown",
   "metadata": {
    "pycharm": {
     "name": "#%% md\n"
    }
   },
   "source": [
    "# pygmsh testing"
   ]
  },
  {
   "cell_type": "code",
   "execution_count": 1,
   "metadata": {
    "pycharm": {
     "name": "#%%\n"
    }
   },
   "outputs": [],
   "source": [
    "%matplotlib widget"
   ]
  },
  {
   "cell_type": "code",
   "execution_count": 2,
   "metadata": {
    "pycharm": {
     "name": "#%%\n"
    }
   },
   "outputs": [],
   "source": [
    "import gmsh\n",
    "import numpy as np"
   ]
  },
  {
   "cell_type": "code",
   "execution_count": 3,
   "metadata": {
    "pycharm": {
     "name": "#%%\n"
    }
   },
   "outputs": [
    {
     "data": {
      "text/plain": [
       "3"
      ]
     },
     "execution_count": 3,
     "metadata": {},
     "output_type": "execute_result"
    }
   ],
   "source": [
    "gmsh.initialize()\n",
    "gmsh.option.setNumber(\"General.Terminal\", 1)\n",
    "gmsh.option.setNumber(\"Mesh.Algorithm\", 5) # delquad\n",
    "gmsh.option.setNumber(\"Mesh.RecombineAll\", 1)\n",
    "\n",
    "gmsh.model.add(\"square\")\n",
    "gmsh.model.geo.addPoint(0, 0, 0, 1, 1)\n",
    "gmsh.model.geo.addPoint(1, 0, 0, 1, 2)\n",
    "gmsh.model.geo.addPoint(1, 1, 0, 1, 3)\n",
    "gmsh.model.geo.addPoint(0, 1, 0, 1, 4)\n",
    "gmsh.model.geo.addLine(1, 2, 1)\n",
    "gmsh.model.geo.addLine(2, 3, 2)\n",
    "gmsh.model.geo.addLine(3, 4, 3)"
   ]
  },
  {
   "cell_type": "code",
   "execution_count": 4,
   "metadata": {
    "pycharm": {
     "name": "#%%\n"
    }
   },
   "outputs": [],
   "source": [
    "# try automatic assignement of tag\n",
    "line4 = gmsh.model.geo.addLine(4, 1)\n",
    "gmsh.model.geo.addCurveLoop([1, 2, 3, line4], 1)\n",
    "gmsh.model.geo.addPlaneSurface([1], 6)\n",
    "gmsh.model.geo.synchronize()\n",
    "gmsh.model.mesh.generate(2)\n",
    "#gmsh.write(\"square.unv\")"
   ]
  },
  {
   "cell_type": "code",
   "execution_count": 5,
   "metadata": {
    "pycharm": {
     "name": "#%%\n"
    }
   },
   "outputs": [],
   "source": [
    "idx, x, _ = gmsh.model.mesh.get_nodes()"
   ]
  },
  {
   "cell_type": "code",
   "execution_count": 6,
   "metadata": {
    "pycharm": {
     "name": "#%%\n"
    }
   },
   "outputs": [
    {
     "data": {
      "text/plain": [
       "array([[0. , 0. , 0. ],\n",
       "       [1. , 0. , 0. ],\n",
       "       [1. , 1. , 0. ],\n",
       "       [0. , 1. , 0. ],\n",
       "       [0.5, 0. , 0. ],\n",
       "       [1. , 0.5, 0. ],\n",
       "       [0.5, 1. , 0. ],\n",
       "       [0. , 0.5, 0. ],\n",
       "       [0.5, 0.5, 0. ]])"
      ]
     },
     "execution_count": 6,
     "metadata": {},
     "output_type": "execute_result"
    }
   ],
   "source": [
    "x.reshape(-1,3)"
   ]
  },
  {
   "cell_type": "code",
   "execution_count": 7,
   "metadata": {
    "pycharm": {
     "name": "#%%\n"
    }
   },
   "outputs": [],
   "source": [
    "import k3d\n",
    "import pygmsh"
   ]
  },
  {
   "cell_type": "code",
   "execution_count": 8,
   "metadata": {
    "pycharm": {
     "name": "#%%\n"
    }
   },
   "outputs": [
    {
     "data": {
      "application/vnd.jupyter.widget-view+json": {
       "model_id": "f76e1f35798b4010b1773fa267c40116",
       "version_major": 2,
       "version_minor": 0
      },
      "text/plain": [
       "Output()"
      ]
     },
     "metadata": {},
     "output_type": "display_data"
    }
   ],
   "source": [
    "X_Id = np.array([[0,0,0], [1,0,0], [1,1,0], [1, 0, 1]])\n",
    "I_Fi = np.array([[0,1,2], [0,1,3]])\n",
    "mesh_size = 2 * np.linalg.norm(X_Id[1]-X_Id[0])\n",
    "\n",
    "X_Fid = X_Id[I_Fi]\n",
    "with pygmsh.geo.Geometry() as geom:\n",
    "    for X_id in X_Fid:\n",
    "        geom.add_polygon(X_id, mesh_size=3)\n",
    "    mesh = geom.generate_mesh()\n",
    "\n",
    "X_Id_mesh = mesh.points.astype(np.float32)\n",
    "I_Fi_mesh = mesh.cells[1][1].astype(np.uint32)\n",
    "\n",
    "k3d_mesh = k3d.mesh(X_Id_mesh, I_Fi_mesh, side='double', color=0x75ade6)\n",
    "k3d_mesh += k3d.mesh(X_Id_mesh, I_Fi_mesh, side='double', color=0x000000, wireframe=True)\n",
    "k3d_mesh"
   ]
  },
  {
   "cell_type": "code",
   "execution_count": 9,
   "metadata": {
    "pycharm": {
     "name": "#%%\n"
    }
   },
   "outputs": [],
   "source": [
    "import gmsh\n",
    "import numpy as np"
   ]
  },
  {
   "cell_type": "code",
   "execution_count": 10,
   "metadata": {
    "pycharm": {
     "name": "#%%\n"
    }
   },
   "outputs": [],
   "source": [
    "X_Id = np.array([[0,0,0], [1,0,0], [1,1,0], [1, 0, 1]])\n",
    "I_Fi = np.array([[0,1,2], [0,1,3]])\n",
    "mesh_size = 2 * np.linalg.norm(X_Id[1]-X_Id[0])\n",
    "\n",
    "gmsh.initialize()\n",
    "gmsh.clear()\n",
    "gmsh.option.setNumber(\"General.Terminal\", 1)\n",
    "gmsh.option.setNumber(\"Mesh.Algorithm\", 5) # delquad\n",
    "gmsh.option.setNumber(\"Mesh.RecombineAll\", 1)\n",
    "\n",
    "\n",
    "X_Fid = X_Id[I_Fi]\n",
    "X_tag = np.arange(len(X_Id))\n",
    "points = np.array([\n",
    "    gmsh.model.geo.addPoint(X_d[0], X_d[1], X_d[2], 1, tag)\n",
    "    for tag, X_d in zip(X_tag, X_Id)\n",
    "])\n",
    "L_Fi = np.array([\n",
    "    [gmsh.model.geo.addLine(I_i[0], I_i[1]),\n",
    "     gmsh.model.geo.addLine(I_i[1], I_i[2]),\n",
    "     gmsh.model.geo.addLine(I_i[2], I_i[0])]\n",
    "    for I_i in I_Fi\n",
    "])\n",
    "loops = np.array([\n",
    "    gmsh.model.geo.addCurveLoop([loop[0],loop[1],loop[2]])\n",
    "    for loop in L_Fi\n",
    "])\n",
    "facets = np.array([\n",
    "    gmsh.model.geo.addPlaneSurface([loop], tag)\n",
    "    for tag, loop in enumerate(loops)\n",
    "])\n",
    "\n",
    "gmsh.model.geo.synchronize()\n",
    "mesh = gmsh.model.mesh.generate(2)\n"
   ]
  },
  {
   "cell_type": "code",
   "execution_count": 11,
   "metadata": {
    "pycharm": {
     "name": "#%%\n"
    }
   },
   "outputs": [],
   "source": [
    "elem_types, elem_tags, node_tags = gmsh.model.mesh.get_elements()"
   ]
  },
  {
   "cell_type": "code",
   "execution_count": 12,
   "metadata": {
    "pycharm": {
     "name": "#%%\n"
    }
   },
   "outputs": [
    {
     "data": {
      "text/plain": [
       "[array([ 1,  5,  5,  2,  2,  6,  6,  3,  3,  7,  7,  1,  1,  8,  8,  2,  2,\n",
       "         9,  9,  4,  4, 10, 10,  1], dtype=uint64),\n",
       " array([ 5,  2,  6, 11, 11,  7,  1,  5, 11,  6,  3,  7,  8,  2,  9, 12, 12,\n",
       "        10,  1,  8, 12,  9,  4, 10], dtype=uint64),\n",
       " array([1, 2, 3, 4], dtype=uint64)]"
      ]
     },
     "execution_count": 12,
     "metadata": {},
     "output_type": "execute_result"
    }
   ],
   "source": [
    "node_tags"
   ]
  },
  {
   "cell_type": "code",
   "execution_count": 13,
   "metadata": {
    "pycharm": {
     "name": "#%%\n"
    }
   },
   "outputs": [
    {
     "ename": "ValueError",
     "evalue": "cannot reshape array of size 4 into shape (3)",
     "output_type": "error",
     "traceback": [
      "\u001B[0;31m---------------------------------------------------------------------------\u001B[0m",
      "\u001B[0;31mValueError\u001B[0m                                Traceback (most recent call last)",
      "\u001B[0;32m<ipython-input-13-3720dd4b6ba4>\u001B[0m in \u001B[0;36m<module>\u001B[0;34m\u001B[0m\n\u001B[1;32m      6\u001B[0m     \u001B[0;31m# `numPrimaryNodes'\u001B[0m\u001B[0;34m\u001B[0m\u001B[0;34m\u001B[0m\u001B[0;34m\u001B[0m\u001B[0m\n\u001B[1;32m      7\u001B[0m     \u001B[0mnum_nodes_per_cell\u001B[0m \u001B[0;34m=\u001B[0m \u001B[0mgmsh\u001B[0m\u001B[0;34m.\u001B[0m\u001B[0mmodel\u001B[0m\u001B[0;34m.\u001B[0m\u001B[0mmesh\u001B[0m\u001B[0;34m.\u001B[0m\u001B[0mgetElementProperties\u001B[0m\u001B[0;34m(\u001B[0m\u001B[0melem_type\u001B[0m\u001B[0;34m)\u001B[0m\u001B[0;34m[\u001B[0m\u001B[0;36m3\u001B[0m\u001B[0;34m]\u001B[0m\u001B[0;34m\u001B[0m\u001B[0;34m\u001B[0m\u001B[0m\n\u001B[0;32m----> 8\u001B[0;31m     \u001B[0mcells\u001B[0m\u001B[0;34m.\u001B[0m\u001B[0mappend\u001B[0m\u001B[0;34m(\u001B[0m\u001B[0mnode_tags\u001B[0m\u001B[0;34m.\u001B[0m\u001B[0mreshape\u001B[0m\u001B[0;34m(\u001B[0m\u001B[0;34m-\u001B[0m\u001B[0;36m1\u001B[0m\u001B[0;34m,\u001B[0m\u001B[0;36m3\u001B[0m\u001B[0;34m)\u001B[0m\u001B[0;34m)\u001B[0m\u001B[0;34m\u001B[0m\u001B[0;34m\u001B[0m\u001B[0m\n\u001B[0m\u001B[1;32m      9\u001B[0m \u001B[0;31m#     meshio.gmsh.gmsh_to_meshio_type\u001B[0m\u001B[0;34m\u001B[0m\u001B[0;34m\u001B[0m\u001B[0;34m\u001B[0m\u001B[0m\n\u001B[1;32m     10\u001B[0m \u001B[0;31m#     cells.append(\u001B[0m\u001B[0;34m\u001B[0m\u001B[0;34m\u001B[0m\u001B[0;34m\u001B[0m\u001B[0m\n",
      "\u001B[0;31mValueError\u001B[0m: cannot reshape array of size 4 into shape (3)"
     ]
    }
   ],
   "source": [
    "# extract cells\n",
    "elem_types, elem_tags, node_tags = gmsh.model.mesh.getElements()\n",
    "cells = []\n",
    "for elem_type, node_tags in zip(elem_types, node_tags):\n",
    "    # `elementName', `dim', `order', `numNodes', `localNodeCoord',\n",
    "    # `numPrimaryNodes'\n",
    "    num_nodes_per_cell = gmsh.model.mesh.getElementProperties(elem_type)[3]\n",
    "    cells.append(node_tags.reshape(-1,3))\n",
    "#     meshio.gmsh.gmsh_to_meshio_type\n",
    "#     cells.append(\n",
    "#         meshio.CellBlock(\n",
    "#             meshio.gmsh.gmsh_to_meshio_type[elem_type],\n",
    "#             np.asarray(node_tags).reshape(-1, num_nodes_per_cell) - 1,\n",
    "#         )\n",
    "#     )\n",
    "\n"
   ]
  },
  {
   "cell_type": "code",
   "execution_count": null,
   "metadata": {
    "pycharm": {
     "name": "#%%\n"
    }
   },
   "outputs": [],
   "source": [
    "cells"
   ]
  },
  {
   "cell_type": "code",
   "execution_count": null,
   "metadata": {
    "pycharm": {
     "name": "#%%\n"
    }
   },
   "outputs": [],
   "source": [
    "idx, x, _ = gmsh.model.mesh.get_nodes()"
   ]
  },
  {
   "cell_type": "code",
   "execution_count": 14,
   "metadata": {
    "pycharm": {
     "name": "#%%\n"
    }
   },
   "outputs": [
    {
     "data": {
      "text/plain": [
       "(array([3], dtype=int32),\n",
       " [array([17, 18, 19, 20, 21, 22], dtype=uint64)],\n",
       " [array([ 5,  2,  6, 11, 11,  7,  1,  5, 11,  6,  3,  7,  8,  2,  9, 12, 12,\n",
       "         10,  1,  8, 12,  9,  4, 10], dtype=uint64)])"
      ]
     },
     "execution_count": 14,
     "metadata": {},
     "output_type": "execute_result"
    }
   ],
   "source": [
    "gmsh.model.mesh.get_elements(2)"
   ]
  },
  {
   "cell_type": "code",
   "execution_count": 15,
   "metadata": {
    "pycharm": {
     "name": "#%%\n"
    }
   },
   "outputs": [
    {
     "data": {
      "text/plain": [
       "array([[0. , 0. , 0. ],\n",
       "       [1. , 0. , 0. ],\n",
       "       [1. , 1. , 0. ],\n",
       "       [0. , 1. , 0. ],\n",
       "       [0.5, 0. , 0. ],\n",
       "       [1. , 0.5, 0. ],\n",
       "       [0.5, 1. , 0. ],\n",
       "       [0. , 0.5, 0. ],\n",
       "       [0.5, 0.5, 0. ]])"
      ]
     },
     "execution_count": 15,
     "metadata": {},
     "output_type": "execute_result"
    }
   ],
   "source": [
    "x.reshape(-1,3)"
   ]
  },
  {
   "cell_type": "markdown",
   "metadata": {
    "pycharm": {
     "name": "#%% md\n"
    }
   },
   "source": [
    "**Note:** From the output of the last cell we see that pygmsh doesn't automatically merges the overlapping mesh (6 lines instead of 5)"
   ]
  },
  {
   "cell_type": "markdown",
   "metadata": {
    "pycharm": {
     "name": "#%% md\n"
    }
   },
   "source": [
    "## Obtaining lines mapping from facets mapping `I_Fi`"
   ]
  },
  {
   "cell_type": "code",
   "execution_count": 16,
   "metadata": {
    "scrolled": true,
    "pycharm": {
     "name": "#%%\n"
    }
   },
   "outputs": [
    {
     "data": {
      "text/plain": [
       "array([[0, 1, 2],\n",
       "       [0, 1, 3]])"
      ]
     },
     "execution_count": 16,
     "metadata": {},
     "output_type": "execute_result"
    }
   ],
   "source": [
    "I_Fi"
   ]
  },
  {
   "cell_type": "code",
   "execution_count": 17,
   "metadata": {
    "pycharm": {
     "name": "#%%\n"
    }
   },
   "outputs": [
    {
     "data": {
      "text/plain": [
       "array([[0, 1],\n",
       "       [0, 1],\n",
       "       [0, 2],\n",
       "       [0, 3],\n",
       "       [1, 2],\n",
       "       [1, 3]])"
      ]
     },
     "execution_count": 17,
     "metadata": {},
     "output_type": "execute_result"
    }
   ],
   "source": [
    "lines1 = I_Fi[:, [0, 1]]\n",
    "lines2 = I_Fi[:, [0, 2]]\n",
    "lines3 = I_Fi[:, [1, 2]]\n",
    "lines = np.vstack((lines1, lines2, lines3))\n",
    "lines"
   ]
  },
  {
   "cell_type": "code",
   "execution_count": 18,
   "metadata": {
    "pycharm": {
     "name": "#%%\n"
    }
   },
   "outputs": [
    {
     "data": {
      "text/plain": [
       "array([[0, 1],\n",
       "       [0, 1],\n",
       "       [0, 2],\n",
       "       [0, 3],\n",
       "       [1, 2],\n",
       "       [1, 3]])"
      ]
     },
     "execution_count": 18,
     "metadata": {},
     "output_type": "execute_result"
    }
   ],
   "source": [
    "lines = np.sort(lines,axis=1)\n",
    "lines"
   ]
  },
  {
   "cell_type": "code",
   "execution_count": 19,
   "metadata": {
    "pycharm": {
     "name": "#%%\n"
    }
   },
   "outputs": [
    {
     "data": {
      "text/plain": [
       "array([[0, 1],\n",
       "       [0, 2],\n",
       "       [0, 3],\n",
       "       [1, 2],\n",
       "       [1, 3]])"
      ]
     },
     "execution_count": 19,
     "metadata": {},
     "output_type": "execute_result"
    }
   ],
   "source": [
    "lines = np.unique(lines, axis=0)\n",
    "lines"
   ]
  },
  {
   "cell_type": "markdown",
   "metadata": {
    "pycharm": {
     "name": "#%% md\n"
    }
   },
   "source": [
    "### All together"
   ]
  },
  {
   "cell_type": "code",
   "execution_count": 20,
   "metadata": {
    "pycharm": {
     "name": "#%%\n"
    }
   },
   "outputs": [],
   "source": [
    "def get_lines(I_Fi):\n",
    "    lines1 = I_Fi[:, [0, 1]]\n",
    "    lines2 = I_Fi[:, [0, 2]]\n",
    "    lines3 = I_Fi[:, [1, 2]]\n",
    "    lines = np.vstack((lines1, lines2, lines3))\n",
    "    lines = np.sort(lines,axis=1)\n",
    "    lines = np.unique(lines, axis=0)\n",
    "    return lines"
   ]
  },
  {
   "cell_type": "code",
   "execution_count": 21,
   "metadata": {
    "pycharm": {
     "name": "#%%\n"
    }
   },
   "outputs": [],
   "source": [
    "import gmsh\n",
    "import sys\n",
    "import numpy as np\n",
    "\n",
    "X_Id = np.array([[0,0,0], [1,0,0], [1,1,0], [1, 0, 1]])\n",
    "I_Fi = np.array([[0,1,2], [0,1,3]])\n",
    "\n",
    "gmsh.initialize()\n",
    "gmsh.model.add(\"t1\")\n",
    "\n",
    "mesh_size = np.full(X_Id.shape[0], 0.1)\n",
    "\n",
    "# TODO here, I'm taking only one surface, take all\n",
    "points_coords = X_Id[I_Fi][0]\n",
    "\n",
    "points = [gmsh.model.geo.add_point(*x, l) for x, l in zip(points_coords, mesh_size)]\n",
    "curves = [gmsh.model.geo.add_line(points[k], points[k + 1]) for k in range(len(points) - 1)] + [gmsh.model.geo.add_line(points[-1], points[0])]\n",
    "\n",
    "curve_loop = gmsh.model.geo.add_curve_loop(curves)\n",
    "surface = gmsh.model.geo.add_plane_surface([curve_loop])\n",
    "\n",
    "gmsh.model.geo.synchronize()\n",
    "\n",
    "# Adding BCs\n",
    "gmsh.model.add_physical_group(1, [1, 2], 555)\n",
    "gmsh.model.set_physical_name(2, 555, \"Fixed support\")\n",
    "\n",
    "gmsh.model.mesh.generate(3)\n",
    "\n",
    "if '-nopopup' not in sys.argv:\n",
    "    gmsh.fltk.run()\n",
    "\n",
    "gmsh.finalize()"
   ]
  },
  {
   "cell_type": "code",
   "execution_count": 22,
   "metadata": {
    "pycharm": {
     "name": "#%%\n"
    }
   },
   "outputs": [
    {
     "name": "stdout",
     "output_type": "stream",
     "text": [
      "[[1 2]\n",
      " [1 3]\n",
      " [2 3]]\n"
     ]
    }
   ],
   "source": [
    "# Old test\n",
    "import gmsh\n",
    "import sys\n",
    "\n",
    "X_Id = np.array([[0,0,0], [1,0,0], [1,1,0]])\n",
    "I_Fi = np.array([[0,1,2]])\n",
    "\n",
    "gmsh.initialize()\n",
    "gmsh.model.add(\"t1\")\n",
    "\n",
    "X_Fid = X_Id[I_Fi]\n",
    "for point in X_Id:\n",
    "    gmsh.model.geo.add_point(*point, 0.1)\n",
    "    \n",
    "# adding one because default points' tags start with 1\n",
    "lines = get_lines(I_Fi) + 1\n",
    "print(lines)\n",
    "for line in lines:\n",
    "    gmsh.model.geo.add_line(*line)\n",
    "\n",
    "gmsh.model.geo.add_curve_loop([1, -2, 3])\n",
    "gmsh.model.geo.add_plane_surface([1])\n",
    "gmsh.model.geo.synchronize()\n",
    "\n",
    "gmsh.model.mesh.generate(3)\n",
    "\n",
    "if '-nopopup' not in sys.argv:\n",
    "    gmsh.fltk.run()\n",
    "\n",
    "gmsh.finalize()"
   ]
  },
  {
   "cell_type": "markdown",
   "metadata": {
    "pycharm": {
     "name": "#%% md\n"
    }
   },
   "source": [
    "## Test with the wb shell"
   ]
  },
  {
   "cell_type": "code",
   "execution_count": 5,
   "metadata": {
    "pycharm": {
     "name": "#%%\n"
    }
   },
   "outputs": [],
   "source": [
    "from bmcs_shell.folding.wb_shell_analysis import WBShellAnalysis\n",
    "from bmcs_shell.folding.vmats2D_elastic import MATS2DElastic\n",
    "# import bmcs_utils.api as bu\n",
    "import pygmsh\n",
    "import numpy as np"
   ]
  },
  {
   "cell_type": "code",
   "execution_count": 6,
   "metadata": {
    "pycharm": {
     "name": "#%%\n"
    }
   },
   "outputs": [],
   "source": [
    "tmodel = MATS2DElastic(E=28000, nu=0.2)\n",
    "n_phi_plus=2\n",
    "n_x_plus=1\n",
    "wbm = WBShellAnalysis(F=-20000, h=10, tmodel=tmodel)\n",
    "data = dict(alpha=1., a=500, a_high=3000, b=900, b_high=3000, c=400, c_high=2000,\n",
    "            n_phi_plus=n_phi_plus, n_x_plus=n_x_plus, show_nodes=True)\n",
    "wbm.geo.trait_set(**data);"
   ]
  },
  {
   "cell_type": "code",
   "execution_count": 7,
   "metadata": {
    "pycharm": {
     "name": "#%%\n"
    }
   },
   "outputs": [],
   "source": [
    "wbm.F = -700\n",
    "wbm.show_wireframe = True\n",
    "wbm.xdomain.mesh.direct_mesh = False\n",
    "wbm.xdomain.mesh.subdivision = 2"
   ]
  },
  {
   "cell_type": "code",
   "execution_count": 8,
   "metadata": {
    "scrolled": false,
    "pycharm": {
     "name": "#%%\n"
    }
   },
   "outputs": [
    {
     "name": "stdout",
     "output_type": "stream",
     "text": [
      "analysis: setup_plot\n",
      "analysis: update_plot 31\n",
      "analysis: U_I\n"
     ]
    },
    {
     "data": {
      "application/vnd.jupyter.widget-view+json": {
       "model_id": "add9ab31a6644b1baa00e92b2226d238",
       "version_major": 2,
       "version_minor": 0
      },
      "text/plain": [
       "VBox(children=(HBox(children=(VBox(children=(Tree(layout=Layout(align_items='stretch', border='solid 1px black…"
      ]
     },
     "metadata": {},
     "output_type": "display_data"
    },
    {
     "data": {
      "text/plain": [
       "<Figure size 432x288 with 0 Axes>"
      ]
     },
     "metadata": {},
     "output_type": "display_data"
    },
    {
     "name": "stderr",
     "output_type": "stream",
     "text": [
      "Exception in thread Thread-10:\n",
      "Traceback (most recent call last):\n",
      "  File \"/home/rch/miniconda3/envs/bmcs_env/lib/python3.8/threading.py\", line 932, in _bootstrap_inner\n",
      "    self.run()\n",
      "  File \"/home/rch/PycharmProjects/bmcs_utils/bmcs_utils/editors/progress_editor.py\", line 20, in run\n",
      "    self.method(self.model)\n",
      "  File \"/home/rch/PycharmProjects/bmcs_utils/bmcs_utils/editors/progress_editor.py\", line 52, in run\n",
      "    raise e  # re-raise exception\n",
      "  File \"/home/rch/PycharmProjects/bmcs_utils/bmcs_utils/editors/progress_editor.py\", line 48, in run\n",
      "    run_fn()\n",
      "  File \"/home/rch/PycharmProjects/bmcs_shell/bmcs_shell/folding/wb_shell_analysis.py\", line 143, in run\n",
      "    s.run()\n",
      "  File \"/home/rch/miniconda3/envs/bmcs_env/lib/python3.8/site-packages/ibvpy/sim/sim_base.py\", line 73, in run\n",
      "    self.tloop()\n",
      "  File \"/home/rch/miniconda3/envs/bmcs_env/lib/python3.8/site-packages/ibvpy/sim/tloop.py\", line 65, in __call__\n",
      "    return self.eval()\n",
      "  File \"/home/rch/miniconda3/envs/bmcs_env/lib/python3.8/site-packages/ibvpy/sim/tloop_implicit.py\", line 52, in eval\n",
      "    raise StopIteration('Warning: '\n",
      "StopIteration: Warning: convergence not reached in 10 iterations\n"
     ]
    },
    {
     "name": "stdout",
     "output_type": "stream",
     "text": [
      "\n",
      "analysis: update_plot 31\n"
     ]
    }
   ],
   "source": [
    "wbm.app()"
   ]
  },
  {
   "cell_type": "code",
   "execution_count": 5,
   "metadata": {
    "pycharm": {
     "name": "#%%\n"
    }
   },
   "outputs": [],
   "source": [
    "wbm.xdomain.mesh.direct_mesh = False"
   ]
  },
  {
   "cell_type": "code",
   "execution_count": 6,
   "metadata": {
    "pycharm": {
     "name": "#%%\n"
    }
   },
   "outputs": [
    {
     "data": {
      "text/plain": [
       "(array([[    0.        ,   808.02069092,   -59.7734375 ],\n",
       "        [  500.        ,  1696.42700195,    84.22070312],\n",
       "        [ -500.        ,  1696.42700195,    84.22070312],\n",
       "        [  500.        ,     0.        ,   336.58886719],\n",
       "        [ -500.        ,     0.        ,   336.58886719],\n",
       "        [  216.1209259 ,   857.54797363,   273.15136719],\n",
       "        [ -216.1209259 ,   857.54797363,   273.15136719],\n",
       "        [    0.        ,  -808.02069092,   -59.7734375 ],\n",
       "        [  500.        , -1696.42700195,    84.22070312],\n",
       "        [ -500.        , -1696.42700195,    84.22070312],\n",
       "        [  216.1209259 ,  -857.54797363,   273.15136719],\n",
       "        [ -216.1209259 ,  -857.54797363,   273.15136719]]),\n",
       " 12)"
      ]
     },
     "execution_count": 6,
     "metadata": {},
     "output_type": "execute_result"
    }
   ],
   "source": [
    "X_Ia = wbm.geo.X_Ia  # nodal coordinates\n",
    "X_Ia, len(X_Ia)"
   ]
  },
  {
   "cell_type": "code",
   "execution_count": 7,
   "metadata": {
    "pycharm": {
     "name": "#%%\n"
    }
   },
   "outputs": [],
   "source": [
    "I_Fi = wbm.geo.I_Fi  # elements"
   ]
  },
  {
   "cell_type": "code",
   "execution_count": 11,
   "metadata": {
    "pycharm": {
     "name": "#%%\n"
    }
   },
   "outputs": [
    {
     "data": {
      "text/plain": [
       "(31, 3)"
      ]
     },
     "execution_count": 11,
     "metadata": {},
     "output_type": "execute_result"
    }
   ],
   "source": [
    "wbm.xdomain.mesh.X_Id.shape"
   ]
  },
  {
   "cell_type": "code",
   "execution_count": 9,
   "metadata": {
    "pycharm": {
     "name": "#%%\n"
    }
   },
   "outputs": [],
   "source": [
    "X_Fid = X_Ia[I_Fi]"
   ]
  },
  {
   "cell_type": "code",
   "execution_count": 17,
   "metadata": {
    "pycharm": {
     "name": "#%%\n"
    }
   },
   "outputs": [
    {
     "data": {
      "text/plain": [
       "8.089402997184195"
      ]
     },
     "execution_count": 17,
     "metadata": {},
     "output_type": "execute_result"
    }
   ],
   "source": [
    "import numpy as np\n",
    "\n",
    "U_1 = wbm.hist.U_t[-1]\n",
    "# U_max = np.max(np.fabs(U_1))\n",
    "# U_max\n",
    "U_1 \n",
    "U_1.reshape(-1, 3) * 1\n",
    "# _, loaded_nodes, _ = wbm.bc_loaded\n",
    "# wbm.xdomain.I_Ei.astype(np.uint32)\n",
    "bc_fixed, fixed_nodes, fixed_dofs = wbm.bc_fixed\n",
    "bc_fixed[5]\n",
    "\n",
    "U_1 = wbm.hist.U_t[-1]\n",
    "np.max(np.fabs(U_1))"
   ]
  },
  {
   "cell_type": "code",
   "execution_count": null,
   "metadata": {
    "pycharm": {
     "name": "#%%\n"
    }
   },
   "outputs": [],
   "source": []
  }
 ],
 "metadata": {
  "kernelspec": {
   "display_name": "bmcs_env",
   "language": "python",
   "name": "bmcs_env"
  },
  "language_info": {
   "codemirror_mode": {
    "name": "ipython",
    "version": 3
   },
   "file_extension": ".py",
   "mimetype": "text/x-python",
   "name": "python",
   "nbconvert_exporter": "python",
   "pygments_lexer": "ipython3",
   "version": "3.8.8"
  },
  "toc": {
   "base_numbering": 1,
   "nav_menu": {},
   "number_sections": true,
   "sideBar": true,
   "skip_h1_title": true,
   "title_cell": "Table of Contents",
   "title_sidebar": "Contents",
   "toc_cell": false,
   "toc_position": {
    "height": "calc(100% - 180px)",
    "left": "10px",
    "top": "150px",
    "width": "165px"
   },
   "toc_section_display": true,
   "toc_window_display": false
  }
 },
 "nbformat": 4,
 "nbformat_minor": 4
}