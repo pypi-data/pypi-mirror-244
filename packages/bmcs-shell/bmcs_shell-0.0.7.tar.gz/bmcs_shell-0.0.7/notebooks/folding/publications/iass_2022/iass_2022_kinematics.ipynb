{
 "cells": [
  {
   "cell_type": "markdown",
   "metadata": {
    "pycharm": {
     "name": "#%% md\n"
    }
   },
   "source": [
    "# Waterbomb tessellation demo"
   ]
  },
  {
   "cell_type": "code",
   "execution_count": null,
   "metadata": {
    "pycharm": {
     "name": "#%%\n"
    }
   },
   "outputs": [],
   "source": [
    "%matplotlib widget\n",
    "from bmcs_shell.api import WBCell5Param, WBTessellation5PBeta, WBNumTessellation, WBNumTessellationInvest, WBTessellationBase, WBNumTessellationBase, WBCell5ParamBeta, WBTessellation4P, WBCell4Param\n",
    "from bmcs_utils.api import Extruder\n",
    "import numpy as np\n",
    "import k3d\n",
    "import sympy as sp"
   ]
  },
  {
   "cell_type": "markdown",
   "metadata": {
    "pycharm": {
     "name": "#%% md\n"
    }
   },
   "source": [
    "## Analytical tessellation of symmetric waterbomb cell (4P cell)"
   ]
  },
  {
   "cell_type": "code",
   "execution_count": null,
   "metadata": {
    "pycharm": {
     "name": "#%%\n"
    }
   },
   "outputs": [],
   "source": [
    "def add_circle(plot, path, r, wireframe=False):\n",
    "    n = 100\n",
    "#     path = np.array([[-4000, 0, -4000], [4000, 0, -4000]])\n",
    "    first_contour = Extruder.get_circle_points(r = r, n=n)[int(n/2):,:]\n",
    "\n",
    "    extruder = Extruder(first_contour, path)\n",
    "    vertices, indices = extruder.get_triangulation_vertices_and_indices(with_ends=False)\n",
    "    \n",
    "    # extruder.show_in_k3d_as_surface(with_ends=False)\n",
    "    \n",
    "    mesh = k3d.mesh(vertices, \n",
    "                    indices,\n",
    "                    color=0xde2121,\n",
    "                    opacity=0.2,\n",
    "                    side='double')\n",
    "    if wireframe:\n",
    "        wf = k3d.lines(vertices, \n",
    "                          indices,\n",
    "                          width = 35,\n",
    "                          shader='mesh',\n",
    "                          color=0xde2121)\n",
    "        plot += wf\n",
    "    plot += mesh\n",
    "\n",
    "def add_ref_plane(plot):\n",
    "    z = -6000\n",
    "    size = 30000\n",
    "    ref_plane = k3d.mesh([[size, size, z], [-size, size, z], [-size, -size, z],[size, -size, z]],\n",
    "                         [[0, 1, 2], [2, 3, 0]],\n",
    "                        side='double',\n",
    "                        color = 0xe6e6e6)\n",
    "    plot += ref_plane"
   ]
  },
  {
   "cell_type": "code",
   "execution_count": null,
   "metadata": {
    "pycharm": {
     "name": "#%%\n"
    }
   },
   "outputs": [],
   "source": [
    "# Cameras for k3d\n",
    "# [\n",
    "#  x1,y1,z1, # position of the camera in xyz space\n",
    "#  x2,y2,z2, # the point where camera is currently looking at\n",
    "#  x3,y3,z3  # orientation (up direction), this vector cannot be [0,0,0])\n",
    "# ]\n",
    "shell_side_view = [11206.956414346325, -9420.91749815528, 1858.3024602542291,\n",
    "                   0.000244140625, -0.00048828125, -2129.4488372802734,\n",
    "                  -0.20092161158887856, 0.08487577463430307, 0.9759234646614198]\n",
    "cell_front_view = [0, -2000, 2000,\n",
    "                   0,     0,   0,\n",
    "                   0,     0,   1]\n",
    "shell_front_view = [19000, 0, -1000,\n",
    "                    0,     0, -2500,\n",
    "                    0,     0,   1]\n",
    "shell_top_view = [0, 0, 900000, 0, 0, -2500, -1, 0, 0]"
   ]
  },
  {
   "cell_type": "code",
   "execution_count": null,
   "metadata": {
    "pycharm": {
     "name": "#%%\n"
    }
   },
   "outputs": [],
   "source": [
    "# FOV = 1\n",
    "# Cameras for k3d\n",
    "# [\n",
    "#  x1,y1,z1, # position of the camera in xyz space\n",
    "#  x2,y2,z2, # the point where camera is currently looking at\n",
    "#  x3,y3,z3  # orientation (up direction), this vector cannot be [0,0,0])\n",
    "# ]\n",
    "shell_side_view = [591365.2482393435, -497120.07834650716, 208294.99640853348,\n",
    " 0.000244140625, -0.00048828125, -2129.4488372802734, \n",
    " -0.20092161158887856, 0.08487577463430307, 0.9759234646614198]\n",
    "\n",
    "cell_front_view = [0, -2000, 2000,\n",
    "                   0,     0,   0,\n",
    "                   0,     0,   1]\n",
    "shell_front_view = [800000, 0, -2000, 0, 0, -2000, 0, 0, 1]\n",
    "shell_top_view = [0, 0, 900000, 0, 0, -2500, -1, 0, 0]"
   ]
  },
  {
   "cell_type": "code",
   "execution_count": null,
   "metadata": {
    "pycharm": {
     "name": "#%%\n"
    }
   },
   "outputs": [],
   "source": [
    "path = np.array([[-4000, 0, -4000], [4000, 0, -4000]])\n",
    "add_circle(wbt4p.pb.plot_fig, path = path, r=4200)"
   ]
  },
  {
   "cell_type": "code",
   "execution_count": null,
   "metadata": {
    "pycharm": {
     "name": "#%%\n"
    }
   },
   "outputs": [],
   "source": [
    "# wbt4p.pb.plot_fig.camera = shell_front_view\n",
    "wbt4p.pb.plot_fig.camera = shell_top_view\n",
    "# wbt4p.pb.plot_fig.camera = shell_side_view\n",
    "# wbt4p.pb.plot_fig.camera = cell_front_view"
   ]
  },
  {
   "cell_type": "code",
   "execution_count": null,
   "metadata": {
    "pycharm": {
     "name": "#%%\n"
    }
   },
   "outputs": [],
   "source": [
    "wbt4p.pb.plot_fig.camera"
   ]
  },
  {
   "cell_type": "code",
   "execution_count": null,
   "metadata": {
    "pycharm": {
     "name": "#%%\n"
    },
    "scrolled": false
   },
   "outputs": [],
   "source": [
    "wbt4p = WBTessellation4P(a = 500, b = 1000, c = 500, gamma = 1.0, n_phi_plus=7, n_x_plus = 5, wireframe_width=10)\n",
    "wbt4p.interact()\n",
    "\n",
    "k3d_plot = wbt4p.pb.plot_fig\n",
    "k3d_plot.screenshot_scale = 5.5\n",
    "k3d_plot.grid_visible = False\n",
    "k3d_plot.camera_fov =1\n",
    "k3d_plot.camera = shell_side_view"
   ]
  },
  {
   "cell_type": "markdown",
   "metadata": {
    "pycharm": {
     "name": "#%% md\n"
    }
   },
   "source": [
    "## Analytical tessellation of 5P cell V2"
   ]
  },
  {
   "cell_type": "code",
   "execution_count": null,
   "metadata": {
    "pycharm": {
     "name": "#%%\n"
    }
   },
   "outputs": [],
   "source": [
    "# wbttpv2.pb.plot_fig.camera = shell_top_view\n",
    "\n",
    "# add_circle(k3d_plot, path = np.array([[-4500, 0, -4120], [4500, 0, -4120]]), r=4070, wireframe=True)\n",
    "wbttpv2.pb.plot_fig.camera = shell_front_view\n",
    "\n",
    "# wbttpv2.pb.plot_fig.camera = shell_side_view\n",
    "# wbttpv2.pb.plot_fig.camera = cell_front_view"
   ]
  },
  {
   "cell_type": "code",
   "execution_count": null,
   "metadata": {
    "pycharm": {
     "name": "#%%\n"
    },
    "scrolled": false
   },
   "outputs": [],
   "source": [
    "# wb_cell=WBCell5ParamBeta(a = 500, b = 1000, c = 500, gamma = 1, delta_beta= 0.0, wireframe_width=10)\n",
    "\n",
    "wb_cell=WBCell5ParamBeta(eta = 2, zeta = 1, gamma = 1.055, delta_beta= 0.0) # gamma = 1.055 ~= 60°\n",
    "# wb_cell=WBCell5ParamBeta(eta = 2, zeta = 1, gamma = 1.055, delta_beta= 0.04) # gamma = 1.055 ~= 60°\n",
    "wbttpv2 = WBTessellation5PBeta(wb_cell=wb_cell, n_x = 9, n_y = 7, sol_num=4, wireframe_width=15)\n",
    "wbttpv2.interact()\n",
    "k3d_plot = wbttpv2.pb.plot_fig\n",
    "\n",
    "k3d_plot.camera_fov = 1\n",
    "add_circle(k3d_plot, path = np.array([[-4500, 0, -4120], [4500, 0, -4120]]), r=4070, wireframe=False)\n",
    "\n",
    "k3d_plot.screenshot_scale = 5.5\n",
    "k3d_plot.grid_visible = False\n",
    "k3d_plot.camera = shell_side_view"
   ]
  },
  {
   "cell_type": "markdown",
   "metadata": {
    "pycharm": {
     "name": "#%% md\n"
    }
   },
   "source": [
    "## General numerical tessellation of any wb cell with 6 facets"
   ]
  },
  {
   "cell_type": "code",
   "execution_count": null,
   "metadata": {
    "pycharm": {
     "name": "#%%\n"
    },
    "scrolled": true
   },
   "outputs": [],
   "source": [
    "wb_num_t = WBNumTessellation()\n",
    "wb_num_t.interact()"
   ]
  },
  {
   "cell_type": "markdown",
   "metadata": {
    "pycharm": {
     "name": "#%% md\n"
    }
   },
   "source": [
    "## Class for investigating 3 cells tessellation manually"
   ]
  },
  {
   "cell_type": "code",
   "execution_count": null,
   "metadata": {
    "pycharm": {
     "name": "#%%\n"
    },
    "scrolled": true
   },
   "outputs": [],
   "source": [
    "wb_num_t_invest = WBNumTessellationInvest()\n",
    "wb_num_t_invest.interact()"
   ]
  },
  {
   "cell_type": "markdown",
   "metadata": {
    "pycharm": {
     "name": "#%% md\n"
    }
   },
   "source": [
    "# Take gif animation from screenshots"
   ]
  },
  {
   "cell_type": "code",
   "execution_count": null,
   "metadata": {
    "pycharm": {
     "name": "#%%\n"
    }
   },
   "outputs": [],
   "source": [
    "import k3d\n",
    "import numpy as np\n",
    "from IPython.display import Image\n",
    "\n",
    "points_number = 15\n",
    "spread_range = 30\n",
    "positions = spread_range * np.random.random_sample((points_number, 3)) - spread_range / 2\n",
    "colors = np.random.randint(0, 0xFFFFFF, points_number)\n",
    "\n",
    "plot = k3d.plot(height=240)\n",
    "points = k3d.points(positions.astype(np.float32), colors.astype(np.uint32), point_size=3.0, shader='mesh')\n",
    "plot += points\n",
    "\n",
    "plot"
   ]
  },
  {
   "cell_type": "code",
   "execution_count": null,
   "metadata": {
    "pycharm": {
     "name": "#%%\n"
    }
   },
   "outputs": [],
   "source": [
    "import ipywidgets\n",
    "\n",
    "plot.camera_auto_fit = False\n",
    "plot.grid_auto_fit = False\n",
    "\n",
    "speeds = -0.5 * np.sign(positions)\n",
    "out = ipywidgets.Output()\n",
    "\n",
    "@plot.yield_screenshots\n",
    "def coroutine():\n",
    "    global positions\n",
    "    for i in range(12):\n",
    "        positions += speeds\n",
    "        points.positions = positions.astype(np.float32)\n",
    "        plot.fetch_screenshot()\n",
    "        screenshot = yield\n",
    "        with open('screenshot_%03d.png'%i, 'wb') as f:\n",
    "            f.write(screenshot)\n",
    "        with out:\n",
    "            print('screenshot_%03d.png saved.'%i)\n",
    "    with out:\n",
    "        print('done.')\n",
    "\n",
    "coroutine()\n",
    "print('loop is running in background...')\n",
    "out"
   ]
  }
 ],
 "metadata": {
  "kernelspec": {
   "display_name": "Python 3 (ipykernel)",
   "language": "python",
   "name": "python3"
  },
  "language_info": {
   "codemirror_mode": {
    "name": "ipython",
    "version": 3
   },
   "file_extension": ".py",
   "mimetype": "text/x-python",
   "name": "python",
   "nbconvert_exporter": "python",
   "pygments_lexer": "ipython3",
   "version": "3.9.12"
  },
  "toc": {
   "base_numbering": 1,
   "nav_menu": {},
   "number_sections": true,
   "sideBar": true,
   "skip_h1_title": true,
   "title_cell": "Table of Contents",
   "title_sidebar": "Contents",
   "toc_cell": false,
   "toc_position": {},
   "toc_section_display": true,
   "toc_window_display": false
  }
 },
 "nbformat": 4,
 "nbformat_minor": 4
}
