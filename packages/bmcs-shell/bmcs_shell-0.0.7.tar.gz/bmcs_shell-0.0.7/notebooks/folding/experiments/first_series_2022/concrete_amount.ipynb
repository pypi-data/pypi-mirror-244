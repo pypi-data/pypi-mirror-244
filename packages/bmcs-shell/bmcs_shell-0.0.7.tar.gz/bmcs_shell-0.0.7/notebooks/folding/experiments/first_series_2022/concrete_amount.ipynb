{
 "cells": [
  {
   "cell_type": "code",
   "execution_count": 1,
   "id": "698bd325",
   "metadata": {},
   "outputs": [],
   "source": [
    "%matplotlib widget\n",
    "# from bmcs_shell.api import WBCell5Param, WBShellAnalysis, WBTessellation5PV2, WBNumTessellation, WBNumTessellationInvest, WBTessellationBase, WBNumTessellationBase, WBCell5ParamV2, WBTessellation4P, WBCell4Param\n",
    "# from bmcs_utils.api import Extruder\n",
    "import numpy as np\n",
    "import k3d\n",
    "import matplotlib.pyplot as plt\n",
    "from scipy.interpolate import interp1d"
   ]
  },
  {
   "cell_type": "markdown",
   "id": "680bad34",
   "metadata": {},
   "source": [
    "## Forces on middle line"
   ]
  },
  {
   "cell_type": "code",
   "execution_count": 2,
   "id": "ea8149f7",
   "metadata": {
    "scrolled": true
   },
   "outputs": [
    {
     "data": {
      "text/plain": [
       "(44.43967328855317, 105.49936226350685)"
      ]
     },
     "execution_count": 2,
     "metadata": {},
     "output_type": "execute_result"
    }
   ],
   "source": [
    "sides_angle = np.deg2rad(53)\n",
    "# Acting forces (Reactions * -1) from ATENA\n",
    "F_m_y = 111 # [kN]\n",
    "F_m_z = -28 # [kN]\n",
    "F_m_yl = F_m_y * np.cos(sides_angle) + F_m_z * np.sin(sides_angle) # Will push the L-profile up if positive\n",
    "F_m_zl = F_m_y * np.sin(sides_angle) - F_m_z * np.cos(sides_angle) # Will go directly to the supporting steel body\n",
    "F_m_yl, F_m_zl"
   ]
  },
  {
   "cell_type": "code",
   "execution_count": 9,
   "id": "dd5608a5",
   "metadata": {},
   "outputs": [
    {
     "data": {
      "text/plain": [
       "14.0"
      ]
     },
     "execution_count": 9,
     "metadata": {},
     "output_type": "execute_result"
    }
   ],
   "source": [
    "# Shell\n",
    "s = 70 * 200 * 1.3 / 1000 # [liter]\n",
    "s"
   ]
  },
  {
   "cell_type": "code",
   "execution_count": 4,
   "id": "c1b838bc",
   "metadata": {},
   "outputs": [
    {
     "data": {
      "text/plain": [
       "15.904312808798327"
      ]
     },
     "execution_count": 4,
     "metadata": {},
     "output_type": "execute_result"
    }
   ],
   "source": [
    "# f_cm/E_cm cylinders\n",
    "cylinder = np.pi * ((15/2)**2) * 30 / 1000 # [liter]\n",
    "cylinders = 3 * cylinder\n",
    "cylinders"
   ]
  },
  {
   "cell_type": "code",
   "execution_count": 5,
   "id": "7b58f508",
   "metadata": {},
   "outputs": [
    {
     "data": {
      "text/plain": [
       "10.125"
      ]
     },
     "execution_count": 5,
     "metadata": {},
     "output_type": "execute_result"
    }
   ],
   "source": [
    "# f_cm/E_cm cubes\n",
    "cube = 15 ** 3 / 1000 # [liter]\n",
    "cubes = 3 * cube\n",
    "cubes"
   ]
  },
  {
   "cell_type": "code",
   "execution_count": 6,
   "id": "e7f9f995",
   "metadata": {},
   "outputs": [
    {
     "data": {
      "text/plain": [
       "15.904312808798327"
      ]
     },
     "execution_count": 6,
     "metadata": {},
     "output_type": "execute_result"
    }
   ],
   "source": [
    "# f_ctm cylinders\n",
    "cylinder_sp = np.pi * ((15/2)**2) * 30 / 1000 # [liter]\n",
    "cylinders_sp = 3 * cylinder_sp\n",
    "cylinders_sp"
   ]
  },
  {
   "cell_type": "code",
   "execution_count": 7,
   "id": "124f6c76",
   "metadata": {},
   "outputs": [
    {
     "data": {
      "text/plain": [
       "0.768"
      ]
     },
     "execution_count": 7,
     "metadata": {},
     "output_type": "execute_result"
    }
   ],
   "source": [
    "# f_ctm, f_cm prisms:\n",
    "prisms = 3 * (4 * 4 * 16) / 1000 # [liter]\n",
    "prisms"
   ]
  },
  {
   "cell_type": "code",
   "execution_count": 8,
   "id": "0ac13890",
   "metadata": {},
   "outputs": [
    {
     "name": "stdout",
     "output_type": "stream",
     "text": [
      "60.9 liter\n"
     ]
    }
   ],
   "source": [
    "total = s + cylinders + cubes + cylinders_sp + prisms\n",
    "print(np.round(total, 2), 'liter')"
   ]
  }
 ],
 "metadata": {
  "kernelspec": {
   "display_name": "Python 3 (ipykernel)",
   "language": "python",
   "name": "python3"
  },
  "language_info": {
   "codemirror_mode": {
    "name": "ipython",
    "version": 3
   },
   "file_extension": ".py",
   "mimetype": "text/x-python",
   "name": "python",
   "nbconvert_exporter": "python",
   "pygments_lexer": "ipython3",
   "version": "3.9.12"
  }
 },
 "nbformat": 4,
 "nbformat_minor": 5
}
