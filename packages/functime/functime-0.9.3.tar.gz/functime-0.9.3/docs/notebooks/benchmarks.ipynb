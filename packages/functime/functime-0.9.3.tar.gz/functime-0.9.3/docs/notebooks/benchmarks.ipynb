{
 "cells": [
  {
   "cell_type": "markdown",
   "metadata": {},
   "source": [
    "# Feature Extraction Benchmarks\n",
    "---\n",
    "\n",
    "This walkthrough serves as a benchmark for comparing `functime` with `tsfresh` feature extraction functions. We begin the analysis by evaluating the speed of feature extraction across time series of three different sizes: 100K, 1M, and 9M. Next, we assess the speed in a groupby and aggregation context, making a performance comparison between functime with polars and tsfresh using pandas."
   ]
  },
  {
   "cell_type": "code",
   "execution_count": 15,
   "metadata": {},
   "outputs": [],
   "source": [
    "%%capture\n",
    "%pip install perfplot\n",
    "%pip install pandas\n",
    "%pip install tsfresh\n",
    "%pip install functime"
   ]
  },
  {
   "cell_type": "code",
   "execution_count": 35,
   "metadata": {},
   "outputs": [],
   "source": [
    "from typing import Callable\n",
    "import pandas as pd\n",
    "import perfplot\n",
    "import polars as pl\n",
    "from tsfresh.feature_extraction import feature_calculators as tsfresh\n",
    "from functime import feature_extractors as fe"
   ]
  },
  {
   "cell_type": "code",
   "execution_count": 36,
   "metadata": {},
   "outputs": [
    {
     "data": {
      "text/plain": [
       "polars.config.Config"
      ]
     },
     "execution_count": 36,
     "metadata": {},
     "output_type": "execute_result"
    }
   ],
   "source": [
    "pl.Config.set_tbl_rows(100)\n",
    "pl.Config.set_fmt_str_lengths(60)\n",
    "pl.Config.set_tbl_hide_column_data_types(True)"
   ]
  },
  {
   "cell_type": "markdown",
   "metadata": {},
   "source": [
    "## 1. Setup for the comparison\n",
    "---\n",
    "We are using the M4 dataset. We create a `pd.DataFrame` and `pl.DataFrame` and we define a list of dictionnary with the following structure:\n",
    "<br>\n",
    "(<br>\n",
    "&emsp;  `<functime_function>`,<br>\n",
    "&emsp;  `<tsfresh_function>`,<br>\n",
    "&emsp;  `<functime_parameters>`,<br>\n",
    "&emsp;   `<tsfresh_parameters>`<br>\n",
    ")<br>"
   ]
  },
  {
   "cell_type": "code",
   "execution_count": 37,
   "metadata": {},
   "outputs": [],
   "source": [
    "_M4_DATASET = \"../../data/m4_1d_train.parquet\"\n",
    "\n",
    "DF_PANDAS = (\n",
    "    pd.melt(pd.read_parquet(_M4_DATASET))\n",
    "    .drop(columns=[\"variable\"])\n",
    "    .dropna()\n",
    "    .reset_index(drop=True)\n",
    ")\n",
    "DF_PL_EAGER = (\n",
    "    pl.read_parquet(_M4_DATASET).drop(\"V1\").melt().drop(\"variable\").drop_nulls()\n",
    ")"
   ]
  },
  {
   "cell_type": "code",
   "execution_count": 38,
   "metadata": {},
   "outputs": [],
   "source": [
    "FUNC_PARAMS_BENCH = [\n",
    "    (fe.absolute_energy, tsfresh.abs_energy, {}, {}),\n",
    "    (fe.absolute_maximum, tsfresh.absolute_maximum, {}, {}),\n",
    "    (fe.absolute_sum_of_changes, tsfresh.absolute_sum_of_changes, {}, {}),\n",
    "    (fe.lempel_ziv_complexity, tsfresh.lempel_ziv_complexity, {\"threshold\": (pl.col(\"value\").max() - pl.col(\"value\").min()) / 2}, {\"bins\": 2}),\n",
    "    (\n",
    "        fe.approximate_entropy,\n",
    "        tsfresh.approximate_entropy,\n",
    "        {\"run_length\": 2, \"filtering_level\": 0.5},\n",
    "        {\"m\": 2, \"r\": 0.5},\n",
    "    ),\n",
    "    # (fe.augmented_dickey_fuller, tsfresh.augmented_dickey_fuller, \"param\")\n",
    "    (fe.autocorrelation, tsfresh.autocorrelation, {\"n_lags\": 4}, {\"lag\": 4}),\n",
    "    (\n",
    "        fe.autoregressive_coefficients,\n",
    "        tsfresh.ar_coefficient,\n",
    "        {\"n_lags\": 4},\n",
    "        {\"param\": [{\"coeff\": i, \"k\": 4}] for i in range(5)},\n",
    "    ),\n",
    "    (fe.benford_correlation, tsfresh.benford_correlation, {}, {}),\n",
    "    (fe.binned_entropy, tsfresh.binned_entropy, {\"bin_count\": 10}, {\"max_bins\": 10}),\n",
    "    (fe.c3, tsfresh.c3, {\"n_lags\": 10}, {\"lag\": 10}),\n",
    "    (\n",
    "        fe.change_quantiles,\n",
    "        tsfresh.change_quantiles,\n",
    "        {\"q_low\": 0.1, \"q_high\": 0.9, \"is_abs\": True},\n",
    "        {\"ql\": 0.1, \"qh\": 0.9, \"isabs\": True, \"f_agg\": \"mean\"},\n",
    "    ),\n",
    "    (fe.cid_ce, tsfresh.cid_ce, {\"normalize\": True}, {\"normalize\": True}),\n",
    "    (fe.count_above, tsfresh.count_above, {\"threshold\": 0.0}, {\"t\": 0.0}),\n",
    "    (fe.count_above_mean, tsfresh.count_above_mean, {}, {}),\n",
    "    (fe.count_below, tsfresh.count_below, {\"threshold\": 0.0}, {\"t\": 0.0}),\n",
    "    (fe.count_below_mean, tsfresh.count_below_mean, {}, {}),\n",
    "    # (fe.cwt_coefficients, tsfresh.cwt_coefficients, {\"widths\": (1, 2, 3), \"n_coefficients\": 2},{\"param\": {\"widths\": (1, 2, 3), \"coeff\": 2, \"w\": 1}}),\n",
    "    (\n",
    "        fe.energy_ratios,\n",
    "        tsfresh.energy_ratio_by_chunks,\n",
    "        {\"n_chunks\": 6},\n",
    "        {\"param\": [{\"num_segments\": 6, \"segment_focus\": i} for i in range(6)]},\n",
    "    ),\n",
    "    (fe.first_location_of_maximum, tsfresh.first_location_of_maximum, {}, {}),\n",
    "    (fe.first_location_of_minimum, tsfresh.first_location_of_minimum, {}, {}),\n",
    "    # (fe.fourier_entropy, tsfresh.fourier_entropy, {\"n_bins\": 10}, {\"bins\": 10}),\n",
    "    # (fe.friedrich_coefficients, tsfresh.friedrich_coefficients, {\"polynomial_order\": 3, \"n_quantiles\": 30}, {\"params\": [{\"m\": 3, \"r\": 30}]}),\n",
    "    (fe.has_duplicate, tsfresh.has_duplicate, {}, {}),\n",
    "    (fe.has_duplicate_max, tsfresh.has_duplicate_max, {}, {}),\n",
    "    (fe.has_duplicate_min, tsfresh.has_duplicate_min, {}, {}),\n",
    "    (\n",
    "        fe.index_mass_quantile,\n",
    "        tsfresh.index_mass_quantile,\n",
    "        {\"q\": 0.5},\n",
    "        {\"param\": [{\"q\": 0.5}]},\n",
    "    ),\n",
    "    (\n",
    "        fe.large_standard_deviation,\n",
    "        tsfresh.large_standard_deviation,\n",
    "        {\"ratio\": 0.25},\n",
    "        {\"r\": 0.25},\n",
    "    ),\n",
    "    (fe.last_location_of_maximum, tsfresh.last_location_of_maximum, {}, {}),\n",
    "    (fe.last_location_of_minimum, tsfresh.last_location_of_minimum, {}, {}),\n",
    "    # (fe.lempel_ziv_complexity, tsfresh.lempel_ziv_complexity, {\"n_bins\": 5}, {\"bins\": 5}),\n",
    "    (\n",
    "        fe.linear_trend,\n",
    "        tsfresh.linear_trend,\n",
    "        {},\n",
    "        {\n",
    "            \"param\": [\n",
    "                {\"attr\": \"pvalue\"},\n",
    "                {\"attr\": \"rvalue\"},\n",
    "                {\"attr\": \"intercept\"},\n",
    "                {\"attr\": \"slope\"},\n",
    "                {\"attr\": \"stderr\"},\n",
    "            ]\n",
    "        },\n",
    "    ),\n",
    "    (fe.longest_streak_above_mean, tsfresh.longest_strike_above_mean, {}, {}),\n",
    "    (fe.longest_streak_below_mean, tsfresh.longest_strike_below_mean, {}, {}),\n",
    "    (fe.mean_abs_change, tsfresh.mean_abs_change, {}, {}),\n",
    "    (fe.mean_change, tsfresh.mean_change, {}, {}),\n",
    "    (\n",
    "        fe.mean_n_absolute_max,\n",
    "        tsfresh.mean_n_absolute_max,\n",
    "        {\"n_maxima\": 20},\n",
    "        {\"number_of_maxima\": 20},\n",
    "    ),\n",
    "    (\n",
    "        fe.mean_second_derivative_central,\n",
    "        tsfresh.mean_second_derivative_central,\n",
    "        {},\n",
    "        {},\n",
    "    ),\n",
    "    (\n",
    "        fe.number_crossings,\n",
    "        tsfresh.number_crossing_m,\n",
    "        {\"crossing_value\": 0.0},\n",
    "        {\"m\": 0.0},\n",
    "    ),\n",
    "    (fe.number_cwt_peaks, tsfresh.number_cwt_peaks, {\"max_width\": 5}, {\"n\": 5}),\n",
    "    (fe.number_peaks, tsfresh.number_peaks, {\"support\": 5}, {\"n\": 5}),\n",
    "    # (fe.partial_autocorrelation, tsfresh.partial_autocorrelation, \"param\"),\n",
    "    (\n",
    "        fe.percent_reoccurring_values,\n",
    "        tsfresh.percentage_of_reoccurring_values_to_all_values,\n",
    "        {},\n",
    "        {},\n",
    "    ),\n",
    "    (\n",
    "        fe.percent_reoccurring_points,\n",
    "        tsfresh.percentage_of_reoccurring_datapoints_to_all_datapoints,\n",
    "        {},\n",
    "        {},\n",
    "    ),\n",
    "    (\n",
    "        fe.permutation_entropy,\n",
    "        tsfresh.permutation_entropy,\n",
    "        {\"tau\": 1, \"n_dims\": 3},\n",
    "        {\"tau\": 1, \"dimension\": 3},\n",
    "    ),\n",
    "    (\n",
    "        fe.range_count,\n",
    "        tsfresh.range_count,\n",
    "        {\"lower\": 0, \"upper\": 9, \"closed\": \"none\"},\n",
    "        {\"min\": 0, \"max\": 9},\n",
    "    ),\n",
    "    (fe.ratio_beyond_r_sigma, tsfresh.ratio_beyond_r_sigma, {\"ratio\": 2}, {\"r\": 2}),\n",
    "    (\n",
    "        fe.ratio_n_unique_to_length,\n",
    "        tsfresh.ratio_value_number_to_time_series_length,\n",
    "        {},\n",
    "        {},\n",
    "    ),\n",
    "    (fe.root_mean_square, tsfresh.root_mean_square, {}, {}),\n",
    "    (fe.sample_entropy, tsfresh.sample_entropy, {}, {}),\n",
    "    (\n",
    "        fe.spkt_welch_density,\n",
    "        tsfresh.spkt_welch_density,\n",
    "        {\"n_coeffs\": 10},\n",
    "        {\"param\": [{\"coeff\": i} for i in range(10)]},\n",
    "    ),\n",
    "    (fe.sum_reoccurring_points, tsfresh.sum_of_reoccurring_data_points, {}, {}),\n",
    "    (fe.sum_reoccurring_values, tsfresh.sum_of_reoccurring_values, {}, {}),\n",
    "    (\n",
    "        fe.symmetry_looking,\n",
    "        tsfresh.symmetry_looking,\n",
    "        {\"ratio\": 0.25},\n",
    "        {\"param\": [{\"r\": 0.25}]},\n",
    "    ),\n",
    "    (\n",
    "        fe.time_reversal_asymmetry_statistic,\n",
    "        tsfresh.time_reversal_asymmetry_statistic,\n",
    "        {\"n_lags\": 3},\n",
    "        {\"lag\": 3},\n",
    "    ),\n",
    "    (fe.variation_coefficient, tsfresh.variation_coefficient, {}, {}),\n",
    "    (fe.var_gt_std, tsfresh.variance_larger_than_standard_deviation, {}, {}),\n",
    "]"
   ]
  },
  {
   "cell_type": "markdown",
   "metadata": {},
   "source": [
    "## 2 Benchmark core functions\n",
    "---\n",
    "Benchmark core function for time series' length of 100_000, 1_000_000 and 9_000_000. (Except 10_000 for `approximate_entropy` and 10_000/100_000 for `number_cwt_peaks` and `sample_entropy`). `all_benchmarks()` iterates through the elements in the `FUNC_PARAMS_BENCH` list and invoke `benchmark()` for each function."
   ]
  },
  {
   "cell_type": "code",
   "execution_count": 39,
   "metadata": {},
   "outputs": [],
   "source": [
    "def benchmark(\n",
    "    f_feat: Callable, ts_feat: Callable, f_params: dict, ts_params: dict, is_expr: bool\n",
    "):\n",
    "    if f_feat.__name__ == \"approximate_entropy\":\n",
    "        n_range = [10_000]\n",
    "    elif f_feat.__name__ in (\"number_cwt_peaks\", \"sample_entropy\", \"lempel_ziv_complexity\"):\n",
    "        n_range = [10_000, 100_000]\n",
    "    else:\n",
    "        n_range = [10_000, 100_000, 1_000_000, 9_000_000]\n",
    "    benchmark = perfplot.bench(\n",
    "        setup=lambda n: (DF_PL_EAGER.head(n), DF_PANDAS.head(n)),\n",
    "        kernels=[\n",
    "            lambda x, _y: f_feat(x[\"value\"], **f_params)\n",
    "            if not is_expr\n",
    "            else x.select(f_feat(pl.col(\"value\"), **f_params)),\n",
    "            lambda _x, y: ts_feat(y[\"value\"], **ts_params),\n",
    "        ],\n",
    "        n_range=n_range,\n",
    "        equality_check=False,\n",
    "        labels=[\"functime\", \"tsfresh\"],\n",
    "    )\n",
    "    return benchmark"
   ]
  },
  {
   "cell_type": "code",
   "execution_count": 40,
   "metadata": {},
   "outputs": [],
   "source": [
    "def all_benchmarks(params: list[tuple], is_expr: bool) -> list:\n",
    "    bench_df = pl.DataFrame(\n",
    "        schema={\n",
    "            \"Feature name\": pl.Utf8,\n",
    "            \"n\": pl.Int64,\n",
    "            \"functime (ms)\": pl.Float64,\n",
    "            \"tfresh (ms)\": pl.Float64,\n",
    "            \"diff (ms)\": pl.Float64,\n",
    "            \"diff %\": pl.Float64,\n",
    "            \"speedup\": pl.Float64,\n",
    "        }\n",
    "    )\n",
    "    for x in params:\n",
    "        try:\n",
    "            f_feat = x[0]\n",
    "            print(f\"Feature: {f_feat.__name__}\")\n",
    "            bench = benchmark(\n",
    "                f_feat=f_feat,\n",
    "                ts_feat=x[1],\n",
    "                f_params=x[2],\n",
    "                ts_params=x[3],\n",
    "                is_expr=is_expr,\n",
    "            )\n",
    "            bench_df = pl.concat(\n",
    "                [\n",
    "                    pl.DataFrame(\n",
    "                        {\n",
    "                            \"Feature name\": [x[0].__name__] * len(bench.n_range),\n",
    "                            \"n\": bench.n_range,\n",
    "                            \"functime (ms)\": bench.timings_s[0] * 1_000,\n",
    "                            \"tfresh (ms)\": bench.timings_s[1] * 1_000,\n",
    "                            \"diff (ms)\": (bench.timings_s[0] - bench.timings_s[1])\n",
    "                            * 1_000,\n",
    "                            \"diff %\": 100\n",
    "                            * (bench.timings_s[0] - bench.timings_s[1])\n",
    "                            / bench.timings_s[1],\n",
    "                            \"speedup\": bench.timings_s[1] / bench.timings_s[0],\n",
    "                        }\n",
    "                    ),\n",
    "                    bench_df,\n",
    "                ]\n",
    "            )\n",
    "        except ValueError:\n",
    "            print(f\"Failed to compute feature {x[0].__name__}\")\n",
    "        except ImportError:\n",
    "            print(f\"Failed to import feature {x[0].__name__}\")\n",
    "        except TypeError:\n",
    "            print(f\"Feature {x[0].__name__} not implemented for pl.Expr\")\n",
    "    return bench_df"
   ]
  },
  {
   "cell_type": "markdown",
   "metadata": {},
   "source": [
    "## 3. Run benchmarks\n",
    "---"
   ]
  },
  {
   "cell_type": "code",
   "execution_count": 41,
   "metadata": {},
   "outputs": [],
   "source": [
    "# Code to prettify benchmark results\n",
    "def table_prettifier(df: pl.DataFrame, n: int):\n",
    "    table = (\n",
    "        df.filter(pl.col(\"n\") == n)\n",
    "        .drop(\"n\")\n",
    "        .sort(\"speedup\", descending=True)\n",
    "        .with_columns(\n",
    "            pl.when(pl.exclude(\"Feature name\").abs() < 0.1)\n",
    "            .then(pl.exclude(\"Feature name\").round(4))\n",
    "            .when(pl.exclude(\"Feature name\").abs() < 1)\n",
    "            .then(pl.exclude(\"Feature name\").round(2))\n",
    "            .when(pl.exclude(\"Feature name\").abs() < 30)\n",
    "            .then(pl.exclude(\"Feature name\").round(1))\n",
    "            .otherwise(pl.exclude(\"Feature name\").round(1))\n",
    "        )\n",
    "        .with_columns(speedup=\"x \" + pl.col(\"speedup\").cast(pl.Utf8))\n",
    "    )\n",
    "    return table"
   ]
  },
  {
   "cell_type": "code",
   "execution_count": 42,
   "metadata": {},
   "outputs": [
    {
     "name": "stderr",
     "output_type": "stream",
     "text": [
      "INFO:functime.feature_extractors:Expression version of approximate_entropy is not yet implemented due to technical difficulty regarding Polars Expression Plugins.\n",
      "INFO:functime.feature_extractors:Expression version of autoregressive_coefficients is not yet implemented due to technical difficulty regarding Polars Expression Plugins.\n",
      "INFO:functime.feature_extractors:Expression version of number_cwt_peaks is not yet implemented due to technical difficulty regarding Polars Expression Plugins.\n",
      "INFO:functime.feature_extractors:Expression version of sample_entropy is not yet implemented due to technical difficulty regarding Polars Expression Plugins.\n",
      "INFO:functime.feature_extractors:Expression version of spkt_welch_density is not yet implemented due to technical difficulty regarding Polars Expression Plugins.\n"
     ]
    }
   ],
   "source": [
    "%%capture\n",
    "bench_expr = all_benchmarks(params = FUNC_PARAMS_BENCH, is_expr = True)\n",
    "bench_series = all_benchmarks(params = FUNC_PARAMS_BENCH, is_expr = False)\n",
    "\n",
    "# Lazy benchmarks\n",
    "df_expr_10k = table_prettifier(bench_expr, n=10_000)\n",
    "df_expr_100k = table_prettifier(bench_expr, n=100_000)\n",
    "df_expr_1m = table_prettifier(bench_expr, n=1_000_000)\n",
    "df_expr_9m = table_prettifier(bench_expr, n=9_000_000)\n",
    "\n",
    "# Eager benchmarks\n",
    "df_series_10k = table_prettifier(bench_series, n=10_000)\n",
    "df_series_100k = table_prettifier(bench_series, n=100_000)\n",
    "df_series_1m = table_prettifier(bench_series, n=1_000_000)\n",
    "df_series_9m = table_prettifier(bench_series, n=9_000_000)"
   ]
  },
  {
   "cell_type": "markdown",
   "metadata": {},
   "source": [
    "## 4. Benchmark results\n",
    "---\n",
    "\n",
    "Display 8 tables:\n",
    "- For `pl.Series`: 10k, 100k, 1M and 9M rows\n",
    "- For `pl.Expr`: 10k, 100k, 1M and 9M rows\n",
    "\n",
    "Each table contains the execution time (ms) for tsfresh and functime, the difference, the difference in % and the speedup:"
   ]
  },
  {
   "cell_type": "markdown",
   "metadata": {},
   "source": [
    "### 4.1 Results for `pl.Expr`"
   ]
  },
  {
   "cell_type": "markdown",
   "metadata": {},
   "source": [
    "#### 10k expr"
   ]
  },
  {
   "cell_type": "code",
   "execution_count": 43,
   "metadata": {},
   "outputs": [
    {
     "data": {
      "text/html": [
       "<div><style>\n",
       ".dataframe > thead > tr > th,\n",
       ".dataframe > tbody > tr > td {\n",
       "  text-align: right;\n",
       "  white-space: pre-wrap;\n",
       "}\n",
       "</style>\n",
       "<small>shape: (46, 6)</small><table border=\"1\" class=\"dataframe\"><thead><tr><th>Feature name</th><th>functime (ms)</th><th>tfresh (ms)</th><th>diff (ms)</th><th>diff %</th><th>speedup</th></tr></thead><tbody><tr><td>&quot;lempel_ziv_complexity&quot;</td><td>1.6</td><td>49.2</td><td>-47.6</td><td>-96.8</td><td>&quot;x 31.1&quot;</td></tr><tr><td>&quot;benford_correlation&quot;</td><td>1.4</td><td>15.1</td><td>-13.7</td><td>-91.0</td><td>&quot;x 11.1&quot;</td></tr><tr><td>&quot;energy_ratios&quot;</td><td>0.47</td><td>3.4</td><td>-2.9</td><td>-86.2</td><td>&quot;x 7.2&quot;</td></tr><tr><td>&quot;mean_n_absolute_max&quot;</td><td>0.13</td><td>0.65</td><td>-0.52</td><td>-79.4</td><td>&quot;x 4.8&quot;</td></tr><tr><td>&quot;longest_streak_below_mean&quot;</td><td>0.44</td><td>1.7</td><td>-1.3</td><td>-73.9</td><td>&quot;x 3.8&quot;</td></tr><tr><td>&quot;range_count&quot;</td><td>0.0771</td><td>0.25</td><td>-0.18</td><td>-69.7</td><td>&quot;x 3.3&quot;</td></tr><tr><td>&quot;change_quantiles&quot;</td><td>0.45</td><td>1.3</td><td>-0.9</td><td>-67.0</td><td>&quot;x 3.0&quot;</td></tr><tr><td>&quot;longest_streak_above_mean&quot;</td><td>0.59</td><td>1.7</td><td>-1.1</td><td>-65.2</td><td>&quot;x 2.9&quot;</td></tr><tr><td>&quot;number_peaks&quot;</td><td>0.65</td><td>1.7</td><td>-1.1</td><td>-62.0</td><td>&quot;x 2.6&quot;</td></tr><tr><td>&quot;ratio_beyond_r_sigma&quot;</td><td>0.18</td><td>0.42</td><td>-0.25</td><td>-58.4</td><td>&quot;x 2.4&quot;</td></tr><tr><td>&quot;count_below_mean&quot;</td><td>0.0783</td><td>0.16</td><td>-0.0852</td><td>-52.1</td><td>&quot;x 2.1&quot;</td></tr><tr><td>&quot;count_above_mean&quot;</td><td>0.0803</td><td>0.16</td><td>-0.0837</td><td>-51.0</td><td>&quot;x 2.0&quot;</td></tr><tr><td>&quot;ratio_n_unique_to_length&quot;</td><td>0.34</td><td>0.7</td><td>-0.35</td><td>-50.6</td><td>&quot;x 2.0&quot;</td></tr><tr><td>&quot;percent_reoccurring_points&quot;</td><td>0.68</td><td>1.3</td><td>-0.65</td><td>-48.6</td><td>&quot;x 1.9&quot;</td></tr><tr><td>&quot;large_standard_deviation&quot;</td><td>0.0815</td><td>0.14</td><td>-0.0536</td><td>-39.7</td><td>&quot;x 1.7&quot;</td></tr><tr><td>&quot;has_duplicate_max&quot;</td><td>0.11</td><td>0.18</td><td>-0.0656</td><td>-37.3</td><td>&quot;x 1.6&quot;</td></tr><tr><td>&quot;has_duplicate_min&quot;</td><td>0.11</td><td>0.17</td><td>-0.065</td><td>-37.2</td><td>&quot;x 1.6&quot;</td></tr><tr><td>&quot;count_above&quot;</td><td>0.0781</td><td>0.12</td><td>-0.0434</td><td>-35.7</td><td>&quot;x 1.6&quot;</td></tr><tr><td>&quot;count_below&quot;</td><td>0.0785</td><td>0.12</td><td>-0.0428</td><td>-35.3</td><td>&quot;x 1.5&quot;</td></tr><tr><td>&quot;has_duplicate&quot;</td><td>0.47</td><td>0.69</td><td>-0.23</td><td>-32.7</td><td>&quot;x 1.5&quot;</td></tr><tr><td>&quot;binned_entropy&quot;</td><td>0.32</td><td>0.46</td><td>-0.15</td><td>-31.6</td><td>&quot;x 1.5&quot;</td></tr><tr><td>&quot;sum_reoccurring_points&quot;</td><td>0.6</td><td>0.81</td><td>-0.22</td><td>-26.5</td><td>&quot;x 1.4&quot;</td></tr><tr><td>&quot;c3&quot;</td><td>0.23</td><td>0.27</td><td>-0.0353</td><td>-13.2</td><td>&quot;x 1.2&quot;</td></tr><tr><td>&quot;root_mean_square&quot;</td><td>0.12</td><td>0.14</td><td>-0.0159</td><td>-11.8</td><td>&quot;x 1.1&quot;</td></tr><tr><td>&quot;variation_coefficient&quot;</td><td>0.1</td><td>0.11</td><td>-0.0023</td><td>-2.2</td><td>&quot;x 1.0&quot;</td></tr><tr><td>&quot;symmetry_looking&quot;</td><td>0.33</td><td>0.34</td><td>-0.0065</td><td>-1.9</td><td>&quot;x 1.0&quot;</td></tr><tr><td>&quot;percent_reoccurring_values&quot;</td><td>0.8</td><td>0.77</td><td>0.0255</td><td>3.3</td><td>&quot;x 0.97&quot;</td></tr><tr><td>&quot;mean_abs_change&quot;</td><td>0.0521</td><td>0.0494</td><td>0.0027</td><td>5.4</td><td>&quot;x 0.95&quot;</td></tr><tr><td>&quot;var_gt_std&quot;</td><td>0.0573</td><td>0.0538</td><td>0.0034</td><td>6.4</td><td>&quot;x 0.94&quot;</td></tr><tr><td>&quot;absolute_sum_of_changes&quot;</td><td>0.0521</td><td>0.0448</td><td>0.0073</td><td>16.3</td><td>&quot;x 0.86&quot;</td></tr><tr><td>&quot;permutation_entropy&quot;</td><td>20.6</td><td>16.3</td><td>4.3</td><td>26.2</td><td>&quot;x 0.79&quot;</td></tr><tr><td>&quot;absolute_maximum&quot;</td><td>0.13</td><td>0.1</td><td>0.0277</td><td>27.7</td><td>&quot;x 0.78&quot;</td></tr><tr><td>&quot;cid_ce&quot;</td><td>0.51</td><td>0.36</td><td>0.15</td><td>39.7</td><td>&quot;x 0.72&quot;</td></tr><tr><td>&quot;linear_trend&quot;</td><td>1.6</td><td>1.1</td><td>0.51</td><td>47.5</td><td>&quot;x 0.68&quot;</td></tr><tr><td>&quot;number_crossings&quot;</td><td>0.16</td><td>0.0932</td><td>0.0646</td><td>69.3</td><td>&quot;x 0.59&quot;</td></tr><tr><td>&quot;autocorrelation&quot;</td><td>0.28</td><td>0.16</td><td>0.12</td><td>75.8</td><td>&quot;x 0.57&quot;</td></tr><tr><td>&quot;sum_reoccurring_values&quot;</td><td>1.6</td><td>0.85</td><td>0.79</td><td>92.6</td><td>&quot;x 0.52&quot;</td></tr><tr><td>&quot;first_location_of_maximum&quot;</td><td>0.0868</td><td>0.0424</td><td>0.0445</td><td>105.0</td><td>&quot;x 0.49&quot;</td></tr><tr><td>&quot;first_location_of_minimum&quot;</td><td>0.0876</td><td>0.0418</td><td>0.0458</td><td>109.7</td><td>&quot;x 0.48&quot;</td></tr><tr><td>&quot;time_reversal_asymmetry_statistic&quot;</td><td>0.24</td><td>0.0953</td><td>0.15</td><td>156.7</td><td>&quot;x 0.39&quot;</td></tr><tr><td>&quot;index_mass_quantile&quot;</td><td>0.31</td><td>0.12</td><td>0.19</td><td>165.9</td><td>&quot;x 0.38&quot;</td></tr><tr><td>&quot;absolute_energy&quot;</td><td>0.0846</td><td>0.0307</td><td>0.0539</td><td>175.9</td><td>&quot;x 0.36&quot;</td></tr><tr><td>&quot;last_location_of_minimum&quot;</td><td>0.13</td><td>0.0297</td><td>0.1</td><td>340.4</td><td>&quot;x 0.23&quot;</td></tr><tr><td>&quot;last_location_of_maximum&quot;</td><td>0.13</td><td>0.0296</td><td>0.1</td><td>348.4</td><td>&quot;x 0.22&quot;</td></tr><tr><td>&quot;mean_change&quot;</td><td>0.18</td><td>0.0086</td><td>0.17</td><td>2016.9</td><td>&quot;x 0.0472&quot;</td></tr><tr><td>&quot;mean_second_derivative_central&quot;</td><td>0.26</td><td>0.0091</td><td>0.25</td><td>2731.7</td><td>&quot;x 0.0353&quot;</td></tr></tbody></table></div>"
      ],
      "text/plain": [
       "shape: (46, 6)\n",
       "┌───────────────────────────────────┬───────────────┬─────────────┬───────────┬────────┬──────────┐\n",
       "│ Feature name                      ┆ functime (ms) ┆ tfresh (ms) ┆ diff (ms) ┆ diff % ┆ speedup  │\n",
       "╞═══════════════════════════════════╪═══════════════╪═════════════╪═══════════╪════════╪══════════╡\n",
       "│ lempel_ziv_complexity             ┆ 1.6           ┆ 49.2        ┆ -47.6     ┆ -96.8  ┆ x 31.1   │\n",
       "│ benford_correlation               ┆ 1.4           ┆ 15.1        ┆ -13.7     ┆ -91.0  ┆ x 11.1   │\n",
       "│ energy_ratios                     ┆ 0.47          ┆ 3.4         ┆ -2.9      ┆ -86.2  ┆ x 7.2    │\n",
       "│ mean_n_absolute_max               ┆ 0.13          ┆ 0.65        ┆ -0.52     ┆ -79.4  ┆ x 4.8    │\n",
       "│ longest_streak_below_mean         ┆ 0.44          ┆ 1.7         ┆ -1.3      ┆ -73.9  ┆ x 3.8    │\n",
       "│ range_count                       ┆ 0.0771        ┆ 0.25        ┆ -0.18     ┆ -69.7  ┆ x 3.3    │\n",
       "│ change_quantiles                  ┆ 0.45          ┆ 1.3         ┆ -0.9      ┆ -67.0  ┆ x 3.0    │\n",
       "│ longest_streak_above_mean         ┆ 0.59          ┆ 1.7         ┆ -1.1      ┆ -65.2  ┆ x 2.9    │\n",
       "│ number_peaks                      ┆ 0.65          ┆ 1.7         ┆ -1.1      ┆ -62.0  ┆ x 2.6    │\n",
       "│ ratio_beyond_r_sigma              ┆ 0.18          ┆ 0.42        ┆ -0.25     ┆ -58.4  ┆ x 2.4    │\n",
       "│ count_below_mean                  ┆ 0.0783        ┆ 0.16        ┆ -0.0852   ┆ -52.1  ┆ x 2.1    │\n",
       "│ count_above_mean                  ┆ 0.0803        ┆ 0.16        ┆ -0.0837   ┆ -51.0  ┆ x 2.0    │\n",
       "│ ratio_n_unique_to_length          ┆ 0.34          ┆ 0.7         ┆ -0.35     ┆ -50.6  ┆ x 2.0    │\n",
       "│ percent_reoccurring_points        ┆ 0.68          ┆ 1.3         ┆ -0.65     ┆ -48.6  ┆ x 1.9    │\n",
       "│ large_standard_deviation          ┆ 0.0815        ┆ 0.14        ┆ -0.0536   ┆ -39.7  ┆ x 1.7    │\n",
       "│ has_duplicate_max                 ┆ 0.11          ┆ 0.18        ┆ -0.0656   ┆ -37.3  ┆ x 1.6    │\n",
       "│ has_duplicate_min                 ┆ 0.11          ┆ 0.17        ┆ -0.065    ┆ -37.2  ┆ x 1.6    │\n",
       "│ count_above                       ┆ 0.0781        ┆ 0.12        ┆ -0.0434   ┆ -35.7  ┆ x 1.6    │\n",
       "│ count_below                       ┆ 0.0785        ┆ 0.12        ┆ -0.0428   ┆ -35.3  ┆ x 1.5    │\n",
       "│ has_duplicate                     ┆ 0.47          ┆ 0.69        ┆ -0.23     ┆ -32.7  ┆ x 1.5    │\n",
       "│ binned_entropy                    ┆ 0.32          ┆ 0.46        ┆ -0.15     ┆ -31.6  ┆ x 1.5    │\n",
       "│ sum_reoccurring_points            ┆ 0.6           ┆ 0.81        ┆ -0.22     ┆ -26.5  ┆ x 1.4    │\n",
       "│ c3                                ┆ 0.23          ┆ 0.27        ┆ -0.0353   ┆ -13.2  ┆ x 1.2    │\n",
       "│ root_mean_square                  ┆ 0.12          ┆ 0.14        ┆ -0.0159   ┆ -11.8  ┆ x 1.1    │\n",
       "│ variation_coefficient             ┆ 0.1           ┆ 0.11        ┆ -0.0023   ┆ -2.2   ┆ x 1.0    │\n",
       "│ symmetry_looking                  ┆ 0.33          ┆ 0.34        ┆ -0.0065   ┆ -1.9   ┆ x 1.0    │\n",
       "│ percent_reoccurring_values        ┆ 0.8           ┆ 0.77        ┆ 0.0255    ┆ 3.3    ┆ x 0.97   │\n",
       "│ mean_abs_change                   ┆ 0.0521        ┆ 0.0494      ┆ 0.0027    ┆ 5.4    ┆ x 0.95   │\n",
       "│ var_gt_std                        ┆ 0.0573        ┆ 0.0538      ┆ 0.0034    ┆ 6.4    ┆ x 0.94   │\n",
       "│ absolute_sum_of_changes           ┆ 0.0521        ┆ 0.0448      ┆ 0.0073    ┆ 16.3   ┆ x 0.86   │\n",
       "│ permutation_entropy               ┆ 20.6          ┆ 16.3        ┆ 4.3       ┆ 26.2   ┆ x 0.79   │\n",
       "│ absolute_maximum                  ┆ 0.13          ┆ 0.1         ┆ 0.0277    ┆ 27.7   ┆ x 0.78   │\n",
       "│ cid_ce                            ┆ 0.51          ┆ 0.36        ┆ 0.15      ┆ 39.7   ┆ x 0.72   │\n",
       "│ linear_trend                      ┆ 1.6           ┆ 1.1         ┆ 0.51      ┆ 47.5   ┆ x 0.68   │\n",
       "│ number_crossings                  ┆ 0.16          ┆ 0.0932      ┆ 0.0646    ┆ 69.3   ┆ x 0.59   │\n",
       "│ autocorrelation                   ┆ 0.28          ┆ 0.16        ┆ 0.12      ┆ 75.8   ┆ x 0.57   │\n",
       "│ sum_reoccurring_values            ┆ 1.6           ┆ 0.85        ┆ 0.79      ┆ 92.6   ┆ x 0.52   │\n",
       "│ first_location_of_maximum         ┆ 0.0868        ┆ 0.0424      ┆ 0.0445    ┆ 105.0  ┆ x 0.49   │\n",
       "│ first_location_of_minimum         ┆ 0.0876        ┆ 0.0418      ┆ 0.0458    ┆ 109.7  ┆ x 0.48   │\n",
       "│ time_reversal_asymmetry_statistic ┆ 0.24          ┆ 0.0953      ┆ 0.15      ┆ 156.7  ┆ x 0.39   │\n",
       "│ index_mass_quantile               ┆ 0.31          ┆ 0.12        ┆ 0.19      ┆ 165.9  ┆ x 0.38   │\n",
       "│ absolute_energy                   ┆ 0.0846        ┆ 0.0307      ┆ 0.0539    ┆ 175.9  ┆ x 0.36   │\n",
       "│ last_location_of_minimum          ┆ 0.13          ┆ 0.0297      ┆ 0.1       ┆ 340.4  ┆ x 0.23   │\n",
       "│ last_location_of_maximum          ┆ 0.13          ┆ 0.0296      ┆ 0.1       ┆ 348.4  ┆ x 0.22   │\n",
       "│ mean_change                       ┆ 0.18          ┆ 0.0086      ┆ 0.17      ┆ 2016.9 ┆ x 0.0472 │\n",
       "│ mean_second_derivative_central    ┆ 0.26          ┆ 0.0091      ┆ 0.25      ┆ 2731.7 ┆ x 0.0353 │\n",
       "└───────────────────────────────────┴───────────────┴─────────────┴───────────┴────────┴──────────┘"
      ]
     },
     "execution_count": 43,
     "metadata": {},
     "output_type": "execute_result"
    }
   ],
   "source": [
    "df_expr_10k"
   ]
  },
  {
   "cell_type": "markdown",
   "metadata": {},
   "source": [
    "#### 100k expr"
   ]
  },
  {
   "cell_type": "code",
   "execution_count": 44,
   "metadata": {},
   "outputs": [
    {
     "data": {
      "text/html": [
       "<div><style>\n",
       ".dataframe > thead > tr > th,\n",
       ".dataframe > tbody > tr > td {\n",
       "  text-align: right;\n",
       "  white-space: pre-wrap;\n",
       "}\n",
       "</style>\n",
       "<small>shape: (46, 6)</small><table border=\"1\" class=\"dataframe\"><thead><tr><th>Feature name</th><th>functime (ms)</th><th>tfresh (ms)</th><th>diff (ms)</th><th>diff %</th><th>speedup</th></tr></thead><tbody><tr><td>&quot;lempel_ziv_complexity&quot;</td><td>37.2</td><td>2403.7</td><td>-2366.5</td><td>-98.5</td><td>&quot;x 64.6&quot;</td></tr><tr><td>&quot;mean_n_absolute_max&quot;</td><td>0.55</td><td>7.3</td><td>-6.7</td><td>-92.5</td><td>&quot;x 13.3&quot;</td></tr><tr><td>&quot;benford_correlation&quot;</td><td>11.6</td><td>144.6</td><td>-133.0</td><td>-92.0</td><td>&quot;x 12.5&quot;</td></tr><tr><td>&quot;longest_streak_above_mean&quot;</td><td>2.5</td><td>15.4</td><td>-12.9</td><td>-84.1</td><td>&quot;x 6.3&quot;</td></tr><tr><td>&quot;longest_streak_below_mean&quot;</td><td>2.4</td><td>15.3</td><td>-12.9</td><td>-84.0</td><td>&quot;x 6.3&quot;</td></tr><tr><td>&quot;energy_ratios&quot;</td><td>1.0</td><td>5.0</td><td>-3.9</td><td>-78.9</td><td>&quot;x 4.7&quot;</td></tr><tr><td>&quot;ratio_n_unique_to_length&quot;</td><td>2.8</td><td>8.2</td><td>-5.4</td><td>-66.3</td><td>&quot;x 3.0&quot;</td></tr><tr><td>&quot;change_quantiles&quot;</td><td>2.3</td><td>6.4</td><td>-4.1</td><td>-64.6</td><td>&quot;x 2.8&quot;</td></tr><tr><td>&quot;absolute_maximum&quot;</td><td>0.15</td><td>0.37</td><td>-0.21</td><td>-58.5</td><td>&quot;x 2.4&quot;</td></tr><tr><td>&quot;count_above_mean&quot;</td><td>0.18</td><td>0.42</td><td>-0.23</td><td>-56.0</td><td>&quot;x 2.3&quot;</td></tr><tr><td>&quot;count_below_mean&quot;</td><td>0.19</td><td>0.42</td><td>-0.23</td><td>-55.6</td><td>&quot;x 2.3&quot;</td></tr><tr><td>&quot;large_standard_deviation&quot;</td><td>0.36</td><td>0.77</td><td>-0.42</td><td>-53.9</td><td>&quot;x 2.2&quot;</td></tr><tr><td>&quot;variation_coefficient&quot;</td><td>0.22</td><td>0.46</td><td>-0.24</td><td>-51.4</td><td>&quot;x 2.1&quot;</td></tr><tr><td>&quot;has_duplicate_max&quot;</td><td>0.24</td><td>0.49</td><td>-0.25</td><td>-50.3</td><td>&quot;x 2.0&quot;</td></tr><tr><td>&quot;has_duplicate_min&quot;</td><td>0.24</td><td>0.49</td><td>-0.24</td><td>-49.8</td><td>&quot;x 2.0&quot;</td></tr><tr><td>&quot;symmetry_looking&quot;</td><td>0.94</td><td>1.8</td><td>-0.88</td><td>-48.4</td><td>&quot;x 1.9&quot;</td></tr><tr><td>&quot;ratio_beyond_r_sigma&quot;</td><td>0.7</td><td>1.2</td><td>-0.53</td><td>-43.0</td><td>&quot;x 1.8&quot;</td></tr><tr><td>&quot;percent_reoccurring_points&quot;</td><td>5.5</td><td>9.4</td><td>-3.9</td><td>-41.8</td><td>&quot;x 1.7&quot;</td></tr><tr><td>&quot;sum_reoccurring_points&quot;</td><td>5.2</td><td>8.8</td><td>-3.6</td><td>-41.3</td><td>&quot;x 1.7&quot;</td></tr><tr><td>&quot;var_gt_std&quot;</td><td>0.17</td><td>0.29</td><td>-0.12</td><td>-41.2</td><td>&quot;x 1.7&quot;</td></tr><tr><td>&quot;permutation_entropy&quot;</td><td>175.2</td><td>287.2</td><td>-112.0</td><td>-39.0</td><td>&quot;x 1.6&quot;</td></tr><tr><td>&quot;linear_trend&quot;</td><td>6.5</td><td>9.9</td><td>-3.4</td><td>-34.3</td><td>&quot;x 1.5&quot;</td></tr><tr><td>&quot;has_duplicate&quot;</td><td>5.1</td><td>7.8</td><td>-2.6</td><td>-33.9</td><td>&quot;x 1.5&quot;</td></tr><tr><td>&quot;number_peaks&quot;</td><td>2.5</td><td>3.6</td><td>-1.1</td><td>-30.8</td><td>&quot;x 1.4&quot;</td></tr><tr><td>&quot;root_mean_square&quot;</td><td>0.25</td><td>0.35</td><td>-0.0981</td><td>-28.1</td><td>&quot;x 1.4&quot;</td></tr><tr><td>&quot;binned_entropy&quot;</td><td>1.7</td><td>2.4</td><td>-0.64</td><td>-26.7</td><td>&quot;x 1.4&quot;</td></tr><tr><td>&quot;c3&quot;</td><td>0.7</td><td>0.85</td><td>-0.15</td><td>-17.5</td><td>&quot;x 1.2&quot;</td></tr><tr><td>&quot;first_location_of_maximum&quot;</td><td>0.12</td><td>0.14</td><td>-0.0215</td><td>-15.4</td><td>&quot;x 1.2&quot;</td></tr><tr><td>&quot;first_location_of_minimum&quot;</td><td>0.12</td><td>0.14</td><td>-0.0185</td><td>-13.3</td><td>&quot;x 1.2&quot;</td></tr><tr><td>&quot;count_below&quot;</td><td>0.18</td><td>0.2</td><td>-0.0244</td><td>-12.0</td><td>&quot;x 1.1&quot;</td></tr><tr><td>&quot;count_above&quot;</td><td>0.18</td><td>0.2</td><td>-0.0239</td><td>-11.8</td><td>&quot;x 1.1&quot;</td></tr><tr><td>&quot;mean_abs_change&quot;</td><td>0.23</td><td>0.24</td><td>-0.0101</td><td>-4.2</td><td>&quot;x 1.0&quot;</td></tr><tr><td>&quot;absolute_sum_of_changes&quot;</td><td>0.23</td><td>0.23</td><td>0.0042</td><td>1.8</td><td>&quot;x 0.98&quot;</td></tr><tr><td>&quot;time_reversal_asymmetry_statistic&quot;</td><td>0.91</td><td>0.83</td><td>0.0751</td><td>9.0</td><td>&quot;x 0.92&quot;</td></tr><tr><td>&quot;autocorrelation&quot;</td><td>0.77</td><td>0.67</td><td>0.0975</td><td>14.5</td><td>&quot;x 0.87&quot;</td></tr><tr><td>&quot;percent_reoccurring_values&quot;</td><td>11.0</td><td>8.2</td><td>2.8</td><td>34.5</td><td>&quot;x 0.74&quot;</td></tr><tr><td>&quot;last_location_of_minimum&quot;</td><td>0.24</td><td>0.15</td><td>0.0939</td><td>62.6</td><td>&quot;x 0.62&quot;</td></tr><tr><td>&quot;last_location_of_maximum&quot;</td><td>0.24</td><td>0.15</td><td>0.0952</td><td>63.5</td><td>&quot;x 0.61&quot;</td></tr><tr><td>&quot;index_mass_quantile&quot;</td><td>1.4</td><td>0.81</td><td>0.63</td><td>77.5</td><td>&quot;x 0.56&quot;</td></tr><tr><td>&quot;number_crossings&quot;</td><td>0.27</td><td>0.14</td><td>0.13</td><td>90.3</td><td>&quot;x 0.53&quot;</td></tr><tr><td>&quot;sum_reoccurring_values&quot;</td><td>17.3</td><td>9.0</td><td>8.3</td><td>92.1</td><td>&quot;x 0.52&quot;</td></tr><tr><td>&quot;cid_ce&quot;</td><td>3.3</td><td>1.3</td><td>2.0</td><td>150.3</td><td>&quot;x 0.4&quot;</td></tr><tr><td>&quot;absolute_energy&quot;</td><td>0.24</td><td>0.0443</td><td>0.2</td><td>447.0</td><td>&quot;x 0.18&quot;</td></tr><tr><td>&quot;mean_change&quot;</td><td>0.16</td><td>0.0086</td><td>0.16</td><td>1811.6</td><td>&quot;x 0.0523&quot;</td></tr><tr><td>&quot;mean_second_derivative_central&quot;</td><td>0.26</td><td>0.0091</td><td>0.25</td><td>2776.1</td><td>&quot;x 0.0348&quot;</td></tr><tr><td>&quot;range_count&quot;</td><td>632.3</td><td>0.41</td><td>631.9</td><td>154619.9</td><td>&quot;x 0.0006&quot;</td></tr></tbody></table></div>"
      ],
      "text/plain": [
       "shape: (46, 6)\n",
       "┌──────────────────────────────────┬───────────────┬─────────────┬───────────┬──────────┬──────────┐\n",
       "│ Feature name                     ┆ functime (ms) ┆ tfresh (ms) ┆ diff (ms) ┆ diff %   ┆ speedup  │\n",
       "╞══════════════════════════════════╪═══════════════╪═════════════╪═══════════╪══════════╪══════════╡\n",
       "│ lempel_ziv_complexity            ┆ 37.2          ┆ 2403.7      ┆ -2366.5   ┆ -98.5    ┆ x 64.6   │\n",
       "│ mean_n_absolute_max              ┆ 0.55          ┆ 7.3         ┆ -6.7      ┆ -92.5    ┆ x 13.3   │\n",
       "│ benford_correlation              ┆ 11.6          ┆ 144.6       ┆ -133.0    ┆ -92.0    ┆ x 12.5   │\n",
       "│ longest_streak_above_mean        ┆ 2.5           ┆ 15.4        ┆ -12.9     ┆ -84.1    ┆ x 6.3    │\n",
       "│ longest_streak_below_mean        ┆ 2.4           ┆ 15.3        ┆ -12.9     ┆ -84.0    ┆ x 6.3    │\n",
       "│ energy_ratios                    ┆ 1.0           ┆ 5.0         ┆ -3.9      ┆ -78.9    ┆ x 4.7    │\n",
       "│ ratio_n_unique_to_length         ┆ 2.8           ┆ 8.2         ┆ -5.4      ┆ -66.3    ┆ x 3.0    │\n",
       "│ change_quantiles                 ┆ 2.3           ┆ 6.4         ┆ -4.1      ┆ -64.6    ┆ x 2.8    │\n",
       "│ absolute_maximum                 ┆ 0.15          ┆ 0.37        ┆ -0.21     ┆ -58.5    ┆ x 2.4    │\n",
       "│ count_above_mean                 ┆ 0.18          ┆ 0.42        ┆ -0.23     ┆ -56.0    ┆ x 2.3    │\n",
       "│ count_below_mean                 ┆ 0.19          ┆ 0.42        ┆ -0.23     ┆ -55.6    ┆ x 2.3    │\n",
       "│ large_standard_deviation         ┆ 0.36          ┆ 0.77        ┆ -0.42     ┆ -53.9    ┆ x 2.2    │\n",
       "│ variation_coefficient            ┆ 0.22          ┆ 0.46        ┆ -0.24     ┆ -51.4    ┆ x 2.1    │\n",
       "│ has_duplicate_max                ┆ 0.24          ┆ 0.49        ┆ -0.25     ┆ -50.3    ┆ x 2.0    │\n",
       "│ has_duplicate_min                ┆ 0.24          ┆ 0.49        ┆ -0.24     ┆ -49.8    ┆ x 2.0    │\n",
       "│ symmetry_looking                 ┆ 0.94          ┆ 1.8         ┆ -0.88     ┆ -48.4    ┆ x 1.9    │\n",
       "│ ratio_beyond_r_sigma             ┆ 0.7           ┆ 1.2         ┆ -0.53     ┆ -43.0    ┆ x 1.8    │\n",
       "│ percent_reoccurring_points       ┆ 5.5           ┆ 9.4         ┆ -3.9      ┆ -41.8    ┆ x 1.7    │\n",
       "│ sum_reoccurring_points           ┆ 5.2           ┆ 8.8         ┆ -3.6      ┆ -41.3    ┆ x 1.7    │\n",
       "│ var_gt_std                       ┆ 0.17          ┆ 0.29        ┆ -0.12     ┆ -41.2    ┆ x 1.7    │\n",
       "│ permutation_entropy              ┆ 175.2         ┆ 287.2       ┆ -112.0    ┆ -39.0    ┆ x 1.6    │\n",
       "│ linear_trend                     ┆ 6.5           ┆ 9.9         ┆ -3.4      ┆ -34.3    ┆ x 1.5    │\n",
       "│ has_duplicate                    ┆ 5.1           ┆ 7.8         ┆ -2.6      ┆ -33.9    ┆ x 1.5    │\n",
       "│ number_peaks                     ┆ 2.5           ┆ 3.6         ┆ -1.1      ┆ -30.8    ┆ x 1.4    │\n",
       "│ root_mean_square                 ┆ 0.25          ┆ 0.35        ┆ -0.0981   ┆ -28.1    ┆ x 1.4    │\n",
       "│ binned_entropy                   ┆ 1.7           ┆ 2.4         ┆ -0.64     ┆ -26.7    ┆ x 1.4    │\n",
       "│ c3                               ┆ 0.7           ┆ 0.85        ┆ -0.15     ┆ -17.5    ┆ x 1.2    │\n",
       "│ first_location_of_maximum        ┆ 0.12          ┆ 0.14        ┆ -0.0215   ┆ -15.4    ┆ x 1.2    │\n",
       "│ first_location_of_minimum        ┆ 0.12          ┆ 0.14        ┆ -0.0185   ┆ -13.3    ┆ x 1.2    │\n",
       "│ count_below                      ┆ 0.18          ┆ 0.2         ┆ -0.0244   ┆ -12.0    ┆ x 1.1    │\n",
       "│ count_above                      ┆ 0.18          ┆ 0.2         ┆ -0.0239   ┆ -11.8    ┆ x 1.1    │\n",
       "│ mean_abs_change                  ┆ 0.23          ┆ 0.24        ┆ -0.0101   ┆ -4.2     ┆ x 1.0    │\n",
       "│ absolute_sum_of_changes          ┆ 0.23          ┆ 0.23        ┆ 0.0042    ┆ 1.8      ┆ x 0.98   │\n",
       "│ time_reversal_asymmetry_statisti ┆ 0.91          ┆ 0.83        ┆ 0.0751    ┆ 9.0      ┆ x 0.92   │\n",
       "│ c                                ┆               ┆             ┆           ┆          ┆          │\n",
       "│ autocorrelation                  ┆ 0.77          ┆ 0.67        ┆ 0.0975    ┆ 14.5     ┆ x 0.87   │\n",
       "│ percent_reoccurring_values       ┆ 11.0          ┆ 8.2         ┆ 2.8       ┆ 34.5     ┆ x 0.74   │\n",
       "│ last_location_of_minimum         ┆ 0.24          ┆ 0.15        ┆ 0.0939    ┆ 62.6     ┆ x 0.62   │\n",
       "│ last_location_of_maximum         ┆ 0.24          ┆ 0.15        ┆ 0.0952    ┆ 63.5     ┆ x 0.61   │\n",
       "│ index_mass_quantile              ┆ 1.4           ┆ 0.81        ┆ 0.63      ┆ 77.5     ┆ x 0.56   │\n",
       "│ number_crossings                 ┆ 0.27          ┆ 0.14        ┆ 0.13      ┆ 90.3     ┆ x 0.53   │\n",
       "│ sum_reoccurring_values           ┆ 17.3          ┆ 9.0         ┆ 8.3       ┆ 92.1     ┆ x 0.52   │\n",
       "│ cid_ce                           ┆ 3.3           ┆ 1.3         ┆ 2.0       ┆ 150.3    ┆ x 0.4    │\n",
       "│ absolute_energy                  ┆ 0.24          ┆ 0.0443      ┆ 0.2       ┆ 447.0    ┆ x 0.18   │\n",
       "│ mean_change                      ┆ 0.16          ┆ 0.0086      ┆ 0.16      ┆ 1811.6   ┆ x 0.0523 │\n",
       "│ mean_second_derivative_central   ┆ 0.26          ┆ 0.0091      ┆ 0.25      ┆ 2776.1   ┆ x 0.0348 │\n",
       "│ range_count                      ┆ 632.3         ┆ 0.41        ┆ 631.9     ┆ 154619.9 ┆ x 0.0006 │\n",
       "└──────────────────────────────────┴───────────────┴─────────────┴───────────┴──────────┴──────────┘"
      ]
     },
     "execution_count": 44,
     "metadata": {},
     "output_type": "execute_result"
    }
   ],
   "source": [
    "df_expr_100k"
   ]
  },
  {
   "cell_type": "markdown",
   "metadata": {},
   "source": [
    "#### 1M expr"
   ]
  },
  {
   "cell_type": "code",
   "execution_count": 45,
   "metadata": {},
   "outputs": [
    {
     "data": {
      "text/html": [
       "<div><style>\n",
       ".dataframe > thead > tr > th,\n",
       ".dataframe > tbody > tr > td {\n",
       "  text-align: right;\n",
       "  white-space: pre-wrap;\n",
       "}\n",
       "</style>\n",
       "<small>shape: (45, 6)</small><table border=\"1\" class=\"dataframe\"><thead><tr><th>Feature name</th><th>functime (ms)</th><th>tfresh (ms)</th><th>diff (ms)</th><th>diff %</th><th>speedup</th></tr></thead><tbody><tr><td>&quot;benford_correlation&quot;</td><td>150.9</td><td>3102.5</td><td>-2951.6</td><td>-95.1</td><td>&quot;x 20.6&quot;</td></tr><tr><td>&quot;mean_n_absolute_max&quot;</td><td>7.4</td><td>93.5</td><td>-86.1</td><td>-92.1</td><td>&quot;x 12.6&quot;</td></tr><tr><td>&quot;longest_streak_below_mean&quot;</td><td>22.4</td><td>157.0</td><td>-134.6</td><td>-85.7</td><td>&quot;x 7.0&quot;</td></tr><tr><td>&quot;longest_streak_above_mean&quot;</td><td>22.5</td><td>154.0</td><td>-131.6</td><td>-85.4</td><td>&quot;x 6.9&quot;</td></tr><tr><td>&quot;absolute_maximum&quot;</td><td>0.82</td><td>4.9</td><td>-4.1</td><td>-83.3</td><td>&quot;x 6.0&quot;</td></tr><tr><td>&quot;energy_ratios&quot;</td><td>8.3</td><td>36.4</td><td>-28.1</td><td>-77.3</td><td>&quot;x 4.4&quot;</td></tr><tr><td>&quot;count_below_mean&quot;</td><td>1.3</td><td>4.7</td><td>-3.3</td><td>-71.8</td><td>&quot;x 3.5&quot;</td></tr><tr><td>&quot;number_peaks&quot;</td><td>22.2</td><td>76.5</td><td>-54.3</td><td>-70.9</td><td>&quot;x 3.4&quot;</td></tr><tr><td>&quot;ratio_n_unique_to_length&quot;</td><td>30.6</td><td>96.0</td><td>-65.3</td><td>-68.1</td><td>&quot;x 3.1&quot;</td></tr><tr><td>&quot;has_duplicate_max&quot;</td><td>1.3</td><td>4.1</td><td>-2.7</td><td>-67.0</td><td>&quot;x 3.0&quot;</td></tr><tr><td>&quot;symmetry_looking&quot;</td><td>9.2</td><td>27.6</td><td>-18.4</td><td>-66.6</td><td>&quot;x 3.0&quot;</td></tr><tr><td>&quot;has_duplicate_min&quot;</td><td>1.3</td><td>3.9</td><td>-2.6</td><td>-66.5</td><td>&quot;x 3.0&quot;</td></tr><tr><td>&quot;count_above_mean&quot;</td><td>1.3</td><td>3.9</td><td>-2.6</td><td>-66.0</td><td>&quot;x 2.9&quot;</td></tr><tr><td>&quot;large_standard_deviation&quot;</td><td>3.7</td><td>7.7</td><td>-4.0</td><td>-52.3</td><td>&quot;x 2.1&quot;</td></tr><tr><td>&quot;root_mean_square&quot;</td><td>2.1</td><td>4.5</td><td>-2.3</td><td>-51.9</td><td>&quot;x 2.1&quot;</td></tr><tr><td>&quot;first_location_of_maximum&quot;</td><td>0.85</td><td>1.7</td><td>-0.81</td><td>-48.8</td><td>&quot;x 2.0&quot;</td></tr><tr><td>&quot;change_quantiles&quot;</td><td>31.8</td><td>60.3</td><td>-28.6</td><td>-47.3</td><td>&quot;x 1.9&quot;</td></tr><tr><td>&quot;first_location_of_minimum&quot;</td><td>0.85</td><td>1.6</td><td>-0.73</td><td>-46.1</td><td>&quot;x 1.9&quot;</td></tr><tr><td>&quot;count_above&quot;</td><td>0.83</td><td>1.5</td><td>-0.67</td><td>-44.7</td><td>&quot;x 1.8&quot;</td></tr><tr><td>&quot;variation_coefficient&quot;</td><td>2.7</td><td>4.8</td><td>-2.1</td><td>-43.2</td><td>&quot;x 1.8&quot;</td></tr><tr><td>&quot;count_below&quot;</td><td>0.83</td><td>1.5</td><td>-0.62</td><td>-42.9</td><td>&quot;x 1.8&quot;</td></tr><tr><td>&quot;mean_abs_change&quot;</td><td>3.5</td><td>5.7</td><td>-2.2</td><td>-38.3</td><td>&quot;x 1.6&quot;</td></tr><tr><td>&quot;c3&quot;</td><td>7.6</td><td>12.0</td><td>-4.4</td><td>-36.9</td><td>&quot;x 1.6&quot;</td></tr><tr><td>&quot;binned_entropy&quot;</td><td>14.6</td><td>22.9</td><td>-8.2</td><td>-36.0</td><td>&quot;x 1.6&quot;</td></tr><tr><td>&quot;has_duplicate&quot;</td><td>59.3</td><td>90.6</td><td>-31.3</td><td>-34.6</td><td>&quot;x 1.5&quot;</td></tr><tr><td>&quot;ratio_beyond_r_sigma&quot;</td><td>8.0</td><td>11.8</td><td>-3.9</td><td>-32.5</td><td>&quot;x 1.5&quot;</td></tr><tr><td>&quot;sum_reoccurring_points&quot;</td><td>70.4</td><td>102.5</td><td>-32.2</td><td>-31.4</td><td>&quot;x 1.5&quot;</td></tr><tr><td>&quot;absolute_sum_of_changes&quot;</td><td>3.7</td><td>5.0</td><td>-1.3</td><td>-26.6</td><td>&quot;x 1.4&quot;</td></tr><tr><td>&quot;last_location_of_minimum&quot;</td><td>2.4</td><td>3.2</td><td>-0.84</td><td>-26.0</td><td>&quot;x 1.4&quot;</td></tr><tr><td>&quot;last_location_of_maximum&quot;</td><td>2.4</td><td>3.2</td><td>-0.82</td><td>-25.6</td><td>&quot;x 1.3&quot;</td></tr><tr><td>&quot;autocorrelation&quot;</td><td>9.5</td><td>12.3</td><td>-2.7</td><td>-22.4</td><td>&quot;x 1.3&quot;</td></tr><tr><td>&quot;percent_reoccurring_points&quot;</td><td>69.7</td><td>88.8</td><td>-19.1</td><td>-21.5</td><td>&quot;x 1.3&quot;</td></tr><tr><td>&quot;time_reversal_asymmetry_statistic&quot;</td><td>12.5</td><td>15.8</td><td>-3.3</td><td>-20.7</td><td>&quot;x 1.3&quot;</td></tr><tr><td>&quot;linear_trend&quot;</td><td>90.2</td><td>110.4</td><td>-20.2</td><td>-18.3</td><td>&quot;x 1.2&quot;</td></tr><tr><td>&quot;permutation_entropy&quot;</td><td>2354.9</td><td>2796.6</td><td>-441.7</td><td>-15.8</td><td>&quot;x 1.2&quot;</td></tr><tr><td>&quot;var_gt_std&quot;</td><td>2.6</td><td>2.9</td><td>-0.3</td><td>-10.5</td><td>&quot;x 1.1&quot;</td></tr><tr><td>&quot;index_mass_quantile&quot;</td><td>12.0</td><td>10.4</td><td>1.6</td><td>15.2</td><td>&quot;x 0.87&quot;</td></tr><tr><td>&quot;percent_reoccurring_values&quot;</td><td>164.6</td><td>99.9</td><td>64.7</td><td>64.8</td><td>&quot;x 0.61&quot;</td></tr><tr><td>&quot;number_crossings&quot;</td><td>2.0</td><td>1.2</td><td>0.82</td><td>70.5</td><td>&quot;x 0.59&quot;</td></tr><tr><td>&quot;sum_reoccurring_values&quot;</td><td>193.3</td><td>98.8</td><td>94.5</td><td>95.6</td><td>&quot;x 0.51&quot;</td></tr><tr><td>&quot;cid_ce&quot;</td><td>41.4</td><td>14.9</td><td>26.5</td><td>177.6</td><td>&quot;x 0.36&quot;</td></tr><tr><td>&quot;absolute_energy&quot;</td><td>2.1</td><td>0.44</td><td>1.7</td><td>384.0</td><td>&quot;x 0.21&quot;</td></tr><tr><td>&quot;mean_change&quot;</td><td>0.16</td><td>0.0086</td><td>0.16</td><td>1797.6</td><td>&quot;x 0.0527&quot;</td></tr><tr><td>&quot;mean_second_derivative_central&quot;</td><td>0.24</td><td>0.0091</td><td>0.23</td><td>2583.7</td><td>&quot;x 0.0373&quot;</td></tr><tr><td>&quot;range_count&quot;</td><td>687.1</td><td>3.2</td><td>683.9</td><td>21435.6</td><td>&quot;x 0.0046&quot;</td></tr></tbody></table></div>"
      ],
      "text/plain": [
       "shape: (45, 6)\n",
       "┌───────────────────────────────────┬───────────────┬─────────────┬───────────┬─────────┬──────────┐\n",
       "│ Feature name                      ┆ functime (ms) ┆ tfresh (ms) ┆ diff (ms) ┆ diff %  ┆ speedup  │\n",
       "╞═══════════════════════════════════╪═══════════════╪═════════════╪═══════════╪═════════╪══════════╡\n",
       "│ benford_correlation               ┆ 150.9         ┆ 3102.5      ┆ -2951.6   ┆ -95.1   ┆ x 20.6   │\n",
       "│ mean_n_absolute_max               ┆ 7.4           ┆ 93.5        ┆ -86.1     ┆ -92.1   ┆ x 12.6   │\n",
       "│ longest_streak_below_mean         ┆ 22.4          ┆ 157.0       ┆ -134.6    ┆ -85.7   ┆ x 7.0    │\n",
       "│ longest_streak_above_mean         ┆ 22.5          ┆ 154.0       ┆ -131.6    ┆ -85.4   ┆ x 6.9    │\n",
       "│ absolute_maximum                  ┆ 0.82          ┆ 4.9         ┆ -4.1      ┆ -83.3   ┆ x 6.0    │\n",
       "│ energy_ratios                     ┆ 8.3           ┆ 36.4        ┆ -28.1     ┆ -77.3   ┆ x 4.4    │\n",
       "│ count_below_mean                  ┆ 1.3           ┆ 4.7         ┆ -3.3      ┆ -71.8   ┆ x 3.5    │\n",
       "│ number_peaks                      ┆ 22.2          ┆ 76.5        ┆ -54.3     ┆ -70.9   ┆ x 3.4    │\n",
       "│ ratio_n_unique_to_length          ┆ 30.6          ┆ 96.0        ┆ -65.3     ┆ -68.1   ┆ x 3.1    │\n",
       "│ has_duplicate_max                 ┆ 1.3           ┆ 4.1         ┆ -2.7      ┆ -67.0   ┆ x 3.0    │\n",
       "│ symmetry_looking                  ┆ 9.2           ┆ 27.6        ┆ -18.4     ┆ -66.6   ┆ x 3.0    │\n",
       "│ has_duplicate_min                 ┆ 1.3           ┆ 3.9         ┆ -2.6      ┆ -66.5   ┆ x 3.0    │\n",
       "│ count_above_mean                  ┆ 1.3           ┆ 3.9         ┆ -2.6      ┆ -66.0   ┆ x 2.9    │\n",
       "│ large_standard_deviation          ┆ 3.7           ┆ 7.7         ┆ -4.0      ┆ -52.3   ┆ x 2.1    │\n",
       "│ root_mean_square                  ┆ 2.1           ┆ 4.5         ┆ -2.3      ┆ -51.9   ┆ x 2.1    │\n",
       "│ first_location_of_maximum         ┆ 0.85          ┆ 1.7         ┆ -0.81     ┆ -48.8   ┆ x 2.0    │\n",
       "│ change_quantiles                  ┆ 31.8          ┆ 60.3        ┆ -28.6     ┆ -47.3   ┆ x 1.9    │\n",
       "│ first_location_of_minimum         ┆ 0.85          ┆ 1.6         ┆ -0.73     ┆ -46.1   ┆ x 1.9    │\n",
       "│ count_above                       ┆ 0.83          ┆ 1.5         ┆ -0.67     ┆ -44.7   ┆ x 1.8    │\n",
       "│ variation_coefficient             ┆ 2.7           ┆ 4.8         ┆ -2.1      ┆ -43.2   ┆ x 1.8    │\n",
       "│ count_below                       ┆ 0.83          ┆ 1.5         ┆ -0.62     ┆ -42.9   ┆ x 1.8    │\n",
       "│ mean_abs_change                   ┆ 3.5           ┆ 5.7         ┆ -2.2      ┆ -38.3   ┆ x 1.6    │\n",
       "│ c3                                ┆ 7.6           ┆ 12.0        ┆ -4.4      ┆ -36.9   ┆ x 1.6    │\n",
       "│ binned_entropy                    ┆ 14.6          ┆ 22.9        ┆ -8.2      ┆ -36.0   ┆ x 1.6    │\n",
       "│ has_duplicate                     ┆ 59.3          ┆ 90.6        ┆ -31.3     ┆ -34.6   ┆ x 1.5    │\n",
       "│ ratio_beyond_r_sigma              ┆ 8.0           ┆ 11.8        ┆ -3.9      ┆ -32.5   ┆ x 1.5    │\n",
       "│ sum_reoccurring_points            ┆ 70.4          ┆ 102.5       ┆ -32.2     ┆ -31.4   ┆ x 1.5    │\n",
       "│ absolute_sum_of_changes           ┆ 3.7           ┆ 5.0         ┆ -1.3      ┆ -26.6   ┆ x 1.4    │\n",
       "│ last_location_of_minimum          ┆ 2.4           ┆ 3.2         ┆ -0.84     ┆ -26.0   ┆ x 1.4    │\n",
       "│ last_location_of_maximum          ┆ 2.4           ┆ 3.2         ┆ -0.82     ┆ -25.6   ┆ x 1.3    │\n",
       "│ autocorrelation                   ┆ 9.5           ┆ 12.3        ┆ -2.7      ┆ -22.4   ┆ x 1.3    │\n",
       "│ percent_reoccurring_points        ┆ 69.7          ┆ 88.8        ┆ -19.1     ┆ -21.5   ┆ x 1.3    │\n",
       "│ time_reversal_asymmetry_statistic ┆ 12.5          ┆ 15.8        ┆ -3.3      ┆ -20.7   ┆ x 1.3    │\n",
       "│ linear_trend                      ┆ 90.2          ┆ 110.4       ┆ -20.2     ┆ -18.3   ┆ x 1.2    │\n",
       "│ permutation_entropy               ┆ 2354.9        ┆ 2796.6      ┆ -441.7    ┆ -15.8   ┆ x 1.2    │\n",
       "│ var_gt_std                        ┆ 2.6           ┆ 2.9         ┆ -0.3      ┆ -10.5   ┆ x 1.1    │\n",
       "│ index_mass_quantile               ┆ 12.0          ┆ 10.4        ┆ 1.6       ┆ 15.2    ┆ x 0.87   │\n",
       "│ percent_reoccurring_values        ┆ 164.6         ┆ 99.9        ┆ 64.7      ┆ 64.8    ┆ x 0.61   │\n",
       "│ number_crossings                  ┆ 2.0           ┆ 1.2         ┆ 0.82      ┆ 70.5    ┆ x 0.59   │\n",
       "│ sum_reoccurring_values            ┆ 193.3         ┆ 98.8        ┆ 94.5      ┆ 95.6    ┆ x 0.51   │\n",
       "│ cid_ce                            ┆ 41.4          ┆ 14.9        ┆ 26.5      ┆ 177.6   ┆ x 0.36   │\n",
       "│ absolute_energy                   ┆ 2.1           ┆ 0.44        ┆ 1.7       ┆ 384.0   ┆ x 0.21   │\n",
       "│ mean_change                       ┆ 0.16          ┆ 0.0086      ┆ 0.16      ┆ 1797.6  ┆ x 0.0527 │\n",
       "│ mean_second_derivative_central    ┆ 0.24          ┆ 0.0091      ┆ 0.23      ┆ 2583.7  ┆ x 0.0373 │\n",
       "│ range_count                       ┆ 687.1         ┆ 3.2         ┆ 683.9     ┆ 21435.6 ┆ x 0.0046 │\n",
       "└───────────────────────────────────┴───────────────┴─────────────┴───────────┴─────────┴──────────┘"
      ]
     },
     "execution_count": 45,
     "metadata": {},
     "output_type": "execute_result"
    }
   ],
   "source": [
    "df_expr_1m"
   ]
  },
  {
   "cell_type": "markdown",
   "metadata": {},
   "source": [
    "#### 9M expr"
   ]
  },
  {
   "cell_type": "code",
   "execution_count": 46,
   "metadata": {},
   "outputs": [
    {
     "data": {
      "text/html": [
       "<div><style>\n",
       ".dataframe > thead > tr > th,\n",
       ".dataframe > tbody > tr > td {\n",
       "  text-align: right;\n",
       "  white-space: pre-wrap;\n",
       "}\n",
       "</style>\n",
       "<small>shape: (45, 6)</small><table border=\"1\" class=\"dataframe\"><thead><tr><th>Feature name</th><th>functime (ms)</th><th>tfresh (ms)</th><th>diff (ms)</th><th>diff %</th><th>speedup</th></tr></thead><tbody><tr><td>&quot;mean_n_absolute_max&quot;</td><td>84.1</td><td>1466.7</td><td>-1382.6</td><td>-94.3</td><td>&quot;x 17.4&quot;</td></tr><tr><td>&quot;benford_correlation&quot;</td><td>1907.6</td><td>19368.9</td><td>-17461.4</td><td>-90.2</td><td>&quot;x 10.2&quot;</td></tr><tr><td>&quot;longest_streak_above_mean&quot;</td><td>197.0</td><td>1437.9</td><td>-1240.9</td><td>-86.3</td><td>&quot;x 7.3&quot;</td></tr><tr><td>&quot;longest_streak_below_mean&quot;</td><td>197.4</td><td>1403.2</td><td>-1205.8</td><td>-85.9</td><td>&quot;x 7.1&quot;</td></tr><tr><td>&quot;energy_ratios&quot;</td><td>86.7</td><td>530.6</td><td>-444.0</td><td>-83.7</td><td>&quot;x 6.1&quot;</td></tr><tr><td>&quot;absolute_maximum&quot;</td><td>8.0</td><td>48.0</td><td>-40.0</td><td>-83.3</td><td>&quot;x 6.0&quot;</td></tr><tr><td>&quot;time_reversal_asymmetry_statistic&quot;</td><td>146.3</td><td>722.4</td><td>-576.1</td><td>-79.7</td><td>&quot;x 4.9&quot;</td></tr><tr><td>&quot;change_quantiles&quot;</td><td>298.0</td><td>1146.8</td><td>-848.8</td><td>-74.0</td><td>&quot;x 3.8&quot;</td></tr><tr><td>&quot;count_above_mean&quot;</td><td>10.3</td><td>39.4</td><td>-29.1</td><td>-73.8</td><td>&quot;x 3.8&quot;</td></tr><tr><td>&quot;count_below_mean&quot;</td><td>10.0</td><td>38.0</td><td>-28.1</td><td>-73.8</td><td>&quot;x 3.8&quot;</td></tr><tr><td>&quot;has_duplicate_min&quot;</td><td>9.2</td><td>34.3</td><td>-25.1</td><td>-73.2</td><td>&quot;x 3.7&quot;</td></tr><tr><td>&quot;has_duplicate_max&quot;</td><td>9.5</td><td>34.8</td><td>-25.3</td><td>-72.8</td><td>&quot;x 3.7&quot;</td></tr><tr><td>&quot;first_location_of_minimum&quot;</td><td>6.4</td><td>16.7</td><td>-10.3</td><td>-61.6</td><td>&quot;x 2.6&quot;</td></tr><tr><td>&quot;ratio_beyond_r_sigma&quot;</td><td>68.9</td><td>168.9</td><td>-99.9</td><td>-59.2</td><td>&quot;x 2.4&quot;</td></tr><tr><td>&quot;large_standard_deviation&quot;</td><td>30.9</td><td>72.1</td><td>-41.1</td><td>-57.1</td><td>&quot;x 2.3&quot;</td></tr><tr><td>&quot;c3&quot;</td><td>66.0</td><td>152.6</td><td>-86.5</td><td>-56.7</td><td>&quot;x 2.3&quot;</td></tr><tr><td>&quot;count_below&quot;</td><td>5.3</td><td>12.0</td><td>-6.7</td><td>-55.7</td><td>&quot;x 2.3&quot;</td></tr><tr><td>&quot;count_above&quot;</td><td>5.4</td><td>11.9</td><td>-6.5</td><td>-54.8</td><td>&quot;x 2.2&quot;</td></tr><tr><td>&quot;ratio_n_unique_to_length&quot;</td><td>497.9</td><td>1007.5</td><td>-509.6</td><td>-50.6</td><td>&quot;x 2.0&quot;</td></tr><tr><td>&quot;first_location_of_maximum&quot;</td><td>8.4</td><td>15.9</td><td>-7.5</td><td>-47.1</td><td>&quot;x 1.9&quot;</td></tr><tr><td>&quot;root_mean_square&quot;</td><td>21.3</td><td>39.6</td><td>-18.3</td><td>-46.2</td><td>&quot;x 1.9&quot;</td></tr><tr><td>&quot;variation_coefficient&quot;</td><td>27.6</td><td>47.2</td><td>-19.6</td><td>-41.5</td><td>&quot;x 1.7&quot;</td></tr><tr><td>&quot;number_peaks&quot;</td><td>282.4</td><td>480.9</td><td>-198.5</td><td>-41.3</td><td>&quot;x 1.7&quot;</td></tr><tr><td>&quot;symmetry_looking&quot;</td><td>120.7</td><td>184.4</td><td>-63.7</td><td>-34.6</td><td>&quot;x 1.5&quot;</td></tr><tr><td>&quot;mean_abs_change&quot;</td><td>31.6</td><td>45.2</td><td>-13.6</td><td>-30.0</td><td>&quot;x 1.4&quot;</td></tr><tr><td>&quot;last_location_of_maximum&quot;</td><td>19.7</td><td>27.5</td><td>-7.9</td><td>-28.5</td><td>&quot;x 1.4&quot;</td></tr><tr><td>&quot;last_location_of_minimum&quot;</td><td>20.2</td><td>28.0</td><td>-7.8</td><td>-28.0</td><td>&quot;x 1.4&quot;</td></tr><tr><td>&quot;binned_entropy&quot;</td><td>153.6</td><td>211.5</td><td>-57.9</td><td>-27.4</td><td>&quot;x 1.4&quot;</td></tr><tr><td>&quot;range_count&quot;</td><td>33.9</td><td>46.2</td><td>-12.3</td><td>-26.6</td><td>&quot;x 1.4&quot;</td></tr><tr><td>&quot;linear_trend&quot;</td><td>922.1</td><td>1199.2</td><td>-277.1</td><td>-23.1</td><td>&quot;x 1.3&quot;</td></tr><tr><td>&quot;permutation_entropy&quot;</td><td>23256.9</td><td>29691.4</td><td>-6434.5</td><td>-21.7</td><td>&quot;x 1.3&quot;</td></tr><tr><td>&quot;absolute_sum_of_changes&quot;</td><td>40.1</td><td>50.1</td><td>-10.1</td><td>-20.1</td><td>&quot;x 1.3&quot;</td></tr><tr><td>&quot;autocorrelation&quot;</td><td>103.5</td><td>125.7</td><td>-22.2</td><td>-17.7</td><td>&quot;x 1.2&quot;</td></tr><tr><td>&quot;var_gt_std&quot;</td><td>23.2</td><td>27.8</td><td>-4.6</td><td>-16.6</td><td>&quot;x 1.2&quot;</td></tr><tr><td>&quot;sum_reoccurring_points&quot;</td><td>1154.1</td><td>1194.4</td><td>-40.2</td><td>-3.4</td><td>&quot;x 1.0&quot;</td></tr><tr><td>&quot;percent_reoccurring_points&quot;</td><td>1760.3</td><td>1801.2</td><td>-40.9</td><td>-2.3</td><td>&quot;x 1.0&quot;</td></tr><tr><td>&quot;has_duplicate&quot;</td><td>1011.8</td><td>963.9</td><td>47.9</td><td>5.0</td><td>&quot;x 0.95&quot;</td></tr><tr><td>&quot;number_crossings&quot;</td><td>14.1</td><td>11.7</td><td>2.4</td><td>20.5</td><td>&quot;x 0.83&quot;</td></tr><tr><td>&quot;index_mass_quantile&quot;</td><td>150.9</td><td>89.1</td><td>61.8</td><td>69.3</td><td>&quot;x 0.59&quot;</td></tr><tr><td>&quot;percent_reoccurring_values&quot;</td><td>2433.7</td><td>1248.3</td><td>1185.4</td><td>95.0</td><td>&quot;x 0.51&quot;</td></tr><tr><td>&quot;sum_reoccurring_values&quot;</td><td>2884.4</td><td>1377.8</td><td>1506.7</td><td>109.4</td><td>&quot;x 0.48&quot;</td></tr><tr><td>&quot;cid_ce&quot;</td><td>571.0</td><td>122.2</td><td>448.8</td><td>367.4</td><td>&quot;x 0.21&quot;</td></tr><tr><td>&quot;absolute_energy&quot;</td><td>19.1</td><td>4.0</td><td>15.1</td><td>378.6</td><td>&quot;x 0.21&quot;</td></tr><tr><td>&quot;mean_change&quot;</td><td>0.16</td><td>0.0086</td><td>0.16</td><td>1815.6</td><td>&quot;x 0.0522&quot;</td></tr><tr><td>&quot;mean_second_derivative_central&quot;</td><td>0.25</td><td>0.0091</td><td>0.25</td><td>2681.4</td><td>&quot;x 0.036&quot;</td></tr></tbody></table></div>"
      ],
      "text/plain": [
       "shape: (45, 6)\n",
       "┌───────────────────────────────────┬───────────────┬─────────────┬───────────┬────────┬──────────┐\n",
       "│ Feature name                      ┆ functime (ms) ┆ tfresh (ms) ┆ diff (ms) ┆ diff % ┆ speedup  │\n",
       "╞═══════════════════════════════════╪═══════════════╪═════════════╪═══════════╪════════╪══════════╡\n",
       "│ mean_n_absolute_max               ┆ 84.1          ┆ 1466.7      ┆ -1382.6   ┆ -94.3  ┆ x 17.4   │\n",
       "│ benford_correlation               ┆ 1907.6        ┆ 19368.9     ┆ -17461.4  ┆ -90.2  ┆ x 10.2   │\n",
       "│ longest_streak_above_mean         ┆ 197.0         ┆ 1437.9      ┆ -1240.9   ┆ -86.3  ┆ x 7.3    │\n",
       "│ longest_streak_below_mean         ┆ 197.4         ┆ 1403.2      ┆ -1205.8   ┆ -85.9  ┆ x 7.1    │\n",
       "│ energy_ratios                     ┆ 86.7          ┆ 530.6       ┆ -444.0    ┆ -83.7  ┆ x 6.1    │\n",
       "│ absolute_maximum                  ┆ 8.0           ┆ 48.0        ┆ -40.0     ┆ -83.3  ┆ x 6.0    │\n",
       "│ time_reversal_asymmetry_statistic ┆ 146.3         ┆ 722.4       ┆ -576.1    ┆ -79.7  ┆ x 4.9    │\n",
       "│ change_quantiles                  ┆ 298.0         ┆ 1146.8      ┆ -848.8    ┆ -74.0  ┆ x 3.8    │\n",
       "│ count_above_mean                  ┆ 10.3          ┆ 39.4        ┆ -29.1     ┆ -73.8  ┆ x 3.8    │\n",
       "│ count_below_mean                  ┆ 10.0          ┆ 38.0        ┆ -28.1     ┆ -73.8  ┆ x 3.8    │\n",
       "│ has_duplicate_min                 ┆ 9.2           ┆ 34.3        ┆ -25.1     ┆ -73.2  ┆ x 3.7    │\n",
       "│ has_duplicate_max                 ┆ 9.5           ┆ 34.8        ┆ -25.3     ┆ -72.8  ┆ x 3.7    │\n",
       "│ first_location_of_minimum         ┆ 6.4           ┆ 16.7        ┆ -10.3     ┆ -61.6  ┆ x 2.6    │\n",
       "│ ratio_beyond_r_sigma              ┆ 68.9          ┆ 168.9       ┆ -99.9     ┆ -59.2  ┆ x 2.4    │\n",
       "│ large_standard_deviation          ┆ 30.9          ┆ 72.1        ┆ -41.1     ┆ -57.1  ┆ x 2.3    │\n",
       "│ c3                                ┆ 66.0          ┆ 152.6       ┆ -86.5     ┆ -56.7  ┆ x 2.3    │\n",
       "│ count_below                       ┆ 5.3           ┆ 12.0        ┆ -6.7      ┆ -55.7  ┆ x 2.3    │\n",
       "│ count_above                       ┆ 5.4           ┆ 11.9        ┆ -6.5      ┆ -54.8  ┆ x 2.2    │\n",
       "│ ratio_n_unique_to_length          ┆ 497.9         ┆ 1007.5      ┆ -509.6    ┆ -50.6  ┆ x 2.0    │\n",
       "│ first_location_of_maximum         ┆ 8.4           ┆ 15.9        ┆ -7.5      ┆ -47.1  ┆ x 1.9    │\n",
       "│ root_mean_square                  ┆ 21.3          ┆ 39.6        ┆ -18.3     ┆ -46.2  ┆ x 1.9    │\n",
       "│ variation_coefficient             ┆ 27.6          ┆ 47.2        ┆ -19.6     ┆ -41.5  ┆ x 1.7    │\n",
       "│ number_peaks                      ┆ 282.4         ┆ 480.9       ┆ -198.5    ┆ -41.3  ┆ x 1.7    │\n",
       "│ symmetry_looking                  ┆ 120.7         ┆ 184.4       ┆ -63.7     ┆ -34.6  ┆ x 1.5    │\n",
       "│ mean_abs_change                   ┆ 31.6          ┆ 45.2        ┆ -13.6     ┆ -30.0  ┆ x 1.4    │\n",
       "│ last_location_of_maximum          ┆ 19.7          ┆ 27.5        ┆ -7.9      ┆ -28.5  ┆ x 1.4    │\n",
       "│ last_location_of_minimum          ┆ 20.2          ┆ 28.0        ┆ -7.8      ┆ -28.0  ┆ x 1.4    │\n",
       "│ binned_entropy                    ┆ 153.6         ┆ 211.5       ┆ -57.9     ┆ -27.4  ┆ x 1.4    │\n",
       "│ range_count                       ┆ 33.9          ┆ 46.2        ┆ -12.3     ┆ -26.6  ┆ x 1.4    │\n",
       "│ linear_trend                      ┆ 922.1         ┆ 1199.2      ┆ -277.1    ┆ -23.1  ┆ x 1.3    │\n",
       "│ permutation_entropy               ┆ 23256.9       ┆ 29691.4     ┆ -6434.5   ┆ -21.7  ┆ x 1.3    │\n",
       "│ absolute_sum_of_changes           ┆ 40.1          ┆ 50.1        ┆ -10.1     ┆ -20.1  ┆ x 1.3    │\n",
       "│ autocorrelation                   ┆ 103.5         ┆ 125.7       ┆ -22.2     ┆ -17.7  ┆ x 1.2    │\n",
       "│ var_gt_std                        ┆ 23.2          ┆ 27.8        ┆ -4.6      ┆ -16.6  ┆ x 1.2    │\n",
       "│ sum_reoccurring_points            ┆ 1154.1        ┆ 1194.4      ┆ -40.2     ┆ -3.4   ┆ x 1.0    │\n",
       "│ percent_reoccurring_points        ┆ 1760.3        ┆ 1801.2      ┆ -40.9     ┆ -2.3   ┆ x 1.0    │\n",
       "│ has_duplicate                     ┆ 1011.8        ┆ 963.9       ┆ 47.9      ┆ 5.0    ┆ x 0.95   │\n",
       "│ number_crossings                  ┆ 14.1          ┆ 11.7        ┆ 2.4       ┆ 20.5   ┆ x 0.83   │\n",
       "│ index_mass_quantile               ┆ 150.9         ┆ 89.1        ┆ 61.8      ┆ 69.3   ┆ x 0.59   │\n",
       "│ percent_reoccurring_values        ┆ 2433.7        ┆ 1248.3      ┆ 1185.4    ┆ 95.0   ┆ x 0.51   │\n",
       "│ sum_reoccurring_values            ┆ 2884.4        ┆ 1377.8      ┆ 1506.7    ┆ 109.4  ┆ x 0.48   │\n",
       "│ cid_ce                            ┆ 571.0         ┆ 122.2       ┆ 448.8     ┆ 367.4  ┆ x 0.21   │\n",
       "│ absolute_energy                   ┆ 19.1          ┆ 4.0         ┆ 15.1      ┆ 378.6  ┆ x 0.21   │\n",
       "│ mean_change                       ┆ 0.16          ┆ 0.0086      ┆ 0.16      ┆ 1815.6 ┆ x 0.0522 │\n",
       "│ mean_second_derivative_central    ┆ 0.25          ┆ 0.0091      ┆ 0.25      ┆ 2681.4 ┆ x 0.036  │\n",
       "└───────────────────────────────────┴───────────────┴─────────────┴───────────┴────────┴──────────┘"
      ]
     },
     "execution_count": 46,
     "metadata": {},
     "output_type": "execute_result"
    }
   ],
   "source": [
    "df_expr_9m"
   ]
  },
  {
   "cell_type": "markdown",
   "metadata": {},
   "source": [
    "### 4.2 Results for `pl.Series`"
   ]
  },
  {
   "cell_type": "markdown",
   "metadata": {},
   "source": [
    "#### 10k series"
   ]
  },
  {
   "cell_type": "code",
   "execution_count": 47,
   "metadata": {},
   "outputs": [
    {
     "data": {
      "text/html": [
       "<div><style>\n",
       ".dataframe > thead > tr > th,\n",
       ".dataframe > tbody > tr > td {\n",
       "  text-align: right;\n",
       "  white-space: pre-wrap;\n",
       "}\n",
       "</style>\n",
       "<small>shape: (51, 6)</small><table border=\"1\" class=\"dataframe\"><thead><tr><th>Feature name</th><th>functime (ms)</th><th>tfresh (ms)</th><th>diff (ms)</th><th>diff %</th><th>speedup</th></tr></thead><tbody><tr><td>&quot;approximate_entropy&quot;</td><td>256.8</td><td>37776.4</td><td>-37519.6</td><td>-99.3</td><td>&quot;x 147.1&quot;</td></tr><tr><td>&quot;lempel_ziv_complexity&quot;</td><td>1.6</td><td>46.2</td><td>-44.6</td><td>-96.6</td><td>&quot;x 29.3&quot;</td></tr><tr><td>&quot;count_below_mean&quot;</td><td>0.0177</td><td>0.17</td><td>-0.15</td><td>-89.3</td><td>&quot;x 9.3&quot;</td></tr><tr><td>&quot;count_above_mean&quot;</td><td>0.0178</td><td>0.16</td><td>-0.14</td><td>-89.0</td><td>&quot;x 9.1&quot;</td></tr><tr><td>&quot;has_duplicate_max&quot;</td><td>0.0203</td><td>0.18</td><td>-0.16</td><td>-88.8</td><td>&quot;x 8.9&quot;</td></tr><tr><td>&quot;has_duplicate_min&quot;</td><td>0.0204</td><td>0.18</td><td>-0.16</td><td>-88.6</td><td>&quot;x 8.8&quot;</td></tr><tr><td>&quot;energy_ratios&quot;</td><td>0.41</td><td>3.3</td><td>-2.9</td><td>-87.8</td><td>&quot;x 8.2&quot;</td></tr><tr><td>&quot;sample_entropy&quot;</td><td>1268.6</td><td>10169.0</td><td>-8900.4</td><td>-87.5</td><td>&quot;x 8.0&quot;</td></tr><tr><td>&quot;count_above&quot;</td><td>0.0164</td><td>0.12</td><td>-0.1</td><td>-86.5</td><td>&quot;x 7.4&quot;</td></tr><tr><td>&quot;benford_correlation&quot;</td><td>1.8</td><td>13.5</td><td>-11.6</td><td>-86.5</td><td>&quot;x 7.4&quot;</td></tr><tr><td>&quot;count_below&quot;</td><td>0.0167</td><td>0.12</td><td>-0.11</td><td>-86.3</td><td>&quot;x 7.3&quot;</td></tr><tr><td>&quot;first_location_of_minimum&quot;</td><td>0.0071</td><td>0.0413</td><td>-0.0343</td><td>-82.9</td><td>&quot;x 5.9&quot;</td></tr><tr><td>&quot;first_location_of_maximum&quot;</td><td>0.0072</td><td>0.0419</td><td>-0.0347</td><td>-82.9</td><td>&quot;x 5.8&quot;</td></tr><tr><td>&quot;symmetry_looking&quot;</td><td>0.0671</td><td>0.33</td><td>-0.27</td><td>-79.8</td><td>&quot;x 4.9&quot;</td></tr><tr><td>&quot;absolute_maximum&quot;</td><td>0.0218</td><td>0.0961</td><td>-0.0742</td><td>-77.3</td><td>&quot;x 4.4&quot;</td></tr><tr><td>&quot;longest_streak_below_mean&quot;</td><td>0.39</td><td>1.7</td><td>-1.3</td><td>-77.1</td><td>&quot;x 4.4&quot;</td></tr><tr><td>&quot;longest_streak_above_mean&quot;</td><td>0.39</td><td>1.7</td><td>-1.3</td><td>-76.9</td><td>&quot;x 4.3&quot;</td></tr><tr><td>&quot;autoregressive_coefficients&quot;</td><td>1.4</td><td>5.9</td><td>-4.5</td><td>-76.6</td><td>&quot;x 4.3&quot;</td></tr><tr><td>&quot;mean_n_absolute_max&quot;</td><td>0.18</td><td>0.65</td><td>-0.47</td><td>-72.2</td><td>&quot;x 3.6&quot;</td></tr><tr><td>&quot;range_count&quot;</td><td>0.0792</td><td>0.25</td><td>-0.18</td><td>-68.9</td><td>&quot;x 3.2&quot;</td></tr><tr><td>&quot;change_quantiles&quot;</td><td>0.46</td><td>1.3</td><td>-0.86</td><td>-64.9</td><td>&quot;x 2.8&quot;</td></tr><tr><td>&quot;linear_trend&quot;</td><td>0.4</td><td>1.1</td><td>-0.67</td><td>-62.7</td><td>&quot;x 2.7&quot;</td></tr><tr><td>&quot;ratio_n_unique_to_length&quot;</td><td>0.26</td><td>0.69</td><td>-0.43</td><td>-62.2</td><td>&quot;x 2.6&quot;</td></tr><tr><td>&quot;number_peaks&quot;</td><td>0.64</td><td>1.7</td><td>-1.0</td><td>-62.1</td><td>&quot;x 2.6&quot;</td></tr><tr><td>&quot;percent_reoccurring_points&quot;</td><td>0.47</td><td>1.2</td><td>-0.74</td><td>-61.0</td><td>&quot;x 2.6&quot;</td></tr><tr><td>&quot;absolute_energy&quot;</td><td>0.0119</td><td>0.0301</td><td>-0.0181</td><td>-60.3</td><td>&quot;x 2.5&quot;</td></tr><tr><td>&quot;large_standard_deviation&quot;</td><td>0.0604</td><td>0.13</td><td>-0.0742</td><td>-55.1</td><td>&quot;x 2.2&quot;</td></tr><tr><td>&quot;mean_change&quot;</td><td>0.0039</td><td>0.0086</td><td>-0.0047</td><td>-54.8</td><td>&quot;x 2.2&quot;</td></tr><tr><td>&quot;mean_second_derivative_central&quot;</td><td>0.005</td><td>0.0091</td><td>-0.0041</td><td>-45.2</td><td>&quot;x 1.8&quot;</td></tr><tr><td>&quot;cid_ce&quot;</td><td>0.2</td><td>0.36</td><td>-0.16</td><td>-45.1</td><td>&quot;x 1.8&quot;</td></tr><tr><td>&quot;variation_coefficient&quot;</td><td>0.0616</td><td>0.11</td><td>-0.0439</td><td>-41.6</td><td>&quot;x 1.7&quot;</td></tr><tr><td>&quot;root_mean_square&quot;</td><td>0.0897</td><td>0.14</td><td>-0.0482</td><td>-35.0</td><td>&quot;x 1.5&quot;</td></tr><tr><td>&quot;ratio_beyond_r_sigma&quot;</td><td>0.28</td><td>0.43</td><td>-0.15</td><td>-34.9</td><td>&quot;x 1.5&quot;</td></tr><tr><td>&quot;sum_reoccurring_points&quot;</td><td>0.57</td><td>0.81</td><td>-0.24</td><td>-29.6</td><td>&quot;x 1.4&quot;</td></tr><tr><td>&quot;has_duplicate&quot;</td><td>0.51</td><td>0.69</td><td>-0.18</td><td>-26.5</td><td>&quot;x 1.4&quot;</td></tr><tr><td>&quot;percent_reoccurring_values&quot;</td><td>0.58</td><td>0.77</td><td>-0.19</td><td>-24.5</td><td>&quot;x 1.3&quot;</td></tr><tr><td>&quot;binned_entropy&quot;</td><td>0.37</td><td>0.46</td><td>-0.0894</td><td>-19.4</td><td>&quot;x 1.2&quot;</td></tr><tr><td>&quot;number_cwt_peaks&quot;</td><td>537.4</td><td>636.3</td><td>-99.0</td><td>-15.6</td><td>&quot;x 1.2&quot;</td></tr><tr><td>&quot;var_gt_std&quot;</td><td>0.0503</td><td>0.0534</td><td>-0.0031</td><td>-5.7</td><td>&quot;x 1.1&quot;</td></tr><tr><td>&quot;spkt_welch_density&quot;</td><td>0.59</td><td>0.57</td><td>0.0124</td><td>2.2</td><td>&quot;x 0.98&quot;</td></tr><tr><td>&quot;c3&quot;</td><td>0.28</td><td>0.27</td><td>0.0147</td><td>5.5</td><td>&quot;x 0.95&quot;</td></tr><tr><td>&quot;sum_reoccurring_values&quot;</td><td>0.96</td><td>0.85</td><td>0.11</td><td>12.4</td><td>&quot;x 0.89&quot;</td></tr><tr><td>&quot;permutation_entropy&quot;</td><td>13.6</td><td>11.1</td><td>2.6</td><td>23.1</td><td>&quot;x 0.81&quot;</td></tr><tr><td>&quot;last_location_of_minimum&quot;</td><td>0.0477</td><td>0.0293</td><td>0.0184</td><td>62.8</td><td>&quot;x 0.61&quot;</td></tr><tr><td>&quot;last_location_of_maximum&quot;</td><td>0.0482</td><td>0.0295</td><td>0.0187</td><td>63.6</td><td>&quot;x 0.61&quot;</td></tr><tr><td>&quot;mean_abs_change&quot;</td><td>0.0886</td><td>0.0495</td><td>0.0391</td><td>79.0</td><td>&quot;x 0.56&quot;</td></tr><tr><td>&quot;absolute_sum_of_changes&quot;</td><td>0.0905</td><td>0.0446</td><td>0.0459</td><td>103.1</td><td>&quot;x 0.49&quot;</td></tr><tr><td>&quot;number_crossings&quot;</td><td>0.2</td><td>0.0931</td><td>0.11</td><td>113.5</td><td>&quot;x 0.47&quot;</td></tr><tr><td>&quot;autocorrelation&quot;</td><td>0.38</td><td>0.16</td><td>0.22</td><td>137.3</td><td>&quot;x 0.42&quot;</td></tr><tr><td>&quot;index_mass_quantile&quot;</td><td>0.28</td><td>0.12</td><td>0.16</td><td>139.7</td><td>&quot;x 0.42&quot;</td></tr><tr><td>&quot;time_reversal_asymmetry_statistic&quot;</td><td>0.29</td><td>0.0938</td><td>0.19</td><td>206.8</td><td>&quot;x 0.33&quot;</td></tr></tbody></table></div>"
      ],
      "text/plain": [
       "shape: (51, 6)\n",
       "┌───────────────────────────────────┬───────────────┬─────────────┬───────────┬────────┬─────────┐\n",
       "│ Feature name                      ┆ functime (ms) ┆ tfresh (ms) ┆ diff (ms) ┆ diff % ┆ speedup │\n",
       "╞═══════════════════════════════════╪═══════════════╪═════════════╪═══════════╪════════╪═════════╡\n",
       "│ approximate_entropy               ┆ 256.8         ┆ 37776.4     ┆ -37519.6  ┆ -99.3  ┆ x 147.1 │\n",
       "│ lempel_ziv_complexity             ┆ 1.6           ┆ 46.2        ┆ -44.6     ┆ -96.6  ┆ x 29.3  │\n",
       "│ count_below_mean                  ┆ 0.0177        ┆ 0.17        ┆ -0.15     ┆ -89.3  ┆ x 9.3   │\n",
       "│ count_above_mean                  ┆ 0.0178        ┆ 0.16        ┆ -0.14     ┆ -89.0  ┆ x 9.1   │\n",
       "│ has_duplicate_max                 ┆ 0.0203        ┆ 0.18        ┆ -0.16     ┆ -88.8  ┆ x 8.9   │\n",
       "│ has_duplicate_min                 ┆ 0.0204        ┆ 0.18        ┆ -0.16     ┆ -88.6  ┆ x 8.8   │\n",
       "│ energy_ratios                     ┆ 0.41          ┆ 3.3         ┆ -2.9      ┆ -87.8  ┆ x 8.2   │\n",
       "│ sample_entropy                    ┆ 1268.6        ┆ 10169.0     ┆ -8900.4   ┆ -87.5  ┆ x 8.0   │\n",
       "│ count_above                       ┆ 0.0164        ┆ 0.12        ┆ -0.1      ┆ -86.5  ┆ x 7.4   │\n",
       "│ benford_correlation               ┆ 1.8           ┆ 13.5        ┆ -11.6     ┆ -86.5  ┆ x 7.4   │\n",
       "│ count_below                       ┆ 0.0167        ┆ 0.12        ┆ -0.11     ┆ -86.3  ┆ x 7.3   │\n",
       "│ first_location_of_minimum         ┆ 0.0071        ┆ 0.0413      ┆ -0.0343   ┆ -82.9  ┆ x 5.9   │\n",
       "│ first_location_of_maximum         ┆ 0.0072        ┆ 0.0419      ┆ -0.0347   ┆ -82.9  ┆ x 5.8   │\n",
       "│ symmetry_looking                  ┆ 0.0671        ┆ 0.33        ┆ -0.27     ┆ -79.8  ┆ x 4.9   │\n",
       "│ absolute_maximum                  ┆ 0.0218        ┆ 0.0961      ┆ -0.0742   ┆ -77.3  ┆ x 4.4   │\n",
       "│ longest_streak_below_mean         ┆ 0.39          ┆ 1.7         ┆ -1.3      ┆ -77.1  ┆ x 4.4   │\n",
       "│ longest_streak_above_mean         ┆ 0.39          ┆ 1.7         ┆ -1.3      ┆ -76.9  ┆ x 4.3   │\n",
       "│ autoregressive_coefficients       ┆ 1.4           ┆ 5.9         ┆ -4.5      ┆ -76.6  ┆ x 4.3   │\n",
       "│ mean_n_absolute_max               ┆ 0.18          ┆ 0.65        ┆ -0.47     ┆ -72.2  ┆ x 3.6   │\n",
       "│ range_count                       ┆ 0.0792        ┆ 0.25        ┆ -0.18     ┆ -68.9  ┆ x 3.2   │\n",
       "│ change_quantiles                  ┆ 0.46          ┆ 1.3         ┆ -0.86     ┆ -64.9  ┆ x 2.8   │\n",
       "│ linear_trend                      ┆ 0.4           ┆ 1.1         ┆ -0.67     ┆ -62.7  ┆ x 2.7   │\n",
       "│ ratio_n_unique_to_length          ┆ 0.26          ┆ 0.69        ┆ -0.43     ┆ -62.2  ┆ x 2.6   │\n",
       "│ number_peaks                      ┆ 0.64          ┆ 1.7         ┆ -1.0      ┆ -62.1  ┆ x 2.6   │\n",
       "│ percent_reoccurring_points        ┆ 0.47          ┆ 1.2         ┆ -0.74     ┆ -61.0  ┆ x 2.6   │\n",
       "│ absolute_energy                   ┆ 0.0119        ┆ 0.0301      ┆ -0.0181   ┆ -60.3  ┆ x 2.5   │\n",
       "│ large_standard_deviation          ┆ 0.0604        ┆ 0.13        ┆ -0.0742   ┆ -55.1  ┆ x 2.2   │\n",
       "│ mean_change                       ┆ 0.0039        ┆ 0.0086      ┆ -0.0047   ┆ -54.8  ┆ x 2.2   │\n",
       "│ mean_second_derivative_central    ┆ 0.005         ┆ 0.0091      ┆ -0.0041   ┆ -45.2  ┆ x 1.8   │\n",
       "│ cid_ce                            ┆ 0.2           ┆ 0.36        ┆ -0.16     ┆ -45.1  ┆ x 1.8   │\n",
       "│ variation_coefficient             ┆ 0.0616        ┆ 0.11        ┆ -0.0439   ┆ -41.6  ┆ x 1.7   │\n",
       "│ root_mean_square                  ┆ 0.0897        ┆ 0.14        ┆ -0.0482   ┆ -35.0  ┆ x 1.5   │\n",
       "│ ratio_beyond_r_sigma              ┆ 0.28          ┆ 0.43        ┆ -0.15     ┆ -34.9  ┆ x 1.5   │\n",
       "│ sum_reoccurring_points            ┆ 0.57          ┆ 0.81        ┆ -0.24     ┆ -29.6  ┆ x 1.4   │\n",
       "│ has_duplicate                     ┆ 0.51          ┆ 0.69        ┆ -0.18     ┆ -26.5  ┆ x 1.4   │\n",
       "│ percent_reoccurring_values        ┆ 0.58          ┆ 0.77        ┆ -0.19     ┆ -24.5  ┆ x 1.3   │\n",
       "│ binned_entropy                    ┆ 0.37          ┆ 0.46        ┆ -0.0894   ┆ -19.4  ┆ x 1.2   │\n",
       "│ number_cwt_peaks                  ┆ 537.4         ┆ 636.3       ┆ -99.0     ┆ -15.6  ┆ x 1.2   │\n",
       "│ var_gt_std                        ┆ 0.0503        ┆ 0.0534      ┆ -0.0031   ┆ -5.7   ┆ x 1.1   │\n",
       "│ spkt_welch_density                ┆ 0.59          ┆ 0.57        ┆ 0.0124    ┆ 2.2    ┆ x 0.98  │\n",
       "│ c3                                ┆ 0.28          ┆ 0.27        ┆ 0.0147    ┆ 5.5    ┆ x 0.95  │\n",
       "│ sum_reoccurring_values            ┆ 0.96          ┆ 0.85        ┆ 0.11      ┆ 12.4   ┆ x 0.89  │\n",
       "│ permutation_entropy               ┆ 13.6          ┆ 11.1        ┆ 2.6       ┆ 23.1   ┆ x 0.81  │\n",
       "│ last_location_of_minimum          ┆ 0.0477        ┆ 0.0293      ┆ 0.0184    ┆ 62.8   ┆ x 0.61  │\n",
       "│ last_location_of_maximum          ┆ 0.0482        ┆ 0.0295      ┆ 0.0187    ┆ 63.6   ┆ x 0.61  │\n",
       "│ mean_abs_change                   ┆ 0.0886        ┆ 0.0495      ┆ 0.0391    ┆ 79.0   ┆ x 0.56  │\n",
       "│ absolute_sum_of_changes           ┆ 0.0905        ┆ 0.0446      ┆ 0.0459    ┆ 103.1  ┆ x 0.49  │\n",
       "│ number_crossings                  ┆ 0.2           ┆ 0.0931      ┆ 0.11      ┆ 113.5  ┆ x 0.47  │\n",
       "│ autocorrelation                   ┆ 0.38          ┆ 0.16        ┆ 0.22      ┆ 137.3  ┆ x 0.42  │\n",
       "│ index_mass_quantile               ┆ 0.28          ┆ 0.12        ┆ 0.16      ┆ 139.7  ┆ x 0.42  │\n",
       "│ time_reversal_asymmetry_statistic ┆ 0.29          ┆ 0.0938      ┆ 0.19      ┆ 206.8  ┆ x 0.33  │\n",
       "└───────────────────────────────────┴───────────────┴─────────────┴───────────┴────────┴─────────┘"
      ]
     },
     "execution_count": 47,
     "metadata": {},
     "output_type": "execute_result"
    }
   ],
   "source": [
    "df_series_10k"
   ]
  },
  {
   "cell_type": "markdown",
   "metadata": {},
   "source": [
    "#### 100k series"
   ]
  },
  {
   "cell_type": "code",
   "execution_count": 48,
   "metadata": {},
   "outputs": [
    {
     "data": {
      "text/html": [
       "<div><style>\n",
       ".dataframe > thead > tr > th,\n",
       ".dataframe > tbody > tr > td {\n",
       "  text-align: right;\n",
       "  white-space: pre-wrap;\n",
       "}\n",
       "</style>\n",
       "<small>shape: (50, 6)</small><table border=\"1\" class=\"dataframe\"><thead><tr><th>Feature name</th><th>functime (ms)</th><th>tfresh (ms)</th><th>diff (ms)</th><th>diff %</th><th>speedup</th></tr></thead><tbody><tr><td>&quot;sample_entropy&quot;</td><td>5101.4</td><td>1385099.1</td><td>-1.3800e6</td><td>-99.6</td><td>&quot;x 271.5&quot;</td></tr><tr><td>&quot;lempel_ziv_complexity&quot;</td><td>38.8</td><td>2457.4</td><td>-2418.6</td><td>-98.4</td><td>&quot;x 63.3&quot;</td></tr><tr><td>&quot;mean_n_absolute_max&quot;</td><td>0.59</td><td>7.4</td><td>-6.8</td><td>-92.0</td><td>&quot;x 12.6&quot;</td></tr><tr><td>&quot;benford_correlation&quot;</td><td>11.3</td><td>136.0</td><td>-124.7</td><td>-91.7</td><td>&quot;x 12.1&quot;</td></tr><tr><td>&quot;energy_ratios&quot;</td><td>0.61</td><td>5.1</td><td>-4.5</td><td>-88.0</td><td>&quot;x 8.3&quot;</td></tr><tr><td>&quot;longest_streak_below_mean&quot;</td><td>2.4</td><td>15.8</td><td>-13.4</td><td>-84.9</td><td>&quot;x 6.6&quot;</td></tr><tr><td>&quot;longest_streak_above_mean&quot;</td><td>2.4</td><td>15.5</td><td>-13.1</td><td>-84.7</td><td>&quot;x 6.5&quot;</td></tr><tr><td>&quot;has_duplicate_min&quot;</td><td>0.0815</td><td>0.5</td><td>-0.42</td><td>-83.6</td><td>&quot;x 6.1&quot;</td></tr><tr><td>&quot;has_duplicate_max&quot;</td><td>0.0808</td><td>0.49</td><td>-0.41</td><td>-83.4</td><td>&quot;x 6.0&quot;</td></tr><tr><td>&quot;count_below_mean&quot;</td><td>0.0725</td><td>0.43</td><td>-0.36</td><td>-83.1</td><td>&quot;x 5.9&quot;</td></tr><tr><td>&quot;count_above_mean&quot;</td><td>0.0724</td><td>0.41</td><td>-0.34</td><td>-82.5</td><td>&quot;x 5.7&quot;</td></tr><tr><td>&quot;autoregressive_coefficients&quot;</td><td>8.9</td><td>49.4</td><td>-40.6</td><td>-82.1</td><td>&quot;x 5.6&quot;</td></tr><tr><td>&quot;linear_trend&quot;</td><td>1.8</td><td>9.1</td><td>-7.3</td><td>-79.9</td><td>&quot;x 5.0&quot;</td></tr><tr><td>&quot;absolute_maximum&quot;</td><td>0.0792</td><td>0.37</td><td>-0.29</td><td>-78.6</td><td>&quot;x 4.7&quot;</td></tr><tr><td>&quot;count_below&quot;</td><td>0.0487</td><td>0.2</td><td>-0.16</td><td>-76.1</td><td>&quot;x 4.2&quot;</td></tr><tr><td>&quot;count_above&quot;</td><td>0.0484</td><td>0.2</td><td>-0.15</td><td>-76.1</td><td>&quot;x 4.2&quot;</td></tr><tr><td>&quot;large_standard_deviation&quot;</td><td>0.23</td><td>0.78</td><td>-0.55</td><td>-70.6</td><td>&quot;x 3.4&quot;</td></tr><tr><td>&quot;root_mean_square&quot;</td><td>0.1</td><td>0.33</td><td>-0.22</td><td>-68.4</td><td>&quot;x 3.2&quot;</td></tr><tr><td>&quot;ratio_n_unique_to_length&quot;</td><td>2.6</td><td>7.7</td><td>-5.1</td><td>-66.8</td><td>&quot;x 3.0&quot;</td></tr><tr><td>&quot;range_count&quot;</td><td>0.14</td><td>0.4</td><td>-0.26</td><td>-64.6</td><td>&quot;x 2.8&quot;</td></tr><tr><td>&quot;first_location_of_maximum&quot;</td><td>0.0496</td><td>0.14</td><td>-0.0895</td><td>-64.3</td><td>&quot;x 2.8&quot;</td></tr><tr><td>&quot;first_location_of_minimum&quot;</td><td>0.0496</td><td>0.14</td><td>-0.0891</td><td>-64.3</td><td>&quot;x 2.8&quot;</td></tr><tr><td>&quot;symmetry_looking&quot;</td><td>0.67</td><td>1.8</td><td>-1.1</td><td>-63.0</td><td>&quot;x 2.7&quot;</td></tr><tr><td>&quot;change_quantiles&quot;</td><td>2.2</td><td>5.5</td><td>-3.3</td><td>-59.2</td><td>&quot;x 2.5&quot;</td></tr><tr><td>&quot;variation_coefficient&quot;</td><td>0.2</td><td>0.46</td><td>-0.26</td><td>-57.0</td><td>&quot;x 2.3&quot;</td></tr><tr><td>&quot;mean_change&quot;</td><td>0.0039</td><td>0.0086</td><td>-0.0048</td><td>-55.3</td><td>&quot;x 2.2&quot;</td></tr><tr><td>&quot;ratio_beyond_r_sigma&quot;</td><td>0.66</td><td>1.2</td><td>-0.56</td><td>-46.1</td><td>&quot;x 1.9&quot;</td></tr><tr><td>&quot;mean_second_derivative_central&quot;</td><td>0.005</td><td>0.0091</td><td>-0.0041</td><td>-45.0</td><td>&quot;x 1.8&quot;</td></tr><tr><td>&quot;var_gt_std&quot;</td><td>0.16</td><td>0.29</td><td>-0.13</td><td>-44.8</td><td>&quot;x 1.8&quot;</td></tr><tr><td>&quot;percent_reoccurring_points&quot;</td><td>4.8</td><td>8.2</td><td>-3.5</td><td>-42.2</td><td>&quot;x 1.7&quot;</td></tr><tr><td>&quot;sum_reoccurring_points&quot;</td><td>5.0</td><td>8.5</td><td>-3.5</td><td>-41.5</td><td>&quot;x 1.7&quot;</td></tr><tr><td>&quot;has_duplicate&quot;</td><td>4.8</td><td>7.9</td><td>-3.1</td><td>-39.0</td><td>&quot;x 1.6&quot;</td></tr><tr><td>&quot;number_peaks&quot;</td><td>2.5</td><td>3.6</td><td>-1.0</td><td>-29.4</td><td>&quot;x 1.4&quot;</td></tr><tr><td>&quot;cid_ce&quot;</td><td>0.97</td><td>1.3</td><td>-0.34</td><td>-26.2</td><td>&quot;x 1.4&quot;</td></tr><tr><td>&quot;c3&quot;</td><td>0.71</td><td>0.84</td><td>-0.12</td><td>-14.9</td><td>&quot;x 1.2&quot;</td></tr><tr><td>&quot;percent_reoccurring_values&quot;</td><td>7.2</td><td>8.1</td><td>-0.88</td><td>-10.9</td><td>&quot;x 1.1&quot;</td></tr><tr><td>&quot;binned_entropy&quot;</td><td>2.2</td><td>2.4</td><td>-0.18</td><td>-7.6</td><td>&quot;x 1.1&quot;</td></tr><tr><td>&quot;permutation_entropy&quot;</td><td>139.3</td><td>147.1</td><td>-7.8</td><td>-5.3</td><td>&quot;x 1.1&quot;</td></tr><tr><td>&quot;spkt_welch_density&quot;</td><td>3.7</td><td>3.7</td><td>0.0373</td><td>1.0</td><td>&quot;x 0.99&quot;</td></tr><tr><td>&quot;last_location_of_minimum&quot;</td><td>0.15</td><td>0.15</td><td>0.0042</td><td>2.8</td><td>&quot;x 0.97&quot;</td></tr><tr><td>&quot;last_location_of_maximum&quot;</td><td>0.15</td><td>0.15</td><td>0.005</td><td>3.4</td><td>&quot;x 0.97&quot;</td></tr><tr><td>&quot;sum_reoccurring_values&quot;</td><td>9.6</td><td>9.1</td><td>0.52</td><td>5.7</td><td>&quot;x 0.95&quot;</td></tr><tr><td>&quot;number_cwt_peaks&quot;</td><td>35319.7</td><td>32317.9</td><td>3001.8</td><td>9.3</td><td>&quot;x 0.92&quot;</td></tr><tr><td>&quot;mean_abs_change&quot;</td><td>0.26</td><td>0.24</td><td>0.0287</td><td>12.2</td><td>&quot;x 0.89&quot;</td></tr><tr><td>&quot;absolute_sum_of_changes&quot;</td><td>0.27</td><td>0.24</td><td>0.038</td><td>16.1</td><td>&quot;x 0.86&quot;</td></tr><tr><td>&quot;time_reversal_asymmetry_statistic&quot;</td><td>1.1</td><td>0.79</td><td>0.32</td><td>40.6</td><td>&quot;x 0.71&quot;</td></tr><tr><td>&quot;index_mass_quantile&quot;</td><td>1.2</td><td>0.81</td><td>0.37</td><td>45.4</td><td>&quot;x 0.69&quot;</td></tr><tr><td>&quot;autocorrelation&quot;</td><td>1.0</td><td>0.67</td><td>0.34</td><td>51.0</td><td>&quot;x 0.66&quot;</td></tr><tr><td>&quot;number_crossings&quot;</td><td>0.23</td><td>0.14</td><td>0.0909</td><td>64.6</td><td>&quot;x 0.61&quot;</td></tr><tr><td>&quot;absolute_energy&quot;</td><td>0.0904</td><td>0.0438</td><td>0.0466</td><td>106.4</td><td>&quot;x 0.48&quot;</td></tr></tbody></table></div>"
      ],
      "text/plain": [
       "shape: (50, 6)\n",
       "┌───────────────────────────────────┬───────────────┬─────────────┬───────────┬────────┬─────────┐\n",
       "│ Feature name                      ┆ functime (ms) ┆ tfresh (ms) ┆ diff (ms) ┆ diff % ┆ speedup │\n",
       "╞═══════════════════════════════════╪═══════════════╪═════════════╪═══════════╪════════╪═════════╡\n",
       "│ sample_entropy                    ┆ 5101.4        ┆ 1385099.1   ┆ -1.3800e6 ┆ -99.6  ┆ x 271.5 │\n",
       "│ lempel_ziv_complexity             ┆ 38.8          ┆ 2457.4      ┆ -2418.6   ┆ -98.4  ┆ x 63.3  │\n",
       "│ mean_n_absolute_max               ┆ 0.59          ┆ 7.4         ┆ -6.8      ┆ -92.0  ┆ x 12.6  │\n",
       "│ benford_correlation               ┆ 11.3          ┆ 136.0       ┆ -124.7    ┆ -91.7  ┆ x 12.1  │\n",
       "│ energy_ratios                     ┆ 0.61          ┆ 5.1         ┆ -4.5      ┆ -88.0  ┆ x 8.3   │\n",
       "│ longest_streak_below_mean         ┆ 2.4           ┆ 15.8        ┆ -13.4     ┆ -84.9  ┆ x 6.6   │\n",
       "│ longest_streak_above_mean         ┆ 2.4           ┆ 15.5        ┆ -13.1     ┆ -84.7  ┆ x 6.5   │\n",
       "│ has_duplicate_min                 ┆ 0.0815        ┆ 0.5         ┆ -0.42     ┆ -83.6  ┆ x 6.1   │\n",
       "│ has_duplicate_max                 ┆ 0.0808        ┆ 0.49        ┆ -0.41     ┆ -83.4  ┆ x 6.0   │\n",
       "│ count_below_mean                  ┆ 0.0725        ┆ 0.43        ┆ -0.36     ┆ -83.1  ┆ x 5.9   │\n",
       "│ count_above_mean                  ┆ 0.0724        ┆ 0.41        ┆ -0.34     ┆ -82.5  ┆ x 5.7   │\n",
       "│ autoregressive_coefficients       ┆ 8.9           ┆ 49.4        ┆ -40.6     ┆ -82.1  ┆ x 5.6   │\n",
       "│ linear_trend                      ┆ 1.8           ┆ 9.1         ┆ -7.3      ┆ -79.9  ┆ x 5.0   │\n",
       "│ absolute_maximum                  ┆ 0.0792        ┆ 0.37        ┆ -0.29     ┆ -78.6  ┆ x 4.7   │\n",
       "│ count_below                       ┆ 0.0487        ┆ 0.2         ┆ -0.16     ┆ -76.1  ┆ x 4.2   │\n",
       "│ count_above                       ┆ 0.0484        ┆ 0.2         ┆ -0.15     ┆ -76.1  ┆ x 4.2   │\n",
       "│ large_standard_deviation          ┆ 0.23          ┆ 0.78        ┆ -0.55     ┆ -70.6  ┆ x 3.4   │\n",
       "│ root_mean_square                  ┆ 0.1           ┆ 0.33        ┆ -0.22     ┆ -68.4  ┆ x 3.2   │\n",
       "│ ratio_n_unique_to_length          ┆ 2.6           ┆ 7.7         ┆ -5.1      ┆ -66.8  ┆ x 3.0   │\n",
       "│ range_count                       ┆ 0.14          ┆ 0.4         ┆ -0.26     ┆ -64.6  ┆ x 2.8   │\n",
       "│ first_location_of_maximum         ┆ 0.0496        ┆ 0.14        ┆ -0.0895   ┆ -64.3  ┆ x 2.8   │\n",
       "│ first_location_of_minimum         ┆ 0.0496        ┆ 0.14        ┆ -0.0891   ┆ -64.3  ┆ x 2.8   │\n",
       "│ symmetry_looking                  ┆ 0.67          ┆ 1.8         ┆ -1.1      ┆ -63.0  ┆ x 2.7   │\n",
       "│ change_quantiles                  ┆ 2.2           ┆ 5.5         ┆ -3.3      ┆ -59.2  ┆ x 2.5   │\n",
       "│ variation_coefficient             ┆ 0.2           ┆ 0.46        ┆ -0.26     ┆ -57.0  ┆ x 2.3   │\n",
       "│ mean_change                       ┆ 0.0039        ┆ 0.0086      ┆ -0.0048   ┆ -55.3  ┆ x 2.2   │\n",
       "│ ratio_beyond_r_sigma              ┆ 0.66          ┆ 1.2         ┆ -0.56     ┆ -46.1  ┆ x 1.9   │\n",
       "│ mean_second_derivative_central    ┆ 0.005         ┆ 0.0091      ┆ -0.0041   ┆ -45.0  ┆ x 1.8   │\n",
       "│ var_gt_std                        ┆ 0.16          ┆ 0.29        ┆ -0.13     ┆ -44.8  ┆ x 1.8   │\n",
       "│ percent_reoccurring_points        ┆ 4.8           ┆ 8.2         ┆ -3.5      ┆ -42.2  ┆ x 1.7   │\n",
       "│ sum_reoccurring_points            ┆ 5.0           ┆ 8.5         ┆ -3.5      ┆ -41.5  ┆ x 1.7   │\n",
       "│ has_duplicate                     ┆ 4.8           ┆ 7.9         ┆ -3.1      ┆ -39.0  ┆ x 1.6   │\n",
       "│ number_peaks                      ┆ 2.5           ┆ 3.6         ┆ -1.0      ┆ -29.4  ┆ x 1.4   │\n",
       "│ cid_ce                            ┆ 0.97          ┆ 1.3         ┆ -0.34     ┆ -26.2  ┆ x 1.4   │\n",
       "│ c3                                ┆ 0.71          ┆ 0.84        ┆ -0.12     ┆ -14.9  ┆ x 1.2   │\n",
       "│ percent_reoccurring_values        ┆ 7.2           ┆ 8.1         ┆ -0.88     ┆ -10.9  ┆ x 1.1   │\n",
       "│ binned_entropy                    ┆ 2.2           ┆ 2.4         ┆ -0.18     ┆ -7.6   ┆ x 1.1   │\n",
       "│ permutation_entropy               ┆ 139.3         ┆ 147.1       ┆ -7.8      ┆ -5.3   ┆ x 1.1   │\n",
       "│ spkt_welch_density                ┆ 3.7           ┆ 3.7         ┆ 0.0373    ┆ 1.0    ┆ x 0.99  │\n",
       "│ last_location_of_minimum          ┆ 0.15          ┆ 0.15        ┆ 0.0042    ┆ 2.8    ┆ x 0.97  │\n",
       "│ last_location_of_maximum          ┆ 0.15          ┆ 0.15        ┆ 0.005     ┆ 3.4    ┆ x 0.97  │\n",
       "│ sum_reoccurring_values            ┆ 9.6           ┆ 9.1         ┆ 0.52      ┆ 5.7    ┆ x 0.95  │\n",
       "│ number_cwt_peaks                  ┆ 35319.7       ┆ 32317.9     ┆ 3001.8    ┆ 9.3    ┆ x 0.92  │\n",
       "│ mean_abs_change                   ┆ 0.26          ┆ 0.24        ┆ 0.0287    ┆ 12.2   ┆ x 0.89  │\n",
       "│ absolute_sum_of_changes           ┆ 0.27          ┆ 0.24        ┆ 0.038     ┆ 16.1   ┆ x 0.86  │\n",
       "│ time_reversal_asymmetry_statistic ┆ 1.1           ┆ 0.79        ┆ 0.32      ┆ 40.6   ┆ x 0.71  │\n",
       "│ index_mass_quantile               ┆ 1.2           ┆ 0.81        ┆ 0.37      ┆ 45.4   ┆ x 0.69  │\n",
       "│ autocorrelation                   ┆ 1.0           ┆ 0.67        ┆ 0.34      ┆ 51.0   ┆ x 0.66  │\n",
       "│ number_crossings                  ┆ 0.23          ┆ 0.14        ┆ 0.0909    ┆ 64.6   ┆ x 0.61  │\n",
       "│ absolute_energy                   ┆ 0.0904        ┆ 0.0438      ┆ 0.0466    ┆ 106.4  ┆ x 0.48  │\n",
       "└───────────────────────────────────┴───────────────┴─────────────┴───────────┴────────┴─────────┘"
      ]
     },
     "execution_count": 48,
     "metadata": {},
     "output_type": "execute_result"
    }
   ],
   "source": [
    "df_series_100k"
   ]
  },
  {
   "cell_type": "markdown",
   "metadata": {},
   "source": [
    "#### 1M series"
   ]
  },
  {
   "cell_type": "code",
   "execution_count": 49,
   "metadata": {},
   "outputs": [
    {
     "data": {
      "text/html": [
       "<div><style>\n",
       ".dataframe > thead > tr > th,\n",
       ".dataframe > tbody > tr > td {\n",
       "  text-align: right;\n",
       "  white-space: pre-wrap;\n",
       "}\n",
       "</style>\n",
       "<small>shape: (47, 6)</small><table border=\"1\" class=\"dataframe\"><thead><tr><th>Feature name</th><th>functime (ms)</th><th>tfresh (ms)</th><th>diff (ms)</th><th>diff %</th><th>speedup</th></tr></thead><tbody><tr><td>&quot;benford_correlation&quot;</td><td>114.4</td><td>1435.3</td><td>-1320.9</td><td>-92.0</td><td>&quot;x 12.5&quot;</td></tr><tr><td>&quot;mean_n_absolute_max&quot;</td><td>7.6</td><td>87.6</td><td>-80.0</td><td>-91.3</td><td>&quot;x 11.6&quot;</td></tr><tr><td>&quot;energy_ratios&quot;</td><td>4.3</td><td>35.8</td><td>-31.5</td><td>-88.0</td><td>&quot;x 8.3&quot;</td></tr><tr><td>&quot;root_mean_square&quot;</td><td>0.55</td><td>4.3</td><td>-3.7</td><td>-87.1</td><td>&quot;x 7.8&quot;</td></tr><tr><td>&quot;longest_streak_below_mean&quot;</td><td>22.3</td><td>164.4</td><td>-142.0</td><td>-86.4</td><td>&quot;x 7.4&quot;</td></tr><tr><td>&quot;autoregressive_coefficients&quot;</td><td>86.0</td><td>619.3</td><td>-533.3</td><td>-86.1</td><td>&quot;x 7.2&quot;</td></tr><tr><td>&quot;longest_streak_above_mean&quot;</td><td>22.5</td><td>161.5</td><td>-139.0</td><td>-86.1</td><td>&quot;x 7.2&quot;</td></tr><tr><td>&quot;linear_trend&quot;</td><td>20.5</td><td>104.6</td><td>-84.1</td><td>-80.4</td><td>&quot;x 5.1&quot;</td></tr><tr><td>&quot;absolute_maximum&quot;</td><td>1.1</td><td>4.8</td><td>-3.7</td><td>-77.7</td><td>&quot;x 4.5&quot;</td></tr><tr><td>&quot;count_below_mean&quot;</td><td>1.1</td><td>4.7</td><td>-3.6</td><td>-76.5</td><td>&quot;x 4.3&quot;</td></tr><tr><td>&quot;ratio_n_unique_to_length&quot;</td><td>23.4</td><td>91.5</td><td>-68.1</td><td>-74.4</td><td>&quot;x 3.9&quot;</td></tr><tr><td>&quot;has_duplicate_min&quot;</td><td>1.1</td><td>4.1</td><td>-3.0</td><td>-73.2</td><td>&quot;x 3.7&quot;</td></tr><tr><td>&quot;has_duplicate_max&quot;</td><td>1.1</td><td>4.0</td><td>-2.9</td><td>-72.3</td><td>&quot;x 3.6&quot;</td></tr><tr><td>&quot;count_above_mean&quot;</td><td>1.1</td><td>3.8</td><td>-2.7</td><td>-71.6</td><td>&quot;x 3.5&quot;</td></tr><tr><td>&quot;first_location_of_minimum&quot;</td><td>0.58</td><td>1.6</td><td>-1.0</td><td>-63.4</td><td>&quot;x 2.7&quot;</td></tr><tr><td>&quot;first_location_of_maximum&quot;</td><td>0.58</td><td>1.6</td><td>-1.0</td><td>-63.2</td><td>&quot;x 2.7&quot;</td></tr><tr><td>&quot;count_below&quot;</td><td>0.58</td><td>1.5</td><td>-0.88</td><td>-60.3</td><td>&quot;x 2.5&quot;</td></tr><tr><td>&quot;count_above&quot;</td><td>0.58</td><td>1.5</td><td>-0.88</td><td>-60.3</td><td>&quot;x 2.5&quot;</td></tr><tr><td>&quot;symmetry_looking&quot;</td><td>9.0</td><td>21.8</td><td>-12.8</td><td>-58.8</td><td>&quot;x 2.4&quot;</td></tr><tr><td>&quot;change_quantiles&quot;</td><td>23.3</td><td>53.6</td><td>-30.3</td><td>-56.5</td><td>&quot;x 2.3&quot;</td></tr><tr><td>&quot;range_count&quot;</td><td>1.4</td><td>3.2</td><td>-1.8</td><td>-55.7</td><td>&quot;x 2.3&quot;</td></tr><tr><td>&quot;mean_change&quot;</td><td>0.0039</td><td>0.0087</td><td>-0.0048</td><td>-55.3</td><td>&quot;x 2.2&quot;</td></tr><tr><td>&quot;number_peaks&quot;</td><td>21.2</td><td>45.6</td><td>-24.4</td><td>-53.5</td><td>&quot;x 2.2&quot;</td></tr><tr><td>&quot;large_standard_deviation&quot;</td><td>3.7</td><td>7.8</td><td>-4.2</td><td>-53.2</td><td>&quot;x 2.1&quot;</td></tr><tr><td>&quot;mean_second_derivative_central&quot;</td><td>0.005</td><td>0.0091</td><td>-0.0041</td><td>-45.0</td><td>&quot;x 1.8&quot;</td></tr><tr><td>&quot;c3&quot;</td><td>6.0</td><td>10.3</td><td>-4.3</td><td>-42.2</td><td>&quot;x 1.7&quot;</td></tr><tr><td>&quot;sum_reoccurring_points&quot;</td><td>65.7</td><td>102.5</td><td>-36.8</td><td>-35.9</td><td>&quot;x 1.6&quot;</td></tr><tr><td>&quot;variation_coefficient&quot;</td><td>3.2</td><td>4.8</td><td>-1.6</td><td>-34.2</td><td>&quot;x 1.5&quot;</td></tr><tr><td>&quot;absolute_sum_of_changes&quot;</td><td>3.7</td><td>5.3</td><td>-1.7</td><td>-30.9</td><td>&quot;x 1.4&quot;</td></tr><tr><td>&quot;ratio_beyond_r_sigma&quot;</td><td>8.0</td><td>11.6</td><td>-3.5</td><td>-30.5</td><td>&quot;x 1.4&quot;</td></tr><tr><td>&quot;time_reversal_asymmetry_statistic&quot;</td><td>10.7</td><td>14.7</td><td>-4.0</td><td>-27.1</td><td>&quot;x 1.4&quot;</td></tr><tr><td>&quot;last_location_of_minimum&quot;</td><td>2.3</td><td>3.0</td><td>-0.77</td><td>-25.2</td><td>&quot;x 1.3&quot;</td></tr><tr><td>&quot;cid_ce&quot;</td><td>10.1</td><td>13.5</td><td>-3.4</td><td>-24.9</td><td>&quot;x 1.3&quot;</td></tr><tr><td>&quot;has_duplicate&quot;</td><td>71.2</td><td>94.7</td><td>-23.6</td><td>-24.9</td><td>&quot;x 1.3&quot;</td></tr><tr><td>&quot;percent_reoccurring_points&quot;</td><td>63.6</td><td>84.5</td><td>-20.9</td><td>-24.8</td><td>&quot;x 1.3&quot;</td></tr><tr><td>&quot;last_location_of_maximum&quot;</td><td>2.3</td><td>3.0</td><td>-0.74</td><td>-24.6</td><td>&quot;x 1.3&quot;</td></tr><tr><td>&quot;mean_abs_change&quot;</td><td>3.7</td><td>4.8</td><td>-1.2</td><td>-24.1</td><td>&quot;x 1.3&quot;</td></tr><tr><td>&quot;permutation_entropy&quot;</td><td>1534.8</td><td>1968.6</td><td>-433.9</td><td>-22.0</td><td>&quot;x 1.3&quot;</td></tr><tr><td>&quot;autocorrelation&quot;</td><td>9.6</td><td>11.8</td><td>-2.2</td><td>-18.8</td><td>&quot;x 1.2&quot;</td></tr><tr><td>&quot;var_gt_std&quot;</td><td>2.6</td><td>2.9</td><td>-0.31</td><td>-10.6</td><td>&quot;x 1.1&quot;</td></tr><tr><td>&quot;number_crossings&quot;</td><td>1.0</td><td>1.1</td><td>-0.0473</td><td>-4.3</td><td>&quot;x 1.0&quot;</td></tr><tr><td>&quot;binned_entropy&quot;</td><td>20.4</td><td>21.1</td><td>-0.76</td><td>-3.6</td><td>&quot;x 1.0&quot;</td></tr><tr><td>&quot;spkt_welch_density&quot;</td><td>43.3</td><td>43.7</td><td>-0.41</td><td>-0.93</td><td>&quot;x 1.0&quot;</td></tr><tr><td>&quot;index_mass_quantile&quot;</td><td>10.3</td><td>10.1</td><td>0.17</td><td>1.7</td><td>&quot;x 0.98&quot;</td></tr><tr><td>&quot;percent_reoccurring_values&quot;</td><td>108.1</td><td>93.7</td><td>14.4</td><td>15.4</td><td>&quot;x 0.87&quot;</td></tr><tr><td>&quot;sum_reoccurring_values&quot;</td><td>127.9</td><td>100.2</td><td>27.8</td><td>27.7</td><td>&quot;x 0.78&quot;</td></tr><tr><td>&quot;absolute_energy&quot;</td><td>0.59</td><td>0.45</td><td>0.14</td><td>30.6</td><td>&quot;x 0.77&quot;</td></tr></tbody></table></div>"
      ],
      "text/plain": [
       "shape: (47, 6)\n",
       "┌───────────────────────────────────┬───────────────┬─────────────┬───────────┬────────┬─────────┐\n",
       "│ Feature name                      ┆ functime (ms) ┆ tfresh (ms) ┆ diff (ms) ┆ diff % ┆ speedup │\n",
       "╞═══════════════════════════════════╪═══════════════╪═════════════╪═══════════╪════════╪═════════╡\n",
       "│ benford_correlation               ┆ 114.4         ┆ 1435.3      ┆ -1320.9   ┆ -92.0  ┆ x 12.5  │\n",
       "│ mean_n_absolute_max               ┆ 7.6           ┆ 87.6        ┆ -80.0     ┆ -91.3  ┆ x 11.6  │\n",
       "│ energy_ratios                     ┆ 4.3           ┆ 35.8        ┆ -31.5     ┆ -88.0  ┆ x 8.3   │\n",
       "│ root_mean_square                  ┆ 0.55          ┆ 4.3         ┆ -3.7      ┆ -87.1  ┆ x 7.8   │\n",
       "│ longest_streak_below_mean         ┆ 22.3          ┆ 164.4       ┆ -142.0    ┆ -86.4  ┆ x 7.4   │\n",
       "│ autoregressive_coefficients       ┆ 86.0          ┆ 619.3       ┆ -533.3    ┆ -86.1  ┆ x 7.2   │\n",
       "│ longest_streak_above_mean         ┆ 22.5          ┆ 161.5       ┆ -139.0    ┆ -86.1  ┆ x 7.2   │\n",
       "│ linear_trend                      ┆ 20.5          ┆ 104.6       ┆ -84.1     ┆ -80.4  ┆ x 5.1   │\n",
       "│ absolute_maximum                  ┆ 1.1           ┆ 4.8         ┆ -3.7      ┆ -77.7  ┆ x 4.5   │\n",
       "│ count_below_mean                  ┆ 1.1           ┆ 4.7         ┆ -3.6      ┆ -76.5  ┆ x 4.3   │\n",
       "│ ratio_n_unique_to_length          ┆ 23.4          ┆ 91.5        ┆ -68.1     ┆ -74.4  ┆ x 3.9   │\n",
       "│ has_duplicate_min                 ┆ 1.1           ┆ 4.1         ┆ -3.0      ┆ -73.2  ┆ x 3.7   │\n",
       "│ has_duplicate_max                 ┆ 1.1           ┆ 4.0         ┆ -2.9      ┆ -72.3  ┆ x 3.6   │\n",
       "│ count_above_mean                  ┆ 1.1           ┆ 3.8         ┆ -2.7      ┆ -71.6  ┆ x 3.5   │\n",
       "│ first_location_of_minimum         ┆ 0.58          ┆ 1.6         ┆ -1.0      ┆ -63.4  ┆ x 2.7   │\n",
       "│ first_location_of_maximum         ┆ 0.58          ┆ 1.6         ┆ -1.0      ┆ -63.2  ┆ x 2.7   │\n",
       "│ count_below                       ┆ 0.58          ┆ 1.5         ┆ -0.88     ┆ -60.3  ┆ x 2.5   │\n",
       "│ count_above                       ┆ 0.58          ┆ 1.5         ┆ -0.88     ┆ -60.3  ┆ x 2.5   │\n",
       "│ symmetry_looking                  ┆ 9.0           ┆ 21.8        ┆ -12.8     ┆ -58.8  ┆ x 2.4   │\n",
       "│ change_quantiles                  ┆ 23.3          ┆ 53.6        ┆ -30.3     ┆ -56.5  ┆ x 2.3   │\n",
       "│ range_count                       ┆ 1.4           ┆ 3.2         ┆ -1.8      ┆ -55.7  ┆ x 2.3   │\n",
       "│ mean_change                       ┆ 0.0039        ┆ 0.0087      ┆ -0.0048   ┆ -55.3  ┆ x 2.2   │\n",
       "│ number_peaks                      ┆ 21.2          ┆ 45.6        ┆ -24.4     ┆ -53.5  ┆ x 2.2   │\n",
       "│ large_standard_deviation          ┆ 3.7           ┆ 7.8         ┆ -4.2      ┆ -53.2  ┆ x 2.1   │\n",
       "│ mean_second_derivative_central    ┆ 0.005         ┆ 0.0091      ┆ -0.0041   ┆ -45.0  ┆ x 1.8   │\n",
       "│ c3                                ┆ 6.0           ┆ 10.3        ┆ -4.3      ┆ -42.2  ┆ x 1.7   │\n",
       "│ sum_reoccurring_points            ┆ 65.7          ┆ 102.5       ┆ -36.8     ┆ -35.9  ┆ x 1.6   │\n",
       "│ variation_coefficient             ┆ 3.2           ┆ 4.8         ┆ -1.6      ┆ -34.2  ┆ x 1.5   │\n",
       "│ absolute_sum_of_changes           ┆ 3.7           ┆ 5.3         ┆ -1.7      ┆ -30.9  ┆ x 1.4   │\n",
       "│ ratio_beyond_r_sigma              ┆ 8.0           ┆ 11.6        ┆ -3.5      ┆ -30.5  ┆ x 1.4   │\n",
       "│ time_reversal_asymmetry_statistic ┆ 10.7          ┆ 14.7        ┆ -4.0      ┆ -27.1  ┆ x 1.4   │\n",
       "│ last_location_of_minimum          ┆ 2.3           ┆ 3.0         ┆ -0.77     ┆ -25.2  ┆ x 1.3   │\n",
       "│ cid_ce                            ┆ 10.1          ┆ 13.5        ┆ -3.4      ┆ -24.9  ┆ x 1.3   │\n",
       "│ has_duplicate                     ┆ 71.2          ┆ 94.7        ┆ -23.6     ┆ -24.9  ┆ x 1.3   │\n",
       "│ percent_reoccurring_points        ┆ 63.6          ┆ 84.5        ┆ -20.9     ┆ -24.8  ┆ x 1.3   │\n",
       "│ last_location_of_maximum          ┆ 2.3           ┆ 3.0         ┆ -0.74     ┆ -24.6  ┆ x 1.3   │\n",
       "│ mean_abs_change                   ┆ 3.7           ┆ 4.8         ┆ -1.2      ┆ -24.1  ┆ x 1.3   │\n",
       "│ permutation_entropy               ┆ 1534.8        ┆ 1968.6      ┆ -433.9    ┆ -22.0  ┆ x 1.3   │\n",
       "│ autocorrelation                   ┆ 9.6           ┆ 11.8        ┆ -2.2      ┆ -18.8  ┆ x 1.2   │\n",
       "│ var_gt_std                        ┆ 2.6           ┆ 2.9         ┆ -0.31     ┆ -10.6  ┆ x 1.1   │\n",
       "│ number_crossings                  ┆ 1.0           ┆ 1.1         ┆ -0.0473   ┆ -4.3   ┆ x 1.0   │\n",
       "│ binned_entropy                    ┆ 20.4          ┆ 21.1        ┆ -0.76     ┆ -3.6   ┆ x 1.0   │\n",
       "│ spkt_welch_density                ┆ 43.3          ┆ 43.7        ┆ -0.41     ┆ -0.93  ┆ x 1.0   │\n",
       "│ index_mass_quantile               ┆ 10.3          ┆ 10.1        ┆ 0.17      ┆ 1.7    ┆ x 0.98  │\n",
       "│ percent_reoccurring_values        ┆ 108.1         ┆ 93.7        ┆ 14.4      ┆ 15.4   ┆ x 0.87  │\n",
       "│ sum_reoccurring_values            ┆ 127.9         ┆ 100.2       ┆ 27.8      ┆ 27.7   ┆ x 0.78  │\n",
       "│ absolute_energy                   ┆ 0.59          ┆ 0.45        ┆ 0.14      ┆ 30.6   ┆ x 0.77  │\n",
       "└───────────────────────────────────┴───────────────┴─────────────┴───────────┴────────┴─────────┘"
      ]
     },
     "execution_count": 49,
     "metadata": {},
     "output_type": "execute_result"
    }
   ],
   "source": [
    "df_series_1m"
   ]
  },
  {
   "cell_type": "markdown",
   "metadata": {},
   "source": [
    "#### 9M series"
   ]
  },
  {
   "cell_type": "code",
   "execution_count": 50,
   "metadata": {},
   "outputs": [
    {
     "data": {
      "text/html": [
       "<div><style>\n",
       ".dataframe > thead > tr > th,\n",
       ".dataframe > tbody > tr > td {\n",
       "  text-align: right;\n",
       "  white-space: pre-wrap;\n",
       "}\n",
       "</style>\n",
       "<small>shape: (47, 6)</small><table border=\"1\" class=\"dataframe\"><thead><tr><th>Feature name</th><th>functime (ms)</th><th>tfresh (ms)</th><th>diff (ms)</th><th>diff %</th><th>speedup</th></tr></thead><tbody><tr><td>&quot;mean_n_absolute_max&quot;</td><td>47.4</td><td>1059.4</td><td>-1012.0</td><td>-95.5</td><td>&quot;x 22.4&quot;</td></tr><tr><td>&quot;root_mean_square&quot;</td><td>3.8</td><td>37.7</td><td>-33.9</td><td>-89.9</td><td>&quot;x 9.9&quot;</td></tr><tr><td>&quot;energy_ratios&quot;</td><td>39.9</td><td>374.9</td><td>-335.0</td><td>-89.4</td><td>&quot;x 9.4&quot;</td></tr><tr><td>&quot;longest_streak_above_mean&quot;</td><td>188.5</td><td>1676.1</td><td>-1487.6</td><td>-88.8</td><td>&quot;x 8.9&quot;</td></tr><tr><td>&quot;benford_correlation&quot;</td><td>1658.2</td><td>13073.8</td><td>-11415.6</td><td>-87.3</td><td>&quot;x 7.9&quot;</td></tr><tr><td>&quot;longest_streak_below_mean&quot;</td><td>206.5</td><td>1459.7</td><td>-1253.3</td><td>-85.9</td><td>&quot;x 7.1&quot;</td></tr><tr><td>&quot;linear_trend&quot;</td><td>185.2</td><td>1224.0</td><td>-1038.8</td><td>-84.9</td><td>&quot;x 6.6&quot;</td></tr><tr><td>&quot;absolute_maximum&quot;</td><td>9.5</td><td>43.0</td><td>-33.5</td><td>-77.8</td><td>&quot;x 4.5&quot;</td></tr><tr><td>&quot;autoregressive_coefficients&quot;</td><td>1259.4</td><td>5526.1</td><td>-4266.7</td><td>-77.2</td><td>&quot;x 4.4&quot;</td></tr><tr><td>&quot;count_above_mean&quot;</td><td>9.6</td><td>34.7</td><td>-25.1</td><td>-72.3</td><td>&quot;x 3.6&quot;</td></tr><tr><td>&quot;has_duplicate_max&quot;</td><td>10.1</td><td>34.4</td><td>-24.3</td><td>-70.6</td><td>&quot;x 3.4&quot;</td></tr><tr><td>&quot;has_duplicate_min&quot;</td><td>10.8</td><td>36.7</td><td>-25.9</td><td>-70.5</td><td>&quot;x 3.4&quot;</td></tr><tr><td>&quot;count_below_mean&quot;</td><td>12.2</td><td>40.1</td><td>-27.9</td><td>-69.7</td><td>&quot;x 3.3&quot;</td></tr><tr><td>&quot;first_location_of_minimum&quot;</td><td>5.2</td><td>16.6</td><td>-11.3</td><td>-68.4</td><td>&quot;x 3.2&quot;</td></tr><tr><td>&quot;first_location_of_maximum&quot;</td><td>5.1</td><td>15.6</td><td>-10.4</td><td>-67.1</td><td>&quot;x 3.0&quot;</td></tr><tr><td>&quot;ratio_n_unique_to_length&quot;</td><td>330.2</td><td>894.1</td><td>-563.9</td><td>-63.1</td><td>&quot;x 2.7&quot;</td></tr><tr><td>&quot;change_quantiles&quot;</td><td>232.3</td><td>600.2</td><td>-367.8</td><td>-61.3</td><td>&quot;x 2.6&quot;</td></tr><tr><td>&quot;count_below&quot;</td><td>5.0</td><td>12.4</td><td>-7.3</td><td>-59.5</td><td>&quot;x 2.5&quot;</td></tr><tr><td>&quot;count_above&quot;</td><td>5.0</td><td>11.6</td><td>-6.6</td><td>-57.1</td><td>&quot;x 2.3&quot;</td></tr><tr><td>&quot;mean_change&quot;</td><td>0.0039</td><td>0.0086</td><td>-0.0048</td><td>-55.1</td><td>&quot;x 2.2&quot;</td></tr><tr><td>&quot;large_standard_deviation&quot;</td><td>34.3</td><td>74.0</td><td>-39.7</td><td>-53.6</td><td>&quot;x 2.2&quot;</td></tr><tr><td>&quot;number_peaks&quot;</td><td>204.6</td><td>416.1</td><td>-211.5</td><td>-50.8</td><td>&quot;x 2.0&quot;</td></tr><tr><td>&quot;range_count&quot;</td><td>16.3</td><td>32.8</td><td>-16.5</td><td>-50.2</td><td>&quot;x 2.0&quot;</td></tr><tr><td>&quot;symmetry_looking&quot;</td><td>86.8</td><td>166.5</td><td>-79.7</td><td>-47.9</td><td>&quot;x 1.9&quot;</td></tr><tr><td>&quot;c3&quot;</td><td>50.5</td><td>91.8</td><td>-41.3</td><td>-44.9</td><td>&quot;x 1.8&quot;</td></tr><tr><td>&quot;mean_second_derivative_central&quot;</td><td>0.005</td><td>0.009</td><td>-0.0041</td><td>-44.9</td><td>&quot;x 1.8&quot;</td></tr><tr><td>&quot;variation_coefficient&quot;</td><td>29.0</td><td>46.2</td><td>-17.1</td><td>-37.1</td><td>&quot;x 1.6&quot;</td></tr><tr><td>&quot;absolute_sum_of_changes&quot;</td><td>31.6</td><td>45.9</td><td>-14.3</td><td>-31.2</td><td>&quot;x 1.5&quot;</td></tr><tr><td>&quot;time_reversal_asymmetry_statistic&quot;</td><td>97.8</td><td>137.4</td><td>-39.6</td><td>-28.8</td><td>&quot;x 1.4&quot;</td></tr><tr><td>&quot;mean_abs_change&quot;</td><td>32.0</td><td>44.9</td><td>-12.8</td><td>-28.6</td><td>&quot;x 1.4&quot;</td></tr><tr><td>&quot;number_crossings&quot;</td><td>7.1</td><td>9.8</td><td>-2.7</td><td>-27.7</td><td>&quot;x 1.4&quot;</td></tr><tr><td>&quot;last_location_of_minimum&quot;</td><td>20.2</td><td>27.7</td><td>-7.5</td><td>-27.2</td><td>&quot;x 1.4&quot;</td></tr><tr><td>&quot;last_location_of_maximum&quot;</td><td>20.1</td><td>27.1</td><td>-7.1</td><td>-26.1</td><td>&quot;x 1.4&quot;</td></tr><tr><td>&quot;permutation_entropy&quot;</td><td>16945.7</td><td>22762.9</td><td>-5817.2</td><td>-25.6</td><td>&quot;x 1.3&quot;</td></tr><tr><td>&quot;cid_ce&quot;</td><td>87.8</td><td>115.7</td><td>-27.9</td><td>-24.1</td><td>&quot;x 1.3&quot;</td></tr><tr><td>&quot;ratio_beyond_r_sigma&quot;</td><td>80.4</td><td>102.1</td><td>-21.7</td><td>-21.3</td><td>&quot;x 1.3&quot;</td></tr><tr><td>&quot;var_gt_std&quot;</td><td>23.1</td><td>27.7</td><td>-4.6</td><td>-16.5</td><td>&quot;x 1.2&quot;</td></tr><tr><td>&quot;has_duplicate&quot;</td><td>1033.5</td><td>1172.6</td><td>-139.0</td><td>-11.9</td><td>&quot;x 1.1&quot;</td></tr><tr><td>&quot;percent_reoccurring_points&quot;</td><td>862.4</td><td>953.4</td><td>-90.9</td><td>-9.5</td><td>&quot;x 1.1&quot;</td></tr><tr><td>&quot;sum_reoccurring_points&quot;</td><td>1039.3</td><td>1145.3</td><td>-105.9</td><td>-9.2</td><td>&quot;x 1.1&quot;</td></tr><tr><td>&quot;binned_entropy&quot;</td><td>182.8</td><td>193.7</td><td>-10.9</td><td>-5.6</td><td>&quot;x 1.1&quot;</td></tr><tr><td>&quot;absolute_energy&quot;</td><td>3.8</td><td>3.7</td><td>0.13</td><td>3.4</td><td>&quot;x 0.97&quot;</td></tr><tr><td>&quot;autocorrelation&quot;</td><td>552.8</td><td>526.4</td><td>26.4</td><td>5.0</td><td>&quot;x 0.95&quot;</td></tr><tr><td>&quot;index_mass_quantile&quot;</td><td>110.9</td><td>89.8</td><td>21.0</td><td>23.4</td><td>&quot;x 0.81&quot;</td></tr><tr><td>&quot;spkt_welch_density&quot;</td><td>1012.4</td><td>763.7</td><td>248.7</td><td>32.6</td><td>&quot;x 0.75&quot;</td></tr><tr><td>&quot;sum_reoccurring_values&quot;</td><td>1687.5</td><td>1123.4</td><td>564.1</td><td>50.2</td><td>&quot;x 0.67&quot;</td></tr><tr><td>&quot;percent_reoccurring_values&quot;</td><td>1629.8</td><td>953.5</td><td>676.3</td><td>70.9</td><td>&quot;x 0.59&quot;</td></tr></tbody></table></div>"
      ],
      "text/plain": [
       "shape: (47, 6)\n",
       "┌───────────────────────────────────┬───────────────┬─────────────┬───────────┬────────┬─────────┐\n",
       "│ Feature name                      ┆ functime (ms) ┆ tfresh (ms) ┆ diff (ms) ┆ diff % ┆ speedup │\n",
       "╞═══════════════════════════════════╪═══════════════╪═════════════╪═══════════╪════════╪═════════╡\n",
       "│ mean_n_absolute_max               ┆ 47.4          ┆ 1059.4      ┆ -1012.0   ┆ -95.5  ┆ x 22.4  │\n",
       "│ root_mean_square                  ┆ 3.8           ┆ 37.7        ┆ -33.9     ┆ -89.9  ┆ x 9.9   │\n",
       "│ energy_ratios                     ┆ 39.9          ┆ 374.9       ┆ -335.0    ┆ -89.4  ┆ x 9.4   │\n",
       "│ longest_streak_above_mean         ┆ 188.5         ┆ 1676.1      ┆ -1487.6   ┆ -88.8  ┆ x 8.9   │\n",
       "│ benford_correlation               ┆ 1658.2        ┆ 13073.8     ┆ -11415.6  ┆ -87.3  ┆ x 7.9   │\n",
       "│ longest_streak_below_mean         ┆ 206.5         ┆ 1459.7      ┆ -1253.3   ┆ -85.9  ┆ x 7.1   │\n",
       "│ linear_trend                      ┆ 185.2         ┆ 1224.0      ┆ -1038.8   ┆ -84.9  ┆ x 6.6   │\n",
       "│ absolute_maximum                  ┆ 9.5           ┆ 43.0        ┆ -33.5     ┆ -77.8  ┆ x 4.5   │\n",
       "│ autoregressive_coefficients       ┆ 1259.4        ┆ 5526.1      ┆ -4266.7   ┆ -77.2  ┆ x 4.4   │\n",
       "│ count_above_mean                  ┆ 9.6           ┆ 34.7        ┆ -25.1     ┆ -72.3  ┆ x 3.6   │\n",
       "│ has_duplicate_max                 ┆ 10.1          ┆ 34.4        ┆ -24.3     ┆ -70.6  ┆ x 3.4   │\n",
       "│ has_duplicate_min                 ┆ 10.8          ┆ 36.7        ┆ -25.9     ┆ -70.5  ┆ x 3.4   │\n",
       "│ count_below_mean                  ┆ 12.2          ┆ 40.1        ┆ -27.9     ┆ -69.7  ┆ x 3.3   │\n",
       "│ first_location_of_minimum         ┆ 5.2           ┆ 16.6        ┆ -11.3     ┆ -68.4  ┆ x 3.2   │\n",
       "│ first_location_of_maximum         ┆ 5.1           ┆ 15.6        ┆ -10.4     ┆ -67.1  ┆ x 3.0   │\n",
       "│ ratio_n_unique_to_length          ┆ 330.2         ┆ 894.1       ┆ -563.9    ┆ -63.1  ┆ x 2.7   │\n",
       "│ change_quantiles                  ┆ 232.3         ┆ 600.2       ┆ -367.8    ┆ -61.3  ┆ x 2.6   │\n",
       "│ count_below                       ┆ 5.0           ┆ 12.4        ┆ -7.3      ┆ -59.5  ┆ x 2.5   │\n",
       "│ count_above                       ┆ 5.0           ┆ 11.6        ┆ -6.6      ┆ -57.1  ┆ x 2.3   │\n",
       "│ mean_change                       ┆ 0.0039        ┆ 0.0086      ┆ -0.0048   ┆ -55.1  ┆ x 2.2   │\n",
       "│ large_standard_deviation          ┆ 34.3          ┆ 74.0        ┆ -39.7     ┆ -53.6  ┆ x 2.2   │\n",
       "│ number_peaks                      ┆ 204.6         ┆ 416.1       ┆ -211.5    ┆ -50.8  ┆ x 2.0   │\n",
       "│ range_count                       ┆ 16.3          ┆ 32.8        ┆ -16.5     ┆ -50.2  ┆ x 2.0   │\n",
       "│ symmetry_looking                  ┆ 86.8          ┆ 166.5       ┆ -79.7     ┆ -47.9  ┆ x 1.9   │\n",
       "│ c3                                ┆ 50.5          ┆ 91.8        ┆ -41.3     ┆ -44.9  ┆ x 1.8   │\n",
       "│ mean_second_derivative_central    ┆ 0.005         ┆ 0.009       ┆ -0.0041   ┆ -44.9  ┆ x 1.8   │\n",
       "│ variation_coefficient             ┆ 29.0          ┆ 46.2        ┆ -17.1     ┆ -37.1  ┆ x 1.6   │\n",
       "│ absolute_sum_of_changes           ┆ 31.6          ┆ 45.9        ┆ -14.3     ┆ -31.2  ┆ x 1.5   │\n",
       "│ time_reversal_asymmetry_statistic ┆ 97.8          ┆ 137.4       ┆ -39.6     ┆ -28.8  ┆ x 1.4   │\n",
       "│ mean_abs_change                   ┆ 32.0          ┆ 44.9        ┆ -12.8     ┆ -28.6  ┆ x 1.4   │\n",
       "│ number_crossings                  ┆ 7.1           ┆ 9.8         ┆ -2.7      ┆ -27.7  ┆ x 1.4   │\n",
       "│ last_location_of_minimum          ┆ 20.2          ┆ 27.7        ┆ -7.5      ┆ -27.2  ┆ x 1.4   │\n",
       "│ last_location_of_maximum          ┆ 20.1          ┆ 27.1        ┆ -7.1      ┆ -26.1  ┆ x 1.4   │\n",
       "│ permutation_entropy               ┆ 16945.7       ┆ 22762.9     ┆ -5817.2   ┆ -25.6  ┆ x 1.3   │\n",
       "│ cid_ce                            ┆ 87.8          ┆ 115.7       ┆ -27.9     ┆ -24.1  ┆ x 1.3   │\n",
       "│ ratio_beyond_r_sigma              ┆ 80.4          ┆ 102.1       ┆ -21.7     ┆ -21.3  ┆ x 1.3   │\n",
       "│ var_gt_std                        ┆ 23.1          ┆ 27.7        ┆ -4.6      ┆ -16.5  ┆ x 1.2   │\n",
       "│ has_duplicate                     ┆ 1033.5        ┆ 1172.6      ┆ -139.0    ┆ -11.9  ┆ x 1.1   │\n",
       "│ percent_reoccurring_points        ┆ 862.4         ┆ 953.4       ┆ -90.9     ┆ -9.5   ┆ x 1.1   │\n",
       "│ sum_reoccurring_points            ┆ 1039.3        ┆ 1145.3      ┆ -105.9    ┆ -9.2   ┆ x 1.1   │\n",
       "│ binned_entropy                    ┆ 182.8         ┆ 193.7       ┆ -10.9     ┆ -5.6   ┆ x 1.1   │\n",
       "│ absolute_energy                   ┆ 3.8           ┆ 3.7         ┆ 0.13      ┆ 3.4    ┆ x 0.97  │\n",
       "│ autocorrelation                   ┆ 552.8         ┆ 526.4       ┆ 26.4      ┆ 5.0    ┆ x 0.95  │\n",
       "│ index_mass_quantile               ┆ 110.9         ┆ 89.8        ┆ 21.0      ┆ 23.4   ┆ x 0.81  │\n",
       "│ spkt_welch_density                ┆ 1012.4        ┆ 763.7       ┆ 248.7     ┆ 32.6   ┆ x 0.75  │\n",
       "│ sum_reoccurring_values            ┆ 1687.5        ┆ 1123.4      ┆ 564.1     ┆ 50.2   ┆ x 0.67  │\n",
       "│ percent_reoccurring_values        ┆ 1629.8        ┆ 953.5       ┆ 676.3     ┆ 70.9   ┆ x 0.59  │\n",
       "└───────────────────────────────────┴───────────────┴─────────────┴───────────┴────────┴─────────┘"
      ]
     },
     "execution_count": 50,
     "metadata": {},
     "output_type": "execute_result"
    }
   ],
   "source": [
    "df_series_9m"
   ]
  },
  {
   "cell_type": "markdown",
   "metadata": {},
   "source": [
    "## 5. Benchmark `Group by / Aggregation` context\n",
    "\n",
    "Benchmark combining functime's feature extraction and polars' `Group by / Aggregation` context."
   ]
  },
  {
   "cell_type": "code",
   "execution_count": 51,
   "metadata": {},
   "outputs": [],
   "source": [
    "_SP500_DATASET = \"../../data/sp500.parquet\"\n",
    "\n",
    "SP500_PANDAS = pd.read_parquet(_SP500_DATASET)\n",
    "SP500_PL_EAGER = pl.read_parquet(_SP500_DATASET)"
   ]
  },
  {
   "cell_type": "code",
   "execution_count": 52,
   "metadata": {},
   "outputs": [
    {
     "data": {
      "text/html": [
       "<div>\n",
       "<style scoped>\n",
       "    .dataframe tbody tr th:only-of-type {\n",
       "        vertical-align: middle;\n",
       "    }\n",
       "\n",
       "    .dataframe tbody tr th {\n",
       "        vertical-align: top;\n",
       "    }\n",
       "\n",
       "    .dataframe thead th {\n",
       "        text-align: right;\n",
       "    }\n",
       "</style>\n",
       "<table border=\"1\" class=\"dataframe\">\n",
       "  <thead>\n",
       "    <tr style=\"text-align: right;\">\n",
       "      <th></th>\n",
       "      <th>ticker</th>\n",
       "      <th>time</th>\n",
       "      <th>price</th>\n",
       "    </tr>\n",
       "  </thead>\n",
       "  <tbody>\n",
       "    <tr>\n",
       "      <th>0</th>\n",
       "      <td>A</td>\n",
       "      <td>2022-06-01</td>\n",
       "      <td>122.278214</td>\n",
       "    </tr>\n",
       "    <tr>\n",
       "      <th>1</th>\n",
       "      <td>A</td>\n",
       "      <td>2022-06-02</td>\n",
       "      <td>128.248581</td>\n",
       "    </tr>\n",
       "    <tr>\n",
       "      <th>2</th>\n",
       "      <td>A</td>\n",
       "      <td>2022-06-03</td>\n",
       "      <td>127.642609</td>\n",
       "    </tr>\n",
       "    <tr>\n",
       "      <th>3</th>\n",
       "      <td>A</td>\n",
       "      <td>2022-06-06</td>\n",
       "      <td>126.788277</td>\n",
       "    </tr>\n",
       "    <tr>\n",
       "      <th>4</th>\n",
       "      <td>A</td>\n",
       "      <td>2022-06-07</td>\n",
       "      <td>128.049881</td>\n",
       "    </tr>\n",
       "    <tr>\n",
       "      <th>...</th>\n",
       "      <td>...</td>\n",
       "      <td>...</td>\n",
       "      <td>...</td>\n",
       "    </tr>\n",
       "    <tr>\n",
       "      <th>126248</th>\n",
       "      <td>ZTS</td>\n",
       "      <td>2023-05-24</td>\n",
       "      <td>169.139999</td>\n",
       "    </tr>\n",
       "    <tr>\n",
       "      <th>126249</th>\n",
       "      <td>ZTS</td>\n",
       "      <td>2023-05-25</td>\n",
       "      <td>165.240005</td>\n",
       "    </tr>\n",
       "    <tr>\n",
       "      <th>126250</th>\n",
       "      <td>ZTS</td>\n",
       "      <td>2023-05-26</td>\n",
       "      <td>164.740005</td>\n",
       "    </tr>\n",
       "    <tr>\n",
       "      <th>126251</th>\n",
       "      <td>ZTS</td>\n",
       "      <td>2023-05-30</td>\n",
       "      <td>160.940002</td>\n",
       "    </tr>\n",
       "    <tr>\n",
       "      <th>126252</th>\n",
       "      <td>ZTS</td>\n",
       "      <td>2023-05-31</td>\n",
       "      <td>163.009995</td>\n",
       "    </tr>\n",
       "  </tbody>\n",
       "</table>\n",
       "<p>126253 rows × 3 columns</p>\n",
       "</div>"
      ],
      "text/plain": [
       "       ticker       time       price\n",
       "0           A 2022-06-01  122.278214\n",
       "1           A 2022-06-02  128.248581\n",
       "2           A 2022-06-03  127.642609\n",
       "3           A 2022-06-06  126.788277\n",
       "4           A 2022-06-07  128.049881\n",
       "...       ...        ...         ...\n",
       "126248    ZTS 2023-05-24  169.139999\n",
       "126249    ZTS 2023-05-25  165.240005\n",
       "126250    ZTS 2023-05-26  164.740005\n",
       "126251    ZTS 2023-05-30  160.940002\n",
       "126252    ZTS 2023-05-31  163.009995\n",
       "\n",
       "[126253 rows x 3 columns]"
      ]
     },
     "execution_count": 52,
     "metadata": {},
     "output_type": "execute_result"
    }
   ],
   "source": [
    "SP500_PANDAS"
   ]
  },
  {
   "cell_type": "markdown",
   "metadata": {},
   "source": [
    "We want to compare `tsfresh` using `pandas' groupby`  with  `functime` using `polars' groupby` such as:"
   ]
  },
  {
   "cell_type": "code",
   "execution_count": 53,
   "metadata": {},
   "outputs": [
    {
     "name": "stdout",
     "output_type": "stream",
     "text": [
      "908 ms ± 33.3 ms per loop (mean ± std. dev. of 7 runs, 1 loop each)\n"
     ]
    }
   ],
   "source": [
    "%%timeit\n",
    "SP500_PANDAS.groupby(\n",
    "    by = \"ticker\"\n",
    ")[\"price\"].agg(\n",
    "    tsfresh.number_peaks,\n",
    "    n = 5\n",
    ")"
   ]
  },
  {
   "cell_type": "code",
   "execution_count": 54,
   "metadata": {},
   "outputs": [
    {
     "name": "stdout",
     "output_type": "stream",
     "text": [
      "52.8 ms ± 2.13 ms per loop (mean ± std. dev. of 7 runs, 10 loops each)\n"
     ]
    }
   ],
   "source": [
    "%%timeit\n",
    "SP500_PL_EAGER.group_by(\n",
    "    pl.col(\"ticker\")\n",
    ").agg(\n",
    "    pl.col(\"price\").ts.number_peaks(support = 5)\n",
    ")"
   ]
  },
  {
   "cell_type": "markdown",
   "metadata": {},
   "source": [
    "If we examine the previous benchmark, we can see that the `number_peaks` operation is approximately **2.5** times faster when using `functime` compared to `tsfresh`.\n",
    "\n",
    "In the `groupby` context, it's **10** times faster!"
   ]
  },
  {
   "cell_type": "code",
   "execution_count": 60,
   "metadata": {},
   "outputs": [],
   "source": [
    "def benchmark_groupby_context(\n",
    "    f_feat: Callable, ts_feat: Callable, f_params: dict, ts_params: dict\n",
    "):\n",
    "    if f_feat.__name__ == \"lempel_ziv_complexity\":\n",
    "        f_params = {\"threshold\": (pl.col(\"price\").max() - pl.col(\"price\").min()) / 2}\n",
    "    benchmark = perfplot.bench(\n",
    "        setup=lambda _n: (SP500_PL_EAGER, SP500_PANDAS),\n",
    "        kernels=[\n",
    "            lambda x, _y: x.group_by(pl.col(\"ticker\")).agg(\n",
    "                f_feat(pl.col(\"price\"), **f_params)\n",
    "            ),  # functime + polars groupby\n",
    "            lambda _x, y: y.groupby(\"ticker\")[\"price\"].agg(\n",
    "                ts_feat, **ts_params\n",
    "            ),  # tsfresh + pandas groupby\n",
    "        ],\n",
    "        n_range=[1],\n",
    "        equality_check=False,\n",
    "        labels=[\"functime\", \"tsfresh\"],\n",
    "    )\n",
    "    return benchmark"
   ]
  },
  {
   "cell_type": "code",
   "execution_count": 61,
   "metadata": {},
   "outputs": [],
   "source": [
    "def all_benchmarks_groupby(params: list[tuple]) -> list:\n",
    "    bench_df = pl.DataFrame(\n",
    "        schema={\n",
    "            \"Feature name\": pl.Utf8,\n",
    "            \"n\": pl.Int64,\n",
    "            \"functime + pl groupby (ms)\": pl.Float64,\n",
    "            \"tfresh + pd groupby (ms)\": pl.Float64,\n",
    "            \"diff (ms)\": pl.Float64,\n",
    "            \"diff %\": pl.Float64,\n",
    "            \"speedup\": pl.Float64,\n",
    "        }\n",
    "    )\n",
    "    for x in params:\n",
    "        try:\n",
    "            print(f\"Feature: {x[0].__name__}\")\n",
    "            bench = benchmark_groupby_context(\n",
    "                f_feat=x[0], ts_feat=x[1], f_params=x[2], ts_params=x[3]\n",
    "            )\n",
    "            bench_df = pl.concat(\n",
    "                [\n",
    "                    pl.DataFrame(\n",
    "                        {\n",
    "                            \"Feature name\": [x[0].__name__] * len(bench.n_range),\n",
    "                            \"n\": bench.n_range,\n",
    "                            \"functime + pl groupby (ms)\": bench.timings_s[0] * 1_000,\n",
    "                            \"tfresh + pd groupby (ms)\": bench.timings_s[1] * 1_000,\n",
    "                            \"diff (ms)\": (bench.timings_s[0] - bench.timings_s[1])\n",
    "                            * 1_000,\n",
    "                            \"diff %\": 100\n",
    "                            * (bench.timings_s[0] - bench.timings_s[1])\n",
    "                            / bench.timings_s[1],\n",
    "                            \"speedup\": bench.timings_s[1] / bench.timings_s[0],\n",
    "                        }\n",
    "                    ),\n",
    "                    bench_df,\n",
    "                ]\n",
    "            )\n",
    "        except ValueError:\n",
    "            print(f\"Failed to compute feature {x[0].__name__}\")\n",
    "        except ImportError:\n",
    "            print(f\"Failed to import feature {x[0].__name__}\")\n",
    "        except TypeError:\n",
    "            print(f\"Feature {x[0].__name__} not implemented for pl.Expr\")\n",
    "    return bench_df"
   ]
  },
  {
   "cell_type": "code",
   "execution_count": 65,
   "metadata": {},
   "outputs": [
    {
     "name": "stderr",
     "output_type": "stream",
     "text": [
      "INFO:functime.feature_extractors:Expression version of approximate_entropy is not yet implemented due to technical difficulty regarding Polars Expression Plugins.\n",
      "INFO:functime.feature_extractors:Expression version of autoregressive_coefficients is not yet implemented due to technical difficulty regarding Polars Expression Plugins.\n",
      "INFO:functime.feature_extractors:Expression version of number_cwt_peaks is not yet implemented due to technical difficulty regarding Polars Expression Plugins.\n",
      "INFO:functime.feature_extractors:Expression version of sample_entropy is not yet implemented due to technical difficulty regarding Polars Expression Plugins.\n",
      "INFO:functime.feature_extractors:Expression version of spkt_welch_density is not yet implemented due to technical difficulty regarding Polars Expression Plugins.\n"
     ]
    }
   ],
   "source": [
    "%%capture\n",
    "bench_groupby = all_benchmarks_groupby(params=FUNC_PARAMS_BENCH)\n",
    "df_groupby = table_prettifier(df=bench_groupby, n=1)"
   ]
  },
  {
   "cell_type": "markdown",
   "metadata": {},
   "source": [
    "#### S&P500 groupby"
   ]
  },
  {
   "cell_type": "code",
   "execution_count": 66,
   "metadata": {},
   "outputs": [
    {
     "data": {
      "text/html": [
       "<div><style>\n",
       ".dataframe > thead > tr > th,\n",
       ".dataframe > tbody > tr > td {\n",
       "  text-align: right;\n",
       "  white-space: pre-wrap;\n",
       "}\n",
       "</style>\n",
       "<small>shape: (46, 6)</small><table border=\"1\" class=\"dataframe\"><thead><tr><th>Feature name</th><th>functime + pl groupby (ms)</th><th>tfresh + pd groupby (ms)</th><th>diff (ms)</th><th>diff %</th><th>speedup</th></tr></thead><tbody><tr><td>&quot;energy_ratios&quot;</td><td>9.1</td><td>2024.5</td><td>-2015.4</td><td>-99.5</td><td>&quot;x 222.1&quot;</td></tr><tr><td>&quot;index_mass_quantile&quot;</td><td>7.2</td><td>544.3</td><td>-537.1</td><td>-98.7</td><td>&quot;x 75.8&quot;</td></tr><tr><td>&quot;range_count&quot;</td><td>2.8</td><td>154.3</td><td>-151.6</td><td>-98.2</td><td>&quot;x 56.0&quot;</td></tr><tr><td>&quot;symmetry_looking&quot;</td><td>3.1</td><td>114.4</td><td>-111.4</td><td>-97.3</td><td>&quot;x 37.3&quot;</td></tr><tr><td>&quot;percent_reoccurring_points&quot;</td><td>6.8</td><td>246.0</td><td>-239.2</td><td>-97.2</td><td>&quot;x 36.2&quot;</td></tr><tr><td>&quot;ratio_beyond_r_sigma&quot;</td><td>6.0</td><td>215.1</td><td>-209.1</td><td>-97.2</td><td>&quot;x 35.8&quot;</td></tr><tr><td>&quot;root_mean_square&quot;</td><td>2.4</td><td>83.8</td><td>-81.4</td><td>-97.1</td><td>&quot;x 34.3&quot;</td></tr><tr><td>&quot;count_above&quot;</td><td>2.7</td><td>80.0</td><td>-77.4</td><td>-96.6</td><td>&quot;x 29.7&quot;</td></tr><tr><td>&quot;count_below&quot;</td><td>2.7</td><td>78.5</td><td>-75.8</td><td>-96.5</td><td>&quot;x 28.9&quot;</td></tr><tr><td>&quot;lempel_ziv_complexity&quot;</td><td>10.5</td><td>293.2</td><td>-282.8</td><td>-96.4</td><td>&quot;x 28.0&quot;</td></tr><tr><td>&quot;change_quantiles&quot;</td><td>21.0</td><td>560.7</td><td>-539.8</td><td>-96.3</td><td>&quot;x 26.7&quot;</td></tr><tr><td>&quot;variation_coefficient&quot;</td><td>2.5</td><td>56.7</td><td>-54.2</td><td>-95.7</td><td>&quot;x 23.1&quot;</td></tr><tr><td>&quot;absolute_maximum&quot;</td><td>2.5</td><td>56.9</td><td>-54.4</td><td>-95.6</td><td>&quot;x 22.9&quot;</td></tr><tr><td>&quot;binned_entropy&quot;</td><td>8.8</td><td>190.6</td><td>-181.8</td><td>-95.4</td><td>&quot;x 21.6&quot;</td></tr><tr><td>&quot;c3&quot;</td><td>7.1</td><td>150.2</td><td>-143.0</td><td>-95.2</td><td>&quot;x 21.0&quot;</td></tr><tr><td>&quot;large_standard_deviation&quot;</td><td>2.8</td><td>57.6</td><td>-54.8</td><td>-95.1</td><td>&quot;x 20.6&quot;</td></tr><tr><td>&quot;has_duplicate_max&quot;</td><td>4.9</td><td>99.2</td><td>-94.3</td><td>-95.1</td><td>&quot;x 20.4&quot;</td></tr><tr><td>&quot;has_duplicate_min&quot;</td><td>4.9</td><td>99.7</td><td>-94.7</td><td>-95.1</td><td>&quot;x 20.2&quot;</td></tr><tr><td>&quot;benford_correlation&quot;</td><td>24.5</td><td>478.3</td><td>-453.8</td><td>-94.9</td><td>&quot;x 19.5&quot;</td></tr><tr><td>&quot;count_below_mean&quot;</td><td>4.9</td><td>93.2</td><td>-88.3</td><td>-94.8</td><td>&quot;x 19.1&quot;</td></tr><tr><td>&quot;autocorrelation&quot;</td><td>4.7</td><td>89.8</td><td>-85.1</td><td>-94.7</td><td>&quot;x 18.9&quot;</td></tr><tr><td>&quot;count_above_mean&quot;</td><td>4.9</td><td>92.2</td><td>-87.3</td><td>-94.7</td><td>&quot;x 18.9&quot;</td></tr><tr><td>&quot;number_peaks&quot;</td><td>54.1</td><td>909.6</td><td>-855.6</td><td>-94.1</td><td>&quot;x 16.8&quot;</td></tr><tr><td>&quot;cid_ce&quot;</td><td>12.1</td><td>182.6</td><td>-170.5</td><td>-93.4</td><td>&quot;x 15.1&quot;</td></tr><tr><td>&quot;var_gt_std&quot;</td><td>2.5</td><td>36.4</td><td>-33.9</td><td>-93.0</td><td>&quot;x 14.4&quot;</td></tr><tr><td>&quot;absolute_energy&quot;</td><td>2.5</td><td>34.4</td><td>-31.9</td><td>-92.6</td><td>&quot;x 13.6&quot;</td></tr><tr><td>&quot;mean_n_absolute_max&quot;</td><td>4.6</td><td>60.7</td><td>-56.1</td><td>-92.5</td><td>&quot;x 13.3&quot;</td></tr><tr><td>&quot;first_location_of_maximum&quot;</td><td>2.9</td><td>38.6</td><td>-35.7</td><td>-92.5</td><td>&quot;x 13.2&quot;</td></tr><tr><td>&quot;first_location_of_minimum&quot;</td><td>2.9</td><td>36.1</td><td>-33.2</td><td>-92.0</td><td>&quot;x 12.5&quot;</td></tr><tr><td>&quot;mean_abs_change&quot;</td><td>3.7</td><td>36.5</td><td>-32.9</td><td>-90.0</td><td>&quot;x 10.0&quot;</td></tr><tr><td>&quot;ratio_n_unique_to_length&quot;</td><td>3.9</td><td>38.8</td><td>-34.8</td><td>-89.9</td><td>&quot;x 9.9&quot;</td></tr><tr><td>&quot;longest_streak_below_mean&quot;</td><td>12.6</td><td>122.8</td><td>-110.2</td><td>-89.7</td><td>&quot;x 9.7&quot;</td></tr><tr><td>&quot;absolute_sum_of_changes&quot;</td><td>3.7</td><td>34.6</td><td>-30.8</td><td>-89.2</td><td>&quot;x 9.3&quot;</td></tr><tr><td>&quot;mean_change&quot;</td><td>2.3</td><td>21.4</td><td>-19.1</td><td>-89.2</td><td>&quot;x 9.3&quot;</td></tr><tr><td>&quot;longest_streak_above_mean&quot;</td><td>13.7</td><td>124.1</td><td>-110.4</td><td>-89.0</td><td>&quot;x 9.1&quot;</td></tr><tr><td>&quot;sum_reoccurring_points&quot;</td><td>7.4</td><td>61.0</td><td>-53.6</td><td>-87.9</td><td>&quot;x 8.3&quot;</td></tr><tr><td>&quot;last_location_of_maximum&quot;</td><td>3.7</td><td>26.4</td><td>-22.7</td><td>-86.0</td><td>&quot;x 7.2&quot;</td></tr><tr><td>&quot;percent_reoccurring_values&quot;</td><td>8.6</td><td>60.5</td><td>-51.9</td><td>-85.8</td><td>&quot;x 7.1&quot;</td></tr><tr><td>&quot;last_location_of_minimum&quot;</td><td>3.8</td><td>26.1</td><td>-22.2</td><td>-85.3</td><td>&quot;x 6.8&quot;</td></tr><tr><td>&quot;mean_second_derivative_central&quot;</td><td>3.7</td><td>21.9</td><td>-18.2</td><td>-83.2</td><td>&quot;x 6.0&quot;</td></tr><tr><td>&quot;has_duplicate&quot;</td><td>6.6</td><td>38.6</td><td>-32.0</td><td>-82.9</td><td>&quot;x 5.8&quot;</td></tr><tr><td>&quot;number_crossings&quot;</td><td>11.7</td><td>66.6</td><td>-54.9</td><td>-82.4</td><td>&quot;x 5.7&quot;</td></tr><tr><td>&quot;time_reversal_asymmetry_statistic&quot;</td><td>8.4</td><td>43.4</td><td>-35.0</td><td>-80.7</td><td>&quot;x 5.2&quot;</td></tr><tr><td>&quot;linear_trend&quot;</td><td>34.1</td><td>140.3</td><td>-106.1</td><td>-75.7</td><td>&quot;x 4.1&quot;</td></tr><tr><td>&quot;sum_reoccurring_values&quot;</td><td>23.7</td><td>63.1</td><td>-39.4</td><td>-62.4</td><td>&quot;x 2.7&quot;</td></tr><tr><td>&quot;permutation_entropy&quot;</td><td>195.3</td><td>219.8</td><td>-24.6</td><td>-11.2</td><td>&quot;x 1.1&quot;</td></tr></tbody></table></div>"
      ],
      "text/plain": [
       "shape: (46, 6)\n",
       "┌─────────────────────────────┬───────────────┬─────────────────────┬───────────┬────────┬─────────┐\n",
       "│ Feature name                ┆ functime + pl ┆ tfresh + pd groupby ┆ diff (ms) ┆ diff % ┆ speedup │\n",
       "│                             ┆ groupby (ms)  ┆ (ms)                ┆           ┆        ┆         │\n",
       "╞═════════════════════════════╪═══════════════╪═════════════════════╪═══════════╪════════╪═════════╡\n",
       "│ energy_ratios               ┆ 9.1           ┆ 2024.5              ┆ -2015.4   ┆ -99.5  ┆ x 222.1 │\n",
       "│ index_mass_quantile         ┆ 7.2           ┆ 544.3               ┆ -537.1    ┆ -98.7  ┆ x 75.8  │\n",
       "│ range_count                 ┆ 2.8           ┆ 154.3               ┆ -151.6    ┆ -98.2  ┆ x 56.0  │\n",
       "│ symmetry_looking            ┆ 3.1           ┆ 114.4               ┆ -111.4    ┆ -97.3  ┆ x 37.3  │\n",
       "│ percent_reoccurring_points  ┆ 6.8           ┆ 246.0               ┆ -239.2    ┆ -97.2  ┆ x 36.2  │\n",
       "│ ratio_beyond_r_sigma        ┆ 6.0           ┆ 215.1               ┆ -209.1    ┆ -97.2  ┆ x 35.8  │\n",
       "│ root_mean_square            ┆ 2.4           ┆ 83.8                ┆ -81.4     ┆ -97.1  ┆ x 34.3  │\n",
       "│ count_above                 ┆ 2.7           ┆ 80.0                ┆ -77.4     ┆ -96.6  ┆ x 29.7  │\n",
       "│ count_below                 ┆ 2.7           ┆ 78.5                ┆ -75.8     ┆ -96.5  ┆ x 28.9  │\n",
       "│ lempel_ziv_complexity       ┆ 10.5          ┆ 293.2               ┆ -282.8    ┆ -96.4  ┆ x 28.0  │\n",
       "│ change_quantiles            ┆ 21.0          ┆ 560.7               ┆ -539.8    ┆ -96.3  ┆ x 26.7  │\n",
       "│ variation_coefficient       ┆ 2.5           ┆ 56.7                ┆ -54.2     ┆ -95.7  ┆ x 23.1  │\n",
       "│ absolute_maximum            ┆ 2.5           ┆ 56.9                ┆ -54.4     ┆ -95.6  ┆ x 22.9  │\n",
       "│ binned_entropy              ┆ 8.8           ┆ 190.6               ┆ -181.8    ┆ -95.4  ┆ x 21.6  │\n",
       "│ c3                          ┆ 7.1           ┆ 150.2               ┆ -143.0    ┆ -95.2  ┆ x 21.0  │\n",
       "│ large_standard_deviation    ┆ 2.8           ┆ 57.6                ┆ -54.8     ┆ -95.1  ┆ x 20.6  │\n",
       "│ has_duplicate_max           ┆ 4.9           ┆ 99.2                ┆ -94.3     ┆ -95.1  ┆ x 20.4  │\n",
       "│ has_duplicate_min           ┆ 4.9           ┆ 99.7                ┆ -94.7     ┆ -95.1  ┆ x 20.2  │\n",
       "│ benford_correlation         ┆ 24.5          ┆ 478.3               ┆ -453.8    ┆ -94.9  ┆ x 19.5  │\n",
       "│ count_below_mean            ┆ 4.9           ┆ 93.2                ┆ -88.3     ┆ -94.8  ┆ x 19.1  │\n",
       "│ autocorrelation             ┆ 4.7           ┆ 89.8                ┆ -85.1     ┆ -94.7  ┆ x 18.9  │\n",
       "│ count_above_mean            ┆ 4.9           ┆ 92.2                ┆ -87.3     ┆ -94.7  ┆ x 18.9  │\n",
       "│ number_peaks                ┆ 54.1          ┆ 909.6               ┆ -855.6    ┆ -94.1  ┆ x 16.8  │\n",
       "│ cid_ce                      ┆ 12.1          ┆ 182.6               ┆ -170.5    ┆ -93.4  ┆ x 15.1  │\n",
       "│ var_gt_std                  ┆ 2.5           ┆ 36.4                ┆ -33.9     ┆ -93.0  ┆ x 14.4  │\n",
       "│ absolute_energy             ┆ 2.5           ┆ 34.4                ┆ -31.9     ┆ -92.6  ┆ x 13.6  │\n",
       "│ mean_n_absolute_max         ┆ 4.6           ┆ 60.7                ┆ -56.1     ┆ -92.5  ┆ x 13.3  │\n",
       "│ first_location_of_maximum   ┆ 2.9           ┆ 38.6                ┆ -35.7     ┆ -92.5  ┆ x 13.2  │\n",
       "│ first_location_of_minimum   ┆ 2.9           ┆ 36.1                ┆ -33.2     ┆ -92.0  ┆ x 12.5  │\n",
       "│ mean_abs_change             ┆ 3.7           ┆ 36.5                ┆ -32.9     ┆ -90.0  ┆ x 10.0  │\n",
       "│ ratio_n_unique_to_length    ┆ 3.9           ┆ 38.8                ┆ -34.8     ┆ -89.9  ┆ x 9.9   │\n",
       "│ longest_streak_below_mean   ┆ 12.6          ┆ 122.8               ┆ -110.2    ┆ -89.7  ┆ x 9.7   │\n",
       "│ absolute_sum_of_changes     ┆ 3.7           ┆ 34.6                ┆ -30.8     ┆ -89.2  ┆ x 9.3   │\n",
       "│ mean_change                 ┆ 2.3           ┆ 21.4                ┆ -19.1     ┆ -89.2  ┆ x 9.3   │\n",
       "│ longest_streak_above_mean   ┆ 13.7          ┆ 124.1               ┆ -110.4    ┆ -89.0  ┆ x 9.1   │\n",
       "│ sum_reoccurring_points      ┆ 7.4           ┆ 61.0                ┆ -53.6     ┆ -87.9  ┆ x 8.3   │\n",
       "│ last_location_of_maximum    ┆ 3.7           ┆ 26.4                ┆ -22.7     ┆ -86.0  ┆ x 7.2   │\n",
       "│ percent_reoccurring_values  ┆ 8.6           ┆ 60.5                ┆ -51.9     ┆ -85.8  ┆ x 7.1   │\n",
       "│ last_location_of_minimum    ┆ 3.8           ┆ 26.1                ┆ -22.2     ┆ -85.3  ┆ x 6.8   │\n",
       "│ mean_second_derivative_cent ┆ 3.7           ┆ 21.9                ┆ -18.2     ┆ -83.2  ┆ x 6.0   │\n",
       "│ ral                         ┆               ┆                     ┆           ┆        ┆         │\n",
       "│ has_duplicate               ┆ 6.6           ┆ 38.6                ┆ -32.0     ┆ -82.9  ┆ x 5.8   │\n",
       "│ number_crossings            ┆ 11.7          ┆ 66.6                ┆ -54.9     ┆ -82.4  ┆ x 5.7   │\n",
       "│ time_reversal_asymmetry_sta ┆ 8.4           ┆ 43.4                ┆ -35.0     ┆ -80.7  ┆ x 5.2   │\n",
       "│ tistic                      ┆               ┆                     ┆           ┆        ┆         │\n",
       "│ linear_trend                ┆ 34.1          ┆ 140.3               ┆ -106.1    ┆ -75.7  ┆ x 4.1   │\n",
       "│ sum_reoccurring_values      ┆ 23.7          ┆ 63.1                ┆ -39.4     ┆ -62.4  ┆ x 2.7   │\n",
       "│ permutation_entropy         ┆ 195.3         ┆ 219.8               ┆ -24.6     ┆ -11.2  ┆ x 1.1   │\n",
       "└─────────────────────────────┴───────────────┴─────────────────────┴───────────┴────────┴─────────┘"
      ]
     },
     "execution_count": 66,
     "metadata": {},
     "output_type": "execute_result"
    }
   ],
   "source": [
    "df_groupby"
   ]
  }
 ],
 "metadata": {
  "kernelspec": {
   "display_name": ".venv",
   "language": "python",
   "name": "python3"
  },
  "language_info": {
   "codemirror_mode": {
    "name": "ipython",
    "version": 3
   },
   "file_extension": ".py",
   "mimetype": "text/x-python",
   "name": "python",
   "nbconvert_exporter": "python",
   "pygments_lexer": "ipython3",
   "version": "3.11.5"
  },
  "orig_nbformat": 4
 },
 "nbformat": 4,
 "nbformat_minor": 2
}
