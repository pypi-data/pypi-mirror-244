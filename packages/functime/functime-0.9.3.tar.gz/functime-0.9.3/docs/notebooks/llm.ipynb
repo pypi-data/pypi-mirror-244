{
 "cells": [
  {
   "cell_type": "markdown",
   "id": "4fa2ea52-993f-46d3-be32-c9d8ef9d7cca",
   "metadata": {},
   "source": [
    "# LLM Copilot\n",
    "This walkthrough covers the `functime.llm` module, which contains namespaced polars dataframe methods to interoperate Large Language Models (LLMs) with functime."
   ]
  },
  {
   "cell_type": "markdown",
   "id": "fb303fcc-f1b1-483f-9d75-d8f56e7ad34c",
   "metadata": {},
   "source": [
    "Let's use OpenAI's GPT models to analyze commodity price forecasts created by a functime forecaster. By default we use `gpt-3.5-turbo`."
   ]
  },
  {
   "cell_type": "markdown",
   "id": "592db0ea-1363-4696-94c1-25a5893db5a9",
   "metadata": {},
   "source": [
    "### Load data"
   ]
  },
  {
   "cell_type": "code",
   "execution_count": 1,
   "id": "642d7472",
   "metadata": {},
   "outputs": [],
   "source": [
    "import os\n",
    "\n",
    "from IPython.display import Markdown, display\n",
    "\n",
    "os.environ[\"OPENAI_API_KEY\"] = \"...\"  # Your API key here"
   ]
  },
  {
   "cell_type": "code",
   "execution_count": 2,
   "id": "0ebd0dbb-d9b5-4f26-8c65-fa79c1372694",
   "metadata": {},
   "outputs": [],
   "source": [
    "%%capture\n",
    "import polars as pl\n",
    "\n",
    "from functime.cross_validation import train_test_split\n",
    "from functime.forecasting import knn\n",
    "import functime.llm     # We must import this to override the `llm` namespace for pl.DataFrame"
   ]
  },
  {
   "cell_type": "code",
   "execution_count": 3,
   "id": "cfa368dd-cc6b-4596-ab2a-5643b925a685",
   "metadata": {},
   "outputs": [
    {
     "name": "stdout",
     "output_type": "stream",
     "text": [
      "🎯 Target variable (y) -- train set:\n"
     ]
    },
    {
     "data": {
      "text/html": [
       "<div><style>\n",
       ".dataframe > thead > tr > th,\n",
       ".dataframe > tbody > tr > td {\n",
       "  text-align: right;\n",
       "  white-space: pre-wrap;\n",
       "}\n",
       "</style>\n",
       "<small>shape: (45_453, 3)</small><table border=\"1\" class=\"dataframe\"><thead><tr><th>commodity_type</th><th>time</th><th>price</th></tr><tr><td>str</td><td>datetime[ns]</td><td>f64</td></tr></thead><tbody><tr><td>&quot;Rapeseed oil&quot;</td><td>2002-02-01 00:00:00</td><td>423.45</td></tr><tr><td>&quot;Rapeseed oil&quot;</td><td>2002-03-01 00:00:00</td><td>415.85</td></tr><tr><td>&quot;Rapeseed oil&quot;</td><td>2002-04-01 00:00:00</td><td>410.77</td></tr><tr><td>&quot;Rapeseed oil&quot;</td><td>2002-05-01 00:00:00</td><td>414.82</td></tr><tr><td>&quot;Rapeseed oil&quot;</td><td>2002-06-01 00:00:00</td><td>451.04</td></tr><tr><td>&quot;Rapeseed oil&quot;</td><td>2002-07-01 00:00:00</td><td>477.29</td></tr><tr><td>&quot;Rapeseed oil&quot;</td><td>2002-08-01 00:00:00</td><td>521.14</td></tr><tr><td>&quot;Rapeseed oil&quot;</td><td>2002-09-01 00:00:00</td><td>525.01</td></tr><tr><td>&quot;Rapeseed oil&quot;</td><td>2002-10-01 00:00:00</td><td>539.31</td></tr><tr><td>&quot;Rapeseed oil&quot;</td><td>2002-11-01 00:00:00</td><td>593.04</td></tr><tr><td>&quot;Rapeseed oil&quot;</td><td>2002-12-01 00:00:00</td><td>616.49</td></tr><tr><td>&quot;Rapeseed oil&quot;</td><td>2003-01-01 00:00:00</td><td>623.72</td></tr><tr><td>&hellip;</td><td>&hellip;</td><td>&hellip;</td></tr><tr><td>&quot;Liquefied natu…</td><td>2019-10-01 00:00:00</td><td>9.98</td></tr><tr><td>&quot;Liquefied natu…</td><td>2019-11-01 00:00:00</td><td>10.04</td></tr><tr><td>&quot;Liquefied natu…</td><td>2019-12-01 00:00:00</td><td>10.06</td></tr><tr><td>&quot;Liquefied natu…</td><td>2020-01-01 00:00:00</td><td>9.89</td></tr><tr><td>&quot;Liquefied natu…</td><td>2020-02-01 00:00:00</td><td>9.89</td></tr><tr><td>&quot;Liquefied natu…</td><td>2020-03-01 00:00:00</td><td>10.21</td></tr><tr><td>&quot;Liquefied natu…</td><td>2020-04-01 00:00:00</td><td>10.01</td></tr><tr><td>&quot;Liquefied natu…</td><td>2020-05-01 00:00:00</td><td>10.08</td></tr><tr><td>&quot;Liquefied natu…</td><td>2020-06-01 00:00:00</td><td>8.97</td></tr><tr><td>&quot;Liquefied natu…</td><td>2020-07-01 00:00:00</td><td>7.79</td></tr><tr><td>&quot;Liquefied natu…</td><td>2020-08-01 00:00:00</td><td>6.34</td></tr><tr><td>&quot;Liquefied natu…</td><td>2020-09-01 00:00:00</td><td>5.88</td></tr></tbody></table></div>"
      ],
      "text/plain": [
       "shape: (45_453, 3)\n",
       "┌──────────────────────────────┬─────────────────────┬────────┐\n",
       "│ commodity_type               ┆ time                ┆ price  │\n",
       "│ ---                          ┆ ---                 ┆ ---    │\n",
       "│ str                          ┆ datetime[ns]        ┆ f64    │\n",
       "╞══════════════════════════════╪═════════════════════╪════════╡\n",
       "│ Rapeseed oil                 ┆ 2002-02-01 00:00:00 ┆ 423.45 │\n",
       "│ Rapeseed oil                 ┆ 2002-03-01 00:00:00 ┆ 415.85 │\n",
       "│ Rapeseed oil                 ┆ 2002-04-01 00:00:00 ┆ 410.77 │\n",
       "│ Rapeseed oil                 ┆ 2002-05-01 00:00:00 ┆ 414.82 │\n",
       "│ …                            ┆ …                   ┆ …      │\n",
       "│ Liquefied natural gas, Japan ┆ 2020-06-01 00:00:00 ┆ 8.97   │\n",
       "│ Liquefied natural gas, Japan ┆ 2020-07-01 00:00:00 ┆ 7.79   │\n",
       "│ Liquefied natural gas, Japan ┆ 2020-08-01 00:00:00 ┆ 6.34   │\n",
       "│ Liquefied natural gas, Japan ┆ 2020-09-01 00:00:00 ┆ 5.88   │\n",
       "└──────────────────────────────┴─────────────────────┴────────┘"
      ]
     },
     "execution_count": 3,
     "metadata": {},
     "output_type": "execute_result"
    }
   ],
   "source": [
    "y = pl.read_parquet(\"../../data/commodities.parquet\")\n",
    "entity_col, time_col, target_col = y.columns\n",
    "test_size = 30\n",
    "freq = \"1mo\"\n",
    "y_train, y_test = train_test_split(test_size)(y)\n",
    "print(\"🎯 Target variable (y) -- train set:\")\n",
    "y_train.collect()"
   ]
  },
  {
   "cell_type": "markdown",
   "id": "0be0ed42-0637-4535-9e22-ac37e33a2ac1",
   "metadata": {},
   "source": [
    "We'll make a prediction using a knn forecaster."
   ]
  },
  {
   "cell_type": "code",
   "execution_count": 4,
   "id": "bb31fb8f-03d5-4cce-a8e9-01ac2f4eabab",
   "metadata": {},
   "outputs": [
    {
     "data": {
      "text/html": [
       "<div><style>\n",
       ".dataframe > thead > tr > th,\n",
       ".dataframe > tbody > tr > td {\n",
       "  text-align: right;\n",
       "  white-space: pre-wrap;\n",
       "}\n",
       "</style>\n",
       "<small>shape: (5, 3)</small><table border=\"1\" class=\"dataframe\"><thead><tr><th>commodity_type</th><th>time</th><th>price</th></tr><tr><td>str</td><td>datetime[μs]</td><td>f64</td></tr></thead><tbody><tr><td>&quot;Soybean meal&quot;</td><td>2020-10-01 00:00:00</td><td>384.690002</td></tr><tr><td>&quot;Soybean meal&quot;</td><td>2020-11-01 00:00:00</td><td>393.839996</td></tr><tr><td>&quot;Soybean meal&quot;</td><td>2020-12-01 00:00:00</td><td>388.085999</td></tr><tr><td>&quot;Soybean meal&quot;</td><td>2021-01-01 00:00:00</td><td>374.208008</td></tr><tr><td>&quot;Soybean meal&quot;</td><td>2021-02-01 00:00:00</td><td>370.649994</td></tr></tbody></table></div>"
      ],
      "text/plain": [
       "shape: (5, 3)\n",
       "┌────────────────┬─────────────────────┬────────────┐\n",
       "│ commodity_type ┆ time                ┆ price      │\n",
       "│ ---            ┆ ---                 ┆ ---        │\n",
       "│ str            ┆ datetime[μs]        ┆ f64        │\n",
       "╞════════════════╪═════════════════════╪════════════╡\n",
       "│ Soybean meal   ┆ 2020-10-01 00:00:00 ┆ 384.690002 │\n",
       "│ Soybean meal   ┆ 2020-11-01 00:00:00 ┆ 393.839996 │\n",
       "│ Soybean meal   ┆ 2020-12-01 00:00:00 ┆ 388.085999 │\n",
       "│ Soybean meal   ┆ 2021-01-01 00:00:00 ┆ 374.208008 │\n",
       "│ Soybean meal   ┆ 2021-02-01 00:00:00 ┆ 370.649994 │\n",
       "└────────────────┴─────────────────────┴────────────┘"
      ]
     },
     "execution_count": 4,
     "metadata": {},
     "output_type": "execute_result"
    }
   ],
   "source": [
    "# Univariate time-series fit with automated lags\n",
    "forecaster = knn(freq=\"1mo\", lags=24)\n",
    "forecaster.fit(y=y_train)\n",
    "y_pred = forecaster.predict(fh=test_size)\n",
    "y_pred.head()"
   ]
  },
  {
   "cell_type": "markdown",
   "id": "9eda8e8f",
   "metadata": {},
   "source": [
    "We'll also provide a short description of the dataset to aid the LLM in its analysis."
   ]
  },
  {
   "cell_type": "code",
   "execution_count": 5,
   "id": "65beed75",
   "metadata": {},
   "outputs": [],
   "source": [
    "dataset_context = (\n",
    "    \"This dataset comprises of forecasted commodity prices between 2020 to 2023.\"\n",
    ")"
   ]
  },
  {
   "cell_type": "markdown",
   "id": "a2d50852-aaa5-40e6-8edc-3088131c8aff",
   "metadata": {},
   "source": [
    "### Analyze Forecasts"
   ]
  },
  {
   "cell_type": "markdown",
   "id": "72489485",
   "metadata": {},
   "source": [
    "Let's take a look at aluminum and European banana prices. You can select multiple (or just one) entity / time-series to analyze through the `basket` variable."
   ]
  },
  {
   "cell_type": "code",
   "execution_count": 9,
   "id": "d643ede9",
   "metadata": {},
   "outputs": [
    {
     "data": {
      "text/markdown": [
       "- The Aluminum price shows a downward trend from October 2020 to March 2021, with a decrease of 5.9%. However, it starts to recover from April 2021 and shows a slight upward trend until March 2023, reaching a 0.3% increase compared to October 2020.\n",
       "- The Banana price in Europe exhibits a relatively stable trend from October 2020 to July 2021, with a slight decrease of 7.9%. From August 2021 to March 2023, it shows a consistent upward trend, with an overall increase of 31.5% compared to October 2020.\n",
       "- Both Aluminum and Banana prices have seasonality patterns, with prices fluctuating within a certain range throughout the years.\n",
       "- An anomaly can be observed in the Aluminum price in February 2021, where it experiences a significant drop of 6.8% compared to the previous month. This anomaly could be attributed to specific market conditions or external factors impacting the commodity's demand and supply.\n",
       "- Another anomaly occurs in the Banana price in Europe in November and December 2021, where it remains constant at 0.902 and 0.944, respectively. This sudden stability in price may indicate an unusual market behavior or an external influence affecting the commodity's availability or pricing.\n",
       "- The difference in magnitude between the Aluminum and Banana prices is substantial, with Aluminum being approximately 1825 times more expensive than Banana in Europe.\n",
       "- The Banana price in Europe shows a higher degree of volatility compared to the Aluminum price, as reflected in the wider range of price fluctuations.\n",
       "- The Banana price experiences a more significant increase from October 2020 to March 2023 compared to the Aluminum price, indicating potentially higher demand or supply constraints for Bananas in Europe during this period.\n",
       "- The overall trend for both commodities suggests a positive outlook for Banana prices in Europe, while the Aluminum market shows a more mixed and fluctuating pattern.\n",
       "- These trends and anomalies should be considered when assessing the potential profitability and risks associated with investing in the Aluminum and Banana markets between 2020 and 2023."
      ],
      "text/plain": [
       "<IPython.core.display.Markdown object>"
      ]
     },
     "metadata": {},
     "output_type": "display_data"
    }
   ],
   "source": [
    "analysis = y_pred.llm.analyze(\n",
    "    context=\"This dataset comprises of forecasted commodity prices between 2020 to 2023.\",\n",
    "    basket=[\"Aluminum\", \"Banana, Europe\"],\n",
    ")\n",
    "display(Markdown(analysis))"
   ]
  },
  {
   "cell_type": "markdown",
   "id": "615c857b-f8e8-4fea-9175-568076821a90",
   "metadata": {},
   "source": [
    "### Compare Forecasts"
   ]
  },
  {
   "cell_type": "markdown",
   "id": "404c44fc",
   "metadata": {},
   "source": [
    "Let's now compare the previous selection with a new one. We'll refer to these as baskets A and B."
   ]
  },
  {
   "cell_type": "code",
   "execution_count": 7,
   "id": "acbb24b9-57cb-47f7-aa19-b58e49f32419",
   "metadata": {},
   "outputs": [],
   "source": [
    "basket_a = [\"Aluminum\", \"Banana, Europe\"]\n",
    "basket_b = [\"Chicken\", \"Cocoa\"]"
   ]
  },
  {
   "cell_type": "markdown",
   "id": "b4df6c36-4ac7-4a43-b047-ccd77a92ea25",
   "metadata": {},
   "source": [
    "Now compare!"
   ]
  },
  {
   "cell_type": "code",
   "execution_count": 10,
   "id": "a752bb3b-605f-4581-837c-cb52ef17f198",
   "metadata": {},
   "outputs": [
    {
     "data": {
      "text/markdown": [
       "The provided time series data consists of two dataframes: \"This\" and \"Other\". Let's compare and contrast these dataframes in terms of trend, seasonality, and anomalies.\n",
       "\n",
       "Trend:\n",
       "- Aluminum in the \"This\" dataframe shows a slight downward trend over time, with a decrease of 12.4% from October 2020 to March 2023.\n",
       "- Chicken in the \"Other\" dataframe does not exhibit a clear trend, fluctuating within a relatively narrow range over the given time period.\n",
       "\n",
       "Seasonality:\n",
       "- Aluminum in the \"This\" dataframe does not show any noticeable seasonality pattern.\n",
       "- Chicken in the \"Other\" dataframe also does not exhibit a distinct seasonality pattern.\n",
       "\n",
       "Anomalies:\n",
       "- Aluminum in the \"This\" dataframe experienced a significant drop of 6.4% from January 2021 to February 2021, followed by a slight recovery.\n",
       "- Banana in the \"This\" dataframe shows a relatively stable value over time, with no significant anomalies observed.\n",
       "- Chicken in the \"Other\" dataframe does not display any notable anomalies.\n",
       "- Cocoa in the \"Other\" dataframe experienced a sudden increase of 8.7% from February 2022 to March 2022.\n",
       "\n",
       "In summary, while Aluminum in the \"This\" dataframe exhibits a downward trend and a notable anomaly, Chicken in the \"Other\" dataframe shows no clear trend or seasonality with no significant anomalies."
      ],
      "text/plain": [
       "<IPython.core.display.Markdown object>"
      ]
     },
     "metadata": {},
     "output_type": "display_data"
    }
   ],
   "source": [
    "comparison = y_pred.llm.compare(basket=basket_a, other_basket=basket_b)\n",
    "display(Markdown(comparison))"
   ]
  }
 ],
 "metadata": {
  "kernelspec": {
   "display_name": "Python 3 (ipykernel)",
   "language": "python",
   "name": "python3"
  },
  "language_info": {
   "codemirror_mode": {
    "name": "ipython",
    "version": 3
   },
   "file_extension": ".py",
   "mimetype": "text/x-python",
   "name": "python",
   "nbconvert_exporter": "python",
   "pygments_lexer": "ipython3",
   "version": "3.8.17"
  }
 },
 "nbformat": 4,
 "nbformat_minor": 5
}
