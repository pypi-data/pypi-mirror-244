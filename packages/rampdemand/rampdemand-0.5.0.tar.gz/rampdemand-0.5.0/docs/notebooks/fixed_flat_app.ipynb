{
 "cells": [
  {
   "cell_type": "markdown",
   "id": "0b4c1189",
   "metadata": {},
   "source": [
    "# Fixed-Flat Appliance"
   ]
  },
  {
   "cell_type": "code",
   "execution_count": 1,
   "id": "45adebb9",
   "metadata": {},
   "outputs": [],
   "source": [
    "# importing functions\n",
    "from ramp import User, UseCase, get_day_type\n",
    "import pandas as pd"
   ]
  },
  {
   "cell_type": "markdown",
   "id": "a928b309",
   "metadata": {},
   "source": [
    "### Creating a user"
   ]
  },
  {
   "cell_type": "code",
   "execution_count": 2,
   "id": "240f3bd8",
   "metadata": {},
   "outputs": [],
   "source": [
    "school = User(user_name=\"School\", num_users=1)"
   ]
  },
  {
   "cell_type": "markdown",
   "id": "bfe03b0d",
   "metadata": {},
   "source": [
    "### Adding an appliance with flat and fixed consumption"
   ]
  },
  {
   "cell_type": "code",
   "execution_count": 8,
   "id": "63d2c6f2",
   "metadata": {},
   "outputs": [],
   "source": [
    "indoor_bulb = school.add_appliance(\n",
    "    name=\"Indoor Light Bulb\",\n",
    "    number=10,\n",
    "    power=25,\n",
    "    num_windows=1,\n",
    "    func_time=210,\n",
    "    time_fraction_random_variability=0.2,\n",
    "    func_cycle=60,\n",
    "    fixed=\"yes\",  # This means all the 'n' appliances of this kind are always switched-on together\n",
    "    flat=\"yes\",  # This means the appliance is not subject to random variability in terms of total usage time\n",
    ")\n",
    "indoor_bulb.windows(\n",
    "    window_1=[1200, 1440],  # from 20:00 to 24:00\n",
    "    window_2=[0, 0],\n",
    "    random_var_w=0.35,\n",
    ")"
   ]
  },
  {
   "cell_type": "markdown",
   "id": "2928b830",
   "metadata": {},
   "source": [
    "### Initialize the usecase (it defines the peak time range and simulation time)"
   ]
  },
  {
   "cell_type": "code",
   "execution_count": 9,
   "id": "0ce9c747",
   "metadata": {},
   "outputs": [
    {
     "name": "stdout",
     "output_type": "stream",
     "text": [
      "You will simulate 7 day(s) from 2023-01-01 00:00:00 until 2023-01-08 00:00:00\n"
     ]
    }
   ],
   "source": [
    "school_case = UseCase(users=[school], date_start=\"2023-01-01\")\n",
    "school_case.initialize(num_days=7)"
   ]
  },
  {
   "cell_type": "markdown",
   "id": "e6f59618",
   "metadata": {},
   "source": [
    "### Generating a profile for the 1st week of the year\n",
    "\n",
    "From the usecase directly"
   ]
  },
  {
   "cell_type": "code",
   "execution_count": 10,
   "id": "18a0760d-4864-47e3-b2c1-30952bc2410a",
   "metadata": {},
   "outputs": [],
   "source": [
    "first_week = school_case.generate_daily_load_profiles(flat=True)"
   ]
  },
  {
   "cell_type": "markdown",
   "id": "779b95d7-2fc4-442e-858a-02dd228fcfad",
   "metadata": {},
   "source": [
    "or from the user"
   ]
  },
  {
   "cell_type": "code",
   "execution_count": 11,
   "id": "bb051491",
   "metadata": {},
   "outputs": [],
   "source": [
    "first_week = []\n",
    "\n",
    "for day_idx, day in enumerate(school_case.days):\n",
    "    first_week.extend(\n",
    "        school.generate_single_load_profile(\n",
    "            prof_i=day_idx,  # the day to generate the profile\n",
    "            peak_time_range=school_case.peak_time_range,\n",
    "            day_type=get_day_type(day),\n",
    "        )\n",
    "    )"
   ]
  },
  {
   "cell_type": "code",
   "execution_count": 12,
   "id": "b28eb307-d5db-47fd-9e45-e3e746f628d6",
   "metadata": {},
   "outputs": [
    {
     "data": {
      "text/plain": [
       "<Axes: >"
      ]
     },
     "execution_count": 12,
     "metadata": {},
     "output_type": "execute_result"
    },
    {
     "data": {
      "image/png": "[encoded data removed]",
      "text/plain": [
       "<Figure size 640x480 with 1 Axes>"
      ]
     },
     "metadata": {},
     "output_type": "display_data"
    }
   ],
   "source": [
    "first_week = pd.DataFrame(first_week, columns=[\"household\"])\n",
    "first_week.plot()"
   ]
  },
  {
   "cell_type": "code",
   "execution_count": null,
   "id": "f811d970-650d-4342-9dee-8d80ca20ddae",
   "metadata": {},
   "outputs": [],
   "source": []
  }
 ],
 "metadata": {
  "kernelspec": {
   "display_name": "Python 3 (ipykernel)",
   "language": "python",
   "name": "python3"
  },
  "language_info": {
   "codemirror_mode": {
    "name": "ipython",
    "version": 3
   },
   "file_extension": ".py",
   "mimetype": "text/x-python",
   "name": "python",
   "nbconvert_exporter": "python",
   "pygments_lexer": "ipython3",
   "version": "3.8.18"
  }
 },
 "nbformat": 4,
 "nbformat_minor": 5
}
