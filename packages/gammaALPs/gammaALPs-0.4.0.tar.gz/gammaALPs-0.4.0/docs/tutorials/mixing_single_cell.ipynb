{
 "cells": [
  {
   "cell_type": "markdown",
   "metadata": {},
   "source": [
    "[![Open In Colab](https://colab.research.google.com/assets/colab-badge.svg)](https://colab.research.google.com/github/me-manu/gammaALPs/blob/master/docs/tutorials/mixing_single_cell.ipynb)"
   ]
  },
  {
   "cell_type": "markdown",
   "metadata": {},
   "source": [
    "# Mixing in a homogeneous magnetic field\n",
    "\n",
    "This tutorial demonstrates the most simple use case of the `gammaALPs` code, namely the mixing between photons and ALPs in a homogeneous magnetic field. The magnetic-field parameters are probably not very realisitic, but the results nicely illustrate some of the main features of photon-ALP mixing. "
   ]
  },
  {
   "cell_type": "markdown",
   "metadata": {},
   "source": [
    "If you haven't installed `gammaALPs` already, you can do so using `pip`. Just uncomment the line below:"
   ]
  },
  {
   "cell_type": "code",
   "execution_count": 1,
   "metadata": {},
   "outputs": [],
   "source": [
    "#!pip install gammaALPs"
   ]
  },
  {
   "cell_type": "markdown",
   "metadata": {},
   "source": [
    "We first import the relevant modules:"
   ]
  },
  {
   "cell_type": "code",
   "execution_count": 2,
   "metadata": {},
   "outputs": [],
   "source": [
    "from gammaALPs.core import Source, ALP, ModuleList\n",
    "from gammaALPs.base.transfer import EminGeV, EmaxGeV\n",
    "import numpy as np\n",
    "import matplotlib.pyplot as plt\n",
    "from astropy import constants as c"
   ]
  },
  {
   "cell_type": "markdown",
   "metadata": {},
   "source": [
    "And set the ALP parameters:"
   ]
  },
  {
   "cell_type": "code",
   "execution_count": 3,
   "metadata": {},
   "outputs": [],
   "source": [
    "m, g = 10., 3.\n",
    "alp = ALP(m, g)"
   ]
  },
  {
   "cell_type": "markdown",
   "metadata": {},
   "source": [
    "Let's define an energy range for this example, in GeV."
   ]
  },
  {
   "cell_type": "code",
   "execution_count": 4,
   "metadata": {},
   "outputs": [],
   "source": [
    "EGeV = np.logspace(0.,8.,1000)"
   ]
  },
  {
   "cell_type": "markdown",
   "metadata": {},
   "source": [
    "For the initial polarization, we use a fully polarized photon beam,"
   ]
  },
  {
   "cell_type": "code",
   "execution_count": 5,
   "metadata": {},
   "outputs": [],
   "source": [
    "pin = np.diag((1., 0., 0.))"
   ]
  },
  {
   "cell_type": "markdown",
   "metadata": {},
   "source": [
    "And we define some dummy source:"
   ]
  },
  {
   "cell_type": "code",
   "execution_count": 6,
   "metadata": {},
   "outputs": [],
   "source": [
    "src = Source(z=0., l=0., b=0.)"
   ]
  },
  {
   "cell_type": "markdown",
   "metadata": {},
   "source": [
    "With the defined `alp`, `src`, initial polarization `pin` and energy range `EGeV`, we can now initialize our module list"
   ]
  },
  {
   "cell_type": "code",
   "execution_count": 7,
   "metadata": {},
   "outputs": [],
   "source": [
    "ml = ModuleList(alp, src, pin=pin, EGeV=EGeV, seed=0)"
   ]
  },
  {
   "cell_type": "markdown",
   "metadata": {},
   "source": [
    "We add a single propagation enivironment, mixing in a cell-like field in a galaxy cluster. \n",
    "By setting `eta` and `beta` to zero, we force the electron density to be constant, so \n",
    "that neither the magnetic field nor the electron density change with propagation distance. \n",
    "We choose arbitrary values for B-field strength and electron density that give nice results for illustration. "
   ]
  },
  {
   "cell_type": "code",
   "execution_count": 8,
   "metadata": {},
   "outputs": [
    {
     "name": "stderr",
     "output_type": "stream",
     "text": [
      "\u001b[0;36menvirons.py:\u001b[0;35m 257\u001b[0;0m --- \u001b[1;36mINFO\u001b[1;0m: Using inputted chi\n",
      "\u001b[0;36menvirons.py:\u001b[0;35m 270\u001b[0;0m --- \u001b[1;31mWARNING\u001b[1;0m: r_abell <= L0: assuming one domain from 0. to L0\n"
     ]
    }
   ],
   "source": [
    "ml.add_propagation(environ='ICMCell',\n",
    "                   order=0,   # order of the module\n",
    "                   B0=1.,  # B field strength\n",
    "                   L0=10.,  # cell size\n",
    "                   nsim=1,  # one single realization\n",
    "                   n0=1e-3,  # electron density\n",
    "                   r_abell=10.001,  # full path, chosen that we only have a single cell\n",
    "                   beta=0., \n",
    "                   eta=0.\n",
    "                  )"
   ]
  },
  {
   "cell_type": "markdown",
   "metadata": {},
   "source": [
    "Now we explicitly set the angle $\\psi$ between the transversal magnetic field and the $x$ direction to $\\pi / 2$ so that the $x$ polarization will fully mix. "
   ]
  },
  {
   "cell_type": "code",
   "execution_count": 9,
   "metadata": {},
   "outputs": [],
   "source": [
    "ml.modules[0].psin = np.ones_like(ml.modules[0].psin) * np.pi / 2."
   ]
  },
  {
   "cell_type": "markdown",
   "metadata": {},
   "source": [
    "We run the photon-ALP calculation to get the final oscillation probabilities into the two photon polarization states and into the ALP state"
   ]
  },
  {
   "cell_type": "code",
   "execution_count": 10,
   "metadata": {},
   "outputs": [
    {
     "name": "stderr",
     "output_type": "stream",
     "text": [
      "\u001b[0;36m   core.py:\u001b[0;35m 652\u001b[0;0m --- \u001b[1;36mINFO\u001b[1;0m: Running Module 0: <class 'gammaALPs.base.environs.MixICMCell'>\n"
     ]
    },
    {
     "name": "stdout",
     "output_type": "stream",
     "text": [
      "(1, 1000)\n"
     ]
    },
    {
     "name": "stderr",
     "output_type": "stream",
     "text": [
      "/Users/manuelmeyer/Python/gammaALPs/gammaALPs/base/transfer.py:799: UserWarning: Not all values of linear polarization are real values!\n",
      "  warnings.warn(\"Not all values of linear polarization are real values!\")\n",
      "/Users/manuelmeyer/Python/gammaALPs/gammaALPs/base/transfer.py:802: UserWarning: Not all values of circular polarization are real values!\n",
      "  warnings.warn(\"Not all values of circular polarization are real values!\")\n"
     ]
    }
   ],
   "source": [
    "px, py, pa = ml.run()\n",
    "print (pa.shape)"
   ]
  },
  {
   "cell_type": "markdown",
   "metadata": {},
   "source": [
    "And plot the results:"
   ]
  },
  {
   "cell_type": "code",
   "execution_count": 11,
   "metadata": {},
   "outputs": [
    {
     "data": {
      "text/plain": [
       "Text(0, 0.5, '$P_{a\\\\gamma}$')"
      ]
     },
     "execution_count": 11,
     "metadata": {},
     "output_type": "execute_result"
    },
    {
     "data": {
      "image/png": "[encoded data removed]",
      "text/plain": [
       "<Figure size 432x288 with 1 Axes>"
      ]
     },
     "metadata": {
      "needs_background": "light"
     },
     "output_type": "display_data"
    }
   ],
   "source": [
    "plt.semilogx(EGeV, pa[0], lw=2)\n",
    "\n",
    "# the critical energy, onset of strong mixing regime\n",
    "plt.axvline(EminGeV(m_neV=ml.alp.m, g11=ml.alp.g, BmuG=ml.modules[0].B, n_cm3=ml.modules[0].nel),\n",
    "            lw=1., ls='--', color='k')\n",
    "\n",
    "# maximum energy, end of strong mixing regime\n",
    "plt.axvline(EmaxGeV(g11=ml.alp.g, BmuG=ml.modules[0].B),\n",
    "            lw=1., ls='-.', color='k')\n",
    "\n",
    "plt.xlabel(\"Energy (GeV)\")\n",
    "plt.ylabel(\"$P_{a\\gamma}$\")"
   ]
  },
  {
   "cell_type": "markdown",
   "metadata": {},
   "source": [
    "### Sanity check\n",
    "\n",
    "We would expect to get the same result as above if we split up the calculations over multiple cells or domains that have the same magnetic field strength and orientation. Let's see if that's the case. For this purpose, we define a second module list where we set `L0` to some smaller value that fits $n$ times into our total legth. "
   ]
  },
  {
   "cell_type": "code",
   "execution_count": 12,
   "metadata": {},
   "outputs": [
    {
     "name": "stderr",
     "output_type": "stream",
     "text": [
      "\u001b[0;36menvirons.py:\u001b[0;35m 257\u001b[0;0m --- \u001b[1;36m\u001b[1;36mINFO\u001b[1;0m\u001b[1;0m: Using inputted chi\n",
      "\u001b[0;36menvirons.py:\u001b[0;35m 270\u001b[0;0m --- \u001b[1;31m\u001b[1;31mWARNING\u001b[1;0m\u001b[1;0m: r_abell <= L0: assuming one domain from 0. to L0\n"
     ]
    }
   ],
   "source": [
    "ml_many_cells = ModuleList(alp, src, pin=pin, EGeV=EGeV, seed=0)\n",
    "\n",
    "ml_many_cells.add_propagation(environ='ICMCell',\n",
    "                   order=0,   # order of the module\n",
    "                   B0=1.,  # B field strength\n",
    "                   L0=0.001,  # cell size\n",
    "                   nsim=1,  # one single realization\n",
    "                   n0=1e-3,  # electron density\n",
    "                   r_abell=10.001,  # full path, chosen that we only have a single cell\n",
    "                   beta=0., \n",
    "                   eta=0.\n",
    "                  )\n",
    "\n",
    "ml_many_cells.modules[0].psin = np.ones_like(ml_many_cells.modules[0].psin) * np.pi / 2."
   ]
  },
  {
   "cell_type": "markdown",
   "metadata": {},
   "source": [
    "Let's check how many cells we have:"
   ]
  },
  {
   "cell_type": "code",
   "execution_count": 13,
   "metadata": {},
   "outputs": [
    {
     "name": "stdout",
     "output_type": "stream",
     "text": [
      "(1,)\n",
      "(1, 10000)\n"
     ]
    }
   ],
   "source": [
    "print(ml.modules[0].psin.shape)  # first case\n",
    "print(ml_many_cells.modules[0].psin.shape)  # many cell case"
   ]
  },
  {
   "cell_type": "markdown",
   "metadata": {},
   "source": [
    "Now we calculate the oscillation probability and compare:"
   ]
  },
  {
   "cell_type": "code",
   "execution_count": 14,
   "metadata": {},
   "outputs": [
    {
     "name": "stderr",
     "output_type": "stream",
     "text": [
      "\u001b[0;36m   core.py:\u001b[0;35m 652\u001b[0;0m --- \u001b[1;36m\u001b[1;36mINFO\u001b[1;0m\u001b[1;0m: Running Module 0: <class 'gammaALPs.base.environs.MixICMCell'>\n",
      "/Users/manuelmeyer/Python/gammaALPs/gammaALPs/base/transfer.py:799: UserWarning: Not all values of linear polarization are real values!\n",
      "  warnings.warn(\"Not all values of linear polarization are real values!\")\n",
      "/Users/manuelmeyer/Python/gammaALPs/gammaALPs/base/transfer.py:802: UserWarning: Not all values of circular polarization are real values!\n",
      "  warnings.warn(\"Not all values of circular polarization are real values!\")\n"
     ]
    }
   ],
   "source": [
    "px_many_cells, py_many_cells, pa_many_cells = ml_many_cells.run()"
   ]
  },
  {
   "cell_type": "code",
   "execution_count": 15,
   "metadata": {},
   "outputs": [
    {
     "name": "stdout",
     "output_type": "stream",
     "text": [
      "Absolute maximum difference: 6.081801728896608e-13\n"
     ]
    },
    {
     "data": {
      "image/png": "[encoded data removed]",
      "text/plain": [
       "<Figure size 432x288 with 1 Axes>"
      ]
     },
     "metadata": {
      "needs_background": "light"
     },
     "output_type": "display_data"
    }
   ],
   "source": [
    "plt.semilogx(EGeV, pa[0], lw=2)\n",
    "plt.semilogx(EGeV, pa_many_cells[0], lw=2, ls='--')\n",
    "\n",
    "plt.xlabel(\"Energy (GeV)\")\n",
    "plt.ylabel(\"$P_{a\\gamma}$\")\n",
    "\n",
    "print(\"Absolute maximum difference:\", np.max(np.abs(pa[0] - pa_many_cells[0])))"
   ]
  },
  {
   "cell_type": "markdown",
   "metadata": {},
   "source": [
    "As expected the difference is very close to zero and can be explained by numerical accuracy. "
   ]
  },
  {
   "cell_type": "markdown",
   "metadata": {},
   "source": [
    "### Mixing in the ALPS II experiment\n",
    "\n",
    "We can even use `gammaALPs` to calculate the mixing in case of the ALPS II experiment! ALPS II is a light-shining-through-a-wall experiment where ALPs are produced by immersing a strong laser in a magnetic field. Some of the photons should convert to ALPs, pass a light-tight barrier, and reconvert in a magnetic field behind this wall back to photons. \n",
    "\n",
    "The foreseen laser in the ALPS II experiment has a wavelength of 1064 nm, and the production cavity has a length of roughly 100m. To be precise, twelve refurbished HERA dipole magnets with a length of 8.8m will be used in the experiment which have a field strength of 5.3 T. The laser beam will be polarized parallel to the magnetic field to maximize the mixing. \n",
    "\n",
    "We provide these specs below:"
   ]
  },
  {
   "cell_type": "code",
   "execution_count": 16,
   "metadata": {},
   "outputs": [],
   "source": [
    "from astropy import units as u"
   ]
  },
  {
   "cell_type": "code",
   "execution_count": 17,
   "metadata": {},
   "outputs": [
    {
     "name": "stdout",
     "output_type": "stream",
     "text": [
      "Laser energy in eV: 1.1652650228684234 eV\n",
      "53000000000.0 3.42226292965325e-18\n"
     ]
    }
   ],
   "source": [
    "# center energy around 1064 nm\n",
    "wavelength = 1064 * u.nm\n",
    "energy = ((c.c / wavelength.to('m')) * c.h).to('eV') \n",
    "print(\"Laser energy in eV:\", energy)\n",
    "\n",
    "# define an array centered around 1064 nm\n",
    "EGeV = np.logspace(np.log10(energy.value) - 4,np.log10(energy.value) + 14.5, 2000) * u.eV.to(\"GeV\")\n",
    "\n",
    "# B field and length of production cavity\n",
    "B = 5.3 * u.T.to('1e-6G')\n",
    "L = 8.8 * 12 * u.m.to('kpc')\n",
    "print(B, L)\n",
    "\n",
    "# fully polarized beam\n",
    "pin = np.diag((1., 0., 0.))"
   ]
  },
  {
   "cell_type": "markdown",
   "metadata": {},
   "source": [
    "We set up the module list as before and run the calculation:"
   ]
  },
  {
   "cell_type": "code",
   "execution_count": 18,
   "metadata": {},
   "outputs": [
    {
     "name": "stderr",
     "output_type": "stream",
     "text": [
      "\u001b[0;36menvirons.py:\u001b[0;35m 257\u001b[0;0m --- \u001b[1;36m\u001b[1;36m\u001b[1;36mINFO\u001b[1;0m\u001b[1;0m\u001b[1;0m: Using inputted chi\n",
      "\u001b[0;36menvirons.py:\u001b[0;35m 270\u001b[0;0m --- \u001b[1;31m\u001b[1;31m\u001b[1;31mWARNING\u001b[1;0m\u001b[1;0m\u001b[1;0m: r_abell <= L0: assuming one domain from 0. to L0\n",
      "\u001b[0;36m   core.py:\u001b[0;35m 652\u001b[0;0m --- \u001b[1;36m\u001b[1;36m\u001b[1;36mINFO\u001b[1;0m\u001b[1;0m\u001b[1;0m: Running Module 0: <class 'gammaALPs.base.environs.MixICMCell'>\n",
      "/Users/manuelmeyer/Python/gammaALPs/gammaALPs/base/transfer.py:802: UserWarning: Not all values of circular polarization are real values!\n",
      "  warnings.warn(\"Not all values of circular polarization are real values!\")\n"
     ]
    }
   ],
   "source": [
    "ml_alps = ModuleList(alp, src, pin=pin, EGeV=EGeV, seed=0)\n",
    "\n",
    "ml_alps.add_propagation(environ='ICMCell',\n",
    "                        order=0,   # order of the module\n",
    "                        B0=B,  # B field strength\n",
    "                        L0=L,  # cell size\n",
    "                        nsim=1,  # one single realization\n",
    "                        n0=1e-100,  # electron density\n",
    "                        r_abell=L * 1.1,  # full path, chosen that we only have a single cell\n",
    "                        beta=0., \n",
    "                        eta=0.\n",
    "                        )\n",
    "\n",
    "ml_alps.modules[0].psin = np.ones_like(ml_alps.modules[0].psin) * np.pi / 2.\n",
    "\n",
    "# set the ALP parameters\n",
    "ml_alps.alp.m = 1e4\n",
    "ml_alps.alp.g = 2.\n",
    "\n",
    "# run the calculation\n",
    "px_alps, py_alps, pa_alps = ml_alps.run()"
   ]
  },
  {
   "cell_type": "markdown",
   "metadata": {},
   "source": [
    "We want to compare our results against the simple formula for a two-state mixing system given by \n",
    "\n",
    "$$P_{a\\to\\gamma} = \\Delta_{a\\gamma}^2  \\frac{\\sin\\left(\\Delta_\\mathrm{osc} L /2 \\right)^2}{\\left(\\Delta_\\mathrm{osc} L /2 \\right)^2} $$\n",
    "\n",
    "For this we first calculate the values of the momentum differences $\\Delta$ and then calculate $P_{a\\to\\gamma}$."
   ]
  },
  {
   "cell_type": "code",
   "execution_count": 19,
   "metadata": {},
   "outputs": [],
   "source": [
    "from gammaALPs.base.transfer import Delta_a, Delta_ag, Delta_pl, Delta_QED"
   ]
  },
  {
   "cell_type": "code",
   "execution_count": 20,
   "metadata": {},
   "outputs": [],
   "source": [
    "# calculate the Deltas\n",
    "DQED = Delta_QED(ml_alps.modules[0].B[0], EGeV)\n",
    "Dpar = Delta_pl(ml_alps.modules[0].nel[0], EGeV) + 3.5*DQED\n",
    "Dpl = Delta_pl(ml_alps.modules[0].nel[0], EGeV)\n",
    "Dag = Delta_ag(ml_alps.alp.g, ml_alps.modules[0].B[0]) * np.ones(EGeV.size)\n",
    "Da = Delta_a(ml_alps.alp.m, EGeV)\n",
    "\n",
    "# calculate the Dosc\n",
    "Dosc = np.sqrt((Dpar - Da)**2.  + 4.*Dag**2.)\n",
    "\n",
    "# calculate the analytical expression\n",
    "Pag_analytical = Dag ** 2. * (np.sin(Dosc * L / 2.))**2. / (Dosc / 2.)**2."
   ]
  },
  {
   "cell_type": "markdown",
   "metadata": {},
   "source": [
    "And the comparison is plotted below. We find very good agreement between the code and the simple analytical expression."
   ]
  },
  {
   "cell_type": "code",
   "execution_count": 21,
   "metadata": {},
   "outputs": [
    {
     "data": {
      "text/plain": [
       "Text(0, 0.5, '$P_{a\\\\gamma}$')"
      ]
     },
     "execution_count": 21,
     "metadata": {},
     "output_type": "execute_result"
    },
    {
     "data": {
      "image/png": "[encoded data removed]",
      "text/plain": [
       "<Figure size 432x288 with 1 Axes>"
      ]
     },
     "metadata": {
      "needs_background": "light"
     },
     "output_type": "display_data"
    }
   ],
   "source": [
    "plt.semilogx(EGeV * 1e9, pa_alps[0])\n",
    "plt.semilogx(EGeV * 1e9, Pag_analytical, ls='--')\n",
    "plt.axvline(energy.value, ls='--', color='k')\n",
    "\n",
    "plt.xlabel(\"Energy (eV)\")\n",
    "plt.ylabel(\"$P_{a\\gamma}$\")"
   ]
  }
 ],
 "metadata": {
  "kernelspec": {
   "display_name": "Python 3 (ipykernel)",
   "language": "python",
   "name": "python3"
  },
  "language_info": {
   "codemirror_mode": {
    "name": "ipython",
    "version": 3
   },
   "file_extension": ".py",
   "mimetype": "text/x-python",
   "name": "python",
   "nbconvert_exporter": "python",
   "pygments_lexer": "ipython3",
   "version": "3.9.6"
  }
 },
 "nbformat": 4,
 "nbformat_minor": 4
}
