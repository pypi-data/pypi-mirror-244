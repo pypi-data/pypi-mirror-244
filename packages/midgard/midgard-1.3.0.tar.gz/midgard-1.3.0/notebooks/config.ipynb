{
 "cells": [
  {
   "cell_type": "markdown",
   "metadata": {},
   "source": [
    "# config\n",
    "\n",
    "The Midgard **config** module can be used for handling of configuration read from a configuration file. The Midgard **config** module uses the standard library module **configparser** for reading configuration files. The configuration file structure is similar to the standard Microsoft Windows INI files. A configuration file consists of one or several sections, which are indicted with square brackets. Each configuration section consists of one or more entries and each configuration entry consists of a key and a value. A configuration file example:\n",
    "\n",
    "    [section_1]\n",
    "    option_1 = value  # 1st entry\n",
    "    option_2 = value  # 2nd entry\n",
    "    \n",
    "    [section_2]\n",
    "    option_3 = value\n",
    "    option_4 = value\n",
    "    \n",
    "Midgard provides modules for file and analysis configuration. The file configuration specifies the location of input and output files used in an analysis. The analysis configuration defines the properties of the analysis, that means for example what kind of models are used or results are written.\n",
    "\n",
    "The file configuration files can include several sections, which are\n",
    "called in this case file keys. Each file key section describes the location of the input or output file and optionally it can include a short description, the format specification source, the URL from where a input file can be downloaded. In the following the file configuration keys are shown, which a file key section can include:\n",
    "\n",
    "    [<file key>]\n",
    "    filename = <file name>\n",
    "    aliases = <file name>, <file name>, ...\n",
    "    directory = <directory name>\n",
    "    publish = <path>\n",
    "    description = <description>\n",
    "    specification = <url>\n",
    "    origin = <url>\n",
    "    url = <url>"
   ]
  },
  {
   "cell_type": "markdown",
   "metadata": {},
   "source": [
    "## Use config module\n",
    "\n",
    "The basis of the config module is the **Configuration** class. The table below describes shortly the exiting **Configuration** methods:\n",
    "\n",
    "| Method           | Description                                                           |\n",
    "| :--------------- | :-------------------------------------------------------------------- |\n",
    "| as_dict          | The configuration represented as a dictionary | \n",
    "| as_str           | The configuration represented as a string |\n",
    "| clear            | Clear the configuration |\n",
    "| clear_vars       | Clear the configuration variables |\n",
    "| exists           | Check if a configuration entry exists |\n",
    "| get              | Get an entry from a configuration with possibility for override and default value |\n",
    "| profiles         | List of profiles currently being used in Configuration |\n",
    "| read_from_file   | Read a configuration from one or more files |\n",
    "| section_names    | Names of sections in Configuration |\n",
    "| sections         | Sections in Configuration |\n",
    "| sources          | Sources of entries in Configuration |\n",
    "| update           | Update a configuration section with a configuration entry |\n",
    "| update_from_config_section | |\n",
    "| update_from_dict | |\n",
    "| update_from_file | Update the configuration from a configuration file |\n",
    "| update_from_options | |\n",
    "| update_on_file   | Context manager for updating a configuration on file |\n",
    "| update_vars      | Update the configuration variables |\n",
    "| vars             | The configuration variables |\n",
    "| write_to_file    | Write the configuration to a file |\n",
    "\n",
    "Following analysis configuration file are read as an example:\n",
    "\n",
    "    [gnss]\n",
    "    apriori_orbit            = broadcast\n",
    "    navigation_message_type  = G:LNAV E:FNAV\n",
    "    removers                 = ignore_satellite, ignore_unhealthy_satellite, gnss_clean_orbit\n",
    "    removers:add_sections\n",
    "    stations                 = onsa, mets, nya1, tro1\n",
    "    max_iteration            = 2\n",
    "\n",
    "    [ignore_satellite]\n",
    "    satellites                = E14 E18 E20 C05\n",
    "\n",
    "It will be explained how to use a **config** module for reading the given analysis configuration file. The first step is to generate an instance of the **Configuration** class. An example:"
   ]
  },
  {
   "cell_type": "code",
   "execution_count": null,
   "metadata": {},
   "outputs": [],
   "source": [
    "# Import Configuration class\n",
    "from midgard.config.config import Configuration\n",
    "\n",
    "# Get \"empty\" Configuration instance\n",
    "cfg = Configuration(name='config')\n",
    "\n",
    "# Get Configuration instance by reading\n",
    "#     one configuration file:\n",
    "cfg = Configuration.read_from_file('config', './examples/config/config.conf')\n",
    "#     or several configuration files:\n",
    "cfg = Configuration.read_from_file('config', \n",
    "          ['./examples/config/config.conf', './examples/config/config_local.conf']\n",
    "      )"
   ]
  },
  {
   "cell_type": "markdown",
   "metadata": {},
   "source": [
    "### Update configuration\n",
    "The configuration instance can be updated like:"
   ]
  },
  {
   "cell_type": "code",
   "execution_count": null,
   "metadata": {},
   "outputs": [],
   "source": [
    "# Update configuration by defining section and option name (key)\n",
    "cfg.update(section=\"gnss\", key=\"max_iteration\", value=5)\n",
    "\n",
    "# Upate configuration by reading configuration file\n",
    "cfg.update_from_file(file_path='./examples/config/config.conf')"
   ]
  },
  {
   "cell_type": "markdown",
   "metadata": {},
   "source": [
    "### Access configuration\n",
    "The configuration entries can be accessed as follows:\n",
    "\n",
    "    <instance_name>.<section_name>.<entry_name>\n",
    "\n",
    "That means the instance name, the section name and at the end the entry name has to be defined, e.g. like `cfg.gnss.max_iteration`. If the configuration is accessed like that, than an instance of the **ConfigurationEntry** class is returned. The ConfigurationEntry instance has several access methods that convert the entry to a given\n",
    "data type. Following data types are defined:\n",
    "    \n",
    "    bool:      boolean type\n",
    "    date:      Date object\n",
    "    datetime:  Datetime object\n",
    "    dict:      dictionary collection\n",
    "    float:     float type\n",
    "    int:       integer type\n",
    "    list:      list collection\n",
    "    path:      PosixPath object\n",
    "    str:       string type\n",
    "    tuple:     tuple sequence \n",
    "\n",
    "The data type has to be added to the given access statement above:\n",
    "\n",
    "    <instance_name>.<section_name>.<entry_name>.<data_type>\n",
    "\n",
    "Examples:"
   ]
  },
  {
   "cell_type": "code",
   "execution_count": null,
   "metadata": {},
   "outputs": [],
   "source": [
    "# Integer data type\n",
    "cfg.gnss.max_iteration.int"
   ]
  },
  {
   "cell_type": "code",
   "execution_count": null,
   "metadata": {},
   "outputs": [],
   "source": [
    "# String data type\n",
    "cfg.gnss.max_iteration.str"
   ]
  },
  {
   "cell_type": "code",
   "execution_count": null,
   "metadata": {},
   "outputs": [],
   "source": [
    "# Dictionary\n",
    "cfg.gnss.max_iteration.dict"
   ]
  },
  {
   "cell_type": "markdown",
   "metadata": {},
   "source": [
    "In addition **get()** routine can be used for getting configuration file entries. The **get()** routine can also be applied for defining default values for an entry. Example:"
   ]
  },
  {
   "cell_type": "code",
   "execution_count": null,
   "metadata": {},
   "outputs": [],
   "source": [
    "# Access entry via get\n",
    "cfg.get(section=\"gnss\", key=\"max_iteration\")\n",
    "cfg.gnss.get(key=\"max_iteration\")"
   ]
  },
  {
   "cell_type": "code",
   "execution_count": null,
   "metadata": {},
   "outputs": [],
   "source": [
    "# Access entry via get by defining data type\n",
    "cfg.gnss.get(key=\"max_iteration\").int"
   ]
  },
  {
   "cell_type": "code",
   "execution_count": null,
   "metadata": {},
   "outputs": [],
   "source": [
    "# Define default entry, if belonging option has no defined value in \n",
    "# configuration file\n",
    "cfg.gnss.get(key=\"max_iteration\", default=2).int"
   ]
  },
  {
   "cell_type": "markdown",
   "metadata": {},
   "source": [
    "It can be checked with routine **exists()**, if an option is defined in configuration file or not. Example:"
   ]
  },
  {
   "cell_type": "code",
   "execution_count": null,
   "metadata": {},
   "outputs": [],
   "source": [
    "# Check if option 'max_iteration' exists in section 'gnss'\n",
    "cfg.gnss.exists(key=\"max_iteration\")"
   ]
  },
  {
   "cell_type": "markdown",
   "metadata": {},
   "source": [
    "### Additional config functionality\n",
    "TODO: Description of profiles, add_section, master_section and fallback has to be described.\n",
    "\n",
    "#### Master section\n",
    "**master_section** could also be named **default_section**. **master_section** is used, if no section name is defined. That means instead of accessing configuration like:\n",
    "    \n",
    "        <instance_name>.<section_name>.<entry_name>.<data_type>\n",
    "        \n",
    "it could be done like that:    \n",
    "\n",
    "        <instance_name>.<entry_name>.<data_type>\n",
    "        \n",
    "For example **Where** uses the master section to access common configuration, which is valid for all pipelines like VLBI, SLR or GNSS. In this case the pipeline name has not to be specified explicity by accessing the configuration. For example configuration entry `config.tech.ephemerides` can be accessed independently of used pipeline in `apriori.ephemerides`, because `ephemerides` entry is defined in master section `all` for all pipelines.\n",
    "\n",
    "An example:"
   ]
  },
  {
   "cell_type": "code",
   "execution_count": null,
   "metadata": {},
   "outputs": [],
   "source": [
    "# Define master section\n",
    "cfg.master_section = \"gnss\"\n",
    "\n",
    "# Access 'max_iteration' entry in section 'gnss' (instead of using cfg.gnss.max_iteration.int)\n",
    "cfg.max_iteration.int"
   ]
  },
  {
   "cell_type": "markdown",
   "metadata": {},
   "source": [
    "## Use config files module\n",
    "\n",
    "The basis of the config files module is the **FileConfiguration** class. The table below describes shortly the exiting **FileConfiguration** methods:\n",
    "\n",
    "| Method           | Description                                                           |\n",
    "| :--------------- | :-------------------------------------------------------------------- |\n",
    "| download_file    | Download a file from the web and save it to disk |\n",
    "| empty_file       | Check if a file is empty |\n",
    "| encoding         | Look up the encoding for a given file key |\n",
    "| glob_paths       | Find all filepaths matching a filename pattern |\n",
    "| glob_variable    | Find all possible values of variable |\n",
    "| is_path_zipped   | Indicate whether a path is to a gzipped file or not |\n",
    "| open             | Open a file based on information in a configuration (file key needed) |\n",
    "| open_path        | Open a file with given path |\n",
    "| path             | Construct a configured filepath (file key needed) for a given file with variables  |\n",
    "| url              | Construct a URL for a given file with variables |\n",
    "\n",
    "Hereby should be noted, that the **FileConfiguration** class inherits from the **Configuration** class, which means that the methods mentioned in Section *Use config module* above can also be used.\n",
    "\n",
    "Following file configuration file are read as an example:\n",
    "\n",
    "    [rinex_obs]\n",
    "    filename        = {station}{doy}0.{yy}o.Z\n",
    "    aliases         = {STATION}00NOR_R_{yyyy}{doy}0000_01D_30s_MO.rnx{gz}\n",
    "    directory       = {path_data}/gnss/obs/{yyyy}/{doy}\n",
    "    description     = GNSS observations in RINEX format version 2.11\n",
    "    specification   = ftp://ftp.igs.org/pub/data/format/data/format/rinex211.txt\n",
    "    origin          = ftp://cddis.gsfc.nasa.gov/pub/gps/data/daily/{yyyy}/{doy}/{yy}o/\n",
    "    url             = ftp://cddis.gsfc.nasa.gov/pub/gps/data/daily/{yyyy}/{doy}/{yy}o/\n",
    "\n",
    "It will be explained how to use a **config.files** module for reading this file configuration file. The first step is to generate an instance of the **FileConfiguration** class. An example:"
   ]
  },
  {
   "cell_type": "code",
   "execution_count": null,
   "metadata": {},
   "outputs": [],
   "source": [
    "# Import FileConfiguration class\n",
    "from midgard.config.files import FileConfiguration\n",
    "\n",
    "# Get FileConfiguration instance by reading file configuration file\n",
    "files = FileConfiguration.read_from_file('files', './examples/config/files.conf')\n",
    "\n",
    "# Define file variables for replacement of {station}, {yyyy}, {yy} and {doy} placeholders\n",
    "file_vars=dict(station='tro1', yyyy='2019', yy='19', doy='001')\n",
    "\n",
    "# Get file path for file key 'rinex_obs'\n",
    "files.path(\"rinex_obs\", file_vars=file_vars)\n",
    "\n",
    "# Get RINEX observation file description\n",
    "files.rinex_obs.description.str"
   ]
  }
 ],
 "metadata": {
  "kernelspec": {
   "display_name": "Python 3 (ipykernel)",
   "language": "python",
   "name": "python3"
  },
  "language_info": {
   "codemirror_mode": {
    "name": "ipython",
    "version": 3
   },
   "file_extension": ".py",
   "mimetype": "text/x-python",
   "name": "python",
   "nbconvert_exporter": "python",
   "pygments_lexer": "ipython3",
   "version": "3.9.12"
  }
 },
 "nbformat": 4,
 "nbformat_minor": 2
}
