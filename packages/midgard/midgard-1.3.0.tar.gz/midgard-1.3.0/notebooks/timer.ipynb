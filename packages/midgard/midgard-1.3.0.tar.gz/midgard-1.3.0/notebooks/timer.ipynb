{
 "cells": [
  {
   "cell_type": "markdown",
   "metadata": {},
   "source": [
    "# Timer\n",
    "\n",
    "The `dev.timer` can be used to log the running time of functions and general code blocks. \n",
    "\n",
    "Typically, you will import the `Timer`-class from within the module:"
   ]
  },
  {
   "cell_type": "code",
   "execution_count": null,
   "metadata": {},
   "outputs": [],
   "source": [
    "# Import Timer class\n",
    "from midgard.dev.timer import Timer"
   ]
  },
  {
   "cell_type": "markdown",
   "metadata": {},
   "source": [
    "The Timer can then be used in three different ways:"
   ]
  },
  {
   "cell_type": "code",
   "execution_count": null,
   "metadata": {},
   "outputs": [],
   "source": [
    "# 1. As a decorator to time one function:\n",
    "\n",
    "@Timer('The time to execute some_function was')\n",
    "def print_hello():\n",
    "    print(\"Hello!\")"
   ]
  },
  {
   "cell_type": "code",
   "execution_count": null,
   "metadata": {},
   "outputs": [],
   "source": [
    "# 2. As a context manager together with `with` to time a code block:\n",
    "\n",
    "with Timer('Finish doing stuff in') as t:\n",
    "    print_hello()"
   ]
  },
  {
   "cell_type": "code",
   "execution_count": null,
   "metadata": {},
   "outputs": [],
   "source": [
    "# 3. With explicit `start`- and `end`-statements:\n",
    "\n",
    "t = Timer()\n",
    "t.start()\n",
    "print_hello()\n",
    "t.end()"
   ]
  },
  {
   "cell_type": "markdown",
   "metadata": {},
   "source": [
    "`Timer()` can be called with several optional parameters, including the text to report when the timer ends and which logger is used to report the timing. See `Timer.__init__` for more details."
   ]
  }
 ],
 "metadata": {
  "kernelspec": {
   "display_name": "Python 3 (ipykernel)",
   "language": "python",
   "name": "python3"
  },
  "language_info": {
   "codemirror_mode": {
    "name": "ipython",
    "version": 3
   },
   "file_extension": ".py",
   "mimetype": "text/x-python",
   "name": "python",
   "nbconvert_exporter": "python",
   "pygments_lexer": "ipython3",
   "version": "3.9.12"
  }
 },
 "nbformat": 4,
 "nbformat_minor": 2
}
