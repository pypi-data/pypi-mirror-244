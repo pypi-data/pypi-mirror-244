{
 "cells": [
  {
   "cell_type": "markdown",
   "metadata": {},
   "source": [
    "# Time\n",
    "\n",
    "The Midgard **Time** class can be used for time scale and format conversion. Following time scales and formats are defined:\n",
    "\n",
    "    SCALES\n",
    "    ------\n",
    "    gps - GPS time scale\n",
    "    tai - International Atomic Time (temps atomique international)\n",
    "    tcg - Geocentric Coordinate Time\n",
    "    tt  - Terrestrial Time\n",
    "    utc - Coordinated Universal Time\n",
    "\n",
    "    FORMATS\n",
    "    -------\n",
    "\n",
    "    date         - Year, month and day in format YYYY-MM-DD. \n",
    "                   For example, 2019-01-01 is January 1, 2019.\n",
    "    datetime     - Standard Python date and time format\n",
    "    day          - Day (1-31)\n",
    "    doy          - Day-of-year (DOY) goes from 001 to 365 (366\n",
    "                   in leap years). \n",
    "    decimalyear  - Time as a decimal year, with integer values       \n",
    "                   corresponding to midnight of the first day \n",
    "                   of each year.\n",
    "    gps_seconds  - Seconds from 1980-01-06 00:00:00 UTC. For \n",
    "                   example, 1230336000.0 is midnight on \n",
    "                   January 1, 2019. This format can only be \n",
    "                   used together with 'gps' time scale.\n",
    "    gps_ws       - GPS week, day and second (second of GPS \n",
    "                   week). This format can only be used \n",
    "                   together with 'gps' time scale.\n",
    "    hour         - Hour (0-23)\n",
    "    iso          - ISO 8601 compliant date-time format \n",
    "                   “YYYY-MM-DD HH:MM:SS.sss…”. For example, \n",
    "                   2019-01-01 00:00:00.000 is midnight on \n",
    "                   January 1, 2019.\n",
    "    isot         - ISO 8601 compliant date-time format \n",
    "                   “YYYY-MM-DDTHH:MM:SS.sss…”. This is the \n",
    "                   same as TimeISO except for a “T” instead \n",
    "                   of space between the date and time. For\n",
    "                   example, 2019-01-01T00:00:00.000 is \n",
    "                   midnight on January 1, 2019.\n",
    "    jd           - Julian Date (JD)\n",
    "    jd_frac      - Fractional part of JD\n",
    "    jd_int       - Integer part of JD\n",
    "    minute       - Minute (0-59)\n",
    "    mjd          - Modified Julian Date (MJD)\n",
    "    mjd_frac     - Fractional part of MJD (same as jd2)\n",
    "    mjd_int      - Integer part of MJD (same as jd1)\n",
    "    month        - Month (1-12)\n",
    "    sec_of_day   - Second of day (0-86399) \n",
    "    second       - Second (0-59)\n",
    "    yday         - Year, day-of-year and time as \n",
    "                   YYYY:DOY:HH:MM:SS.sss…”. The day-of-year \n",
    "                   (DOY) goes from 001 to 365 (366 in leap \n",
    "                   years). For example, 2019:001:00:00:00.000  \n",
    "                   is midnight on January 1, 2019.\n",
    "    year         - Year.\n",
    "    yydddsssss   - Year, day-of-year and second-of-day as\n",
    "                   YY:DOY:SSSSS. The day-of-year (DOY) goes\n",
    "                   from 001 to 365 (366 in leap years). For \n",
    "                   example, 19:001:00000 is midnight on \n",
    "                   January 1, 2019. \n",
    "    yyyydddsssss - Year, day-of-year and second-of-day as\n",
    "                   YYYY:DOY:SSSSS. The day-of-year (DOY) goes\n",
    "                   from 001 to 365 (366 in leap years). For \n",
    "                   example, 2019:001:00000 is midnight on \n",
    "                   January 1, 2019."
   ]
  },
  {
   "cell_type": "markdown",
   "metadata": {},
   "source": [
    "## Use Time class\n",
    "\n",
    "An example is shown, how to use the **Time** class. The first step is to generate an instance of the **Time** class:"
   ]
  },
  {
   "cell_type": "code",
   "execution_count": null,
   "metadata": {},
   "outputs": [],
   "source": [
    "# Standard libary import\n",
    "from datetime import datetime\n",
    "\n",
    "# Import Time class\n",
    "from midgard.data.time import Time\n",
    "\n",
    "# Show available scales, formats and conversions for Time objects\n",
    "print(f\"Available scales: {Time.SCALES}\")\n",
    "print(f\"Available formats: {Time.FORMATS}\")\n",
    "print(f\"Available conversions: {Time.CONVERSIONS}\")\n",
    "\n",
    "# Get Time instance by using GPS time scale and GPS week and second format, whereby:\n",
    "#   val:  GPS week\n",
    "#   val2: GPS seconds\n",
    "time = Time(val=2034.0, val2=172817.9, scale='gps', fmt='gps_ws')\n",
    "print(f\"Time object: {time}\")\n",
    "print(f\"GPS week: {time.gps_ws.week}, GPS second: {time.gps_ws.seconds}, GPS day: {time.gps_ws.day}\")\n",
    "\n",
    "# Get Time instance by using UTC time scale and datetime format\n",
    "time = Time(val=datetime(2019,1,1), scale='utc', fmt='datetime')\n",
    "print(f\"Time object: {time}\")"
   ]
  },
  {
   "cell_type": "markdown",
   "metadata": {},
   "source": [
    "### Time conversion \n",
    "The initialized time object can be converted to different time scales and formats (see above):"
   ]
  },
  {
   "cell_type": "code",
   "execution_count": null,
   "metadata": {},
   "outputs": [],
   "source": [
    "# Change time scale\n",
    "print(\n",
    "    f\"UTC: {time.datetime}\\n\"      # Time object is initialized with UTC time scale\n",
    "    f\"     {time.utc.datetime}\\n\"\n",
    "    f\"GPS: {time.gps.datetime}\\n\"\n",
    "    f\"TAI: {time.tai.datetime}\\n\"\n",
    "    f\"TCG: {time.tcg.datetime}\\n\"\n",
    "    f\"TT:  {time.tt.datetime}\\n\"\n",
    ")"
   ]
  },
  {
   "cell_type": "code",
   "execution_count": null,
   "metadata": {},
   "outputs": [],
   "source": [
    "# Change time format\n",
    "print(\n",
    "    f\"datetime:    {time.datetime}\\n\"\n",
    "    f\"decimalyear: {time.decimalyear}\\n\"\n",
    "    f\"gps_ws:      {time.gps.gps_ws}\\n\"  # Note: Time scale has to be changed from UTC to GPS.\n",
    "    f\"isot:        {time.isot}\\n\"\n",
    "    f\"jd:          {time.jd}\\n\"\n",
    "    f\"mjd:         {time.mjd}\\n\"\n",
    ")"
   ]
  }
 ],
 "metadata": {
  "kernelspec": {
   "display_name": "Python 3 (ipykernel)",
   "language": "python",
   "name": "python3"
  },
  "language_info": {
   "codemirror_mode": {
    "name": "ipython",
    "version": 3
   },
   "file_extension": ".py",
   "mimetype": "text/x-python",
   "name": "python",
   "nbconvert_exporter": "python",
   "pygments_lexer": "ipython3",
   "version": "3.9.12"
  }
 },
 "nbformat": 4,
 "nbformat_minor": 2
}
