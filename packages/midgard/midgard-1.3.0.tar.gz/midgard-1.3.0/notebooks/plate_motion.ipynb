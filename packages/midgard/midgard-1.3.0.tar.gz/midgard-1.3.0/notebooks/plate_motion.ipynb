{
 "cells": [
  {
   "cell_type": "markdown",
   "id": "77f610cf",
   "metadata": {},
   "source": [
    "# Plate motion module\n",
    "\n",
    "The Midgard **math.plate_motion** module provides functionality to determine tectonic plate motion. Following tectonic plate motion models can be used with plate motion module:\n",
    "\n",
    "    - ITRF2008\n",
    "    - ITRF2014\n",
    "    - NNR-MORVEL56\n",
    "    \n",
    "which are described in the references:\n",
    "\n",
    "   **Altamimi, Z., Metivier, L., and Collilieux, X. (2012):** *ITRF2008 plate motion model*, Journal of Geophysical Research, https://doi.org/10.1029/2011JB008930\n",
    "\n",
    "   **Altamimi, Z., Metivier, L., Rebischung, P., Rouby, H. and Collilieux, X. (2017):** *ITRF2014 plate motion model*, Geophysical Journal International, https://doi.org/10.1093/gji/ggx136\n",
    "\n",
    "   **Argus, D.F., Gordon, R.G. and DeMets, C. (2011):** *Geologically current motion of 56 plates relative to the no-net-rotation reference frame*, Geochemistry, Geophysics, Geosystems, 12, No. 11, 13 pp., https://doi.org/10.1029/2011GC003751"
   ]
  },
  {
   "cell_type": "markdown",
   "id": "6bd6e552",
   "metadata": {},
   "source": [
    "## Use plate_motion module\n",
    "\n",
    "The plate motion models are defined as data classes in Midgard module `midgard.collections.plate_motion_models`.\n",
    "\n",
    "An example is shown, how to use the `midgard.collections.plate_motion_models` module."
   ]
  },
  {
   "cell_type": "code",
   "execution_count": 32,
   "id": "f2a8f0e8",
   "metadata": {},
   "outputs": [
    {
     "name": "stdout",
     "output_type": "stream",
     "text": [
      "Tectonic plate models: itrf2014,itrf2008,nnr_morvel56\n",
      "\n",
      "TECTONIC PLATE MODEL\n",
      "Description: ITRF2014 plate motion model\n",
      "Name: itrf2014\n",
      "Tectonic plates: anta, arab, aust, eura, indi, nazc, noam, nubi, pcfc, soam, soma\n",
      "\n",
      "ROTATION POLE OF TECTONIC PLATE\n",
      "Tectonic plate: eura (Eurasian plate)\n"
     ]
    }
   ],
   "source": [
    "# Third party import\n",
    "import numpy as np\n",
    "\n",
    "# Import plate motion models module\n",
    "from midgard.collections import plate_motion_models\n",
    "\n",
    "# Get list with available plate models\n",
    "models = plate_motion_models.models()\n",
    "print(f\"Tectonic plate models: {', '.join(models)}\\n\")\n",
    "\n",
    "# Get PlateMotionModel instance for a given tectonic name\n",
    "model = plate_motion_models.get(\"itrf2014\")\n",
    "\n",
    "print(\"TECTONIC PLATE MODEL\")\n",
    "print(f\"Description: {model.description}\")\n",
    "print(f\"Name: {model.name}\")\n",
    "print(f\"Tectonic plates: {', '.join(model.plates)}\\n\")\n",
    "\n",
    "# Get RotationPole object for Eurasian tectonic plate\n",
    "pole = model.get_pole(\"eura\", unit=\"radian per year\")\n",
    "\n",
    "print(\"ROTATION POLE OF TECTONIC PLATE\")\n",
    "print(f\"Tectonic plate: {pole.name} ({pole.description})\")\n",
    "\n",
    "# Determine station velocity for given station position\n",
    "pos = np.array([2102928.189605, 721619.617278, 5958196.398820])\n",
    "pole_vec = [pole.wx, pole.wy, pole.wz]\n",
    "vel = np.cross(pole_vec, pos)"
   ]
  },
  {
   "cell_type": "markdown",
   "id": "b866f9b3",
   "metadata": {},
   "source": [
    "An example is shown, how to use the `midgard.math.plate_motion module`:"
   ]
  },
  {
   "cell_type": "code",
   "execution_count": 34,
   "id": "a760f231",
   "metadata": {},
   "outputs": [],
   "source": [
    "# Third party import\n",
    "import numpy as np\n",
    "\n",
    "# Import PlateMotion class\n",
    "from midgard.math.plate_motion import PlateMotion\n",
    "\n",
    "# Generate a instance of the PlateMotion class by defining tectonic plate \n",
    "# and tectonic plate model\n",
    "pm = PlateMotion(plate=\"eura\", model=\"itrf2014\")\n",
    "\n",
    "# Determine velocity for a given position\n",
    "pos = np.array([2102928.189605, 721619.617278, 5958196.398820]) # in meter\n",
    "vel = pm.get_velocity(pos) # in mm/yr"
   ]
  }
 ],
 "metadata": {
  "kernelspec": {
   "display_name": "Python 3 (ipykernel)",
   "language": "python",
   "name": "python3"
  },
  "language_info": {
   "codemirror_mode": {
    "name": "ipython",
    "version": 3
   },
   "file_extension": ".py",
   "mimetype": "text/x-python",
   "name": "python",
   "nbconvert_exporter": "python",
   "pygments_lexer": "ipython3",
   "version": "3.9.12"
  }
 },
 "nbformat": 4,
 "nbformat_minor": 5
}
