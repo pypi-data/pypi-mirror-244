{
 "cells": [
  {
   "cell_type": "markdown",
   "metadata": {},
   "source": [
    "# parsers\n",
    "\n",
    "The Midgard **parsers** module can be used for reading files. For example following file formats are available via Midgard:\n",
    "\n",
    "- ANTEX\n",
    "- RINEX observation and navigation (version 2 and 3)\n",
    "- RINEX clock (version 1.0)\n",
    "- SINEX (e.g. IGS SINEX station information file igs.snx)\n",
    "- ...\n",
    "\n",
    "All available parsers can be shown with `names` method:"
   ]
  },
  {
   "cell_type": "code",
   "execution_count": null,
   "metadata": {},
   "outputs": [],
   "source": [
    "# Import parsers package\n",
    "from midgard import parsers\n",
    "\n",
    "# List all available parsers\n",
    "parsers.names()"
   ]
  },
  {
   "cell_type": "markdown",
   "metadata": {},
   "source": [
    "## Use parsers module\n",
    "\n",
    "An example is shown, how to use the **parsers** module:"
   ]
  },
  {
   "cell_type": "code",
   "execution_count": null,
   "metadata": {},
   "outputs": [],
   "source": [
    "# Import parsers package\n",
    "from midgard import parsers\n",
    "\n",
    "# Read file by generating an instance of a Parser class\n",
    "p = parsers.parse_file(parser_name=\"gnss_sinex_igs\", file_path=\"./examples/parsers/gnss_sinex_igs\")"
   ]
  },
  {
   "cell_type": "markdown",
   "metadata": {},
   "source": [
    "File data are saved in the `data` and `meta` attribute. The `data` attribute includes the observation data and the `meta` attribute the metainformation (e.g. header information) read from file."
   ]
  },
  {
   "cell_type": "code",
   "execution_count": null,
   "metadata": {},
   "outputs": [],
   "source": [
    "# Access observation data\n",
    "p.data"
   ]
  },
  {
   "cell_type": "code",
   "execution_count": null,
   "metadata": {},
   "outputs": [],
   "source": [
    "# Access metainformation data\n",
    "p.meta"
   ]
  },
  {
   "cell_type": "markdown",
   "metadata": {},
   "source": [
    "The observation data can be saved also in different kind of data structures:\n",
    "- dataframe with method `as_dataframe()`\n",
    "- dataset with method `as_dataset()`\n",
    "- dict with method `as_dict()`"
   ]
  },
  {
   "cell_type": "code",
   "execution_count": null,
   "metadata": {},
   "outputs": [],
   "source": [
    "# Save data in dictionary data structure\n",
    "p.as_dict()"
   ]
  },
  {
   "cell_type": "markdown",
   "metadata": {},
   "source": [
    "## Implement parsers\n",
    "This section describes what kind of parser functionality Midgard provides and how to use it.\n",
    "\n",
    "Midgard provides following classes for parsing of files:\n",
    "\n",
    "    - Parser: An abstract base class that has basic methods for parsing a datafile.\n",
    "    - ChainParser: This class provides functionality for parsing a file with chained groups of information.\n",
    "    - LineParser: This class provides functionality for using numpy to parse a file line by line.\n",
    "    - SinexParser: This class provides functionality for parsing files in SINEX format."
   ]
  },
  {
   "cell_type": "markdown",
   "metadata": {},
   "source": [
    "### ChainParser\n",
    "In the following it will be described, how the chain can be used. A chain parser should be applied if the datafile uses different data formats. For example with different header sections like:"
   ]
  },
  {
   "cell_type": "markdown",
   "metadata": {},
   "source": [
    "<center><img src=\"figures/parsers/chain_parser.png\", width=100/></center>"
   ]
  },
  {
   "cell_type": "markdown",
   "metadata": {},
   "source": [
    "A single parser can read and parse one group of datalines, defined through the ParserDef by specifying how to parse\n",
    "each line (parser_def), how to identify each line (label), how to recognize the end of the group of lines\n",
    "(end_marker) and finally what (if anything) should be done after all lines in a group is read (end_callback).\n",
    "\n",
    "The end_marker, label, skip_line and end_callback parameters should all be functions with the following signatures:\n",
    "\n",
    "    end_marker   = func(line, line_num, next_line)\n",
    "    label        = func(line, line_num)\n",
    "    skip_line    = func(line)\n",
    "    end_callback = func(cache)\n",
    "\n",
    "The parser definition `parser_def` includes the `parser`, `field`, `strip` and `delimiter` entries. The `parser`\n",
    "entry points to the parser function and the `field` entry defines how to separate the line in fields. The separated\n",
    "fields are saved either in a dictionary or in a list. In the last case the line is split on whitespace by\n",
    "default. With the `delimiter` entry the default definition can be overwritten. Leading and trailing whitespace\n",
    "characters are removed by default before a line is parsed.  This default can be overwritten by defining the\n",
    "characters, which should be removed with the 'strip' entry. The `parser` dictionary is defined like:\n",
    "\n",
    "    parser_def = { <label>: {'fields':    <dict or list of fields>,\n",
    "                             'parser':    <parser function>,\n",
    "                             'delimiter': <optional delimiter for splitting line>,\n",
    "                             'strip':     <optional characters to be removed from beginning and end of line>\n",
    "                 }}"
   ]
  }
 ],
 "metadata": {
  "kernelspec": {
   "display_name": "Python 3 (ipykernel)",
   "language": "python",
   "name": "python3"
  },
  "language_info": {
   "codemirror_mode": {
    "name": "ipython",
    "version": 3
   },
   "file_extension": ".py",
   "mimetype": "text/x-python",
   "name": "python",
   "nbconvert_exporter": "python",
   "pygments_lexer": "ipython3",
   "version": "3.9.12"
  }
 },
 "nbformat": 4,
 "nbformat_minor": 2
}
