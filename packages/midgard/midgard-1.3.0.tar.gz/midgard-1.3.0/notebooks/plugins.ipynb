{
 "cells": [
  {
   "cell_type": "markdown",
   "metadata": {},
   "source": [
    "# Plug-in\n",
    "\n",
    "In order to be able to add models, parsers, data sources etc without needing to hardcode names, but rather pick them from configuration files, we can use a simple plug-in architecture. The plug-in mechanism is based on the different plug-ins registering themselves using the `register` decorator:"
   ]
  },
  {
   "cell_type": "raw",
   "metadata": {},
   "source": [
    "from midgard.dev import plugins\n",
    "\n",
    "@plugins.register\n",
    "def simple_model(*args, **kwargs):\n",
    "    pass"
   ]
  },
  {
   "cell_type": "markdown",
   "metadata": {},
   "source": [
    "Plug-ins are registered based on the name of the module (file) they are defined in, as well as the package (directory) which contains them. Typically all plug-ins of a given type are collected in a package, e.g. models, techniques, parsers, etc. To list all plug-ins in a package use `names`. Note that the plug-ins by default are sorted alphabetically:"
   ]
  },
  {
   "cell_type": "code",
   "execution_count": null,
   "metadata": {},
   "outputs": [],
   "source": [
    "# Import plug-ins module\n",
    "from midgard.dev import plugins\n",
    "\n",
    "# List registered parser module names given in package folder `midgard.parsers`\n",
    "plugins.names(package_name='midgard.parsers')"
   ]
  },
  {
   "cell_type": "markdown",
   "metadata": {},
   "source": [
    "To run the plug-ins, use either `call_all` or `call`. The former calls all registered plug-ins and returns a dictionary containing the result from each plug-in, whereas `call` calls only one plugin specified via argument."
   ]
  },
  {
   "cell_type": "code",
   "execution_count": null,
   "metadata": {},
   "outputs": [],
   "source": [
    "# Standard library import\n",
    "from datetime import datetime\n",
    "\n",
    "# Import plug-ins module\n",
    "from midgard import parsers\n",
    "from midgard.dev import plugins\n",
    "\n",
    "# Additional key word arguments for parser\n",
    "kwargs = dict(file_path=\"./examples/parsers/gnss_sinex_igs\")\n",
    "\n",
    "# Call registered parser\n",
    "parser = plugins.call(\n",
    "                package_name=parsers.__name__, \n",
    "                plugin_name=\"gnss_sinex_igs\", \n",
    "                **kwargs)"
   ]
  },
  {
   "cell_type": "code",
   "execution_count": null,
   "metadata": {},
   "outputs": [],
   "source": [
    "dir(plugins)"
   ]
  }
 ],
 "metadata": {
  "kernelspec": {
   "display_name": "Python 3 (ipykernel)",
   "language": "python",
   "name": "python3"
  },
  "language_info": {
   "codemirror_mode": {
    "name": "ipython",
    "version": 3
   },
   "file_extension": ".py",
   "mimetype": "text/x-python",
   "name": "python",
   "nbconvert_exporter": "python",
   "pygments_lexer": "ipython3",
   "version": "3.9.12"
  }
 },
 "nbformat": 4,
 "nbformat_minor": 2
}
