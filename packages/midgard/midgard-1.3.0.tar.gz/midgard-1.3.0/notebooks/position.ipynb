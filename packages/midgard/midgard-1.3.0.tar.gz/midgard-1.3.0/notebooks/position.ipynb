{
 "cells": [
  {
   "cell_type": "markdown",
   "metadata": {},
   "source": [
    "# Position\n",
    "\n",
    "The Midgard **Position**, **PositionDelta**, **PosVel** and **PosVelDelta** class can be used for coordinate system conversion.\n",
    "\n",
    "Important to note is, that the **Position** and **PosVel** class objects are initialzed with absolute positions, whereas the **PositionDelta** and **PosVelDelta** class objects are initialzed with relative positions related to a given reference position. Due to that fact are only following reference coordinate systems avialable for initialization and conversion of **Position** class objects:\n",
    "\n",
    "    llh - Ellipsoidal reference system (latitude, longitude, height)\n",
    "    trs - Terrestrial reference system (x, y, z)\n",
    "\n",
    "and for **PositionDelta** class objects:\n",
    "\n",
    "    enu - Topocentric reference system (east, north, up)\n",
    "    trs - Terrestrial reference system (x, y, z)\n",
    "    \n",
    "and for **PosVel** class objects:\n",
    "\n",
    "    kepler - Kepler elements (a, e, i, Omega, omega, E)\n",
    "    trs    - Terrestrial reference system (x, y, z, vx, vy, vz)\n",
    "    \n",
    "and for **PosVelDelta** class objects:\n",
    "\n",
    "    acr - Local orbital reference system (along, cross, radial, valong, vcross, vradial)\n",
    "    enu - Topocentric reference system (east, north, up, veast, vnorth, vup)\n",
    "    trs - Terrestrial reference system (x, y, z, vx, vy, vz)\n",
    "    \n",
    "    \n",
    " **Position**, **PositionDelta**, **PosVel** and **PosVelDelta** objects has to be initialized with positions given in **meter**, **radian** or **meter/second** as unit."
   ]
  },
  {
   "cell_type": "markdown",
   "metadata": {},
   "source": [
    "## Use Position and PositionDelta class\n",
    "\n",
    "An example is shown, how to use the **Position** and **PositionDelta** class. The first step is to generate an instance of the **Position** or **PositionDelta** class by using either **meter** or **radian** as unit:"
   ]
  },
  {
   "cell_type": "code",
   "execution_count": null,
   "metadata": {},
   "outputs": [],
   "source": [
    "# Import Position class\n",
    "from midgard.data.position import Position\n",
    "\n",
    "# Import Unit class\n",
    "from midgard.math.unit import Unit\n",
    "\n",
    "# Show available system and conversions for Position objects\n",
    "print(f\"Available systems: {Position.SYSTEMS}\")\n",
    "print(f\"Available conversions: {Position.CONVERSIONS}\")\n",
    "\n",
    "# Get Position instance by initializing with TRS coordinates given in meter\n",
    "pos = Position(\n",
    "            val=[3148244.690,  597997.517, 5496192.542], \n",
    "            system='trs',\n",
    "       )\n",
    "print(f\"Position object (TRS): {pos}\")\n",
    "\n",
    "# Get Position instance by initializing with LLH coordinates given in radian and meter\n",
    "pos = Position(\n",
    "            val=[59.923012 * Unit.deg2rad,  10.754999 * Unit.deg2rad, 10.4890], \n",
    "            system='llh',\n",
    "       )\n",
    "print(f\"Position object (LLH): {pos}\")"
   ]
  },
  {
   "cell_type": "code",
   "execution_count": null,
   "metadata": {},
   "outputs": [],
   "source": [
    "# Import PositionDelta class\n",
    "from midgard.data.position import PositionDelta\n",
    "\n",
    "# Show available system and conversions for PositionDelta objects\n",
    "print(f\"Available systems: {Position.SYSTEMS}\")\n",
    "print(f\"Available conversions: {Position.CONVERSIONS}\")\n",
    "\n",
    "# Get PositionDelta instance by initializing with TRS coordinates given in meter\n",
    "dpos = PositionDelta(\n",
    "            val=[0.8831,  0.3672, 0.9782], \n",
    "            system='trs',\n",
    "            ref_pos = pos,\n",
    "       )\n",
    "print(f\"PositionDelta object (TRS): {dpos}\")"
   ]
  },
  {
   "cell_type": "markdown",
   "metadata": {},
   "source": [
    "### Position conversion \n",
    "The initialized position or position delta object can be converted to different reference systems (see definition above):"
   ]
  },
  {
   "cell_type": "code",
   "execution_count": null,
   "metadata": {},
   "outputs": [],
   "source": [
    "# Convert position to ellipsoidal reference system\n",
    "print(\n",
    "    f\"LLH: {pos.llh} {pos.llh.unit()}\\n\"              \n",
    ")\n",
    "\n",
    "# Convert position delta to topocentric reference system\n",
    "print(\n",
    "    f\"ENU: {dpos.enu} {dpos.enu.unit()}\\n\"              \n",
    ")"
   ]
  },
  {
   "cell_type": "markdown",
   "metadata": {},
   "source": [
    "Another way to generate a **PositionDelta** object is the subtraction of two **Position** objects:"
   ]
  },
  {
   "cell_type": "code",
   "execution_count": null,
   "metadata": {},
   "outputs": [],
   "source": [
    "# Define reference position\n",
    "ref_pos = Position(\n",
    "            val=[3516552.8,  782177.0, 5245701.7], \n",
    "            system='trs'\n",
    "       )\n",
    "\n",
    "# Determine difference, whereby a PositionDelta object is returned\n",
    "dpos = ref_pos - pos\n",
    "\n",
    "# Convert position difference to topocentric reference system\n",
    "dpos.enu"
   ]
  },
  {
   "cell_type": "markdown",
   "metadata": {},
   "source": [
    "## Use PosVel and PosVelDelta class\n",
    "\n",
    "An example is shown, how to use the **PosVel** and **PosVelDelta** class. The first step is to generate an instance of the **PosVel** or **PosVelDelta** class by using either **meter**, **radian** or **meter/second** as unit:    "
   ]
  },
  {
   "cell_type": "code",
   "execution_count": null,
   "metadata": {},
   "outputs": [],
   "source": [
    "# Import PosVel class\n",
    "from midgard.data.position import PosVel\n",
    "\n",
    "# Get PosVel instance by initializing with Kepler elements given in meter, unitless and\n",
    "# radian\n",
    "posvel = PosVel(\n",
    "            val=[2.05312884e+07, 4.41951837e-01, 1.29680739e+00,\n",
    "                 2.53423045e+00, 5.55504365e+00, 3.14091672e+00,\n",
    "            ], \n",
    "            system='kepler',\n",
    "       )\n",
    "print(f\"PosVel object (Kepler): {posvel}\")\n",
    "\n",
    "# Get PosVel instance by initializing with TRS coordinates given in meter and meter/second\n",
    "posvel = PosVel(\n",
    "            val=[15095082.616, -16985925.155, 18975783.780,\n",
    "                     1814.893,      -587.648,    -1968.334,\n",
    "            ], \n",
    "            system='trs',\n",
    "       )\n",
    "print(f\"PosVel object (TRS): {posvel}\")"
   ]
  },
  {
   "cell_type": "code",
   "execution_count": null,
   "metadata": {},
   "outputs": [],
   "source": [
    "# Import PosVelDelta class\n",
    "from midgard.data.position import PosVelDelta\n",
    "\n",
    "# Get PosVelDelta instance by initializing with TRS coordinates given in meter and \n",
    "# meter/second\n",
    "dposvel = PosVelDelta(\n",
    "            val=[0.8831,  0.3672, 0.9782, 0.5973, 0.0348, 0.7556], \n",
    "            system='trs',\n",
    "            ref_pos = posvel,\n",
    "       )\n",
    "print(f\"PosVelDelta object (TRS): {dposvel}\")"
   ]
  },
  {
   "cell_type": "markdown",
   "metadata": {},
   "source": [
    "### PosVel conversion \n",
    "The initialized PosVel or PosVelDelta object can be converted to different reference systems (see definition above):"
   ]
  },
  {
   "cell_type": "code",
   "execution_count": null,
   "metadata": {},
   "outputs": [],
   "source": [
    "# Convert position/velocity to kepler elements\n",
    "print(\n",
    "    f\"Kepler: {posvel.kepler} {posvel.kepler.unit()}\\n\"              \n",
    ")\n",
    "\n",
    "# Convert position/velocity delta to local orbital reference system\n",
    "print(\n",
    "    f\"ACR: {dposvel.acr} {dposvel.acr.unit()}\\n\"              \n",
    ")"
   ]
  }
 ],
 "metadata": {
  "kernelspec": {
   "display_name": "Python 3 (ipykernel)",
   "language": "python",
   "name": "python3"
  },
  "language_info": {
   "codemirror_mode": {
    "name": "ipython",
    "version": 3
   },
   "file_extension": ".py",
   "mimetype": "text/x-python",
   "name": "python",
   "nbconvert_exporter": "python",
   "pygments_lexer": "ipython3",
   "version": "3.9.12"
  }
 },
 "nbformat": 4,
 "nbformat_minor": 2
}
