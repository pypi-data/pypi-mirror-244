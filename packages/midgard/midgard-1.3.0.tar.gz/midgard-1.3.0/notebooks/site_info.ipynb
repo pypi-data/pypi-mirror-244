{
 "cells": [
  {
   "cell_type": "markdown",
   "metadata": {},
   "source": [
    "# site_info module\n",
    "\n",
    "It is possible to read SINEX or SSC files for getting station information like antenna type, receiver type or station coordinates. To simplify the access we started to establish site information classes to collect all needed station information. Following site information classes are established:\n",
    "\n",
    "\n",
    "| Class        | Description |\n",
    "| :----------- | :---------- |\n",
    "| Antenna      | Antenna class for handling antenna information |\n",
    "| Eccentricity | Eccentricity class for handling eccentricity information |\n",
    "| Identifier   | Identifier class for handling identifier and monument information |\n",
    "| Receiver     | Receiver class for handling receiver information |\n",
    "| SiteInfo     | SiteInfo class for handling all station information, that means antenna, receiver and site/station coordinate information |\n",
    "| SiteCoord    | SiteCoord class for handling site/station coordinate information |\n"
   ]
  },
  {
   "cell_type": "markdown",
   "metadata": {},
   "source": [
    "## Antenna class\n",
    "\n",
    "In the following an example for the **Antenna** class is presented:"
   ]
  },
  {
   "cell_type": "code",
   "execution_count": null,
   "metadata": {},
   "outputs": [],
   "source": [
    "# Standard library import\n",
    "from datetime import datetime\n",
    "\n",
    "# Import Midgard parsers\n",
    "from midgard import parsers\n",
    "\n",
    "# Import Antenna class\n",
    "from midgard.site_info.antenna import Antenna\n",
    "\n",
    "# Read station information SINEX file\n",
    "p = parsers.parse_file(\n",
    "            parser_name=\"sinex_site\", \n",
    "            file_path=\"./examples/site_info/site_info.snx\",\n",
    ")\n",
    "\n",
    "# Get station dictionary with antenna information by specifying the file type\n",
    "ant = Antenna.get(\n",
    "            source=\"snx\",  # File type specifier: snx = SINEX; ssc = SSC\n",
    "            source_data=p.as_dict(),\n",
    "            stations=\"adac\", \n",
    "            date=datetime(2021, 9, 12), \n",
    "            source_path=p.file_path,\n",
    ")\n",
    "\n",
    "# Get antenna instance for station ADAC\n",
    "ant_adac = ant[\"adac\"]\n",
    "\n",
    "# Get overview available Antenna objects methods \n",
    "dir(ant_adac)"
   ]
  },
  {
   "cell_type": "code",
   "execution_count": null,
   "metadata": {},
   "outputs": [],
   "source": [
    "# Get antenna type\n",
    "ant_adac.type"
   ]
  },
  {
   "cell_type": "code",
   "execution_count": null,
   "metadata": {},
   "outputs": [],
   "source": [
    "# Get station dictionary of Antenna history instance\n",
    "anth = Antenna.get_history(\n",
    "            source=\"snx\", \n",
    "            source_data=p.as_dict(),\n",
    "            stations=\"adac\",\n",
    "            source_path=p.file_path, \n",
    "\n",
    ")\n",
    "\n",
    "# Get antenna history instance for station ADAC\n",
    "anth_adac = anth[\"adac\"]\n",
    "anth_adac.history"
   ]
  },
  {
   "cell_type": "code",
   "execution_count": null,
   "metadata": {},
   "outputs": [],
   "source": [
    "# Use of iterator for better accessing Antenna history instance\n",
    "for entry in anth_adac:\n",
    "    print(entry.date_from, entry.date_to, entry)\n",
    "\n",
    "# Other solution\n",
    "iterator = iter(anth_adac)\n",
    "next(iterator)"
   ]
  },
  {
   "cell_type": "markdown",
   "metadata": {},
   "source": [
    "## Eccentricity class\n",
    "\n",
    "In the following an example for the **Eccentricity** class is presented:"
   ]
  },
  {
   "cell_type": "code",
   "execution_count": null,
   "metadata": {},
   "outputs": [],
   "source": [
    "# Standard library import\n",
    "from datetime import datetime\n",
    "\n",
    "# Import Midgard parsers\n",
    "from midgard import parsers\n",
    "\n",
    "# Import Eccentricity class\n",
    "from midgard.site_info.eccentricity import Eccentricity\n",
    "\n",
    "# Read station information SINEX file\n",
    "p = parsers.parse_file(\n",
    "            parser_name=\"sinex_site\", \n",
    "            file_path=\"./examples/site_info/site_info.snx\",\n",
    ")\n",
    "\n",
    "# Get station dictionary with eccentricity information by specifying the file type\n",
    "ecc = Eccentricity.get(\n",
    "            source=\"snx\",  # File type specifier: snx = SINEX; ssc = SSC\n",
    "            source_data=p.as_dict(),\n",
    "            stations=\"adac\", \n",
    "            date=datetime(2021, 9, 12), \n",
    "            source_path=p.file_path,\n",
    ")\n",
    "\n",
    "# Get eccentricity instance for station ADAC\n",
    "ecc_adac = ecc[\"adac\"]\n",
    "\n",
    "# Get overview available Eccentricity objects methods \n",
    "dir(ecc_adac)"
   ]
  },
  {
   "cell_type": "code",
   "execution_count": null,
   "metadata": {},
   "outputs": [],
   "source": [
    "# Get eccentricity\n",
    "ecc_adac.dpos.enu"
   ]
  },
  {
   "cell_type": "code",
   "execution_count": null,
   "metadata": {},
   "outputs": [],
   "source": [
    "# Get station dictionary of Eccentricity history instance\n",
    "ecch = Eccentricity.get_history(\n",
    "            source=\"snx\", \n",
    "            source_data=p.as_dict(),\n",
    "            stations=\"adac\",\n",
    "            source_path=p.file_path, \n",
    "\n",
    ")\n",
    "\n",
    "# Get eccentricity history instance for station ADAC\n",
    "ecch_adac = ecch[\"adac\"]\n",
    "ecch_adac.history"
   ]
  },
  {
   "cell_type": "markdown",
   "metadata": {},
   "source": [
    "## Identifier class\n",
    "\n",
    "In the following an example for the **Identifier** class is presented. It should be noted that the **Identifier** module does not have History classes as the other site information modules."
   ]
  },
  {
   "cell_type": "code",
   "execution_count": null,
   "metadata": {},
   "outputs": [],
   "source": [
    "# Standard library import\n",
    "from datetime import datetime\n",
    "\n",
    "# Import Midgard parsers\n",
    "from midgard import parsers\n",
    "\n",
    "# Import Identifier class\n",
    "from midgard.site_info.identifier import Identifier\n",
    "\n",
    "# Read station information SINEX file\n",
    "p = parsers.parse_file(\n",
    "            parser_name=\"sinex_site\", \n",
    "            file_path=\"./examples/site_info/site_info.snx\",\n",
    ")\n",
    "\n",
    "# Get station dictionary with identifier information by specifying the file type \n",
    "# (Note: No date information argument needed like for the other modules.)\n",
    "idn = Identifier.get(\n",
    "            source=\"snx\",  # File type specifier: snx = SINEX; ssc = SSC\n",
    "            source_data=p.as_dict(),\n",
    "            stations=\"adac\", \n",
    "            source_path=p.file_path,\n",
    ")\n",
    "\n",
    "# Get identifier instance for station ADAC\n",
    "idn_adac = idn[\"adac\"]\n",
    "\n",
    "# Get overview available Identifier objects methods \n",
    "dir(idn_adac)"
   ]
  },
  {
   "cell_type": "code",
   "execution_count": null,
   "metadata": {},
   "outputs": [],
   "source": [
    "# Get site name\n",
    "idn_adac.name"
   ]
  },
  {
   "cell_type": "markdown",
   "metadata": {},
   "source": [
    "## Receiver class\n",
    "\n",
    "In the following an example for the **Receiver** class is presented:"
   ]
  },
  {
   "cell_type": "code",
   "execution_count": null,
   "metadata": {},
   "outputs": [],
   "source": [
    "# Standard library import\n",
    "from datetime import datetime\n",
    "\n",
    "# Import Midgard parsers\n",
    "from midgard import parsers\n",
    "\n",
    "# Import Receiver class\n",
    "from midgard.site_info.receiver import Receiver\n",
    "\n",
    "# Read station information SINEX file\n",
    "p = parsers.parse_file(\n",
    "            parser_name=\"sinex_site\", \n",
    "            file_path=\"./examples/site_info/site_info.snx\",\n",
    ")\n",
    "\n",
    "# Get station dictionary of Receiver instance \n",
    "rcv = Receiver.get(\n",
    "            source=\"snx\", # File type specifier: snx = SINEX; ssc = SSC\n",
    "            source_data=p.as_dict(),\n",
    "            stations=\"adac\",\n",
    "            date=datetime(2021, 9, 12), \n",
    "            source_path=p.file_path,\n",
    ")\n",
    "\n",
    "# Get receiver instance for station ADAC\n",
    "rcv_adac = rcv[\"adac\"]\n",
    "\n",
    "# Get overview available Receiver objects methods \n",
    "dir(rcv_adac)"
   ]
  },
  {
   "cell_type": "code",
   "execution_count": null,
   "metadata": {},
   "outputs": [],
   "source": [
    "# Get receiver type\n",
    "rcv_adac.type"
   ]
  },
  {
   "cell_type": "code",
   "execution_count": null,
   "metadata": {},
   "outputs": [],
   "source": [
    "# Get station dictionary of Receiver history instance\n",
    "rcvh = Receiver.get_history(\n",
    "            source=\"snx\", \n",
    "            source_data=p.as_dict(),\n",
    "            stations=\"adac\",\n",
    "            source_path=p.file_path,\n",
    ")\n",
    "\n",
    "# Get receiver history instance for station ADAC\n",
    "rcvh_adac = rcvh[\"adac\"]\n",
    "rcvh_adac.history"
   ]
  },
  {
   "cell_type": "markdown",
   "metadata": {},
   "source": [
    "## SiteCoord class\n",
    "\n",
    "In the following an example for the **SiteCoord** class is presented:"
   ]
  },
  {
   "cell_type": "code",
   "execution_count": null,
   "metadata": {},
   "outputs": [],
   "source": [
    "# Standard library import\n",
    "from datetime import datetime\n",
    "\n",
    "# Import Midgard parsers\n",
    "from midgard import parsers\n",
    "\n",
    "# Import SiteCoord class\n",
    "from midgard.site_info.site_coord import SiteCoord\n",
    "\n",
    "# Read station information SINEX file\n",
    "p = parsers.parse_file(\n",
    "            parser_name=\"sinex_site\", \n",
    "            file_path=\"./examples/site_info/site_info.snx\",\n",
    ")\n",
    "\n",
    "# Get station dictionary of SiteCoord instance \n",
    "crd = SiteCoord.get(\n",
    "            source=\"snx\", # File type specifier: snx = SINEX; ssc = SSC\n",
    "            source_data=p.as_dict(),\n",
    "            stations=\"adac\",\n",
    "            date=datetime(2021, 9, 12),\n",
    "            source_path=p.file_path,\n",
    ")\n",
    "\n",
    "# Get SiteCoord instance for station ADAC\n",
    "crd_adac = crd[\"adac\"]\n",
    "\n",
    "# Get overview available SiteCoord objects methods \n",
    "dir(crd_adac)"
   ]
  },
  {
   "cell_type": "code",
   "execution_count": null,
   "metadata": {},
   "outputs": [],
   "source": [
    "# Get current site position\n",
    "crd_adac.pos.llh"
   ]
  },
  {
   "cell_type": "code",
   "execution_count": null,
   "metadata": {},
   "outputs": [],
   "source": [
    "# Get reference epoch of site position\n",
    "crd_adac.ref_epoch"
   ]
  },
  {
   "cell_type": "code",
   "execution_count": null,
   "metadata": {},
   "outputs": [],
   "source": [
    "# Get station dictionary of SiteCoord history instance\n",
    "crdh = SiteCoord.get_history(\n",
    "            source=\"snx\", \n",
    "            source_data=p.as_dict(),\n",
    "            stations=\"adac\",\n",
    "            source_path=p.file_path,    \n",
    ")\n",
    "\n",
    "# Get SiteCoord history instance for station ADAC\n",
    "crdh_adac = crdh[\"adac\"]\n",
    "crdh_adac.history\n",
    "dir(crdh_adac)"
   ]
  },
  {
   "cell_type": "markdown",
   "metadata": {},
   "source": [
    "## SiteInfo class\n",
    "\n",
    "In the following an example for the **SiteInfo** class is presented:"
   ]
  },
  {
   "cell_type": "code",
   "execution_count": null,
   "metadata": {},
   "outputs": [],
   "source": [
    "# Standard library import\n",
    "from datetime import datetime\n",
    "\n",
    "# Import Midgard parsers\n",
    "from midgard import parsers\n",
    "\n",
    "# Import SiteCoord class\n",
    "from midgard.site_info.site_info import SiteInfo\n",
    "\n",
    "# Read station information SINEX file\n",
    "p = parsers.parse_file(\n",
    "            parser_name=\"sinex_site\", \n",
    "            file_path=\"./examples/site_info/site_info.snx\",\n",
    ")\n",
    "\n",
    "# Get station dictionary of SiteInfo instance \n",
    "info = SiteInfo.get(\n",
    "            source=\"snx\", # File type specifier: snx = SINEX; ssc = SSC\n",
    "            source_data=p.as_dict(),\n",
    "            stations=\"adac\",\n",
    "            date=datetime(2021, 9, 12),\n",
    "            source_path=p.file_path,\n",
    ")\n",
    "\n",
    "# Get dictionary with Antenna, Receiver and SiteCoord information for station ADAC\n",
    "info_adac = info[\"adac\"]\n",
    "\n",
    "# Get Antenna instance for ADAC\n",
    "ant_adac = info_adac[\"antenna\"]\n",
    "ant_adac.type\n",
    "\n",
    "# Get Receiver instance for ADAC\n",
    "rcv_adac = info_adac[\"receiver\"]\n",
    "rcv_adac.type\n",
    "\n",
    "# Get SiteCoord instance for ADAC\n",
    "crd_adac = info_adac[\"site_coord\"]\n",
    "crd_adac.pos"
   ]
  },
  {
   "cell_type": "code",
   "execution_count": null,
   "metadata": {},
   "outputs": [],
   "source": [
    "# Get station dictionary of SiteInfo history instance\n",
    "infoh = SiteInfo.get_history(\n",
    "            source=\"snx\", \n",
    "            source_data=p.as_dict(),\n",
    "            stations=\"adac\",\n",
    "            source_path=p.file_path,    \n",
    ")\n",
    "\n",
    "# Get dictionary with Antenna, Receiver and SiteCoord history information for station ADAC\n",
    "infoh_adac = infoh[\"adac\"]\n",
    "\n",
    "# Get Antenna history instance for ADAC\n",
    "anth_adac = infoh_adac[\"antenna\"]\n",
    "\n",
    "# Get Receiver history instance for ADAC\n",
    "rcvh_adac = infoh_adac[\"receiver\"]\n",
    "\n",
    "# Get SiteCoord history instance for ADAC\n",
    "crdh_adac = infoh_adac[\"site_coord\"]\n",
    "crdh_adac.history"
   ]
  }
 ],
 "metadata": {
  "kernelspec": {
   "display_name": "Python 3 (ipykernel)",
   "language": "python",
   "name": "python3"
  },
  "language_info": {
   "codemirror_mode": {
    "name": "ipython",
    "version": 3
   },
   "file_extension": ".py",
   "mimetype": "text/x-python",
   "name": "python",
   "nbconvert_exporter": "python",
   "pygments_lexer": "ipython3",
   "version": "3.9.12"
  }
 },
 "nbformat": 4,
 "nbformat_minor": 2
}
