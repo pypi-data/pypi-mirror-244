{
 "cells": [
  {
   "cell_type": "markdown",
   "metadata": {},
   "source": [
    "# Log\n",
    "\n",
    "The Midgard **log** module provides simple logging functionality. \n",
    "\n",
    "To use it, you must first add a an active logger. This is typically done using the init-functions: **init()** and/or **file_init()**. **init()** initializes a console logger, where logging messages are written to the console. **file_init()** initializes a file logger, where logging messages are written to a defined file path.\n",
    "\n",
    "Following logging levels are defined:\n",
    "    \n",
    "| Level      | Description          |\n",
    "|:-----------|:---------------------|\n",
    "| **debug**  | Debug messages       |\n",
    "| **info**   | Information messages |\n",
    "| **warn**   | Warning messages     |\n",
    "| **error**  | Error messages       |\n",
    "| **fatal**  | Fatal error messages |\n",
    "\n",
    "To write a log message, simply call **log.{level}** (e.g. log.info), whereby {level} is a placeholder for the defined logging levels in the table above.\n",
    "\n",
    "\n"
   ]
  },
  {
   "cell_type": "markdown",
   "metadata": {},
   "source": [
    "## Use log module\n",
    "\n",
    "An example is shown, how to use the **log**:"
   ]
  },
  {
   "cell_type": "code",
   "execution_count": null,
   "metadata": {},
   "outputs": [],
   "source": [
    "# Import log module\n",
    "from midgard.dev import log\n",
    "\n",
    "# Initialize console logger\n",
    "log.init(log_level=\"info\", prefix=\"test\")\n",
    "\n",
    "# If the logging message should be written to a file, then a file logger has to be \n",
    "# initialized instead:\n",
    "#\n",
    "# log.file_init(file_path=\"./examples/log\", log_level=\"info\", prefix=\"test\", rotation=5)\n",
    "#\n",
    "#  with arguments:\n",
    "#\n",
    "#    file_path:      File path.\n",
    "#    log_level:      Define level from which logging should be started. If for \n",
    "#                    example 'info' level is defined, then only 'info', 'warn', 'error'\n",
    "#                    and 'fatal' messages are logged, but not 'debug' messages. \n",
    "#    prefix:         Add prefix to logging messages.\n",
    "#    rotation:       Logging files are rolled based on given number of rotations. That \n",
    "#                    means, if there are old log files, they will be moved to files with\n",
    "#                    extension .0, .1 and so on. If the argument is not specified, then \n",
    "#                    existing logging file is overwritten from newer ones.   \n",
    "#\n",
    "\n",
    "# Write information message\n",
    "log.info(\"Start logging\")"
   ]
  },
  {
   "cell_type": "markdown",
   "metadata": {},
   "source": [
    "It should be noted, that the defined logging level for a console logger can be overwritten with command option --{level} (e.g. --debug). That means, if a script (e.g. `test.py`) uses the log module, then the script can be called like `python test.py --debug`."
   ]
  }
 ],
 "metadata": {
  "kernelspec": {
   "display_name": "Python 3 (ipykernel)",
   "language": "python",
   "name": "python3"
  },
  "language_info": {
   "codemirror_mode": {
    "name": "ipython",
    "version": 3
   },
   "file_extension": ".py",
   "mimetype": "text/x-python",
   "name": "python",
   "nbconvert_exporter": "python",
   "pygments_lexer": "ipython3",
   "version": "3.9.12"
  }
 },
 "nbformat": 4,
 "nbformat_minor": 2
}
