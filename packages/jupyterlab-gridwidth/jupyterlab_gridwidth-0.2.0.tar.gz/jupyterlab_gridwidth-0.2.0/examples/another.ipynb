{
 "cells": [
  {
   "cell_type": "code",
   "execution_count": 3,
   "id": "25932715-5f93-41ac-ab48-08f5629713ae",
   "metadata": {
    "tags": [
     "gridwidth-1-2"
    ]
   },
   "outputs": [
    {
     "name": "stdout",
     "output_type": "stream",
     "text": [
      "1/2\n"
     ]
    }
   ],
   "source": [
    "console.log(\"1/2\")"
   ]
  },
  {
   "cell_type": "code",
   "execution_count": 2,
   "id": "8361839b-a5a9-4750-bb77-db4653cc59df",
   "metadata": {
    "tags": [
     "gridwidth-1-3"
    ]
   },
   "outputs": [
    {
     "name": "stdout",
     "output_type": "stream",
     "text": [
      "1/3\n"
     ]
    }
   ],
   "source": [
    "console.log(\"1/3\")"
   ]
  },
  {
   "cell_type": "code",
   "execution_count": null,
   "id": "b261404c-c6ba-442f-9900-8ede89ea57e0",
   "metadata": {},
   "outputs": [],
   "source": []
  }
 ],
 "metadata": {
  "kernelspec": {
   "display_name": "JavaScript (Node.js)",
   "language": "javascript",
   "name": "javascript"
  },
  "language_info": {
   "file_extension": ".js",
   "mimetype": "application/javascript",
   "name": "javascript",
   "version": "20.5.1"
  }
 },
 "nbformat": 4,
 "nbformat_minor": 5
}
