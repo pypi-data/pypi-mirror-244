{
 "cells": [
  {
   "cell_type": "markdown",
   "id": "3e27af76-c710-45a3-98e3-e1ce00859f6c",
   "metadata": {},
   "source": [
    "# rosalie dev\n",
    "\n",
    "Notebook purpose:\n",
    "\n",
    "- Develop `rosalie` package and templates for working with it"
   ]
  },
  {
   "cell_type": "code",
   "execution_count": 1,
   "id": "fe281458-cf2e-4dba-b0c5-f3f336fdff02",
   "metadata": {
    "slideshow": {
     "slide_type": "slide"
    },
    "tags": []
   },
   "outputs": [],
   "source": [
    "import logging\n",
    "\n",
    "import numpy as np\n",
    "import pandas as pd\n",
    "import statsmodels.api as sm\n",
    "\n",
    "from causaljet.experiment_evaluation.models import Cuped\n",
    "import rosalie as ro\n",
    "\n",
    "# Silence info logging of root logger to silence Cuped logging\n",
    "logging.getLogger().setLevel(logging.WARNING)\n",
    "\n",
    "# pd.set_option('display.max_rows', 500)\n",
    "\n",
    "%config InlineBackend.figure_format ='retina'\n",
    "%load_ext line_profiler\n",
    "%load_ext autoreload\n",
    "%autoreload 2"
   ]
  },
  {
   "cell_type": "code",
   "execution_count": 3,
   "id": "db923e4f",
   "metadata": {},
   "outputs": [
    {
     "name": "stdout",
     "output_type": "stream",
     "text": [
      "Querying data from BigQuery...\n"
     ]
    }
   ],
   "source": [
    "# Load data\n",
    "\n",
    "UNIT_LEVEL = \"customer\"\n",
    "UNIT_ID = 'id'\n",
    "METRICS = ['order_price', 'gmv']\n",
    "PRE_PERIOD = '1 Jan 2023', '31 May 2023'\n",
    "POST_PERIOD ='1 Jun 2023', ' 31 Aug 2023'\n",
    "FORMAT = 'cross_section'\n",
    "\n",
    "CACHE_PATH = f'/Users/fabian.gunzinger/tmp/rosalie/{UNIT_LEVEL}.csv'\n",
    "\n",
    "df = (\n",
    "    ro.DataReader().load_data(\n",
    "        UNIT_LEVEL,\n",
    "        cache_path=CACHE_PATH\n",
    "        )\n",
    "    .pipe(ro.add_artificial_gmw)\n",
    "    .pipe(ro.create_pre_post_data, \n",
    "          id_col=UNIT_ID,\n",
    "          metrics=METRICS,\n",
    "          pre_period=PRE_PERIOD,\n",
    "          post_period=POST_PERIOD)\n",
    ")\n",
    "ro.data_info(df)"
   ]
  },
  {
   "cell_type": "code",
   "execution_count": 7,
   "id": "ea2adfd3",
   "metadata": {},
   "outputs": [],
   "source": [
    "def causal_jet_cuped(df, metric):\n",
    "    \"\"\"Run Causal Jet CUPED implementation and return p-value.\n",
    "\n",
    "    Because data is already pre-processed, we only need to supply the following:\n",
    "    - A cross-section dataframe with `metric` and `metric_pre` columns to `ass_w_cov_panel_df`\n",
    "    - The metric name to `metric_name`\n",
    "    - The unit identifier to `unit_identifier`\n",
    "\n",
    "    All other parameters can be left as default.\n",
    "    \"\"\"\n",
    "    result = Cuped(\n",
    "        ass_w_cov_panel_df=df,\n",
    "        metric_name=metric,\n",
    "        unit_identifier=UNIT_ID,\n",
    "        cluster_identifier=UNIT_ID,\n",
    "        is_treated_col='is_treated',\n",
    "        weight_col='assignments_freq',\n",
    "        additional_regressors=[],\n",
    "        start_date=None,\n",
    "        date_identifier=None,\n",
    "        lookback=None,\n",
    "    )._get_results()\n",
    "    return result.pvalues[1]\n",
    "\n",
    "\n",
    "def traditional_cuped(df, metric):\n",
    "    \"\"\"Run traditional CUPED and return p-value.\"\"\"\n",
    "    \n",
    "    def _cuped_adjusted_metric(df, metric, metric_pre):\n",
    "        y = df[metric].values\n",
    "        x = df[metric_pre].values\n",
    "        valid_indices = (~np.isnan(y)) & (~np.isnan(x))\n",
    "        y_valid, x_valid = y[valid_indices], x[valid_indices]\n",
    "        m = np.cov(y_valid, x_valid)\n",
    "        theta = m[0, 1] / m[1, 1]\n",
    "        return (y - (x - np.nanmean(x)) * theta)\n",
    "\n",
    "    # Perform experiment evaluation and return p-value\n",
    "    # (Use WLS to be consistent with CausalJet)\n",
    "    y = _cuped_adjusted_metric(df, metric, f\"{metric}_pre\")\n",
    "    x = sm.add_constant(df[\"is_treated\"].astype(float))\n",
    "    w = df[\"assignments_freq\"]\n",
    "    model = sm.WLS(endog=y, exog=x, weights=w)\n",
    "    results = model.fit()\n",
    "    return results.pvalues[\"is_treated\"]"
   ]
  },
  {
   "cell_type": "code",
   "execution_count": 10,
   "id": "2dd21083",
   "metadata": {},
   "outputs": [
    {
     "name": "stderr",
     "output_type": "stream",
     "text": [
      "INFO - Initializing Simulator with specified evaluators: ['welch_t_test']\n",
      "INFO - Initializing Simulator with specified evaluators: ['welch_t_test']\n",
      "INFO - Generating datasets...\n",
      "INFO - Generating datasets...\n",
      "100%|██████████| 10/10 [00:01<00:00,  7.55it/s]\n",
      "INFO - Evaluating experiments...\n",
      "INFO - Evaluating experiments...\n",
      "100%|██████████| 200/200 [00:00<00:00, 289.73it/s]"
     ]
    },
    {
     "name": "stdout",
     "output_type": "stream",
     "text": [
      "  metric     evaluator  sample_size  mdes  power\n",
      "0    gmv  welch_t_test          100  0.01    0.0\n",
      "1    gmv  welch_t_test          100  0.03    0.2\n",
      "2    gmv  welch_t_test         7009  0.01    1.0\n",
      "3    gmv  welch_t_test         7009  0.03    1.0\n",
      "4    gmv  welch_t_test        13918  0.01    1.0\n"
     ]
    },
    {
     "name": "stderr",
     "output_type": "stream",
     "text": [
      "\n"
     ]
    },
    {
     "data": {
      "text/html": [
       "\n",
       "<style>\n",
       "  #altair-viz-17c63b6dc056405da74e5a0297106916.vega-embed {\n",
       "    width: 100%;\n",
       "    display: flex;\n",
       "  }\n",
       "\n",
       "  #altair-viz-17c63b6dc056405da74e5a0297106916.vega-embed details,\n",
       "  #altair-viz-17c63b6dc056405da74e5a0297106916.vega-embed details summary {\n",
       "    position: relative;\n",
       "  }\n",
       "</style>\n",
       "<div id=\"altair-viz-17c63b6dc056405da74e5a0297106916\"></div>\n",
       "<script type=\"text/javascript\">\n",
       "  var VEGA_DEBUG = (typeof VEGA_DEBUG == \"undefined\") ? {} : VEGA_DEBUG;\n",
       "  (function(spec, embedOpt){\n",
       "    let outputDiv = document.currentScript.previousElementSibling;\n",
       "    if (outputDiv.id !== \"altair-viz-17c63b6dc056405da74e5a0297106916\") {\n",
       "      outputDiv = document.getElementById(\"altair-viz-17c63b6dc056405da74e5a0297106916\");\n",
       "    }\n",
       "    const paths = {\n",
       "      \"vega\": \"https://cdn.jsdelivr.net/npm/vega@5?noext\",\n",
       "      \"vega-lib\": \"https://cdn.jsdelivr.net/npm/vega-lib?noext\",\n",
       "      \"vega-lite\": \"https://cdn.jsdelivr.net/npm/vega-lite@5.15.1?noext\",\n",
       "      \"vega-embed\": \"https://cdn.jsdelivr.net/npm/vega-embed@6?noext\",\n",
       "    };\n",
       "\n",
       "    function maybeLoadScript(lib, version) {\n",
       "      var key = `${lib.replace(\"-\", \"\")}_version`;\n",
       "      return (VEGA_DEBUG[key] == version) ?\n",
       "        Promise.resolve(paths[lib]) :\n",
       "        new Promise(function(resolve, reject) {\n",
       "          var s = document.createElement('script');\n",
       "          document.getElementsByTagName(\"head\")[0].appendChild(s);\n",
       "          s.async = true;\n",
       "          s.onload = () => {\n",
       "            VEGA_DEBUG[key] = version;\n",
       "            return resolve(paths[lib]);\n",
       "          };\n",
       "          s.onerror = () => reject(`Error loading script: ${paths[lib]}`);\n",
       "          s.src = paths[lib];\n",
       "        });\n",
       "    }\n",
       "\n",
       "    function showError(err) {\n",
       "      outputDiv.innerHTML = `<div class=\"error\" style=\"color:red;\">${err}</div>`;\n",
       "      throw err;\n",
       "    }\n",
       "\n",
       "    function displayChart(vegaEmbed) {\n",
       "      vegaEmbed(outputDiv, spec, embedOpt)\n",
       "        .catch(err => showError(`Javascript Error: ${err.message}<br>This usually means there's a typo in your chart specification. See the javascript console for the full traceback.`));\n",
       "    }\n",
       "\n",
       "    if(typeof define === \"function\" && define.amd) {\n",
       "      requirejs.config({paths});\n",
       "      require([\"vega-embed\"], displayChart, err => showError(`Error loading script: ${err.message}`));\n",
       "    } else {\n",
       "      maybeLoadScript(\"vega\", \"5\")\n",
       "        .then(() => maybeLoadScript(\"vega-lite\", \"5.15.1\"))\n",
       "        .then(() => maybeLoadScript(\"vega-embed\", \"6\"))\n",
       "        .catch(showError)\n",
       "        .then(() => displayChart(vegaEmbed));\n",
       "    }\n",
       "  })({\"config\": {\"view\": {\"continuousWidth\": 300, \"continuousHeight\": 300}}, \"vconcat\": [{\"layer\": [{\"mark\": {\"type\": \"point\"}, \"encoding\": {\"color\": {\"field\": \"evaluator\", \"legend\": {\"title\": \"Evaluator\"}, \"type\": \"nominal\"}, \"x\": {\"axis\": {\"title\": \"Sample size\"}, \"field\": \"sample_size\", \"type\": \"quantitative\"}, \"y\": {\"axis\": {\"title\": \"Power\"}, \"field\": \"power\", \"type\": \"quantitative\"}}}, {\"mark\": {\"type\": \"line\"}, \"encoding\": {\"color\": {\"field\": \"evaluator\", \"legend\": {\"title\": \"Evaluator\"}, \"type\": \"nominal\"}, \"x\": {\"axis\": {\"title\": \"Sample size\"}, \"field\": \"sample_size\", \"type\": \"quantitative\"}, \"y\": {\"axis\": {\"title\": \"Power\"}, \"field\": \"power\", \"type\": \"quantitative\"}}, \"transform\": [{\"loess\": \"power\", \"on\": \"sample_size\", \"groupby\": [\"evaluator\"]}]}, {\"data\": {\"name\": \"data-1f1d1d5561bd6507455977c12e546584\"}, \"mark\": {\"type\": \"rule\", \"color\": \"red\"}, \"encoding\": {\"y\": {\"axis\": {\"title\": \"\"}, \"field\": \"a\", \"type\": \"quantitative\"}}, \"transform\": [{\"calculate\": \"0.8\", \"as\": \"a\"}]}], \"data\": {\"name\": \"data-fea02891e79633f74f24e39835b3493f\"}, \"title\": \"gmv, MDES = 1%\"}, {\"layer\": [{\"mark\": {\"type\": \"point\"}, \"encoding\": {\"color\": {\"field\": \"evaluator\", \"legend\": {\"title\": \"Evaluator\"}, \"type\": \"nominal\"}, \"x\": {\"axis\": {\"title\": \"Sample size\"}, \"field\": \"sample_size\", \"type\": \"quantitative\"}, \"y\": {\"axis\": {\"title\": \"Power\"}, \"field\": \"power\", \"type\": \"quantitative\"}}}, {\"mark\": {\"type\": \"line\"}, \"encoding\": {\"color\": {\"field\": \"evaluator\", \"legend\": {\"title\": \"Evaluator\"}, \"type\": \"nominal\"}, \"x\": {\"axis\": {\"title\": \"Sample size\"}, \"field\": \"sample_size\", \"type\": \"quantitative\"}, \"y\": {\"axis\": {\"title\": \"Power\"}, \"field\": \"power\", \"type\": \"quantitative\"}}, \"transform\": [{\"loess\": \"power\", \"on\": \"sample_size\", \"groupby\": [\"evaluator\"]}]}, {\"data\": {\"name\": \"data-1f1d1d5561bd6507455977c12e546584\"}, \"mark\": {\"type\": \"rule\", \"color\": \"red\"}, \"encoding\": {\"y\": {\"axis\": {\"title\": \"\"}, \"field\": \"a\", \"type\": \"quantitative\"}}, \"transform\": [{\"calculate\": \"0.8\", \"as\": \"a\"}]}], \"data\": {\"name\": \"data-67c52da9d7430c841f82d31a91b3f3c5\"}, \"title\": \"gmv, MDES = 3%\"}, {\"layer\": [{\"mark\": {\"type\": \"point\"}, \"encoding\": {\"color\": {\"field\": \"evaluator\", \"legend\": {\"title\": \"Evaluator\"}, \"type\": \"nominal\"}, \"x\": {\"axis\": {\"title\": \"Sample size\"}, \"field\": \"sample_size\", \"type\": \"quantitative\"}, \"y\": {\"axis\": {\"title\": \"Power\"}, \"field\": \"power\", \"type\": \"quantitative\"}}}, {\"mark\": {\"type\": \"line\"}, \"encoding\": {\"color\": {\"field\": \"evaluator\", \"legend\": {\"title\": \"Evaluator\"}, \"type\": \"nominal\"}, \"x\": {\"axis\": {\"title\": \"Sample size\"}, \"field\": \"sample_size\", \"type\": \"quantitative\"}, \"y\": {\"axis\": {\"title\": \"Power\"}, \"field\": \"power\", \"type\": \"quantitative\"}}, \"transform\": [{\"loess\": \"power\", \"on\": \"sample_size\", \"groupby\": [\"evaluator\"]}]}, {\"data\": {\"name\": \"data-1f1d1d5561bd6507455977c12e546584\"}, \"mark\": {\"type\": \"rule\", \"color\": \"red\"}, \"encoding\": {\"y\": {\"axis\": {\"title\": \"\"}, \"field\": \"a\", \"type\": \"quantitative\"}}, \"transform\": [{\"calculate\": \"0.8\", \"as\": \"a\"}]}], \"data\": {\"name\": \"data-91b0eb182301a0e6bec682aa1a2a5ea0\"}, \"title\": \"order_price, MDES = 1%\"}, {\"layer\": [{\"mark\": {\"type\": \"point\"}, \"encoding\": {\"color\": {\"field\": \"evaluator\", \"legend\": {\"title\": \"Evaluator\"}, \"type\": \"nominal\"}, \"x\": {\"axis\": {\"title\": \"Sample size\"}, \"field\": \"sample_size\", \"type\": \"quantitative\"}, \"y\": {\"axis\": {\"title\": \"Power\"}, \"field\": \"power\", \"type\": \"quantitative\"}}}, {\"mark\": {\"type\": \"line\"}, \"encoding\": {\"color\": {\"field\": \"evaluator\", \"legend\": {\"title\": \"Evaluator\"}, \"type\": \"nominal\"}, \"x\": {\"axis\": {\"title\": \"Sample size\"}, \"field\": \"sample_size\", \"type\": \"quantitative\"}, \"y\": {\"axis\": {\"title\": \"Power\"}, \"field\": \"power\", \"type\": \"quantitative\"}}, \"transform\": [{\"loess\": \"power\", \"on\": \"sample_size\", \"groupby\": [\"evaluator\"]}]}, {\"data\": {\"name\": \"data-1f1d1d5561bd6507455977c12e546584\"}, \"mark\": {\"type\": \"rule\", \"color\": \"red\"}, \"encoding\": {\"y\": {\"axis\": {\"title\": \"\"}, \"field\": \"a\", \"type\": \"quantitative\"}}, \"transform\": [{\"calculate\": \"0.8\", \"as\": \"a\"}]}], \"data\": {\"name\": \"data-a6e026af2fcb8233c71bb094fc0cf6aa\"}, \"title\": \"order_price, MDES = 3%\"}], \"$schema\": \"https://vega.github.io/schema/vega-lite/v5.15.1.json\", \"datasets\": {\"data-fea02891e79633f74f24e39835b3493f\": [{\"metric\": \"gmv\", \"evaluator\": \"welch_t_test\", \"sample_size\": 100, \"mdes\": 0.01, \"power\": 0.0}, {\"metric\": \"gmv\", \"evaluator\": \"welch_t_test\", \"sample_size\": 7009, \"mdes\": 0.01, \"power\": 1.0}, {\"metric\": \"gmv\", \"evaluator\": \"welch_t_test\", \"sample_size\": 13918, \"mdes\": 0.01, \"power\": 1.0}, {\"metric\": \"gmv\", \"evaluator\": \"welch_t_test\", \"sample_size\": 20826, \"mdes\": 0.01, \"power\": 1.0}, {\"metric\": \"gmv\", \"evaluator\": \"welch_t_test\", \"sample_size\": 27735, \"mdes\": 0.01, \"power\": 1.0}, {\"metric\": \"gmv\", \"evaluator\": \"welch_t_test\", \"sample_size\": 34644, \"mdes\": 0.01, \"power\": 1.0}, {\"metric\": \"gmv\", \"evaluator\": \"welch_t_test\", \"sample_size\": 41553, \"mdes\": 0.01, \"power\": 1.0}, {\"metric\": \"gmv\", \"evaluator\": \"welch_t_test\", \"sample_size\": 48461, \"mdes\": 0.01, \"power\": 1.0}, {\"metric\": \"gmv\", \"evaluator\": \"welch_t_test\", \"sample_size\": 55370, \"mdes\": 0.01, \"power\": 1.0}, {\"metric\": \"gmv\", \"evaluator\": \"welch_t_test\", \"sample_size\": 62279, \"mdes\": 0.01, \"power\": 1.0}], \"data-1f1d1d5561bd6507455977c12e546584\": [{\"metric\": \"gmv\", \"evaluator\": \"welch_t_test\", \"sample_size\": 100, \"mdes\": 0.01, \"power\": 0.0}, {\"metric\": \"gmv\", \"evaluator\": \"welch_t_test\", \"sample_size\": 100, \"mdes\": 0.03, \"power\": 0.2}, {\"metric\": \"gmv\", \"evaluator\": \"welch_t_test\", \"sample_size\": 7009, \"mdes\": 0.01, \"power\": 1.0}, {\"metric\": \"gmv\", \"evaluator\": \"welch_t_test\", \"sample_size\": 7009, \"mdes\": 0.03, \"power\": 1.0}, {\"metric\": \"gmv\", \"evaluator\": \"welch_t_test\", \"sample_size\": 13918, \"mdes\": 0.01, \"power\": 1.0}, {\"metric\": \"gmv\", \"evaluator\": \"welch_t_test\", \"sample_size\": 13918, \"mdes\": 0.03, \"power\": 1.0}, {\"metric\": \"gmv\", \"evaluator\": \"welch_t_test\", \"sample_size\": 20826, \"mdes\": 0.01, \"power\": 1.0}, {\"metric\": \"gmv\", \"evaluator\": \"welch_t_test\", \"sample_size\": 20826, \"mdes\": 0.03, \"power\": 1.0}, {\"metric\": \"gmv\", \"evaluator\": \"welch_t_test\", \"sample_size\": 27735, \"mdes\": 0.01, \"power\": 1.0}, {\"metric\": \"gmv\", \"evaluator\": \"welch_t_test\", \"sample_size\": 27735, \"mdes\": 0.03, \"power\": 1.0}, {\"metric\": \"gmv\", \"evaluator\": \"welch_t_test\", \"sample_size\": 34644, \"mdes\": 0.01, \"power\": 1.0}, {\"metric\": \"gmv\", \"evaluator\": \"welch_t_test\", \"sample_size\": 34644, \"mdes\": 0.03, \"power\": 1.0}, {\"metric\": \"gmv\", \"evaluator\": \"welch_t_test\", \"sample_size\": 41553, \"mdes\": 0.01, \"power\": 1.0}, {\"metric\": \"gmv\", \"evaluator\": \"welch_t_test\", \"sample_size\": 41553, \"mdes\": 0.03, \"power\": 1.0}, {\"metric\": \"gmv\", \"evaluator\": \"welch_t_test\", \"sample_size\": 48461, \"mdes\": 0.01, \"power\": 1.0}, {\"metric\": \"gmv\", \"evaluator\": \"welch_t_test\", \"sample_size\": 48461, \"mdes\": 0.03, \"power\": 1.0}, {\"metric\": \"gmv\", \"evaluator\": \"welch_t_test\", \"sample_size\": 55370, \"mdes\": 0.01, \"power\": 1.0}, {\"metric\": \"gmv\", \"evaluator\": \"welch_t_test\", \"sample_size\": 55370, \"mdes\": 0.03, \"power\": 1.0}, {\"metric\": \"gmv\", \"evaluator\": \"welch_t_test\", \"sample_size\": 62279, \"mdes\": 0.01, \"power\": 1.0}, {\"metric\": \"gmv\", \"evaluator\": \"welch_t_test\", \"sample_size\": 62279, \"mdes\": 0.03, \"power\": 1.0}, {\"metric\": \"order_price\", \"evaluator\": \"welch_t_test\", \"sample_size\": 100, \"mdes\": 0.01, \"power\": 0.0}, {\"metric\": \"order_price\", \"evaluator\": \"welch_t_test\", \"sample_size\": 100, \"mdes\": 0.03, \"power\": 0.2}, {\"metric\": \"order_price\", \"evaluator\": \"welch_t_test\", \"sample_size\": 7009, \"mdes\": 0.01, \"power\": 0.2}, {\"metric\": \"order_price\", \"evaluator\": \"welch_t_test\", \"sample_size\": 7009, \"mdes\": 0.03, \"power\": 1.0}, {\"metric\": \"order_price\", \"evaluator\": \"welch_t_test\", \"sample_size\": 13918, \"mdes\": 0.01, \"power\": 0.4}, {\"metric\": \"order_price\", \"evaluator\": \"welch_t_test\", \"sample_size\": 13918, \"mdes\": 0.03, \"power\": 1.0}, {\"metric\": \"order_price\", \"evaluator\": \"welch_t_test\", \"sample_size\": 20826, \"mdes\": 0.01, \"power\": 0.4}, {\"metric\": \"order_price\", \"evaluator\": \"welch_t_test\", \"sample_size\": 20826, \"mdes\": 0.03, \"power\": 1.0}, {\"metric\": \"order_price\", \"evaluator\": \"welch_t_test\", \"sample_size\": 27735, \"mdes\": 0.01, \"power\": 0.6}, {\"metric\": \"order_price\", \"evaluator\": \"welch_t_test\", \"sample_size\": 27735, \"mdes\": 0.03, \"power\": 1.0}, {\"metric\": \"order_price\", \"evaluator\": \"welch_t_test\", \"sample_size\": 34644, \"mdes\": 0.01, \"power\": 0.6}, {\"metric\": \"order_price\", \"evaluator\": \"welch_t_test\", \"sample_size\": 34644, \"mdes\": 0.03, \"power\": 1.0}, {\"metric\": \"order_price\", \"evaluator\": \"welch_t_test\", \"sample_size\": 41553, \"mdes\": 0.01, \"power\": 0.4}, {\"metric\": \"order_price\", \"evaluator\": \"welch_t_test\", \"sample_size\": 41553, \"mdes\": 0.03, \"power\": 1.0}, {\"metric\": \"order_price\", \"evaluator\": \"welch_t_test\", \"sample_size\": 48461, \"mdes\": 0.01, \"power\": 0.8}, {\"metric\": \"order_price\", \"evaluator\": \"welch_t_test\", \"sample_size\": 48461, \"mdes\": 0.03, \"power\": 1.0}, {\"metric\": \"order_price\", \"evaluator\": \"welch_t_test\", \"sample_size\": 55370, \"mdes\": 0.01, \"power\": 0.8}, {\"metric\": \"order_price\", \"evaluator\": \"welch_t_test\", \"sample_size\": 55370, \"mdes\": 0.03, \"power\": 1.0}, {\"metric\": \"order_price\", \"evaluator\": \"welch_t_test\", \"sample_size\": 62279, \"mdes\": 0.01, \"power\": 0.8}, {\"metric\": \"order_price\", \"evaluator\": \"welch_t_test\", \"sample_size\": 62279, \"mdes\": 0.03, \"power\": 1.0}], \"data-67c52da9d7430c841f82d31a91b3f3c5\": [{\"metric\": \"gmv\", \"evaluator\": \"welch_t_test\", \"sample_size\": 100, \"mdes\": 0.03, \"power\": 0.2}, {\"metric\": \"gmv\", \"evaluator\": \"welch_t_test\", \"sample_size\": 7009, \"mdes\": 0.03, \"power\": 1.0}, {\"metric\": \"gmv\", \"evaluator\": \"welch_t_test\", \"sample_size\": 13918, \"mdes\": 0.03, \"power\": 1.0}, {\"metric\": \"gmv\", \"evaluator\": \"welch_t_test\", \"sample_size\": 20826, \"mdes\": 0.03, \"power\": 1.0}, {\"metric\": \"gmv\", \"evaluator\": \"welch_t_test\", \"sample_size\": 27735, \"mdes\": 0.03, \"power\": 1.0}, {\"metric\": \"gmv\", \"evaluator\": \"welch_t_test\", \"sample_size\": 34644, \"mdes\": 0.03, \"power\": 1.0}, {\"metric\": \"gmv\", \"evaluator\": \"welch_t_test\", \"sample_size\": 41553, \"mdes\": 0.03, \"power\": 1.0}, {\"metric\": \"gmv\", \"evaluator\": \"welch_t_test\", \"sample_size\": 48461, \"mdes\": 0.03, \"power\": 1.0}, {\"metric\": \"gmv\", \"evaluator\": \"welch_t_test\", \"sample_size\": 55370, \"mdes\": 0.03, \"power\": 1.0}, {\"metric\": \"gmv\", \"evaluator\": \"welch_t_test\", \"sample_size\": 62279, \"mdes\": 0.03, \"power\": 1.0}], \"data-91b0eb182301a0e6bec682aa1a2a5ea0\": [{\"metric\": \"order_price\", \"evaluator\": \"welch_t_test\", \"sample_size\": 100, \"mdes\": 0.01, \"power\": 0.0}, {\"metric\": \"order_price\", \"evaluator\": \"welch_t_test\", \"sample_size\": 7009, \"mdes\": 0.01, \"power\": 0.2}, {\"metric\": \"order_price\", \"evaluator\": \"welch_t_test\", \"sample_size\": 13918, \"mdes\": 0.01, \"power\": 0.4}, {\"metric\": \"order_price\", \"evaluator\": \"welch_t_test\", \"sample_size\": 20826, \"mdes\": 0.01, \"power\": 0.4}, {\"metric\": \"order_price\", \"evaluator\": \"welch_t_test\", \"sample_size\": 27735, \"mdes\": 0.01, \"power\": 0.6}, {\"metric\": \"order_price\", \"evaluator\": \"welch_t_test\", \"sample_size\": 34644, \"mdes\": 0.01, \"power\": 0.6}, {\"metric\": \"order_price\", \"evaluator\": \"welch_t_test\", \"sample_size\": 41553, \"mdes\": 0.01, \"power\": 0.4}, {\"metric\": \"order_price\", \"evaluator\": \"welch_t_test\", \"sample_size\": 48461, \"mdes\": 0.01, \"power\": 0.8}, {\"metric\": \"order_price\", \"evaluator\": \"welch_t_test\", \"sample_size\": 55370, \"mdes\": 0.01, \"power\": 0.8}, {\"metric\": \"order_price\", \"evaluator\": \"welch_t_test\", \"sample_size\": 62279, \"mdes\": 0.01, \"power\": 0.8}], \"data-a6e026af2fcb8233c71bb094fc0cf6aa\": [{\"metric\": \"order_price\", \"evaluator\": \"welch_t_test\", \"sample_size\": 100, \"mdes\": 0.03, \"power\": 0.2}, {\"metric\": \"order_price\", \"evaluator\": \"welch_t_test\", \"sample_size\": 7009, \"mdes\": 0.03, \"power\": 1.0}, {\"metric\": \"order_price\", \"evaluator\": \"welch_t_test\", \"sample_size\": 13918, \"mdes\": 0.03, \"power\": 1.0}, {\"metric\": \"order_price\", \"evaluator\": \"welch_t_test\", \"sample_size\": 20826, \"mdes\": 0.03, \"power\": 1.0}, {\"metric\": \"order_price\", \"evaluator\": \"welch_t_test\", \"sample_size\": 27735, \"mdes\": 0.03, \"power\": 1.0}, {\"metric\": \"order_price\", \"evaluator\": \"welch_t_test\", \"sample_size\": 34644, \"mdes\": 0.03, \"power\": 1.0}, {\"metric\": \"order_price\", \"evaluator\": \"welch_t_test\", \"sample_size\": 41553, \"mdes\": 0.03, \"power\": 1.0}, {\"metric\": \"order_price\", \"evaluator\": \"welch_t_test\", \"sample_size\": 48461, \"mdes\": 0.03, \"power\": 1.0}, {\"metric\": \"order_price\", \"evaluator\": \"welch_t_test\", \"sample_size\": 55370, \"mdes\": 0.03, \"power\": 1.0}, {\"metric\": \"order_price\", \"evaluator\": \"welch_t_test\", \"sample_size\": 62279, \"mdes\": 0.03, \"power\": 1.0}]}}, {\"mode\": \"vega-lite\"});\n",
       "</script>"
      ],
      "text/plain": [
       "alt.VConcatChart(...)"
      ]
     },
     "execution_count": 10,
     "metadata": {},
     "output_type": "execute_result"
    }
   ],
   "source": [
    "evaluators = [traditional_cuped, causal_jet_cuped]\n",
    "\n",
    "eval = ro.Simulator(\n",
    "    df=df,\n",
    "    metrics=METRICS,\n",
    "    id_col=UNIT_ID,\n",
    "    # evaluators=evaluators,\n",
    "    # sample_min=1000,\n",
    "    # sample_max=21_000,\n",
    "    num_steps=10,\n",
    "    mdes=[0.01, 0.03],\n",
    "    num_runs=5,\n",
    "    baseline_evaluator=\"welch\",\n",
    "    # preprocessors=preprocessors,\n",
    "    # sample_timestamps=False,\n",
    "    # alpha=0.05,\n",
    "    # random_seed=2312,\n",
    "    # testing=True\n",
    "    )\n",
    "\n",
    "result = eval.run()\n",
    "print(result.data.head())\n",
    "result.plot()"
   ]
  }
 ],
 "metadata": {
  "kernelspec": {
   "display_name": "Python 3 (ipykernel)",
   "language": "python",
   "name": "python3"
  },
  "language_info": {
   "codemirror_mode": {
    "name": "ipython",
    "version": 3
   },
   "file_extension": ".py",
   "mimetype": "text/x-python",
   "name": "python",
   "nbconvert_exporter": "python",
   "pygments_lexer": "ipython3",
   "version": "3.10.8"
  }
 },
 "nbformat": 4,
 "nbformat_minor": 5
}
