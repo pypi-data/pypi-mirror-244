{
 "cells": [
  {
   "cell_type": "code",
   "execution_count": 1,
   "id": "designed-prophet",
   "metadata": {},
   "outputs": [],
   "source": [
    "\"\"\" This simple script simulates a supply chain economy according to\n",
    "the paper by Bak et al, 1992\n",
    "\n",
    "The economy has L layers and each firm in each layer has two suppliers from the\n",
    "layer below. The firms are on a cylindrical lattice of width L.\n",
    "\"\"\"\n",
    "\n",
    "import numpy as np\n",
    "import matplotlib.pyplot as plt\n",
    "from ProdNet import PerBak\n",
    "from ProdNet.lib import icdf\n",
    "\n",
    "# Select economy depth and width, and total number of iterations\n",
    "L = 1600\n",
    "T = 1000"
   ]
  },
  {
   "cell_type": "code",
   "execution_count": 2,
   "id": "automatic-stretch",
   "metadata": {},
   "outputs": [],
   "source": [
    "# Initialize simulation object\n",
    "model = PerBak(L, T)\n",
    "\n",
    "# Compute p, probability of demand \"shock\"\n",
    "model.set_final_demand()"
   ]
  },
  {
   "cell_type": "code",
   "execution_count": 3,
   "id": "confidential-miller",
   "metadata": {},
   "outputs": [],
   "source": [
    "# Simulate\n",
    "model.simulate()"
   ]
  },
  {
   "cell_type": "code",
   "execution_count": 4,
   "id": "civic-practitioner",
   "metadata": {},
   "outputs": [
    {
     "data": {
      "image/png": "[encoded data removed]",
      "text/plain": [
       "<Figure size 432x288 with 1 Axes>"
      ]
     },
     "metadata": {
      "needs_background": "light"
     },
     "output_type": "display_data"
    }
   ],
   "source": [
    "# Plot Y distribution\n",
    "Y = np.sum(model.P, axis=(1, 2))\n",
    "x, p = icdf(Y)\n",
    "plt.scatter(x, p)\n",
    "plt.yscale('log')\n",
    "plt.xscale('log')\n",
    "plt.show()"
   ]
  }
 ],
 "metadata": {
  "kernelspec": {
   "display_name": "prodnet_venv",
   "language": "python",
   "name": "prodnet_venv"
  },
  "language_info": {
   "codemirror_mode": {
    "name": "ipython",
    "version": 3
   },
   "file_extension": ".py",
   "mimetype": "text/x-python",
   "name": "python",
   "nbconvert_exporter": "python",
   "pygments_lexer": "ipython3",
   "version": "3.8.13"
  }
 },
 "nbformat": 4,
 "nbformat_minor": 5
}
