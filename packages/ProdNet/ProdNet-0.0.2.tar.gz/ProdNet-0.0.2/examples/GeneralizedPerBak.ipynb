{
 "cells": [
  {
   "cell_type": "code",
   "execution_count": 1,
   "id": "convertible-transaction",
   "metadata": {},
   "outputs": [],
   "source": [
    "\"\"\" Simple script to simulate a simple supply chain economy according to \n",
    "a generalized version of the paper by Bak et al, 1992. Although the \n",
    "mechanism of propagation is the same, now it works for any network structure.\n",
    "\n",
    "In the first example we show that it replicates the original results.\n",
    "\"\"\"\n",
    "\n",
    "import numpy as np\n",
    "import matplotlib.pyplot as plt\n",
    "from ProdNet import GeneralizedPerBak\n",
    "from ProdNet.lib import icdf\n",
    "import scipy.sparse as sp\n",
    "\n",
    "# Select economy depth and width, and total number of iterations\n",
    "L = 1600\n",
    "N = L**2\n",
    "T = 1000\n",
    "\n",
    "# Define supply network according to Per Bak\n",
    "B = np.zeros(N, dtype='u1')\n",
    "B[:L] = 1\n",
    "data = [1]*(2*L*(L-1))\n",
    "row = [None]*(2*L*(L-1))\n",
    "col = [None]*(2*L*(L-1))\n",
    "i = 0\n",
    "for n in range(N - L):\n",
    "    col[i] = n\n",
    "    row[i] = n+L\n",
    "    col[i+1] = n\n",
    "    if (n + 1) % L == 0:\n",
    "        row[i+1] = n+1\n",
    "    else:\n",
    "        row[i+1] = n+1+L\n",
    "        \n",
    "    i += 2\n",
    "\n",
    "A = sp.coo_matrix((data, (row, col)), shape=(N, N), dtype='u1')"
   ]
  },
  {
   "cell_type": "code",
   "execution_count": 2,
   "id": "polyphonic-netscape",
   "metadata": {},
   "outputs": [],
   "source": [
    "# Initialize simulation object\n",
    "model = GeneralizedPerBak(N, T, A, B=B, P_cap=np.ones(N)*2)\n",
    "\n",
    "# Compute p, probability of demand \"shock\"\n",
    "model.set_final_demand()"
   ]
  },
  {
   "cell_type": "code",
   "execution_count": 3,
   "id": "commercial-tracy",
   "metadata": {},
   "outputs": [
    {
     "name": "stdout",
     "output_type": "stream",
     "text": [
      "\u001b[K t= 999\r"
     ]
    }
   ],
   "source": [
    "# Simulate\n",
    "model.simulate()"
   ]
  },
  {
   "cell_type": "code",
   "execution_count": 4,
   "id": "suited-elephant",
   "metadata": {},
   "outputs": [
    {
     "data": {
      "image/png": "[encoded data removed]",
      "text/plain": [
       "<Figure size 432x288 with 1 Axes>"
      ]
     },
     "metadata": {
      "needs_background": "light"
     },
     "output_type": "display_data"
    }
   ],
   "source": [
    "# Plot Y distribution\n",
    "Y = np.sum(model.P, axis=1)\n",
    "x, p = icdf(Y)\n",
    "plt.scatter(x, p)\n",
    "plt.yscale('log')\n",
    "plt.xscale('log')\n",
    "plt.show()"
   ]
  }
 ],
 "metadata": {
  "kernelspec": {
   "display_name": "prodnet_venv",
   "language": "python",
   "name": "prodnet_venv"
  },
  "language_info": {
   "codemirror_mode": {
    "name": "ipython",
    "version": 3
   },
   "file_extension": ".py",
   "mimetype": "text/x-python",
   "name": "python",
   "nbconvert_exporter": "python",
   "pygments_lexer": "ipython3",
   "version": "3.8.13"
  }
 },
 "nbformat": 4,
 "nbformat_minor": 5
}
