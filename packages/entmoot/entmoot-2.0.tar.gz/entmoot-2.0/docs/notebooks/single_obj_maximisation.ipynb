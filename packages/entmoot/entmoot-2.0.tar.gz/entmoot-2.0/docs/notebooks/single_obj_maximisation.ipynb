{
 "cells": [
  {
   "cell_type": "markdown",
   "metadata": {},
   "source": [
    "# Objective Maximisation\n",
    "\n",
    "ENTMOOT supports both minimisation and maximisation of objective functions. This notebook defines a concave function, that has a maximum at (1, 1)."
   ]
  },
  {
   "cell_type": "code",
   "execution_count": null,
   "metadata": {},
   "outputs": [],
   "source": [
    "from entmoot import Enting, ProblemConfig, PyomoOptimizer\n",
    "import numpy as np"
   ]
  },
  {
   "cell_type": "code",
   "execution_count": null,
   "metadata": {},
   "outputs": [],
   "source": [
    "# define a maximisation problem\n",
    "def eval_simple_max_testfunc(X):\n",
    "    x = np.array(X)\n",
    "    y = - np.sum((x - np.ones_like(x)) ** 2, axis=1)\n",
    "    return y.reshape(-1, 1)\n",
    "\n",
    "def build_simple_max_problem(problem_config: ProblemConfig):\n",
    "    problem_config.add_feature(\"real\", (0.0, 2.0), name=\"x1\")\n",
    "    problem_config.add_feature(\"real\", (0.0, 2.0), name=\"x2\")\n",
    "    problem_config.add_max_objective()"
   ]
  },
  {
   "cell_type": "code",
   "execution_count": null,
   "metadata": {},
   "outputs": [],
   "source": [
    "# define problem\n",
    "problem_config = ProblemConfig(rnd_seed=73)\n",
    "# number of objectives\n",
    "build_simple_max_problem(problem_config)\n",
    "# sample data\n",
    "rnd_sample = problem_config.get_rnd_sample_list(num_samples=200)\n",
    "testfunc_evals = eval_simple_max_testfunc(rnd_sample)\n",
    "\n",
    "params = {\"unc_params\": {\"dist_metric\": \"l1\", \"acq_sense\": \"penalty\"}}\n",
    "enting = Enting(problem_config, params=params)\n",
    "enting.fit(rnd_sample, testfunc_evals)"
   ]
  },
  {
   "cell_type": "code",
   "execution_count": null,
   "metadata": {},
   "outputs": [],
   "source": [
    "params_pyomo = {\"solver_name\": \"gurobi\"}\n",
    "opt_pyo = PyomoOptimizer(problem_config, params=params_pyomo)\n",
    "\n",
    "res_pyo = opt_pyo.solve(enting)\n",
    "res_pyo"
   ]
  }
 ],
 "metadata": {
  "kernelspec": {
   "display_name": "Python 3 (ipykernel)",
   "language": "python",
   "name": "python3"
  },
  "language_info": {
   "codemirror_mode": {
    "name": "ipython",
    "version": 3
   },
   "file_extension": ".py",
   "mimetype": "text/x-python",
   "name": "python",
   "nbconvert_exporter": "python",
   "pygments_lexer": "ipython3",
   "version": "3.11.5"
  }
 },
 "nbformat": 4,
 "nbformat_minor": 4
}
