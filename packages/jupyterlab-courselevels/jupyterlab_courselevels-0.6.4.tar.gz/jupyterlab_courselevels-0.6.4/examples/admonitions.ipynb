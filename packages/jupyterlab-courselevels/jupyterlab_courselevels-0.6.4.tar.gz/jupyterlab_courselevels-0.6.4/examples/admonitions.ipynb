{
 "cells": [
  {
   "cell_type": "markdown",
   "id": "fcf0d860",
   "metadata": {
    "editable": true,
    "slideshow": {
     "slide_type": "-"
    },
    "tags": [
     "licence"
    ]
   },
   "source": [
    "Licence CC BY-NC-ND, Thierry Parmentelat"
   ]
  },
  {
   "cell_type": "markdown",
   "id": "585cf0fc",
   "metadata": {},
   "source": [
    "# admonitions"
   ]
  },
  {
   "cell_type": "code",
   "execution_count": 1,
   "id": "eab22b8e",
   "metadata": {},
   "outputs": [],
   "source": [
    "# this is the required piece\n",
    "\n",
    "# %pip show jupyterlab-myst"
   ]
  },
  {
   "cell_type": "markdown",
   "id": "4ab38dc6-6cc5-434b-b223-87bdad3beb35",
   "metadata": {},
   "source": [
    "see also <https://sphinx-book-theme.readthedocs.io/en/stable/reference/kitchen-sink/admonitions.html>"
   ]
  },
  {
   "cell_type": "markdown",
   "id": "0acbbb19-e0be-4b85-beda-9cf056cc0133",
   "metadata": {
    "tags": [
     "framed_cell"
    ]
   },
   "source": [
    "## known types"
   ]
  },
  {
   "cell_type": "markdown",
   "id": "7d182a69",
   "metadata": {},
   "source": [
    "````{tip} \n",
    "1/10 tip Let's give readers a helpful hint! - this one uses ```\n",
    "````"
   ]
  },
  {
   "cell_type": "markdown",
   "id": "6eac522e",
   "metadata": {},
   "source": [
    "````{note}\n",
    "2/10 note: you can use either ``` or :::\n",
    "````"
   ]
  },
  {
   "cell_type": "markdown",
   "id": "3b5e4901",
   "metadata": {},
   "source": [
    "````{attention}\n",
    "3/10 attention let us try this\n",
    "````"
   ]
  },
  {
   "cell_type": "markdown",
   "id": "161ebb84",
   "metadata": {},
   "source": [
    "````{caution}\n",
    "4/10 caution let us try this\n",
    "````"
   ]
  },
  {
   "cell_type": "markdown",
   "id": "72a6cac8",
   "metadata": {},
   "source": [
    "````{danger}\n",
    "5/10 danger let us try this\n",
    "````"
   ]
  },
  {
   "cell_type": "markdown",
   "id": "059a9fda",
   "metadata": {},
   "source": [
    "````{error}\n",
    "6/10 error let us try this\n",
    "````"
   ]
  },
  {
   "cell_type": "markdown",
   "id": "da2ae405",
   "metadata": {},
   "source": [
    "````{hint}\n",
    "7/10 hint let us try this\n",
    "````"
   ]
  },
  {
   "cell_type": "markdown",
   "id": "7d046bb3",
   "metadata": {},
   "source": [
    "````{important}\n",
    "8/10 important let us try this\n",
    "````"
   ]
  },
  {
   "cell_type": "markdown",
   "id": "6f06f9e8",
   "metadata": {
    "tags": []
   },
   "source": [
    "````{seealso}\n",
    "9/10 seealso let us try this\n",
    "````"
   ]
  },
  {
   "cell_type": "markdown",
   "id": "7fea419b",
   "metadata": {},
   "source": [
    "````{warning}\n",
    "10/10 warning let us try this\n",
    "````"
   ]
  },
  {
   "cell_type": "markdown",
   "id": "d71c10a1-ea8d-48a4-9ee9-151a6ccb0c94",
   "metadata": {
    "tags": []
   },
   "source": [
    "````{admonition} custom color for a custom title\n",
    ":class: tip\n",
    "this is a regular *admonition* with a custom title  \n",
    "I have been able to change the color with the :class: thingy\n",
    "````"
   ]
  },
  {
   "cell_type": "markdown",
   "id": "708422eb-bcac-45af-b7d6-cf604e78591b",
   "metadata": {},
   "source": [
    "## with the `dropdown` class"
   ]
  },
  {
   "cell_type": "markdown",
   "id": "389e089f-5115-462a-bdb5-6a3f5dbba0a9",
   "metadata": {},
   "source": [
    "here is an simple untagged admonition with the `dropdown` class; it appears closed\n",
    "\n",
    "````{admonition} Click the button to reveal!\n",
    ":class: dropdown\n",
    "Some hidden toggle content!\n",
    "````"
   ]
  },
  {
   "cell_type": "markdown",
   "id": "bbfc230b-bf77-4e87-8837-ba477052c310",
   "metadata": {},
   "source": [
    "here we try to get it to open upon startup, but so far..."
   ]
  },
  {
   "cell_type": "markdown",
   "id": "c5999a24",
   "metadata": {
    "tags": []
   },
   "source": [
    "````{attention} :open:\n",
    ":open:\n",
    ":class: dropdown\n",
    "\n",
    "this one has the `:open:` tag\n",
    "````"
   ]
  },
  {
   "cell_type": "markdown",
   "id": "306de54a-fcce-4162-aa8e-05a7d24a2f8d",
   "metadata": {
    "tags": []
   },
   "source": [
    "````{attention} :show:\n",
    ":show:\n",
    ":class: dropdown\n",
    "\n",
    "this one has the `:open:` tag\n",
    "````"
   ]
  },
  {
   "cell_type": "markdown",
   "id": "52b3728b-0a79-407d-9dcb-9401eaead8ca",
   "metadata": {},
   "source": [
    "# test zone"
   ]
  },
  {
   "cell_type": "markdown",
   "id": "2378706a-36a4-4056-82eb-4fa40394c555",
   "metadata": {},
   "source": [
    "````{important}\n",
    "important: here's the deal\n",
    "````"
   ]
  },
  {
   "cell_type": "markdown",
   "id": "607f260a-6b91-4a5b-9006-24ce47857e45",
   "metadata": {},
   "source": [
    "````{error}\n",
    "error: something has gone wrong\n",
    "````"
   ]
  },
  {
   "cell_type": "markdown",
   "id": "bf59c934-5bb1-48b5-ad65-a436ff2e29fa",
   "metadata": {},
   "source": [
    "````{admonition}\n",
    "something important\n",
    "````"
   ]
  },
  {
   "cell_type": "markdown",
   "id": "87716b7c-460b-425b-93af-e1ce1aef3450",
   "metadata": {},
   "source": [
    "````{tip}\n",
    "\n",
    "````"
   ]
  },
  {
   "cell_type": "markdown",
   "id": "ba91c003-404e-4d70-a8bc-0f566a43609b",
   "metadata": {},
   "source": [
    "````{attention}\n",
    "\n",
    "````"
   ]
  },
  {
   "cell_type": "markdown",
   "id": "451e6cb0-7290-4454-86ae-5efa8e950a59",
   "metadata": {},
   "source": [
    "````{attention}\n",
    "\n",
    "````"
   ]
  },
  {
   "cell_type": "markdown",
   "id": "f4fd3d52-f4bd-4896-b32f-7895ed869c33",
   "metadata": {},
   "source": [
    "````{attention}\n",
    "\n",
    "````"
   ]
  },
  {
   "cell_type": "markdown",
   "id": "a944a233-e71b-4d0e-9f2d-8b4245e50248",
   "metadata": {},
   "source": [
    "````{attention}\n",
    "\n",
    "````"
   ]
  }
 ],
 "metadata": {
  "celltoolbar": "Edit Metadata",
  "jupytext": {
   "cell_metadata_filter": "all,-hidden,-heading_collapsed,-run_control,-trusted",
   "notebook_metadata_filter": "all,-language_info,-toc,-jupytext.text_representation.jupytext_version,-jupytext.text_representation.format_version"
  },
  "kernelspec": {
   "display_name": "Python 3 (ipykernel)",
   "language": "python",
   "name": "python3"
  },
  "language_info": {
   "codemirror_mode": {
    "name": "ipython",
    "version": 3
   },
   "file_extension": ".py",
   "mimetype": "text/x-python",
   "name": "python",
   "nbconvert_exporter": "python",
   "pygments_lexer": "ipython3",
   "version": "3.11.5"
  },
  "nbhosting": {
   "title": "React apps basics"
  },
  "rise": {
   "autolaunch": true,
   "slideNumber": "c/t",
   "start_slideshow_at": "selected",
   "theme": "sky",
   "transition": "cube"
  }
 },
 "nbformat": 4,
 "nbformat_minor": 5
}
